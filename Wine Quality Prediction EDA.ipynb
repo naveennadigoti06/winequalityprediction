{
 "cells": [
  {
   "cell_type": "markdown",
   "id": "ebef87b7",
   "metadata": {},
   "source": [
    "# Project Name : Wine Quality Prediction"
   ]
  },
  {
   "cell_type": "markdown",
   "id": "a8594458",
   "metadata": {},
   "source": [
    "## EDA: Exploratory Data Analysis"
   ]
  },
  {
   "cell_type": "markdown",
   "id": "ae40b751",
   "metadata": {},
   "source": [
    "### Step :1 Import Necessary Libraries"
   ]
  },
  {
   "cell_type": "code",
   "execution_count": 7,
   "id": "9b79145c",
   "metadata": {},
   "outputs": [],
   "source": [
    "import numpy as np # Helps with math calculations and working with numbers.\n",
    "import pandas as pd # Makes it easy to organize and work with data like in a spreadsheet.\n",
    "import matplotlib.pyplot as plt # Helps to draw cool charts and graphs.\n",
    "import seaborn as sns # Makes the charts even more beautiful and colorful.\n",
    "%matplotlib inline\n",
    "import warnings \n",
    "warnings.simplefilter(action = 'ignore')\n",
    "import plotly.express as px"
   ]
  },
  {
   "cell_type": "markdown",
   "id": "f31f5744",
   "metadata": {},
   "source": [
    "### Loading CSV file"
   ]
  },
  {
   "cell_type": "code",
   "execution_count": 8,
   "id": "9fe4407c",
   "metadata": {},
   "outputs": [],
   "source": [
    "data = pd.read_csv(\"WineQTold.csv\")"
   ]
  },
  {
   "cell_type": "markdown",
   "id": "174a9eae",
   "metadata": {},
   "source": [
    "### Displaying top 5 rows"
   ]
  },
  {
   "cell_type": "code",
   "execution_count": 9,
   "id": "cb0a111c",
   "metadata": {},
   "outputs": [
    {
     "data": {
      "text/html": [
       "<div>\n",
       "<style scoped>\n",
       "    .dataframe tbody tr th:only-of-type {\n",
       "        vertical-align: middle;\n",
       "    }\n",
       "\n",
       "    .dataframe tbody tr th {\n",
       "        vertical-align: top;\n",
       "    }\n",
       "\n",
       "    .dataframe thead th {\n",
       "        text-align: right;\n",
       "    }\n",
       "</style>\n",
       "<table border=\"1\" class=\"dataframe\">\n",
       "  <thead>\n",
       "    <tr style=\"text-align: right;\">\n",
       "      <th></th>\n",
       "      <th>fixed acidity</th>\n",
       "      <th>volatile acidity</th>\n",
       "      <th>citric acid</th>\n",
       "      <th>residual sugar</th>\n",
       "      <th>chlorides</th>\n",
       "      <th>free sulfur dioxide</th>\n",
       "      <th>total sulfur dioxide</th>\n",
       "      <th>density</th>\n",
       "      <th>pH</th>\n",
       "      <th>sulphates</th>\n",
       "      <th>alcohol</th>\n",
       "      <th>quality</th>\n",
       "      <th>Id</th>\n",
       "    </tr>\n",
       "  </thead>\n",
       "  <tbody>\n",
       "    <tr>\n",
       "      <th>0</th>\n",
       "      <td>7.4</td>\n",
       "      <td>0.70</td>\n",
       "      <td>0.00</td>\n",
       "      <td>1.9</td>\n",
       "      <td>0.076</td>\n",
       "      <td>11.0</td>\n",
       "      <td>34.0</td>\n",
       "      <td>0.9978</td>\n",
       "      <td>3.51</td>\n",
       "      <td>0.56</td>\n",
       "      <td>9.4</td>\n",
       "      <td>5</td>\n",
       "      <td>0</td>\n",
       "    </tr>\n",
       "    <tr>\n",
       "      <th>1</th>\n",
       "      <td>7.8</td>\n",
       "      <td>0.88</td>\n",
       "      <td>0.00</td>\n",
       "      <td>2.6</td>\n",
       "      <td>0.098</td>\n",
       "      <td>25.0</td>\n",
       "      <td>67.0</td>\n",
       "      <td>0.9968</td>\n",
       "      <td>3.20</td>\n",
       "      <td>0.68</td>\n",
       "      <td>9.8</td>\n",
       "      <td>5</td>\n",
       "      <td>1</td>\n",
       "    </tr>\n",
       "    <tr>\n",
       "      <th>2</th>\n",
       "      <td>7.8</td>\n",
       "      <td>0.76</td>\n",
       "      <td>0.04</td>\n",
       "      <td>2.3</td>\n",
       "      <td>0.092</td>\n",
       "      <td>15.0</td>\n",
       "      <td>54.0</td>\n",
       "      <td>0.9970</td>\n",
       "      <td>3.26</td>\n",
       "      <td>0.65</td>\n",
       "      <td>9.8</td>\n",
       "      <td>5</td>\n",
       "      <td>2</td>\n",
       "    </tr>\n",
       "    <tr>\n",
       "      <th>3</th>\n",
       "      <td>11.2</td>\n",
       "      <td>0.28</td>\n",
       "      <td>0.56</td>\n",
       "      <td>1.9</td>\n",
       "      <td>0.075</td>\n",
       "      <td>17.0</td>\n",
       "      <td>60.0</td>\n",
       "      <td>0.9980</td>\n",
       "      <td>3.16</td>\n",
       "      <td>0.58</td>\n",
       "      <td>9.8</td>\n",
       "      <td>6</td>\n",
       "      <td>3</td>\n",
       "    </tr>\n",
       "    <tr>\n",
       "      <th>4</th>\n",
       "      <td>7.4</td>\n",
       "      <td>0.70</td>\n",
       "      <td>0.00</td>\n",
       "      <td>1.9</td>\n",
       "      <td>0.076</td>\n",
       "      <td>11.0</td>\n",
       "      <td>34.0</td>\n",
       "      <td>0.9978</td>\n",
       "      <td>3.51</td>\n",
       "      <td>0.56</td>\n",
       "      <td>9.4</td>\n",
       "      <td>5</td>\n",
       "      <td>4</td>\n",
       "    </tr>\n",
       "  </tbody>\n",
       "</table>\n",
       "</div>"
      ],
      "text/plain": [
       "   fixed acidity  volatile acidity  citric acid  residual sugar  chlorides  \\\n",
       "0            7.4              0.70         0.00             1.9      0.076   \n",
       "1            7.8              0.88         0.00             2.6      0.098   \n",
       "2            7.8              0.76         0.04             2.3      0.092   \n",
       "3           11.2              0.28         0.56             1.9      0.075   \n",
       "4            7.4              0.70         0.00             1.9      0.076   \n",
       "\n",
       "   free sulfur dioxide  total sulfur dioxide  density    pH  sulphates  \\\n",
       "0                 11.0                  34.0   0.9978  3.51       0.56   \n",
       "1                 25.0                  67.0   0.9968  3.20       0.68   \n",
       "2                 15.0                  54.0   0.9970  3.26       0.65   \n",
       "3                 17.0                  60.0   0.9980  3.16       0.58   \n",
       "4                 11.0                  34.0   0.9978  3.51       0.56   \n",
       "\n",
       "   alcohol  quality  Id  \n",
       "0      9.4        5   0  \n",
       "1      9.8        5   1  \n",
       "2      9.8        5   2  \n",
       "3      9.8        6   3  \n",
       "4      9.4        5   4  "
      ]
     },
     "execution_count": 9,
     "metadata": {},
     "output_type": "execute_result"
    }
   ],
   "source": [
    "data.head()"
   ]
  },
  {
   "cell_type": "markdown",
   "id": "bc8536b3",
   "metadata": {},
   "source": [
    "### Droping Unnamed: 0 column"
   ]
  },
  {
   "cell_type": "code",
   "execution_count": 10,
   "id": "a64ce46f",
   "metadata": {},
   "outputs": [],
   "source": [
    "data.drop(['Id'],axis=1,inplace=True)"
   ]
  },
  {
   "cell_type": "markdown",
   "id": "926afdc6",
   "metadata": {},
   "source": [
    "#### Report:\n",
    "No need if this column because it contains unique values"
   ]
  },
  {
   "cell_type": "code",
   "execution_count": 11,
   "id": "8b001a09",
   "metadata": {},
   "outputs": [
    {
     "data": {
      "text/html": [
       "<div>\n",
       "<style scoped>\n",
       "    .dataframe tbody tr th:only-of-type {\n",
       "        vertical-align: middle;\n",
       "    }\n",
       "\n",
       "    .dataframe tbody tr th {\n",
       "        vertical-align: top;\n",
       "    }\n",
       "\n",
       "    .dataframe thead th {\n",
       "        text-align: right;\n",
       "    }\n",
       "</style>\n",
       "<table border=\"1\" class=\"dataframe\">\n",
       "  <thead>\n",
       "    <tr style=\"text-align: right;\">\n",
       "      <th></th>\n",
       "      <th>fixed acidity</th>\n",
       "      <th>volatile acidity</th>\n",
       "      <th>citric acid</th>\n",
       "      <th>residual sugar</th>\n",
       "      <th>chlorides</th>\n",
       "      <th>free sulfur dioxide</th>\n",
       "      <th>total sulfur dioxide</th>\n",
       "      <th>density</th>\n",
       "      <th>pH</th>\n",
       "      <th>sulphates</th>\n",
       "      <th>alcohol</th>\n",
       "      <th>quality</th>\n",
       "    </tr>\n",
       "  </thead>\n",
       "  <tbody>\n",
       "    <tr>\n",
       "      <th>1063</th>\n",
       "      <td>5.6</td>\n",
       "      <td>0.54</td>\n",
       "      <td>0.04</td>\n",
       "      <td>1.7</td>\n",
       "      <td>0.049</td>\n",
       "      <td>5.0</td>\n",
       "      <td>13.0</td>\n",
       "      <td>0.9942</td>\n",
       "      <td>3.72</td>\n",
       "      <td>0.58</td>\n",
       "      <td>11.4</td>\n",
       "      <td>5</td>\n",
       "    </tr>\n",
       "  </tbody>\n",
       "</table>\n",
       "</div>"
      ],
      "text/plain": [
       "      fixed acidity  volatile acidity  citric acid  residual sugar  chlorides  \\\n",
       "1063            5.6              0.54         0.04             1.7      0.049   \n",
       "\n",
       "      free sulfur dioxide  total sulfur dioxide  density    pH  sulphates  \\\n",
       "1063                  5.0                  13.0   0.9942  3.72       0.58   \n",
       "\n",
       "      alcohol  quality  \n",
       "1063     11.4        5  "
      ]
     },
     "execution_count": 11,
     "metadata": {},
     "output_type": "execute_result"
    }
   ],
   "source": [
    "data.sample(1)"
   ]
  },
  {
   "cell_type": "markdown",
   "id": "1b4c73ca",
   "metadata": {},
   "source": [
    "## EDA (Exploratory Data Analysis)"
   ]
  },
  {
   "cell_type": "markdown",
   "id": "19a296ab",
   "metadata": {},
   "source": [
    "### Univariate Analysis"
   ]
  },
  {
   "cell_type": "markdown",
   "id": "408b7009",
   "metadata": {},
   "source": [
    "### Plotting a Barplot on Categorical data in quality Feature"
   ]
  },
  {
   "cell_type": "code",
   "execution_count": 12,
   "id": "fcbb27f5",
   "metadata": {
    "scrolled": true
   },
   "outputs": [
    {
     "ename": "ValueError",
     "evalue": "Value of 'x' is not the name of a column in 'data_frame'. Expected one of ['quality', 'count'] but received: index\n To use the index, pass it in directly as `df.index`.",
     "output_type": "error",
     "traceback": [
      "\u001b[1;31m---------------------------------------------------------------------------\u001b[0m",
      "\u001b[1;31mValueError\u001b[0m                                Traceback (most recent call last)",
      "Cell \u001b[1;32mIn[12], line 3\u001b[0m\n\u001b[0;32m      1\u001b[0m \u001b[38;5;66;03m# Assuming 'data' is your DataFrame\u001b[39;00m\n\u001b[0;32m      2\u001b[0m \u001b[38;5;66;03m# Plotly Countplot using Plotly Express\u001b[39;00m\n\u001b[1;32m----> 3\u001b[0m fig \u001b[38;5;241m=\u001b[39m \u001b[43mpx\u001b[49m\u001b[38;5;241;43m.\u001b[39;49m\u001b[43mbar\u001b[49m\u001b[43m(\u001b[49m\u001b[43mdata\u001b[49m\u001b[43m[\u001b[49m\u001b[38;5;124;43m'\u001b[39;49m\u001b[38;5;124;43mquality\u001b[39;49m\u001b[38;5;124;43m'\u001b[39;49m\u001b[43m]\u001b[49m\u001b[38;5;241;43m.\u001b[39;49m\u001b[43mvalue_counts\u001b[49m\u001b[43m(\u001b[49m\u001b[43m)\u001b[49m\u001b[38;5;241;43m.\u001b[39;49m\u001b[43mreset_index\u001b[49m\u001b[43m(\u001b[49m\u001b[43m)\u001b[49m\u001b[43m,\u001b[49m\u001b[43m \u001b[49m\n\u001b[0;32m      4\u001b[0m \u001b[43m             \u001b[49m\u001b[43mx\u001b[49m\u001b[38;5;241;43m=\u001b[39;49m\u001b[38;5;124;43m'\u001b[39;49m\u001b[38;5;124;43mindex\u001b[39;49m\u001b[38;5;124;43m'\u001b[39;49m\u001b[43m,\u001b[49m\u001b[43m \u001b[49m\n\u001b[0;32m      5\u001b[0m \u001b[43m             \u001b[49m\u001b[43my\u001b[49m\u001b[38;5;241;43m=\u001b[39;49m\u001b[38;5;124;43m'\u001b[39;49m\u001b[38;5;124;43mquality\u001b[39;49m\u001b[38;5;124;43m'\u001b[39;49m\u001b[43m,\u001b[49m\n\u001b[0;32m      6\u001b[0m \u001b[43m             \u001b[49m\u001b[43mlabels\u001b[49m\u001b[38;5;241;43m=\u001b[39;49m\u001b[43m{\u001b[49m\u001b[38;5;124;43m'\u001b[39;49m\u001b[38;5;124;43mindex\u001b[39;49m\u001b[38;5;124;43m'\u001b[39;49m\u001b[43m:\u001b[49m\u001b[43m \u001b[49m\u001b[38;5;124;43m'\u001b[39;49m\u001b[38;5;124;43mQuality\u001b[39;49m\u001b[38;5;124;43m'\u001b[39;49m\u001b[43m,\u001b[49m\u001b[43m \u001b[49m\u001b[38;5;124;43m'\u001b[39;49m\u001b[38;5;124;43mquality\u001b[39;49m\u001b[38;5;124;43m'\u001b[39;49m\u001b[43m:\u001b[49m\u001b[43m \u001b[49m\u001b[38;5;124;43m'\u001b[39;49m\u001b[38;5;124;43mCount\u001b[39;49m\u001b[38;5;124;43m'\u001b[39;49m\u001b[43m}\u001b[49m\u001b[43m,\u001b[49m\n\u001b[0;32m      7\u001b[0m \u001b[43m             \u001b[49m\u001b[43mtitle\u001b[49m\u001b[38;5;241;43m=\u001b[39;49m\u001b[38;5;124;43m'\u001b[39;49m\u001b[38;5;124;43mCount of Wine Quality\u001b[39;49m\u001b[38;5;124;43m'\u001b[39;49m\u001b[43m)\u001b[49m\n\u001b[0;32m      9\u001b[0m \u001b[38;5;66;03m# Display the plot\u001b[39;00m\n\u001b[0;32m     10\u001b[0m fig\u001b[38;5;241m.\u001b[39mshow()\n",
      "File \u001b[1;32mc:\\Users\\NAVEEN KUMAR\\.conda\\envs\\winequalityenv\\lib\\site-packages\\plotly\\express\\_chart_types.py:373\u001b[0m, in \u001b[0;36mbar\u001b[1;34m(data_frame, x, y, color, pattern_shape, facet_row, facet_col, facet_col_wrap, facet_row_spacing, facet_col_spacing, hover_name, hover_data, custom_data, text, base, error_x, error_x_minus, error_y, error_y_minus, animation_frame, animation_group, category_orders, labels, color_discrete_sequence, color_discrete_map, color_continuous_scale, pattern_shape_sequence, pattern_shape_map, range_color, color_continuous_midpoint, opacity, orientation, barmode, log_x, log_y, range_x, range_y, text_auto, title, template, width, height)\u001b[0m\n\u001b[0;32m    325\u001b[0m \u001b[38;5;28;01mdef\u001b[39;00m \u001b[38;5;21mbar\u001b[39m(\n\u001b[0;32m    326\u001b[0m     data_frame\u001b[38;5;241m=\u001b[39m\u001b[38;5;28;01mNone\u001b[39;00m,\n\u001b[0;32m    327\u001b[0m     x\u001b[38;5;241m=\u001b[39m\u001b[38;5;28;01mNone\u001b[39;00m,\n\u001b[1;32m   (...)\u001b[0m\n\u001b[0;32m    367\u001b[0m     height\u001b[38;5;241m=\u001b[39m\u001b[38;5;28;01mNone\u001b[39;00m,\n\u001b[0;32m    368\u001b[0m ) \u001b[38;5;241m-\u001b[39m\u001b[38;5;241m>\u001b[39m go\u001b[38;5;241m.\u001b[39mFigure:\n\u001b[0;32m    369\u001b[0m \u001b[38;5;250m    \u001b[39m\u001b[38;5;124;03m\"\"\"\u001b[39;00m\n\u001b[0;32m    370\u001b[0m \u001b[38;5;124;03m    In a bar plot, each row of `data_frame` is represented as a rectangular\u001b[39;00m\n\u001b[0;32m    371\u001b[0m \u001b[38;5;124;03m    mark.\u001b[39;00m\n\u001b[0;32m    372\u001b[0m \u001b[38;5;124;03m    \"\"\"\u001b[39;00m\n\u001b[1;32m--> 373\u001b[0m     \u001b[38;5;28;01mreturn\u001b[39;00m \u001b[43mmake_figure\u001b[49m\u001b[43m(\u001b[49m\n\u001b[0;32m    374\u001b[0m \u001b[43m        \u001b[49m\u001b[43margs\u001b[49m\u001b[38;5;241;43m=\u001b[39;49m\u001b[38;5;28;43mlocals\u001b[39;49m\u001b[43m(\u001b[49m\u001b[43m)\u001b[49m\u001b[43m,\u001b[49m\n\u001b[0;32m    375\u001b[0m \u001b[43m        \u001b[49m\u001b[43mconstructor\u001b[49m\u001b[38;5;241;43m=\u001b[39;49m\u001b[43mgo\u001b[49m\u001b[38;5;241;43m.\u001b[39;49m\u001b[43mBar\u001b[49m\u001b[43m,\u001b[49m\n\u001b[0;32m    376\u001b[0m \u001b[43m        \u001b[49m\u001b[43mtrace_patch\u001b[49m\u001b[38;5;241;43m=\u001b[39;49m\u001b[38;5;28;43mdict\u001b[39;49m\u001b[43m(\u001b[49m\u001b[43mtextposition\u001b[49m\u001b[38;5;241;43m=\u001b[39;49m\u001b[38;5;124;43m\"\u001b[39;49m\u001b[38;5;124;43mauto\u001b[39;49m\u001b[38;5;124;43m\"\u001b[39;49m\u001b[43m)\u001b[49m\u001b[43m,\u001b[49m\n\u001b[0;32m    377\u001b[0m \u001b[43m        \u001b[49m\u001b[43mlayout_patch\u001b[49m\u001b[38;5;241;43m=\u001b[39;49m\u001b[38;5;28;43mdict\u001b[39;49m\u001b[43m(\u001b[49m\u001b[43mbarmode\u001b[49m\u001b[38;5;241;43m=\u001b[39;49m\u001b[43mbarmode\u001b[49m\u001b[43m)\u001b[49m\u001b[43m,\u001b[49m\n\u001b[0;32m    378\u001b[0m \u001b[43m    \u001b[49m\u001b[43m)\u001b[49m\n",
      "File \u001b[1;32mc:\\Users\\NAVEEN KUMAR\\.conda\\envs\\winequalityenv\\lib\\site-packages\\plotly\\express\\_core.py:2117\u001b[0m, in \u001b[0;36mmake_figure\u001b[1;34m(args, constructor, trace_patch, layout_patch)\u001b[0m\n\u001b[0;32m   2114\u001b[0m layout_patch \u001b[38;5;241m=\u001b[39m layout_patch \u001b[38;5;129;01mor\u001b[39;00m {}\n\u001b[0;32m   2115\u001b[0m apply_default_cascade(args)\n\u001b[1;32m-> 2117\u001b[0m args \u001b[38;5;241m=\u001b[39m \u001b[43mbuild_dataframe\u001b[49m\u001b[43m(\u001b[49m\u001b[43margs\u001b[49m\u001b[43m,\u001b[49m\u001b[43m \u001b[49m\u001b[43mconstructor\u001b[49m\u001b[43m)\u001b[49m\n\u001b[0;32m   2118\u001b[0m \u001b[38;5;28;01mif\u001b[39;00m constructor \u001b[38;5;129;01min\u001b[39;00m [go\u001b[38;5;241m.\u001b[39mTreemap, go\u001b[38;5;241m.\u001b[39mSunburst, go\u001b[38;5;241m.\u001b[39mIcicle] \u001b[38;5;129;01mand\u001b[39;00m args[\u001b[38;5;124m\"\u001b[39m\u001b[38;5;124mpath\u001b[39m\u001b[38;5;124m\"\u001b[39m] \u001b[38;5;129;01mis\u001b[39;00m \u001b[38;5;129;01mnot\u001b[39;00m \u001b[38;5;28;01mNone\u001b[39;00m:\n\u001b[0;32m   2119\u001b[0m     args \u001b[38;5;241m=\u001b[39m process_dataframe_hierarchy(args)\n",
      "File \u001b[1;32mc:\\Users\\NAVEEN KUMAR\\.conda\\envs\\winequalityenv\\lib\\site-packages\\plotly\\express\\_core.py:1513\u001b[0m, in \u001b[0;36mbuild_dataframe\u001b[1;34m(args, constructor)\u001b[0m\n\u001b[0;32m   1510\u001b[0m     args[\u001b[38;5;124m\"\u001b[39m\u001b[38;5;124mcolor\u001b[39m\u001b[38;5;124m\"\u001b[39m] \u001b[38;5;241m=\u001b[39m \u001b[38;5;28;01mNone\u001b[39;00m\n\u001b[0;32m   1511\u001b[0m \u001b[38;5;66;03m# now that things have been prepped, we do the systematic rewriting of `args`\u001b[39;00m\n\u001b[1;32m-> 1513\u001b[0m df_output, wide_id_vars \u001b[38;5;241m=\u001b[39m \u001b[43mprocess_args_into_dataframe\u001b[49m\u001b[43m(\u001b[49m\n\u001b[0;32m   1514\u001b[0m \u001b[43m    \u001b[49m\u001b[43margs\u001b[49m\u001b[43m,\u001b[49m\u001b[43m \u001b[49m\u001b[43mwide_mode\u001b[49m\u001b[43m,\u001b[49m\u001b[43m \u001b[49m\u001b[43mvar_name\u001b[49m\u001b[43m,\u001b[49m\u001b[43m \u001b[49m\u001b[43mvalue_name\u001b[49m\n\u001b[0;32m   1515\u001b[0m \u001b[43m\u001b[49m\u001b[43m)\u001b[49m\n\u001b[0;32m   1517\u001b[0m \u001b[38;5;66;03m# now that `df_output` exists and `args` contains only references, we complete\u001b[39;00m\n\u001b[0;32m   1518\u001b[0m \u001b[38;5;66;03m# the special-case and wide-mode handling by further rewriting args and/or mutating\u001b[39;00m\n\u001b[0;32m   1519\u001b[0m \u001b[38;5;66;03m# df_output\u001b[39;00m\n\u001b[0;32m   1521\u001b[0m count_name \u001b[38;5;241m=\u001b[39m _escape_col_name(df_output, \u001b[38;5;124m\"\u001b[39m\u001b[38;5;124mcount\u001b[39m\u001b[38;5;124m\"\u001b[39m, [var_name, value_name])\n",
      "File \u001b[1;32mc:\\Users\\NAVEEN KUMAR\\.conda\\envs\\winequalityenv\\lib\\site-packages\\plotly\\express\\_core.py:1234\u001b[0m, in \u001b[0;36mprocess_args_into_dataframe\u001b[1;34m(args, wide_mode, var_name, value_name)\u001b[0m\n\u001b[0;32m   1232\u001b[0m         \u001b[38;5;28;01mif\u001b[39;00m argument \u001b[38;5;241m==\u001b[39m \u001b[38;5;124m\"\u001b[39m\u001b[38;5;124mindex\u001b[39m\u001b[38;5;124m\"\u001b[39m:\n\u001b[0;32m   1233\u001b[0m             err_msg \u001b[38;5;241m+\u001b[39m\u001b[38;5;241m=\u001b[39m \u001b[38;5;124m\"\u001b[39m\u001b[38;5;130;01m\\n\u001b[39;00m\u001b[38;5;124m To use the index, pass it in directly as `df.index`.\u001b[39m\u001b[38;5;124m\"\u001b[39m\n\u001b[1;32m-> 1234\u001b[0m         \u001b[38;5;28;01mraise\u001b[39;00m \u001b[38;5;167;01mValueError\u001b[39;00m(err_msg)\n\u001b[0;32m   1235\u001b[0m \u001b[38;5;28;01melif\u001b[39;00m length \u001b[38;5;129;01mand\u001b[39;00m \u001b[38;5;28mlen\u001b[39m(df_input[argument]) \u001b[38;5;241m!=\u001b[39m length:\n\u001b[0;32m   1236\u001b[0m     \u001b[38;5;28;01mraise\u001b[39;00m \u001b[38;5;167;01mValueError\u001b[39;00m(\n\u001b[0;32m   1237\u001b[0m         \u001b[38;5;124m\"\u001b[39m\u001b[38;5;124mAll arguments should have the same length. \u001b[39m\u001b[38;5;124m\"\u001b[39m\n\u001b[0;32m   1238\u001b[0m         \u001b[38;5;124m\"\u001b[39m\u001b[38;5;124mThe length of column argument `df[\u001b[39m\u001b[38;5;132;01m%s\u001b[39;00m\u001b[38;5;124m]` is \u001b[39m\u001b[38;5;132;01m%d\u001b[39;00m\u001b[38;5;124m, whereas the \u001b[39m\u001b[38;5;124m\"\u001b[39m\n\u001b[1;32m   (...)\u001b[0m\n\u001b[0;32m   1245\u001b[0m         )\n\u001b[0;32m   1246\u001b[0m     )\n",
      "\u001b[1;31mValueError\u001b[0m: Value of 'x' is not the name of a column in 'data_frame'. Expected one of ['quality', 'count'] but received: index\n To use the index, pass it in directly as `df.index`."
     ]
    }
   ],
   "source": [
    "# Assuming 'data' is your DataFrame\n",
    "# Plotly Countplot using Plotly Express\n",
    "fig = px.bar(data['quality'].value_counts().reset_index(), \n",
    "             x='index', \n",
    "             y='quality',\n",
    "             labels={'index': 'Quality', 'quality': 'Count'},\n",
    "             title='Count of Wine Quality')\n",
    "\n",
    "# Display the plot\n",
    "fig.show()\n",
    "\n",
    "# Display value counts of the 'quality' column\n",
    "print(data['quality'].value_counts())"
   ]
  },
  {
   "cell_type": "markdown",
   "id": "49c92ddc",
   "metadata": {},
   "source": [
    "#### Report:\n",
    "- The quality column in the dataset represents the different quality ratings assigned to wines and how many wines received each rating\n",
    "- Quality 5: 483 wines were rated as quality 5.\n",
    "- Quality 6: 462 wines were rated as quality 6.\n",
    "- Quality 7: 143 wines were rated as quality 7.\n",
    "- Quality 4: 33 wines were rated as quality 4.\n",
    "- Quality 8: 16 wines were rated as quality 8.\n",
    "- Quality 3: 6 wines were rated as quality 3.\n",
    "- This means that the majority of wines in the dataset are rated between 5 and 6, while fewer wines are rated higher (7 or 8) or lower (3 or 4). These numbers show that the data is imbalanced, as some quality ratings have far more wines than others."
   ]
  },
  {
   "cell_type": "code",
   "execution_count": 13,
   "id": "63cb5955",
   "metadata": {},
   "outputs": [
    {
     "data": {
      "text/plain": [
       "fixed acidity\n",
       "7.2     43\n",
       "7.1     41\n",
       "7.0     40\n",
       "7.8     40\n",
       "7.5     37\n",
       "7.9     35\n",
       "7.6     34\n",
       "7.7     34\n",
       "7.4     32\n",
       "7.3     32\n",
       "6.8     29\n",
       "8.0     29\n",
       "8.3     28\n",
       "8.2     28\n",
       "8.9     27\n",
       "6.6     25\n",
       "8.8     25\n",
       "8.6     23\n",
       "6.9     23\n",
       "6.7     23\n",
       "8.1     22\n",
       "9.1     22\n",
       "8.4     20\n",
       "8.7     20\n",
       "9.9     20\n",
       "6.4     18\n",
       "9.3     18\n",
       "10.0    17\n",
       "8.5     17\n",
       "6.2     16\n",
       "9.0     16\n",
       "9.4     13\n",
       "10.4    13\n",
       "9.2     12\n",
       "6.3     12\n",
       "6.5     12\n",
       "6.1     11\n",
       "10.2    10\n",
       "11.5    10\n",
       "11.9     9\n",
       "9.6      9\n",
       "10.6     9\n",
       "11.6     9\n",
       "9.8      8\n",
       "9.5      8\n",
       "6.0      8\n",
       "5.6      8\n",
       "10.1     8\n",
       "11.3     7\n",
       "12.5     7\n",
       "Name: count, dtype: int64"
      ]
     },
     "execution_count": 13,
     "metadata": {},
     "output_type": "execute_result"
    }
   ],
   "source": [
    "data['fixed acidity'].value_counts().head(50)"
   ]
  },
  {
   "cell_type": "markdown",
   "id": "ac0dca27",
   "metadata": {},
   "source": [
    "### Histogram"
   ]
  },
  {
   "cell_type": "code",
   "execution_count": 14,
   "id": "cc77000d",
   "metadata": {
    "scrolled": true
   },
   "outputs": [
    {
     "data": {
      "application/vnd.plotly.v1+json": {
       "config": {
        "plotlyServerURL": "https://plot.ly"
       },
       "data": [
        {
         "alignmentgroup": "True",
         "bingroup": "x",
         "hovertemplate": "fixed acidity=%{x}<br>count=%{y}<extra></extra>",
         "legendgroup": "",
         "marker": {
          "color": "#636efa",
          "pattern": {
           "shape": ""
          }
         },
         "name": "",
         "nbinsx": 30,
         "offsetgroup": "",
         "orientation": "v",
         "showlegend": false,
         "type": "histogram",
         "x": [
          7.4,
          7.8,
          7.8,
          11.2,
          7.4,
          7.4,
          7.9,
          7.3,
          7.8,
          6.7,
          5.6,
          7.8,
          8.5,
          7.9,
          7.6,
          7.9,
          8.5,
          6.9,
          6.3,
          7.6,
          7.1,
          7.8,
          6.7,
          8.3,
          5.2,
          7.8,
          7.8,
          8.1,
          7.3,
          8.8,
          7.5,
          8.1,
          4.6,
          7.7,
          8.8,
          6.6,
          6.6,
          8.6,
          7.6,
          10.2,
          7.8,
          7.3,
          8.8,
          7.7,
          7,
          7.2,
          7.2,
          6.6,
          8,
          7.7,
          8.3,
          8.8,
          6.8,
          6.7,
          8.3,
          6.2,
          7.4,
          6.3,
          6.9,
          8.6,
          7.7,
          9.3,
          7,
          7.9,
          8.6,
          7.7,
          5,
          6.8,
          7.6,
          8.1,
          8.3,
          8.1,
          8.1,
          7.2,
          8.1,
          7.8,
          6.2,
          7.8,
          8.4,
          10.1,
          7.8,
          9.4,
          8.3,
          7.3,
          8.8,
          7.3,
          7.8,
          8.2,
          8.1,
          8,
          8,
          5.6,
          7.9,
          8.4,
          7.2,
          8.4,
          5.2,
          6.3,
          5.2,
          8.1,
          5.8,
          6.9,
          7.3,
          9.2,
          7.5,
          7.5,
          7.1,
          7.1,
          7.1,
          7.1,
          6.8,
          7.6,
          7.6,
          7.8,
          7.4,
          7.3,
          7.8,
          6.8,
          7.3,
          6.8,
          7.9,
          8,
          7.4,
          6.9,
          7.3,
          7.5,
          7,
          8.8,
          8.8,
          8.9,
          7.2,
          6.8,
          6.7,
          8.9,
          7.4,
          7.9,
          8.2,
          6.4,
          7.6,
          7.6,
          7.3,
          11.5,
          6.9,
          9.6,
          7,
          12.8,
          12.8,
          7.8,
          9.7,
          8,
          8.2,
          7.8,
          7,
          8.7,
          8.1,
          7.5,
          7.8,
          7.4,
          6.8,
          8.6,
          7.7,
          8.9,
          5.2,
          8,
          8.5,
          8.2,
          7.2,
          8.9,
          12,
          7.7,
          15,
          15,
          7.3,
          7.1,
          7.3,
          10.8,
          7.1,
          11.1,
          7.7,
          8,
          9.4,
          6.6,
          7.7,
          10,
          7.9,
          7,
          8,
          7.9,
          12.5,
          8.1,
          7.9,
          6.9,
          11.5,
          7.9,
          7.9,
          6.9,
          11.5,
          10.3,
          8.9,
          11.4,
          7.7,
          8.9,
          9.9,
          9.9,
          12,
          7.5,
          8.7,
          11.6,
          8.7,
          10.4,
          6.9,
          13.3,
          10.8,
          10.6,
          7.1,
          7.2,
          7.5,
          11.1,
          8.3,
          8.4,
          7.6,
          10.3,
          10.3,
          7.9,
          9,
          8.6,
          7.4,
          9.8,
          9.6,
          9.3,
          10,
          10,
          11.6,
          10.3,
          13.4,
          8.4,
          7.9,
          11.9,
          8.9,
          7.8,
          12.5,
          10.9,
          10.9,
          11.9,
          13.8,
          9.6,
          9.1,
          7.7,
          13.5,
          6.1,
          6.7,
          11.5,
          10.5,
          11.9,
          12.6,
          8.2,
          8.6,
          11.9,
          12.5,
          12.8,
          12.8,
          10.4,
          9.4,
          7.9,
          9.1,
          11.5,
          9.4,
          11.4,
          8.3,
          7.7,
          7.8,
          5.6,
          13.7,
          9.5,
          12,
          6.6,
          11.5,
          8.7,
          6.6,
          12.2,
          11.4,
          7.7,
          9.8,
          12,
          12.5,
          9,
          7.1,
          9.9,
          8.8,
          8.6,
          10.6,
          7,
          11.9,
          6.8,
          6.6,
          7.7,
          10.5,
          6.6,
          6.4,
          9.5,
          9.1,
          12.8,
          10.5,
          7.8,
          12.3,
          10.4,
          12.3,
          8,
          11.1,
          7,
          12.6,
          15.6,
          5.3,
          12.5,
          9.3,
          8.6,
          11.9,
          11.9,
          6.8,
          10.4,
          7,
          11.3,
          8.9,
          9.2,
          11.6,
          9.2,
          8.3,
          11.5,
          10.3,
          8.8,
          11.4,
          8.7,
          13,
          9.6,
          12.5,
          9.6,
          9.3,
          10.4,
          9.4,
          10.6,
          9.4,
          10.6,
          10.2,
          10.2,
          9.3,
          9.2,
          8.9,
          8.7,
          6.5,
          10.7,
          7.8,
          7.2,
          10.7,
          8.7,
          7.8,
          10.4,
          10.4,
          10.5,
          10.2,
          10.4,
          11.2,
          13.3,
          10,
          10.7,
          10.5,
          10.5,
          8.5,
          12.5,
          10.4,
          9.8,
          9.3,
          9.2,
          7,
          9.9,
          9.1,
          11.9,
          11.9,
          10.3,
          10,
          9.1,
          9.9,
          8.1,
          12.9,
          11.2,
          9.2,
          9.5,
          9.3,
          11.2,
          14.3,
          9.1,
          7.5,
          10.6,
          12.4,
          6.8,
          9.4,
          9.5,
          5,
          15.5,
          10.9,
          15.6,
          13,
          12.7,
          9,
          7.6,
          13,
          12.7,
          8.7,
          9.8,
          6.2,
          11.5,
          10.2,
          9.9,
          8.8,
          8.8,
          10.6,
          12.3,
          12.3,
          12,
          7.3,
          5,
          9,
          6.6,
          9,
          9.9,
          8.9,
          12.4,
          8.5,
          7.7,
          8.3,
          8.8,
          10.1,
          6.3,
          8.8,
          13.2,
          7.5,
          9.6,
          11.5,
          11.3,
          8.3,
          8.2,
          10,
          6.8,
          8.8,
          8.8,
          8.7,
          7.6,
          8.7,
          10.4,
          7.6,
          10.1,
          7.9,
          8.7,
          9.6,
          9.5,
          8.9,
          9.9,
          9.9,
          9.9,
          8.3,
          8.7,
          6.7,
          10.7,
          15.9,
          9.4,
          8.6,
          9.7,
          10.7,
          12,
          7.2,
          7.2,
          7.5,
          7.2,
          9.4,
          8.3,
          11.3,
          11.3,
          8.2,
          8.2,
          10.8,
          8.6,
          8.3,
          10.8,
          8,
          8.5,
          8.1,
          9.8,
          8.1,
          7.7,
          8.1,
          9.2,
          8.6,
          9,
          9,
          5.1,
          7,
          9.4,
          11.8,
          10.6,
          7,
          7,
          7.5,
          9.1,
          8.4,
          7,
          7.4,
          7.8,
          10.6,
          8.9,
          9.9,
          7.6,
          8.4,
          7.1,
          8.4,
          8.9,
          7.1,
          9,
          8.1,
          6.4,
          6.4,
          6.4,
          9.5,
          8.9,
          7.3,
          7,
          7.7,
          7.7,
          8.2,
          9,
          8.3,
          9.2,
          11.1,
          7.3,
          8.2,
          7.2,
          7.3,
          8.3,
          7.6,
          8.3,
          7.8,
          7.8,
          6.3,
          8.1,
          8.1,
          8.8,
          9,
          9.3,
          8.8,
          9.1,
          9.2,
          8.8,
          7.1,
          7.9,
          7.1,
          9.4,
          9.5,
          7.9,
          7.2,
          6.9,
          8.3,
          7.1,
          7,
          6.5,
          7.1,
          9.9,
          10,
          10,
          8.6,
          7.4,
          8.8,
          7.1,
          7.7,
          10.1,
          10.8,
          8.7,
          9.3,
          9.4,
          8.6,
          5.1,
          7.7,
          8.4,
          8.4,
          7.4,
          7.6,
          7.3,
          12.9,
          6.9,
          12.6,
          9.1,
          7,
          4.9,
          6.7,
          7.1,
          7.5,
          7.1,
          7.5,
          5.9,
          11.6,
          6.7,
          6.7,
          10.1,
          6.6,
          10.6,
          7.1,
          6.4,
          7.4,
          6.4,
          9.3,
          9.3,
          9.3,
          9.3,
          9.3,
          8.2,
          11.7,
          7.2,
          7.5,
          7.2,
          7.2,
          6.9,
          7.3,
          8.8,
          7.7,
          7.6,
          8.4,
          8.8,
          8.9,
          9,
          6.8,
          10.7,
          7.2,
          10.1,
          7.2,
          7.2,
          7.1,
          8.3,
          7.1,
          8.3,
          8.9,
          7.4,
          7.4,
          6.8,
          7.2,
          6.1,
          7.4,
          9.3,
          9.1,
          10,
          8.6,
          5.3,
          6.8,
          8.4,
          8.4,
          9.6,
          8.4,
          8.6,
          8.6,
          9.4,
          8.4,
          8.6,
          8.7,
          7.4,
          7.6,
          6.6,
          8.8,
          6.2,
          9.9,
          10.1,
          8.3,
          10.2,
          8.3,
          8.9,
          8.9,
          8.3,
          8.2,
          10.2,
          8.5,
          9,
          6.4,
          8.5,
          7.1,
          6.6,
          8.5,
          8.5,
          9,
          10.4,
          8.8,
          7.2,
          8.4,
          7,
          9.1,
          9.5,
          7.3,
          9.1,
          7.4,
          7.1,
          7.7,
          9.7,
          7.7,
          7.1,
          7.1,
          7.7,
          8.9,
          6.4,
          7.5,
          8.2,
          6.8,
          9.1,
          9.1,
          8.9,
          8.9,
          8.9,
          7.7,
          7.5,
          8,
          8.9,
          8,
          7,
          11.3,
          11.3,
          7,
          8.2,
          7.7,
          8.6,
          7.9,
          6.4,
          7.7,
          8.1,
          8.9,
          10.1,
          7.6,
          8.7,
          8.9,
          6.9,
          6.4,
          6.9,
          7.6,
          7.1,
          9.3,
          9.3,
          8.5,
          5.6,
          8.3,
          8.2,
          8.9,
          7.6,
          9.9,
          8.9,
          11.6,
          9.1,
          8,
          10.2,
          8.2,
          7.7,
          6.6,
          11.1,
          8,
          9.3,
          7.5,
          8,
          9.9,
          8.6,
          7.9,
          7.9,
          7.2,
          8.7,
          6.8,
          8.5,
          7.9,
          11.6,
          11.6,
          10,
          7.9,
          7,
          9.2,
          6.6,
          6.6,
          8.6,
          8.4,
          7.4,
          7.4,
          8,
          6.3,
          9.1,
          8.1,
          10.8,
          8.3,
          5.4,
          7.9,
          5,
          7,
          7,
          7,
          7.1,
          5.6,
          7.9,
          6.3,
          8.8,
          6.3,
          10,
          9.1,
          7.4,
          7.2,
          8.5,
          8,
          10.4,
          7.5,
          8.2,
          7.3,
          8.2,
          6.9,
          7,
          7.3,
          8.2,
          7.8,
          10,
          7.8,
          10,
          6.1,
          8.3,
          9.6,
          8.3,
          8.5,
          5.1,
          8.5,
          9,
          8.2,
          6.5,
          7.6,
          9.2,
          9.7,
          7.6,
          7.6,
          6.5,
          6.5,
          5.6,
          8.2,
          9.8,
          6.8,
          6.7,
          6.7,
          8.8,
          9.1,
          6.5,
          7.2,
          7,
          6.2,
          7.7,
          7.7,
          7.9,
          7.7,
          7.9,
          8.6,
          9.9,
          7.2,
          7.2,
          9.9,
          7.2,
          6.2,
          6.8,
          6.8,
          10.2,
          7.9,
          9,
          10.9,
          10.9,
          12.6,
          9.2,
          7.5,
          9,
          5.1,
          7.6,
          7.7,
          7.8,
          7.6,
          7.1,
          7.8,
          7.1,
          8.1,
          6.5,
          7.5,
          8.3,
          7.4,
          7.4,
          7.1,
          7.5,
          7.1,
          7.9,
          7.8,
          7.5,
          7,
          6.8,
          8.6,
          6.3,
          9.8,
          8.5,
          7.2,
          7.2,
          10.4,
          6.9,
          5,
          7.3,
          5.9,
          7.5,
          7.8,
          8,
          8.5,
          7,
          8,
          9.8,
          7.1,
          7.1,
          7.9,
          8.7,
          7,
          11.3,
          7,
          7,
          7.6,
          8.2,
          5.9,
          6.6,
          7.2,
          5.7,
          7.6,
          5.2,
          6.7,
          9.1,
          7.6,
          7.5,
          9.7,
          7,
          6.5,
          8,
          7.5,
          5.4,
          9.1,
          5,
          9.1,
          6.7,
          6.7,
          6.7,
          6.7,
          6.5,
          7.4,
          7.4,
          7.8,
          8.4,
          9.1,
          7.2,
          6.6,
          6,
          6,
          6,
          7.5,
          7.5,
          7.5,
          7.5,
          11.5,
          8.2,
          6.1,
          7.2,
          7.2,
          7.6,
          6.1,
          6.1,
          7.3,
          7.4,
          11.6,
          8.3,
          11.6,
          7.2,
          7.3,
          6.9,
          8,
          8.7,
          7.5,
          8.7,
          8.2,
          7.2,
          7.5,
          7.5,
          8,
          8,
          7.1,
          8,
          7.4,
          6.6,
          6,
          8,
          7.1,
          8,
          8.6,
          8.7,
          7.3,
          7.2,
          7.9,
          7.6,
          7.2,
          8,
          8.2,
          6,
          8.1,
          6,
          6.6,
          6.4,
          8.2,
          9.9,
          10,
          6.2,
          10,
          7.3,
          7.8,
          7.7,
          7.8,
          7.5,
          7,
          6.4,
          7.6,
          7.8,
          7.9,
          7.4,
          7.6,
          6.1,
          10.2,
          10,
          6.8,
          7,
          7.3,
          6.9,
          7.4,
          6.8,
          7.2,
          7.2,
          7.8,
          6.6,
          11.7,
          6.5,
          7.6,
          8.4,
          7.9,
          6.4,
          6.2,
          6.9,
          6.8,
          7.3,
          6.7,
          7.3,
          7.3,
          10,
          6.7,
          7.6,
          6.1,
          9.9,
          5.3,
          9.9,
          5.3,
          7.1,
          8.2,
          5.6,
          8.2,
          8.1,
          7,
          6.8,
          6,
          5.6,
          7.1,
          6.2,
          7.7,
          6.4,
          7,
          6.9,
          6.9,
          7.8,
          6.2,
          7.5,
          6.7,
          6.8,
          7.5,
          7.1,
          7.9,
          6.4,
          7.1,
          6.9,
          6.9,
          6.5,
          7.4,
          6.6,
          6.1,
          6.8,
          6.7,
          6.8,
          7.9,
          7.1,
          6.6,
          6.1,
          7.2,
          8,
          6.6,
          7,
          6.2,
          6.2,
          8.4,
          6.5,
          7,
          11.2,
          7.4,
          7.1,
          6.3,
          7.3,
          7,
          6.6,
          6.6,
          6.9,
          7.8,
          7.8,
          7.8,
          7.2,
          7.2,
          6.7,
          6.7,
          7.2,
          7,
          6.2,
          6.4,
          6.4,
          7.3,
          6,
          7.5,
          8,
          6.2,
          6.8,
          7.4,
          6.1,
          6.2,
          6.7,
          7.5,
          5.8,
          6.3,
          5.4,
          6.3,
          6.8,
          6.2,
          5.9,
          5.9
         ],
         "xaxis": "x",
         "yaxis": "y"
        }
       ],
       "layout": {
        "barmode": "relative",
        "legend": {
         "tracegroupgap": 0
        },
        "template": {
         "data": {
          "bar": [
           {
            "error_x": {
             "color": "#2a3f5f"
            },
            "error_y": {
             "color": "#2a3f5f"
            },
            "marker": {
             "line": {
              "color": "#E5ECF6",
              "width": 0.5
             },
             "pattern": {
              "fillmode": "overlay",
              "size": 10,
              "solidity": 0.2
             }
            },
            "type": "bar"
           }
          ],
          "barpolar": [
           {
            "marker": {
             "line": {
              "color": "#E5ECF6",
              "width": 0.5
             },
             "pattern": {
              "fillmode": "overlay",
              "size": 10,
              "solidity": 0.2
             }
            },
            "type": "barpolar"
           }
          ],
          "carpet": [
           {
            "aaxis": {
             "endlinecolor": "#2a3f5f",
             "gridcolor": "white",
             "linecolor": "white",
             "minorgridcolor": "white",
             "startlinecolor": "#2a3f5f"
            },
            "baxis": {
             "endlinecolor": "#2a3f5f",
             "gridcolor": "white",
             "linecolor": "white",
             "minorgridcolor": "white",
             "startlinecolor": "#2a3f5f"
            },
            "type": "carpet"
           }
          ],
          "choropleth": [
           {
            "colorbar": {
             "outlinewidth": 0,
             "ticks": ""
            },
            "type": "choropleth"
           }
          ],
          "contour": [
           {
            "colorbar": {
             "outlinewidth": 0,
             "ticks": ""
            },
            "colorscale": [
             [
              0,
              "#0d0887"
             ],
             [
              0.1111111111111111,
              "#46039f"
             ],
             [
              0.2222222222222222,
              "#7201a8"
             ],
             [
              0.3333333333333333,
              "#9c179e"
             ],
             [
              0.4444444444444444,
              "#bd3786"
             ],
             [
              0.5555555555555556,
              "#d8576b"
             ],
             [
              0.6666666666666666,
              "#ed7953"
             ],
             [
              0.7777777777777778,
              "#fb9f3a"
             ],
             [
              0.8888888888888888,
              "#fdca26"
             ],
             [
              1,
              "#f0f921"
             ]
            ],
            "type": "contour"
           }
          ],
          "contourcarpet": [
           {
            "colorbar": {
             "outlinewidth": 0,
             "ticks": ""
            },
            "type": "contourcarpet"
           }
          ],
          "heatmap": [
           {
            "colorbar": {
             "outlinewidth": 0,
             "ticks": ""
            },
            "colorscale": [
             [
              0,
              "#0d0887"
             ],
             [
              0.1111111111111111,
              "#46039f"
             ],
             [
              0.2222222222222222,
              "#7201a8"
             ],
             [
              0.3333333333333333,
              "#9c179e"
             ],
             [
              0.4444444444444444,
              "#bd3786"
             ],
             [
              0.5555555555555556,
              "#d8576b"
             ],
             [
              0.6666666666666666,
              "#ed7953"
             ],
             [
              0.7777777777777778,
              "#fb9f3a"
             ],
             [
              0.8888888888888888,
              "#fdca26"
             ],
             [
              1,
              "#f0f921"
             ]
            ],
            "type": "heatmap"
           }
          ],
          "heatmapgl": [
           {
            "colorbar": {
             "outlinewidth": 0,
             "ticks": ""
            },
            "colorscale": [
             [
              0,
              "#0d0887"
             ],
             [
              0.1111111111111111,
              "#46039f"
             ],
             [
              0.2222222222222222,
              "#7201a8"
             ],
             [
              0.3333333333333333,
              "#9c179e"
             ],
             [
              0.4444444444444444,
              "#bd3786"
             ],
             [
              0.5555555555555556,
              "#d8576b"
             ],
             [
              0.6666666666666666,
              "#ed7953"
             ],
             [
              0.7777777777777778,
              "#fb9f3a"
             ],
             [
              0.8888888888888888,
              "#fdca26"
             ],
             [
              1,
              "#f0f921"
             ]
            ],
            "type": "heatmapgl"
           }
          ],
          "histogram": [
           {
            "marker": {
             "pattern": {
              "fillmode": "overlay",
              "size": 10,
              "solidity": 0.2
             }
            },
            "type": "histogram"
           }
          ],
          "histogram2d": [
           {
            "colorbar": {
             "outlinewidth": 0,
             "ticks": ""
            },
            "colorscale": [
             [
              0,
              "#0d0887"
             ],
             [
              0.1111111111111111,
              "#46039f"
             ],
             [
              0.2222222222222222,
              "#7201a8"
             ],
             [
              0.3333333333333333,
              "#9c179e"
             ],
             [
              0.4444444444444444,
              "#bd3786"
             ],
             [
              0.5555555555555556,
              "#d8576b"
             ],
             [
              0.6666666666666666,
              "#ed7953"
             ],
             [
              0.7777777777777778,
              "#fb9f3a"
             ],
             [
              0.8888888888888888,
              "#fdca26"
             ],
             [
              1,
              "#f0f921"
             ]
            ],
            "type": "histogram2d"
           }
          ],
          "histogram2dcontour": [
           {
            "colorbar": {
             "outlinewidth": 0,
             "ticks": ""
            },
            "colorscale": [
             [
              0,
              "#0d0887"
             ],
             [
              0.1111111111111111,
              "#46039f"
             ],
             [
              0.2222222222222222,
              "#7201a8"
             ],
             [
              0.3333333333333333,
              "#9c179e"
             ],
             [
              0.4444444444444444,
              "#bd3786"
             ],
             [
              0.5555555555555556,
              "#d8576b"
             ],
             [
              0.6666666666666666,
              "#ed7953"
             ],
             [
              0.7777777777777778,
              "#fb9f3a"
             ],
             [
              0.8888888888888888,
              "#fdca26"
             ],
             [
              1,
              "#f0f921"
             ]
            ],
            "type": "histogram2dcontour"
           }
          ],
          "mesh3d": [
           {
            "colorbar": {
             "outlinewidth": 0,
             "ticks": ""
            },
            "type": "mesh3d"
           }
          ],
          "parcoords": [
           {
            "line": {
             "colorbar": {
              "outlinewidth": 0,
              "ticks": ""
             }
            },
            "type": "parcoords"
           }
          ],
          "pie": [
           {
            "automargin": true,
            "type": "pie"
           }
          ],
          "scatter": [
           {
            "fillpattern": {
             "fillmode": "overlay",
             "size": 10,
             "solidity": 0.2
            },
            "type": "scatter"
           }
          ],
          "scatter3d": [
           {
            "line": {
             "colorbar": {
              "outlinewidth": 0,
              "ticks": ""
             }
            },
            "marker": {
             "colorbar": {
              "outlinewidth": 0,
              "ticks": ""
             }
            },
            "type": "scatter3d"
           }
          ],
          "scattercarpet": [
           {
            "marker": {
             "colorbar": {
              "outlinewidth": 0,
              "ticks": ""
             }
            },
            "type": "scattercarpet"
           }
          ],
          "scattergeo": [
           {
            "marker": {
             "colorbar": {
              "outlinewidth": 0,
              "ticks": ""
             }
            },
            "type": "scattergeo"
           }
          ],
          "scattergl": [
           {
            "marker": {
             "colorbar": {
              "outlinewidth": 0,
              "ticks": ""
             }
            },
            "type": "scattergl"
           }
          ],
          "scattermapbox": [
           {
            "marker": {
             "colorbar": {
              "outlinewidth": 0,
              "ticks": ""
             }
            },
            "type": "scattermapbox"
           }
          ],
          "scatterpolar": [
           {
            "marker": {
             "colorbar": {
              "outlinewidth": 0,
              "ticks": ""
             }
            },
            "type": "scatterpolar"
           }
          ],
          "scatterpolargl": [
           {
            "marker": {
             "colorbar": {
              "outlinewidth": 0,
              "ticks": ""
             }
            },
            "type": "scatterpolargl"
           }
          ],
          "scatterternary": [
           {
            "marker": {
             "colorbar": {
              "outlinewidth": 0,
              "ticks": ""
             }
            },
            "type": "scatterternary"
           }
          ],
          "surface": [
           {
            "colorbar": {
             "outlinewidth": 0,
             "ticks": ""
            },
            "colorscale": [
             [
              0,
              "#0d0887"
             ],
             [
              0.1111111111111111,
              "#46039f"
             ],
             [
              0.2222222222222222,
              "#7201a8"
             ],
             [
              0.3333333333333333,
              "#9c179e"
             ],
             [
              0.4444444444444444,
              "#bd3786"
             ],
             [
              0.5555555555555556,
              "#d8576b"
             ],
             [
              0.6666666666666666,
              "#ed7953"
             ],
             [
              0.7777777777777778,
              "#fb9f3a"
             ],
             [
              0.8888888888888888,
              "#fdca26"
             ],
             [
              1,
              "#f0f921"
             ]
            ],
            "type": "surface"
           }
          ],
          "table": [
           {
            "cells": {
             "fill": {
              "color": "#EBF0F8"
             },
             "line": {
              "color": "white"
             }
            },
            "header": {
             "fill": {
              "color": "#C8D4E3"
             },
             "line": {
              "color": "white"
             }
            },
            "type": "table"
           }
          ]
         },
         "layout": {
          "annotationdefaults": {
           "arrowcolor": "#2a3f5f",
           "arrowhead": 0,
           "arrowwidth": 1
          },
          "autotypenumbers": "strict",
          "coloraxis": {
           "colorbar": {
            "outlinewidth": 0,
            "ticks": ""
           }
          },
          "colorscale": {
           "diverging": [
            [
             0,
             "#8e0152"
            ],
            [
             0.1,
             "#c51b7d"
            ],
            [
             0.2,
             "#de77ae"
            ],
            [
             0.3,
             "#f1b6da"
            ],
            [
             0.4,
             "#fde0ef"
            ],
            [
             0.5,
             "#f7f7f7"
            ],
            [
             0.6,
             "#e6f5d0"
            ],
            [
             0.7,
             "#b8e186"
            ],
            [
             0.8,
             "#7fbc41"
            ],
            [
             0.9,
             "#4d9221"
            ],
            [
             1,
             "#276419"
            ]
           ],
           "sequential": [
            [
             0,
             "#0d0887"
            ],
            [
             0.1111111111111111,
             "#46039f"
            ],
            [
             0.2222222222222222,
             "#7201a8"
            ],
            [
             0.3333333333333333,
             "#9c179e"
            ],
            [
             0.4444444444444444,
             "#bd3786"
            ],
            [
             0.5555555555555556,
             "#d8576b"
            ],
            [
             0.6666666666666666,
             "#ed7953"
            ],
            [
             0.7777777777777778,
             "#fb9f3a"
            ],
            [
             0.8888888888888888,
             "#fdca26"
            ],
            [
             1,
             "#f0f921"
            ]
           ],
           "sequentialminus": [
            [
             0,
             "#0d0887"
            ],
            [
             0.1111111111111111,
             "#46039f"
            ],
            [
             0.2222222222222222,
             "#7201a8"
            ],
            [
             0.3333333333333333,
             "#9c179e"
            ],
            [
             0.4444444444444444,
             "#bd3786"
            ],
            [
             0.5555555555555556,
             "#d8576b"
            ],
            [
             0.6666666666666666,
             "#ed7953"
            ],
            [
             0.7777777777777778,
             "#fb9f3a"
            ],
            [
             0.8888888888888888,
             "#fdca26"
            ],
            [
             1,
             "#f0f921"
            ]
           ]
          },
          "colorway": [
           "#636efa",
           "#EF553B",
           "#00cc96",
           "#ab63fa",
           "#FFA15A",
           "#19d3f3",
           "#FF6692",
           "#B6E880",
           "#FF97FF",
           "#FECB52"
          ],
          "font": {
           "color": "#2a3f5f"
          },
          "geo": {
           "bgcolor": "white",
           "lakecolor": "white",
           "landcolor": "#E5ECF6",
           "showlakes": true,
           "showland": true,
           "subunitcolor": "white"
          },
          "hoverlabel": {
           "align": "left"
          },
          "hovermode": "closest",
          "mapbox": {
           "style": "light"
          },
          "paper_bgcolor": "white",
          "plot_bgcolor": "#E5ECF6",
          "polar": {
           "angularaxis": {
            "gridcolor": "white",
            "linecolor": "white",
            "ticks": ""
           },
           "bgcolor": "#E5ECF6",
           "radialaxis": {
            "gridcolor": "white",
            "linecolor": "white",
            "ticks": ""
           }
          },
          "scene": {
           "xaxis": {
            "backgroundcolor": "#E5ECF6",
            "gridcolor": "white",
            "gridwidth": 2,
            "linecolor": "white",
            "showbackground": true,
            "ticks": "",
            "zerolinecolor": "white"
           },
           "yaxis": {
            "backgroundcolor": "#E5ECF6",
            "gridcolor": "white",
            "gridwidth": 2,
            "linecolor": "white",
            "showbackground": true,
            "ticks": "",
            "zerolinecolor": "white"
           },
           "zaxis": {
            "backgroundcolor": "#E5ECF6",
            "gridcolor": "white",
            "gridwidth": 2,
            "linecolor": "white",
            "showbackground": true,
            "ticks": "",
            "zerolinecolor": "white"
           }
          },
          "shapedefaults": {
           "line": {
            "color": "#2a3f5f"
           }
          },
          "ternary": {
           "aaxis": {
            "gridcolor": "white",
            "linecolor": "white",
            "ticks": ""
           },
           "baxis": {
            "gridcolor": "white",
            "linecolor": "white",
            "ticks": ""
           },
           "bgcolor": "#E5ECF6",
           "caxis": {
            "gridcolor": "white",
            "linecolor": "white",
            "ticks": ""
           }
          },
          "title": {
           "x": 0.05
          },
          "xaxis": {
           "automargin": true,
           "gridcolor": "white",
           "linecolor": "white",
           "ticks": "",
           "title": {
            "standoff": 15
           },
           "zerolinecolor": "white",
           "zerolinewidth": 2
          },
          "yaxis": {
           "automargin": true,
           "gridcolor": "white",
           "linecolor": "white",
           "ticks": "",
           "title": {
            "standoff": 15
           },
           "zerolinecolor": "white",
           "zerolinewidth": 2
          }
         }
        },
        "title": {
         "text": "Distribution of fixed acidity"
        },
        "xaxis": {
         "anchor": "y",
         "domain": [
          0,
          1
         ],
         "title": {
          "text": "fixed acidity"
         }
        },
        "yaxis": {
         "anchor": "x",
         "domain": [
          0,
          1
         ],
         "title": {
          "text": "count"
         }
        }
       }
      }
     },
     "metadata": {},
     "output_type": "display_data"
    },
    {
     "name": "stdout",
     "output_type": "stream",
     "text": [
      "Value counts for fixed acidity:\n",
      "fixed acidity\n",
      "7.2     43\n",
      "7.1     41\n",
      "7.0     40\n",
      "7.8     40\n",
      "7.5     37\n",
      "        ..\n",
      "4.6      1\n",
      "13.7     1\n",
      "13.4     1\n",
      "13.5     1\n",
      "12.2     1\n",
      "Name: count, Length: 91, dtype: int64\n",
      "\n"
     ]
    },
    {
     "data": {
      "application/vnd.plotly.v1+json": {
       "config": {
        "plotlyServerURL": "https://plot.ly"
       },
       "data": [
        {
         "alignmentgroup": "True",
         "bingroup": "x",
         "hovertemplate": "volatile acidity=%{x}<br>count=%{y}<extra></extra>",
         "legendgroup": "",
         "marker": {
          "color": "#636efa",
          "pattern": {
           "shape": ""
          }
         },
         "name": "",
         "nbinsx": 30,
         "offsetgroup": "",
         "orientation": "v",
         "showlegend": false,
         "type": "histogram",
         "x": [
          0.7,
          0.88,
          0.76,
          0.28,
          0.7,
          0.66,
          0.6,
          0.65,
          0.58,
          0.58,
          0.615,
          0.61,
          0.28,
          0.32,
          0.39,
          0.43,
          0.49,
          0.4,
          0.39,
          0.41,
          0.71,
          0.645,
          0.675,
          0.655,
          0.32,
          0.645,
          0.6,
          0.38,
          0.45,
          0.61,
          0.49,
          0.66,
          0.52,
          0.935,
          0.66,
          0.52,
          0.5,
          0.38,
          0.51,
          0.42,
          0.59,
          0.39,
          0.4,
          0.69,
          0.735,
          0.725,
          0.725,
          0.705,
          0.705,
          0.69,
          0.675,
          0.41,
          0.785,
          0.75,
          0.625,
          0.45,
          0.5,
          0.3,
          0.55,
          0.49,
          0.49,
          0.39,
          0.62,
          0.52,
          0.49,
          0.49,
          1.02,
          0.775,
          0.9,
          0.545,
          0.61,
          0.545,
          0.575,
          0.49,
          0.575,
          0.41,
          0.63,
          0.56,
          0.62,
          0.31,
          0.56,
          0.4,
          0.54,
          1.07,
          0.55,
          0.695,
          0.5,
          1.33,
          1.33,
          0.59,
          0.745,
          0.5,
          1.04,
          0.745,
          0.415,
          0.745,
          0.34,
          0.39,
          0.34,
          0.67,
          0.68,
          0.49,
          0.33,
          0.52,
          0.6,
          0.6,
          0.43,
          0.43,
          0.43,
          0.68,
          0.6,
          0.95,
          0.68,
          0.53,
          0.6,
          0.59,
          0.63,
          0.64,
          0.55,
          0.63,
          0.885,
          0.42,
          0.62,
          0.5,
          0.38,
          0.52,
          0.805,
          0.61,
          0.61,
          0.61,
          0.73,
          0.61,
          0.62,
          0.31,
          0.39,
          0.5,
          0.5,
          0.37,
          0.55,
          0.55,
          0.58,
          0.3,
          1.09,
          0.32,
          0.43,
          0.3,
          0.3,
          0.44,
          0.53,
          0.725,
          0.57,
          0.735,
          0.49,
          0.625,
          0.725,
          0.49,
          0.34,
          0.53,
          0.61,
          0.645,
          0.43,
          0.59,
          0.48,
          0.38,
          0.37,
          1,
          0.63,
          0.635,
          0.38,
          0.58,
          0.21,
          0.21,
          0.66,
          0.68,
          0.66,
          0.32,
          0.6,
          0.35,
          0.775,
          0.57,
          0.34,
          0.695,
          0.41,
          0.31,
          0.33,
          0.975,
          0.52,
          0.37,
          0.56,
          0.87,
          0.35,
          0.54,
          0.18,
          0.545,
          0.545,
          0.54,
          0.18,
          0.32,
          0.4,
          0.26,
          0.27,
          0.4,
          0.59,
          0.59,
          0.45,
          0.4,
          0.52,
          0.42,
          0.52,
          0.55,
          0.36,
          0.34,
          0.5,
          0.83,
          0.63,
          0.65,
          0.53,
          0.18,
          0.705,
          0.65,
          0.62,
          0.41,
          0.43,
          0.53,
          0.46,
          0.47,
          0.36,
          0.66,
          0.77,
          0.61,
          0.49,
          0.49,
          0.53,
          0.44,
          0.27,
          0.56,
          0.65,
          0.695,
          0.43,
          0.43,
          0.28,
          0.39,
          0.39,
          0.57,
          0.49,
          0.56,
          0.795,
          0.665,
          0.53,
          0.21,
          0.75,
          0.41,
          0.42,
          0.43,
          0.38,
          0.7,
          0.45,
          0.58,
          0.46,
          0.615,
          0.615,
          0.575,
          0.27,
          0.24,
          0.28,
          0.45,
          0.27,
          0.625,
          0.26,
          0.51,
          0.46,
          0.85,
          0.415,
          0.37,
          0.37,
          0.735,
          0.59,
          0.765,
          0.735,
          0.48,
          0.6,
          0.69,
          0.44,
          0.39,
          0.46,
          0.43,
          0.735,
          0.4,
          0.52,
          0.725,
          0.48,
          0.58,
          0.38,
          0.77,
          0.84,
          0.96,
          0.24,
          0.84,
          0.67,
          0.78,
          0.52,
          0.84,
          0.24,
          0.55,
          0.39,
          0.41,
          0.39,
          0.67,
          0.45,
          0.62,
          0.31,
          0.685,
          0.57,
          0.38,
          0.48,
          0.53,
          0.39,
          0.39,
          0.56,
          0.33,
          0.23,
          0.62,
          0.59,
          0.63,
          0.58,
          0.43,
          0.615,
          0.315,
          0.5,
          0.46,
          0.36,
          0.82,
          0.32,
          0.54,
          0.37,
          0.68,
          0.27,
          0.24,
          0.685,
          0.28,
          0.3,
          0.36,
          0.67,
          0.645,
          0.39,
          0.41,
          0.4,
          0.69,
          0.39,
          0.35,
          0.52,
          0.34,
          0.35,
          0.69,
          0.52,
          0.44,
          0.44,
          0.24,
          0.49,
          0.24,
          0.67,
          0.29,
          0.59,
          0.4,
          0.51,
          0.51,
          0.655,
          0.6,
          0.61,
          0.25,
          0.4,
          0.43,
          0.38,
          0.63,
          0.22,
          0.38,
          0.38,
          0.27,
          0.48,
          0.22,
          0.63,
          0.825,
          0.35,
          0.5,
          0.59,
          0.46,
          0.715,
          0.66,
          0.31,
          0.47,
          0.55,
          0.31,
          0.35,
          0.51,
          0.43,
          0.46,
          1.04,
          0.645,
          0.53,
          0.645,
          0.47,
          0.6,
          0.54,
          0.29,
          0.47,
          0.6,
          0.7,
          0.5,
          0.36,
          0.35,
          0.24,
          0.5,
          0.44,
          0.47,
          0.31,
          0.5,
          0.5,
          0.28,
          0.73,
          0.42,
          0.45,
          0.39,
          0.45,
          0.49,
          0.595,
          0.4,
          0.585,
          0.835,
          0.58,
          0.48,
          0.65,
          0.36,
          0.24,
          0.38,
          0.64,
          0.6,
          0.31,
          0.37,
          0.54,
          0.56,
          0.58,
          0.69,
          0.6,
          0.6,
          0.54,
          0.685,
          0.54,
          0.28,
          0.41,
          0.935,
          0.35,
          0.84,
          0.88,
          0.885,
          0.29,
          0.54,
          0.54,
          0.54,
          0.845,
          0.48,
          0.42,
          0.43,
          0.36,
          0.33,
          0.47,
          0.55,
          0.43,
          0.5,
          0.52,
          0.52,
          0.42,
          0.57,
          0.59,
          0.49,
          0.34,
          0.34,
          0.73,
          0.73,
          0.4,
          0.8,
          0.78,
          0.26,
          0.45,
          0.46,
          0.78,
          0.98,
          0.78,
          0.66,
          0.38,
          0.92,
          0.49,
          0.48,
          0.47,
          0.47,
          0.65,
          0.615,
          0.38,
          1.02,
          0.65,
          0.64,
          0.38,
          0.765,
          1.035,
          0.78,
          0.49,
          0.545,
          1.025,
          0.565,
          0.74,
          0.46,
          0.56,
          0.66,
          0.56,
          0.48,
          0.31,
          0.66,
          0.72,
          0.57,
          0.57,
          0.865,
          0.55,
          0.875,
          0.835,
          0.45,
          0.56,
          0.965,
          0.59,
          0.69,
          0.76,
          0.53,
          0.39,
          0.51,
          0.34,
          0.5,
          0.51,
          0.65,
          0.54,
          0.65,
          0.48,
          0.91,
          0.98,
          0.87,
          0.87,
          0.42,
          0.58,
          0.655,
          0.7,
          0.68,
          0.67,
          0.59,
          0.59,
          0.72,
          0.59,
          0.685,
          0.57,
          0.4,
          1,
          0.635,
          0.43,
          0.52,
          0.57,
          0.46,
          0.59,
          0.35,
          0.56,
          0.56,
          0.63,
          0.37,
          0.64,
          0.61,
          0.6,
          0.27,
          0.89,
          0.46,
          0.37,
          0.5,
          0.55,
          0.585,
          0.56,
          0.52,
          0.25,
          0.53,
          0.48,
          0.49,
          0.5,
          0.39,
          0.41,
          0.66,
          0.685,
          0.42,
          0.54,
          0.48,
          0.27,
          0.46,
          0.685,
          0.61,
          0.47,
          0.28,
          0.28,
          0.31,
          0.66,
          0.5,
          0.685,
          0.64,
          0.68,
          0.64,
          0.43,
          0.43,
          0.36,
          0.36,
          0.36,
          0.26,
          0.28,
          0.62,
          0.42,
          0.62,
          0.635,
          0.56,
          0.35,
          0.31,
          0.715,
          0.715,
          0.31,
          0.61,
          0.75,
          0.8,
          0.57,
          0.9,
          0.66,
          0.45,
          0.66,
          0.63,
          0.59,
          0.31,
          0.59,
          0.31,
          0.31,
          0.635,
          0.635,
          0.59,
          0.54,
          0.56,
          0.52,
          0.38,
          0.28,
          0.46,
          0.315,
          0.715,
          0.41,
          0.36,
          0.62,
          0.41,
          0.62,
          0.47,
          0.22,
          0.24,
          0.67,
          0.47,
          0.33,
          0.61,
          0.4,
          0.61,
          0.3,
          0.46,
          0.27,
          0.43,
          0.3,
          0.44,
          0.28,
          0.12,
          0.12,
          0.28,
          0.31,
          0.34,
          0.21,
          0.36,
          0.57,
          0.47,
          0.56,
          0.57,
          0.47,
          0.66,
          0.4,
          0.26,
          0.33,
          0.41,
          0.59,
          0.4,
          0.5,
          0.86,
          0.52,
          0.5,
          0.58,
          0.36,
          0.39,
          0.295,
          0.39,
          0.34,
          0.34,
          0.6,
          0.84,
          0.69,
          0.43,
          0.43,
          0.36,
          0.29,
          0.3,
          0.35,
          0.28,
          0.32,
          1.005,
          0.71,
          0.58,
          0.38,
          0.18,
          0.5,
          0.36,
          0.36,
          0.51,
          0.32,
          0.58,
          0.83,
          0.31,
          0.795,
          0.58,
          0.82,
          0.745,
          0.37,
          0.31,
          0.41,
          0.5,
          0.49,
          0.39,
          0.44,
          0.78,
          0.43,
          0.49,
          0.5,
          0.46,
          0.605,
          0.33,
          0.64,
          0.48,
          0.42,
          0.53,
          0.48,
          0.23,
          0.4,
          0.38,
          0.29,
          0.74,
          0.61,
          0.52,
          0.31,
          0.62,
          0.33,
          0.77,
          0.62,
          0.32,
          0.37,
          0.3,
          0.3,
          0.38,
          0.42,
          0.48,
          0.34,
          0.19,
          0.41,
          0.41,
          0.26,
          0.34,
          0.54,
          0.31,
          0.725,
          0.725,
          0.52,
          0.34,
          0.49,
          0.49,
          0.48,
          0.57,
          0.3,
          0.78,
          0.47,
          0.53,
          0.42,
          0.33,
          0.4,
          0.69,
          0.69,
          0.69,
          0.39,
          0.66,
          0.54,
          0.47,
          0.24,
          0.76,
          0.43,
          0.6,
          0.36,
          0.48,
          0.28,
          0.25,
          0.52,
          0.41,
          0.51,
          0.4,
          0.38,
          0.45,
          0.22,
          0.32,
          0.2,
          0.5,
          0.41,
          0.39,
          0.35,
          0.58,
          0.6,
          0.42,
          0.6,
          0.18,
          0.51,
          0.32,
          0.785,
          0.33,
          0.34,
          0.5,
          0.36,
          0.42,
          0.36,
          0.36,
          0.61,
          0.88,
          0.915,
          0.35,
          0.39,
          0.66,
          0.64,
          0.64,
          0.955,
          0.4,
          0.885,
          0.25,
          0.745,
          0.43,
          0.57,
          0.26,
          0.58,
          0.57,
          0.34,
          0.42,
          0.74,
          0.36,
          0.36,
          0.72,
          0.36,
          0.39,
          0.65,
          0.65,
          0.33,
          0.57,
          0.39,
          0.32,
          0.32,
          0.39,
          0.46,
          0.58,
          0.58,
          0.42,
          0.43,
          0.18,
          0.815,
          0.43,
          0.75,
          0.55,
          0.75,
          0.73,
          0.67,
          0.61,
          0.56,
          0.55,
          0.74,
          0.6,
          0.58,
          0.72,
          0.66,
          0.7,
          0.59,
          0.58,
          0.64,
          0.635,
          1.02,
          0.45,
          0.37,
          0.57,
          0.57,
          0.43,
          0.41,
          0.38,
          0.44,
          0.46,
          0.58,
          0.58,
          0.715,
          0.4,
          0.69,
          0.715,
          0.3,
          0.46,
          0.46,
          0.765,
          0.63,
          0.42,
          0.37,
          0.6,
          0.6,
          0.74,
          0.635,
          0.395,
          0.63,
          0.53,
          0.6,
          1.58,
          0.645,
          0.86,
          0.37,
          0.79,
          0.61,
          0.69,
          0.62,
          0.51,
          1.18,
          0.63,
          0.74,
          0.76,
          0.74,
          0.34,
          0.46,
          0.46,
          0.46,
          0.46,
          0.52,
          0.6,
          0.6,
          0.87,
          0.39,
          0.775,
          0.835,
          0.58,
          0.5,
          0.5,
          0.5,
          0.51,
          0.51,
          0.51,
          0.51,
          0.42,
          0.44,
          0.59,
          0.655,
          0.62,
          0.645,
          0.32,
          0.34,
          0.43,
          0.64,
          0.475,
          0.85,
          0.475,
          0.605,
          0.74,
          0.54,
          0.77,
          0.78,
          0.58,
          0.78,
          0.885,
          0.45,
          0.57,
          0.57,
          0.6,
          0.6,
          0.755,
          0.81,
          0.64,
          0.64,
          0.49,
          0.64,
          0.62,
          0.52,
          0.685,
          0.675,
          0.59,
          0.67,
          0.69,
          0.3,
          0.33,
          0.5,
          0.24,
          0.51,
          0.29,
          0.51,
          0.96,
          0.47,
          0.24,
          0.57,
          0.32,
          0.58,
          0.32,
          0.34,
          0.53,
          0.64,
          0.53,
          0.4,
          0.54,
          0.53,
          0.41,
          0.64,
          0.18,
          0.41,
          0.43,
          0.4,
          0.54,
          0.38,
          0.915,
          0.59,
          0.67,
          0.58,
          0.785,
          0.67,
          0.38,
          0.37,
          0.32,
          0.58,
          0.45,
          0.9,
          0.49,
          0.29,
          0.2,
          0.42,
          0.785,
          0.63,
          0.59,
          0.48,
          1.04,
          0.48,
          0.98,
          0.69,
          0.7,
          0.35,
          0.6,
          0.5,
          0.47,
          0.5,
          0.47,
          0.875,
          0.28,
          0.62,
          0.28,
          0.33,
          0.655,
          0.68,
          0.64,
          0.54,
          0.22,
          0.65,
          0.54,
          0.31,
          0.43,
          0.74,
          0.74,
          0.82,
          0.44,
          0.38,
          0.76,
          0.81,
          0.38,
          0.27,
          0.18,
          0.36,
          0.69,
          0.84,
          0.84,
          0.53,
          0.47,
          0.7,
          0.32,
          0.48,
          0.48,
          0.47,
          0.29,
          0.69,
          0.44,
          0.705,
          0.53,
          0.39,
          0.56,
          0.55,
          0.64,
          0.52,
          0.37,
          0.63,
          0.57,
          0.4,
          0.36,
          0.67,
          0.68,
          0.735,
          0.56,
          0.88,
          0.855,
          0.63,
          0.6,
          0.6,
          0.6,
          0.695,
          0.695,
          0.67,
          0.16,
          0.695,
          0.56,
          0.51,
          0.36,
          0.38,
          0.69,
          0.58,
          0.52,
          0.3,
          0.7,
          0.67,
          0.35,
          0.715,
          0.46,
          0.32,
          0.31,
          0.61,
          0.55,
          0.74,
          0.51,
          0.62,
          0.6,
          0.55,
          0.645
         ],
         "xaxis": "x",
         "yaxis": "y"
        }
       ],
       "layout": {
        "barmode": "relative",
        "legend": {
         "tracegroupgap": 0
        },
        "template": {
         "data": {
          "bar": [
           {
            "error_x": {
             "color": "#2a3f5f"
            },
            "error_y": {
             "color": "#2a3f5f"
            },
            "marker": {
             "line": {
              "color": "#E5ECF6",
              "width": 0.5
             },
             "pattern": {
              "fillmode": "overlay",
              "size": 10,
              "solidity": 0.2
             }
            },
            "type": "bar"
           }
          ],
          "barpolar": [
           {
            "marker": {
             "line": {
              "color": "#E5ECF6",
              "width": 0.5
             },
             "pattern": {
              "fillmode": "overlay",
              "size": 10,
              "solidity": 0.2
             }
            },
            "type": "barpolar"
           }
          ],
          "carpet": [
           {
            "aaxis": {
             "endlinecolor": "#2a3f5f",
             "gridcolor": "white",
             "linecolor": "white",
             "minorgridcolor": "white",
             "startlinecolor": "#2a3f5f"
            },
            "baxis": {
             "endlinecolor": "#2a3f5f",
             "gridcolor": "white",
             "linecolor": "white",
             "minorgridcolor": "white",
             "startlinecolor": "#2a3f5f"
            },
            "type": "carpet"
           }
          ],
          "choropleth": [
           {
            "colorbar": {
             "outlinewidth": 0,
             "ticks": ""
            },
            "type": "choropleth"
           }
          ],
          "contour": [
           {
            "colorbar": {
             "outlinewidth": 0,
             "ticks": ""
            },
            "colorscale": [
             [
              0,
              "#0d0887"
             ],
             [
              0.1111111111111111,
              "#46039f"
             ],
             [
              0.2222222222222222,
              "#7201a8"
             ],
             [
              0.3333333333333333,
              "#9c179e"
             ],
             [
              0.4444444444444444,
              "#bd3786"
             ],
             [
              0.5555555555555556,
              "#d8576b"
             ],
             [
              0.6666666666666666,
              "#ed7953"
             ],
             [
              0.7777777777777778,
              "#fb9f3a"
             ],
             [
              0.8888888888888888,
              "#fdca26"
             ],
             [
              1,
              "#f0f921"
             ]
            ],
            "type": "contour"
           }
          ],
          "contourcarpet": [
           {
            "colorbar": {
             "outlinewidth": 0,
             "ticks": ""
            },
            "type": "contourcarpet"
           }
          ],
          "heatmap": [
           {
            "colorbar": {
             "outlinewidth": 0,
             "ticks": ""
            },
            "colorscale": [
             [
              0,
              "#0d0887"
             ],
             [
              0.1111111111111111,
              "#46039f"
             ],
             [
              0.2222222222222222,
              "#7201a8"
             ],
             [
              0.3333333333333333,
              "#9c179e"
             ],
             [
              0.4444444444444444,
              "#bd3786"
             ],
             [
              0.5555555555555556,
              "#d8576b"
             ],
             [
              0.6666666666666666,
              "#ed7953"
             ],
             [
              0.7777777777777778,
              "#fb9f3a"
             ],
             [
              0.8888888888888888,
              "#fdca26"
             ],
             [
              1,
              "#f0f921"
             ]
            ],
            "type": "heatmap"
           }
          ],
          "heatmapgl": [
           {
            "colorbar": {
             "outlinewidth": 0,
             "ticks": ""
            },
            "colorscale": [
             [
              0,
              "#0d0887"
             ],
             [
              0.1111111111111111,
              "#46039f"
             ],
             [
              0.2222222222222222,
              "#7201a8"
             ],
             [
              0.3333333333333333,
              "#9c179e"
             ],
             [
              0.4444444444444444,
              "#bd3786"
             ],
             [
              0.5555555555555556,
              "#d8576b"
             ],
             [
              0.6666666666666666,
              "#ed7953"
             ],
             [
              0.7777777777777778,
              "#fb9f3a"
             ],
             [
              0.8888888888888888,
              "#fdca26"
             ],
             [
              1,
              "#f0f921"
             ]
            ],
            "type": "heatmapgl"
           }
          ],
          "histogram": [
           {
            "marker": {
             "pattern": {
              "fillmode": "overlay",
              "size": 10,
              "solidity": 0.2
             }
            },
            "type": "histogram"
           }
          ],
          "histogram2d": [
           {
            "colorbar": {
             "outlinewidth": 0,
             "ticks": ""
            },
            "colorscale": [
             [
              0,
              "#0d0887"
             ],
             [
              0.1111111111111111,
              "#46039f"
             ],
             [
              0.2222222222222222,
              "#7201a8"
             ],
             [
              0.3333333333333333,
              "#9c179e"
             ],
             [
              0.4444444444444444,
              "#bd3786"
             ],
             [
              0.5555555555555556,
              "#d8576b"
             ],
             [
              0.6666666666666666,
              "#ed7953"
             ],
             [
              0.7777777777777778,
              "#fb9f3a"
             ],
             [
              0.8888888888888888,
              "#fdca26"
             ],
             [
              1,
              "#f0f921"
             ]
            ],
            "type": "histogram2d"
           }
          ],
          "histogram2dcontour": [
           {
            "colorbar": {
             "outlinewidth": 0,
             "ticks": ""
            },
            "colorscale": [
             [
              0,
              "#0d0887"
             ],
             [
              0.1111111111111111,
              "#46039f"
             ],
             [
              0.2222222222222222,
              "#7201a8"
             ],
             [
              0.3333333333333333,
              "#9c179e"
             ],
             [
              0.4444444444444444,
              "#bd3786"
             ],
             [
              0.5555555555555556,
              "#d8576b"
             ],
             [
              0.6666666666666666,
              "#ed7953"
             ],
             [
              0.7777777777777778,
              "#fb9f3a"
             ],
             [
              0.8888888888888888,
              "#fdca26"
             ],
             [
              1,
              "#f0f921"
             ]
            ],
            "type": "histogram2dcontour"
           }
          ],
          "mesh3d": [
           {
            "colorbar": {
             "outlinewidth": 0,
             "ticks": ""
            },
            "type": "mesh3d"
           }
          ],
          "parcoords": [
           {
            "line": {
             "colorbar": {
              "outlinewidth": 0,
              "ticks": ""
             }
            },
            "type": "parcoords"
           }
          ],
          "pie": [
           {
            "automargin": true,
            "type": "pie"
           }
          ],
          "scatter": [
           {
            "fillpattern": {
             "fillmode": "overlay",
             "size": 10,
             "solidity": 0.2
            },
            "type": "scatter"
           }
          ],
          "scatter3d": [
           {
            "line": {
             "colorbar": {
              "outlinewidth": 0,
              "ticks": ""
             }
            },
            "marker": {
             "colorbar": {
              "outlinewidth": 0,
              "ticks": ""
             }
            },
            "type": "scatter3d"
           }
          ],
          "scattercarpet": [
           {
            "marker": {
             "colorbar": {
              "outlinewidth": 0,
              "ticks": ""
             }
            },
            "type": "scattercarpet"
           }
          ],
          "scattergeo": [
           {
            "marker": {
             "colorbar": {
              "outlinewidth": 0,
              "ticks": ""
             }
            },
            "type": "scattergeo"
           }
          ],
          "scattergl": [
           {
            "marker": {
             "colorbar": {
              "outlinewidth": 0,
              "ticks": ""
             }
            },
            "type": "scattergl"
           }
          ],
          "scattermapbox": [
           {
            "marker": {
             "colorbar": {
              "outlinewidth": 0,
              "ticks": ""
             }
            },
            "type": "scattermapbox"
           }
          ],
          "scatterpolar": [
           {
            "marker": {
             "colorbar": {
              "outlinewidth": 0,
              "ticks": ""
             }
            },
            "type": "scatterpolar"
           }
          ],
          "scatterpolargl": [
           {
            "marker": {
             "colorbar": {
              "outlinewidth": 0,
              "ticks": ""
             }
            },
            "type": "scatterpolargl"
           }
          ],
          "scatterternary": [
           {
            "marker": {
             "colorbar": {
              "outlinewidth": 0,
              "ticks": ""
             }
            },
            "type": "scatterternary"
           }
          ],
          "surface": [
           {
            "colorbar": {
             "outlinewidth": 0,
             "ticks": ""
            },
            "colorscale": [
             [
              0,
              "#0d0887"
             ],
             [
              0.1111111111111111,
              "#46039f"
             ],
             [
              0.2222222222222222,
              "#7201a8"
             ],
             [
              0.3333333333333333,
              "#9c179e"
             ],
             [
              0.4444444444444444,
              "#bd3786"
             ],
             [
              0.5555555555555556,
              "#d8576b"
             ],
             [
              0.6666666666666666,
              "#ed7953"
             ],
             [
              0.7777777777777778,
              "#fb9f3a"
             ],
             [
              0.8888888888888888,
              "#fdca26"
             ],
             [
              1,
              "#f0f921"
             ]
            ],
            "type": "surface"
           }
          ],
          "table": [
           {
            "cells": {
             "fill": {
              "color": "#EBF0F8"
             },
             "line": {
              "color": "white"
             }
            },
            "header": {
             "fill": {
              "color": "#C8D4E3"
             },
             "line": {
              "color": "white"
             }
            },
            "type": "table"
           }
          ]
         },
         "layout": {
          "annotationdefaults": {
           "arrowcolor": "#2a3f5f",
           "arrowhead": 0,
           "arrowwidth": 1
          },
          "autotypenumbers": "strict",
          "coloraxis": {
           "colorbar": {
            "outlinewidth": 0,
            "ticks": ""
           }
          },
          "colorscale": {
           "diverging": [
            [
             0,
             "#8e0152"
            ],
            [
             0.1,
             "#c51b7d"
            ],
            [
             0.2,
             "#de77ae"
            ],
            [
             0.3,
             "#f1b6da"
            ],
            [
             0.4,
             "#fde0ef"
            ],
            [
             0.5,
             "#f7f7f7"
            ],
            [
             0.6,
             "#e6f5d0"
            ],
            [
             0.7,
             "#b8e186"
            ],
            [
             0.8,
             "#7fbc41"
            ],
            [
             0.9,
             "#4d9221"
            ],
            [
             1,
             "#276419"
            ]
           ],
           "sequential": [
            [
             0,
             "#0d0887"
            ],
            [
             0.1111111111111111,
             "#46039f"
            ],
            [
             0.2222222222222222,
             "#7201a8"
            ],
            [
             0.3333333333333333,
             "#9c179e"
            ],
            [
             0.4444444444444444,
             "#bd3786"
            ],
            [
             0.5555555555555556,
             "#d8576b"
            ],
            [
             0.6666666666666666,
             "#ed7953"
            ],
            [
             0.7777777777777778,
             "#fb9f3a"
            ],
            [
             0.8888888888888888,
             "#fdca26"
            ],
            [
             1,
             "#f0f921"
            ]
           ],
           "sequentialminus": [
            [
             0,
             "#0d0887"
            ],
            [
             0.1111111111111111,
             "#46039f"
            ],
            [
             0.2222222222222222,
             "#7201a8"
            ],
            [
             0.3333333333333333,
             "#9c179e"
            ],
            [
             0.4444444444444444,
             "#bd3786"
            ],
            [
             0.5555555555555556,
             "#d8576b"
            ],
            [
             0.6666666666666666,
             "#ed7953"
            ],
            [
             0.7777777777777778,
             "#fb9f3a"
            ],
            [
             0.8888888888888888,
             "#fdca26"
            ],
            [
             1,
             "#f0f921"
            ]
           ]
          },
          "colorway": [
           "#636efa",
           "#EF553B",
           "#00cc96",
           "#ab63fa",
           "#FFA15A",
           "#19d3f3",
           "#FF6692",
           "#B6E880",
           "#FF97FF",
           "#FECB52"
          ],
          "font": {
           "color": "#2a3f5f"
          },
          "geo": {
           "bgcolor": "white",
           "lakecolor": "white",
           "landcolor": "#E5ECF6",
           "showlakes": true,
           "showland": true,
           "subunitcolor": "white"
          },
          "hoverlabel": {
           "align": "left"
          },
          "hovermode": "closest",
          "mapbox": {
           "style": "light"
          },
          "paper_bgcolor": "white",
          "plot_bgcolor": "#E5ECF6",
          "polar": {
           "angularaxis": {
            "gridcolor": "white",
            "linecolor": "white",
            "ticks": ""
           },
           "bgcolor": "#E5ECF6",
           "radialaxis": {
            "gridcolor": "white",
            "linecolor": "white",
            "ticks": ""
           }
          },
          "scene": {
           "xaxis": {
            "backgroundcolor": "#E5ECF6",
            "gridcolor": "white",
            "gridwidth": 2,
            "linecolor": "white",
            "showbackground": true,
            "ticks": "",
            "zerolinecolor": "white"
           },
           "yaxis": {
            "backgroundcolor": "#E5ECF6",
            "gridcolor": "white",
            "gridwidth": 2,
            "linecolor": "white",
            "showbackground": true,
            "ticks": "",
            "zerolinecolor": "white"
           },
           "zaxis": {
            "backgroundcolor": "#E5ECF6",
            "gridcolor": "white",
            "gridwidth": 2,
            "linecolor": "white",
            "showbackground": true,
            "ticks": "",
            "zerolinecolor": "white"
           }
          },
          "shapedefaults": {
           "line": {
            "color": "#2a3f5f"
           }
          },
          "ternary": {
           "aaxis": {
            "gridcolor": "white",
            "linecolor": "white",
            "ticks": ""
           },
           "baxis": {
            "gridcolor": "white",
            "linecolor": "white",
            "ticks": ""
           },
           "bgcolor": "#E5ECF6",
           "caxis": {
            "gridcolor": "white",
            "linecolor": "white",
            "ticks": ""
           }
          },
          "title": {
           "x": 0.05
          },
          "xaxis": {
           "automargin": true,
           "gridcolor": "white",
           "linecolor": "white",
           "ticks": "",
           "title": {
            "standoff": 15
           },
           "zerolinecolor": "white",
           "zerolinewidth": 2
          },
          "yaxis": {
           "automargin": true,
           "gridcolor": "white",
           "linecolor": "white",
           "ticks": "",
           "title": {
            "standoff": 15
           },
           "zerolinecolor": "white",
           "zerolinewidth": 2
          }
         }
        },
        "title": {
         "text": "Distribution of volatile acidity"
        },
        "xaxis": {
         "anchor": "y",
         "domain": [
          0,
          1
         ],
         "title": {
          "text": "volatile acidity"
         }
        },
        "yaxis": {
         "anchor": "x",
         "domain": [
          0,
          1
         ],
         "title": {
          "text": "count"
         }
        }
       }
      }
     },
     "metadata": {},
     "output_type": "display_data"
    },
    {
     "name": "stdout",
     "output_type": "stream",
     "text": [
      "Value counts for volatile acidity:\n",
      "volatile acidity\n",
      "0.600    32\n",
      "0.500    32\n",
      "0.430    31\n",
      "0.390    29\n",
      "0.580    28\n",
      "         ..\n",
      "1.035     1\n",
      "0.565     1\n",
      "0.865     1\n",
      "0.965     1\n",
      "0.160     1\n",
      "Name: count, Length: 135, dtype: int64\n",
      "\n"
     ]
    },
    {
     "data": {
      "application/vnd.plotly.v1+json": {
       "config": {
        "plotlyServerURL": "https://plot.ly"
       },
       "data": [
        {
         "alignmentgroup": "True",
         "bingroup": "x",
         "hovertemplate": "citric acid=%{x}<br>count=%{y}<extra></extra>",
         "legendgroup": "",
         "marker": {
          "color": "#636efa",
          "pattern": {
           "shape": ""
          }
         },
         "name": "",
         "nbinsx": 30,
         "offsetgroup": "",
         "orientation": "v",
         "showlegend": false,
         "type": "histogram",
         "x": [
          0,
          0,
          0.04,
          0.56,
          0,
          0,
          0.06,
          0,
          0.02,
          0.08,
          0,
          0.29,
          0.56,
          0.51,
          0.31,
          0.21,
          0.11,
          0.14,
          0.16,
          0.24,
          0,
          0,
          0.07,
          0.12,
          0.25,
          0,
          0.14,
          0.28,
          0.36,
          0.3,
          0.2,
          0.22,
          0.15,
          0.43,
          0.26,
          0.04,
          0.04,
          0.36,
          0.15,
          0.57,
          0.18,
          0.31,
          0.4,
          0.49,
          0.05,
          0.05,
          0.05,
          0.07,
          0.05,
          0.22,
          0.26,
          0.64,
          0,
          0.12,
          0.2,
          0.2,
          0.47,
          0.48,
          0.15,
          0.28,
          0.26,
          0.44,
          0.08,
          0.26,
          0.28,
          0.26,
          0.04,
          0,
          0.06,
          0.18,
          0.3,
          0.18,
          0.22,
          0.24,
          0.22,
          0.68,
          0.31,
          0.19,
          0.09,
          0.44,
          0.19,
          0.31,
          0.28,
          0.09,
          0.04,
          0,
          0.17,
          0,
          0,
          0.16,
          0.56,
          0.09,
          0.05,
          0.11,
          0.36,
          0.11,
          0,
          0.08,
          0,
          0.55,
          0.02,
          0.1,
          0.47,
          1,
          0.03,
          0.03,
          0.42,
          0.42,
          0.42,
          0,
          0.18,
          0.03,
          0.02,
          0.04,
          0.26,
          0.26,
          0.48,
          0.1,
          0.03,
          0.07,
          0.03,
          0.17,
          0.05,
          0.04,
          0.21,
          0.42,
          0,
          0.14,
          0.14,
          0.49,
          0.02,
          0.2,
          0.21,
          0.57,
          0.48,
          0.33,
          0.35,
          0.25,
          0.21,
          0.21,
          0.3,
          0.6,
          0.06,
          0.47,
          0.36,
          0.74,
          0.74,
          0.28,
          0.6,
          0.24,
          0.26,
          0.08,
          0.49,
          0.16,
          0.22,
          0.19,
          0.37,
          0.26,
          0.04,
          0.25,
          0.25,
          0.5,
          0.04,
          0.06,
          0.2,
          0.09,
          0,
          0.37,
          0.56,
          0.1,
          0.44,
          0.44,
          0,
          0.07,
          0,
          0.44,
          0,
          0.48,
          0.42,
          0.23,
          0.37,
          0,
          0.76,
          0.47,
          0.23,
          0.04,
          0.03,
          0.23,
          0.49,
          0,
          0.46,
          0.04,
          0.51,
          0.06,
          0.06,
          0.04,
          0.51,
          0.45,
          0.32,
          0.44,
          0.68,
          0.32,
          0.07,
          0.07,
          0.55,
          0.12,
          0.09,
          0.53,
          0.09,
          0.23,
          0.25,
          0.52,
          0.46,
          0.37,
          0.06,
          0.02,
          0.06,
          0.48,
          0.12,
          0.6,
          0.32,
          0.42,
          0.44,
          0.24,
          0.31,
          0.3,
          0.29,
          0.39,
          0.12,
          0.26,
          0.2,
          0.2,
          0.66,
          0.5,
          0.62,
          0.08,
          0.01,
          0.53,
          0.45,
          0.32,
          0.54,
          0.47,
          0.47,
          0.5,
          0.67,
          0.31,
          0,
          0,
          0.79,
          0.4,
          0.01,
          0.52,
          0.66,
          0.66,
          0.66,
          0.23,
          0.31,
          0.66,
          0.63,
          0.66,
          0.66,
          0.61,
          0.53,
          0.4,
          0.48,
          0.5,
          0.53,
          0.66,
          0.42,
          0.28,
          0.26,
          0.05,
          0.68,
          0.52,
          0.76,
          0.02,
          0.59,
          0.22,
          0.02,
          0.54,
          0.49,
          0.05,
          0.47,
          0.66,
          0.49,
          0.34,
          0.16,
          0.53,
          0.34,
          0.24,
          0.64,
          0.12,
          0.51,
          0,
          0.03,
          0.2,
          0.47,
          0.03,
          0.08,
          0.22,
          0.33,
          0.63,
          0.47,
          0.35,
          0.63,
          0.55,
          0.63,
          0.3,
          0.73,
          0.18,
          0.72,
          0.76,
          0.01,
          0.6,
          0.29,
          0.22,
          0.69,
          0.69,
          0.03,
          0.63,
          0.4,
          0.67,
          0.39,
          0.21,
          0.66,
          0.52,
          0.22,
          0.54,
          0.42,
          0.45,
          0.69,
          0.02,
          0.65,
          0.42,
          0.55,
          0.24,
          0.41,
          0.49,
          0.11,
          0.39,
          0.56,
          0.6,
          0.39,
          0.36,
          0.4,
          0.5,
          0.51,
          0.31,
          0.23,
          0.53,
          0.25,
          0.32,
          0.53,
          0.31,
          0.25,
          0.73,
          0.73,
          0.42,
          0.63,
          0.46,
          0.55,
          0.75,
          0.31,
          0.48,
          0.64,
          0.64,
          0.49,
          0.49,
          0.49,
          0.49,
          0.49,
          0.49,
          0.49,
          0.24,
          0.24,
          0.49,
          0.49,
          0.24,
          0.24,
          0.24,
          0.24,
          0.24,
          0.49,
          0.74,
          0.24,
          0.49,
          0.24,
          0.24,
          0.74,
          0.49,
          0.24,
          0.49,
          0.49,
          0.01,
          0.24,
          0.24,
          0.24,
          0.49,
          0.49,
          0.49,
          0.49,
          0.49,
          0.49,
          0.49,
          0.49,
          0.49,
          0.24,
          0.49,
          0.24,
          0.49,
          0.49,
          0.24,
          0.49,
          0.49,
          0.49,
          0.49,
          0.49,
          0.49,
          0.24,
          0.24,
          0.49,
          0.49,
          0.49,
          0.58,
          0.41,
          0.51,
          0.18,
          0,
          0.13,
          0.41,
          0.37,
          0.19,
          0.54,
          0.55,
          0,
          0.5,
          0.51,
          0.41,
          0.24,
          0.23,
          0.22,
          0,
          0.29,
          0.29,
          0.26,
          0.23,
          0.26,
          0.54,
          0.14,
          0.22,
          0.21,
          0,
          0.28,
          0.27,
          0.35,
          0.45,
          0.45,
          0.45,
          0.01,
          0.3,
          0.27,
          0.39,
          0.65,
          0.59,
          0.47,
          0.17,
          0.39,
          0.59,
          0.07,
          0.07,
          0.31,
          0.06,
          0.14,
          0.36,
          0.45,
          0.45,
          0.21,
          0.21,
          0.41,
          0.11,
          0.1,
          0.45,
          0.23,
          0.31,
          0.23,
          0.32,
          0.23,
          0.04,
          0.48,
          0.24,
          0.51,
          0.32,
          0.31,
          0.02,
          0.02,
          0.28,
          0.55,
          0.43,
          0.02,
          0.02,
          0.48,
          0.04,
          0.15,
          0.08,
          0.19,
          0.12,
          0.43,
          0.34,
          0.28,
          0.11,
          0.04,
          0,
          0.04,
          0.24,
          0.3,
          0.17,
          0.09,
          0.02,
          0.02,
          0.03,
          0.66,
          0.13,
          0.03,
          0.34,
          0.2,
          0.1,
          0,
          0,
          0.29,
          0.24,
          0.54,
          0.18,
          0.38,
          0.18,
          0.18,
          0.1,
          0.13,
          0.1,
          0.68,
          0.07,
          0.01,
          0,
          0,
          0.21,
          0.25,
          0.26,
          0,
          0.11,
          0.1,
          0.18,
          0.02,
          0.01,
          0.02,
          0.26,
          0.27,
          0.29,
          0,
          0.17,
          0.3,
          0.03,
          0,
          0.14,
          0.01,
          0.41,
          0.24,
          0.24,
          0.17,
          0.43,
          0.17,
          0.02,
          0,
          0.54,
          0.3,
          0.31,
          0.44,
          0.34,
          0.09,
          0,
          0.08,
          0.22,
          0.39,
          0.12,
          0.31,
          0.1,
          0.55,
          0.24,
          0.54,
          0.15,
          0,
          0,
          0.13,
          0.28,
          0.34,
          0.14,
          0.07,
          0.08,
          0.44,
          0.28,
          0.28,
          0.35,
          0,
          0.45,
          0.35,
          0.21,
          0.16,
          0.21,
          0.44,
          0.44,
          0.39,
          0.39,
          0.39,
          0.34,
          0.47,
          0.06,
          0.32,
          0.06,
          0.07,
          0.03,
          0.24,
          0.4,
          0.01,
          0,
          0.29,
          0.19,
          0.14,
          0.12,
          0,
          0.34,
          0.03,
          0.23,
          0.03,
          0.03,
          0.01,
          0.39,
          0.01,
          0.39,
          0.36,
          0.1,
          0.1,
          0.06,
          0.27,
          0,
          0.13,
          0.48,
          0.46,
          0.44,
          0.4,
          0.19,
          0.31,
          0.32,
          0.12,
          0.37,
          0.12,
          0.27,
          0.36,
          0.33,
          0.19,
          0.27,
          0.38,
          0.01,
          0.29,
          0.01,
          0.38,
          0.17,
          0.49,
          0.4,
          0.49,
          0.58,
          0.48,
          0.45,
          0.45,
          0.48,
          0.4,
          0.48,
          0.52,
          0.52,
          0.12,
          0.27,
          0.14,
          0.02,
          0.27,
          0.2,
          0.43,
          0.48,
          0.41,
          0.3,
          0.29,
          0.32,
          0.3,
          0.26,
          0.32,
          0.3,
          0,
          0.3,
          0.12,
          0.4,
          0.12,
          0.28,
          0.28,
          0.06,
          0.34,
          0,
          0.3,
          0.29,
          0.32,
          0.33,
          0.34,
          0.4,
          0.45,
          0.31,
          0.15,
          0,
          0.16,
          0.4,
          0.37,
          0.14,
          0.66,
          0.66,
          0.09,
          0.42,
          0.01,
          0,
          0.32,
          0,
          0.01,
          0,
          0.18,
          0.34,
          0.34,
          0.41,
          0.21,
          0.19,
          0.33,
          0,
          0,
          0.17,
          0.36,
          0.36,
          0.59,
          0.05,
          0.42,
          0.27,
          0.53,
          0.25,
          0.57,
          0.53,
          0.57,
          0.5,
          0.44,
          0.65,
          0.09,
          0.18,
          0.08,
          0.53,
          0.35,
          0.45,
          0.2,
          0.33,
          0.56,
          0.65,
          0.68,
          0.68,
          0.3,
          0.45,
          0.08,
          0.4,
          0.42,
          0.54,
          0.54,
          0.54,
          0.42,
          0.09,
          0.36,
          0.09,
          0.09,
          0.38,
          0.42,
          0.27,
          0.27,
          0.34,
          0.28,
          0.41,
          0.1,
          0.43,
          0,
          0.27,
          0.41,
          0.5,
          0.07,
          0.07,
          0.07,
          0.12,
          0,
          0.34,
          0,
          0.35,
          0,
          0.33,
          0,
          0.34,
          0.07,
          0.35,
          0.43,
          0.45,
          0.15,
          0.24,
          0.3,
          0.32,
          0.11,
          0.3,
          0.23,
          0.43,
          0.12,
          0.45,
          0.42,
          0.47,
          0.23,
          0.25,
          0.35,
          0.25,
          0.51,
          0.18,
          0.42,
          0.24,
          0.39,
          0.27,
          0.29,
          0.34,
          0.46,
          0.31,
          0.31,
          0,
          0.03,
          0,
          0.33,
          0.43,
          0.07,
          0.23,
          0.23,
          0.05,
          0.57,
          0,
          0.37,
          0.12,
          0.22,
          0.21,
          0.26,
          0.23,
          0.21,
          0.36,
          0.39,
          0.19,
          0.46,
          0.46,
          0.55,
          0.46,
          0.43,
          0.02,
          0.02,
          0.46,
          0.31,
          0.4,
          0.52,
          0.52,
          0.49,
          0.23,
          0.03,
          0.25,
          0,
          0.29,
          0.34,
          0.01,
          0.29,
          0.01,
          0,
          0.01,
          0,
          0,
          0.2,
          0.22,
          0.19,
          0.07,
          0.01,
          0.14,
          0,
          0,
          0.06,
          0.22,
          0.28,
          0,
          0.68,
          0,
          0.38,
          0.32,
          0.05,
          0.05,
          0.5,
          0.31,
          0.01,
          0.2,
          0,
          0.2,
          0.13,
          0.22,
          0.4,
          0,
          0.22,
          0.39,
          0.2,
          0.2,
          0,
          0.28,
          0.19,
          0.5,
          0.3,
          0.3,
          0,
          0.1,
          0.13,
          0,
          0.14,
          0,
          0,
          0,
          0.07,
          0.32,
          0.21,
          0.26,
          0.32,
          0.1,
          0.15,
          0.21,
          0.27,
          0,
          0.68,
          0,
          0.42,
          0.24,
          0.24,
          0.24,
          0.24,
          0.11,
          0.26,
          0.26,
          0.26,
          0.1,
          0.22,
          0,
          0.02,
          0,
          0,
          0,
          0.02,
          0.02,
          0.02,
          0.02,
          0.48,
          0.24,
          0.01,
          0.03,
          0.01,
          0.03,
          0.25,
          0.25,
          0.24,
          0.17,
          0.4,
          0.14,
          0.4,
          0.02,
          0.08,
          0.3,
          0.32,
          0.51,
          0.56,
          0.51,
          0.2,
          0.15,
          0.02,
          0.02,
          0.22,
          0.22,
          0.15,
          0.25,
          0.07,
          0.31,
          0,
          0.22,
          0.06,
          0.25,
          0.1,
          0.1,
          0.26,
          0,
          0.21,
          0.42,
          0.33,
          0.39,
          0.34,
          0,
          0.36,
          0,
          0,
          0.4,
          0.34,
          0.25,
          0.59,
          0,
          0.59,
          0.33,
          0.01,
          0.21,
          0.01,
          0.18,
          0,
          0.09,
          0.33,
          0,
          0.4,
          0.24,
          0.31,
          0.16,
          0.37,
          0.38,
          0.29,
          0,
          0.02,
          0.2,
          0.19,
          0,
          0.31,
          0.32,
          0.44,
          0.02,
          0.63,
          0,
          0.33,
          0.4,
          0.35,
          0.09,
          0,
          0.01,
          0.1,
          0.32,
          0.08,
          0.32,
          0.05,
          0.11,
          0.08,
          0.6,
          0.08,
          0.5,
          0.11,
          0.5,
          0.11,
          0.05,
          0.6,
          0.03,
          0.6,
          0.44,
          0.16,
          0.21,
          0.05,
          0.04,
          0.49,
          0.06,
          0.26,
          0.09,
          0.02,
          0.03,
          0.03,
          0.29,
          0.39,
          0.57,
          0.02,
          0.05,
          0.57,
          0.6,
          0.4,
          0.21,
          0.04,
          0.21,
          0.21,
          0.06,
          0.46,
          0.08,
          0.25,
          0.25,
          0.08,
          0.08,
          0.49,
          0.08,
          0.09,
          0.1,
          0.13,
          0.3,
          0.14,
          0.13,
          0.09,
          0.08,
          0.43,
          0.33,
          0.02,
          0.5,
          0.3,
          0,
          0.01,
          0,
          0.17,
          0.04,
          0.02,
          0.33,
          0.26,
          0.26,
          0.26,
          0.13,
          0.13,
          0.02,
          0.64,
          0.13,
          0.13,
          0.14,
          0.53,
          0.14,
          0.32,
          0.2,
          0.4,
          0.63,
          0.15,
          0.15,
          0.33,
          0.1,
          0.29,
          0.44,
          0.41,
          0.11,
          0.15,
          0.09,
          0.13,
          0.08,
          0.08,
          0.1,
          0.12
         ],
         "xaxis": "x",
         "yaxis": "y"
        }
       ],
       "layout": {
        "barmode": "relative",
        "legend": {
         "tracegroupgap": 0
        },
        "template": {
         "data": {
          "bar": [
           {
            "error_x": {
             "color": "#2a3f5f"
            },
            "error_y": {
             "color": "#2a3f5f"
            },
            "marker": {
             "line": {
              "color": "#E5ECF6",
              "width": 0.5
             },
             "pattern": {
              "fillmode": "overlay",
              "size": 10,
              "solidity": 0.2
             }
            },
            "type": "bar"
           }
          ],
          "barpolar": [
           {
            "marker": {
             "line": {
              "color": "#E5ECF6",
              "width": 0.5
             },
             "pattern": {
              "fillmode": "overlay",
              "size": 10,
              "solidity": 0.2
             }
            },
            "type": "barpolar"
           }
          ],
          "carpet": [
           {
            "aaxis": {
             "endlinecolor": "#2a3f5f",
             "gridcolor": "white",
             "linecolor": "white",
             "minorgridcolor": "white",
             "startlinecolor": "#2a3f5f"
            },
            "baxis": {
             "endlinecolor": "#2a3f5f",
             "gridcolor": "white",
             "linecolor": "white",
             "minorgridcolor": "white",
             "startlinecolor": "#2a3f5f"
            },
            "type": "carpet"
           }
          ],
          "choropleth": [
           {
            "colorbar": {
             "outlinewidth": 0,
             "ticks": ""
            },
            "type": "choropleth"
           }
          ],
          "contour": [
           {
            "colorbar": {
             "outlinewidth": 0,
             "ticks": ""
            },
            "colorscale": [
             [
              0,
              "#0d0887"
             ],
             [
              0.1111111111111111,
              "#46039f"
             ],
             [
              0.2222222222222222,
              "#7201a8"
             ],
             [
              0.3333333333333333,
              "#9c179e"
             ],
             [
              0.4444444444444444,
              "#bd3786"
             ],
             [
              0.5555555555555556,
              "#d8576b"
             ],
             [
              0.6666666666666666,
              "#ed7953"
             ],
             [
              0.7777777777777778,
              "#fb9f3a"
             ],
             [
              0.8888888888888888,
              "#fdca26"
             ],
             [
              1,
              "#f0f921"
             ]
            ],
            "type": "contour"
           }
          ],
          "contourcarpet": [
           {
            "colorbar": {
             "outlinewidth": 0,
             "ticks": ""
            },
            "type": "contourcarpet"
           }
          ],
          "heatmap": [
           {
            "colorbar": {
             "outlinewidth": 0,
             "ticks": ""
            },
            "colorscale": [
             [
              0,
              "#0d0887"
             ],
             [
              0.1111111111111111,
              "#46039f"
             ],
             [
              0.2222222222222222,
              "#7201a8"
             ],
             [
              0.3333333333333333,
              "#9c179e"
             ],
             [
              0.4444444444444444,
              "#bd3786"
             ],
             [
              0.5555555555555556,
              "#d8576b"
             ],
             [
              0.6666666666666666,
              "#ed7953"
             ],
             [
              0.7777777777777778,
              "#fb9f3a"
             ],
             [
              0.8888888888888888,
              "#fdca26"
             ],
             [
              1,
              "#f0f921"
             ]
            ],
            "type": "heatmap"
           }
          ],
          "heatmapgl": [
           {
            "colorbar": {
             "outlinewidth": 0,
             "ticks": ""
            },
            "colorscale": [
             [
              0,
              "#0d0887"
             ],
             [
              0.1111111111111111,
              "#46039f"
             ],
             [
              0.2222222222222222,
              "#7201a8"
             ],
             [
              0.3333333333333333,
              "#9c179e"
             ],
             [
              0.4444444444444444,
              "#bd3786"
             ],
             [
              0.5555555555555556,
              "#d8576b"
             ],
             [
              0.6666666666666666,
              "#ed7953"
             ],
             [
              0.7777777777777778,
              "#fb9f3a"
             ],
             [
              0.8888888888888888,
              "#fdca26"
             ],
             [
              1,
              "#f0f921"
             ]
            ],
            "type": "heatmapgl"
           }
          ],
          "histogram": [
           {
            "marker": {
             "pattern": {
              "fillmode": "overlay",
              "size": 10,
              "solidity": 0.2
             }
            },
            "type": "histogram"
           }
          ],
          "histogram2d": [
           {
            "colorbar": {
             "outlinewidth": 0,
             "ticks": ""
            },
            "colorscale": [
             [
              0,
              "#0d0887"
             ],
             [
              0.1111111111111111,
              "#46039f"
             ],
             [
              0.2222222222222222,
              "#7201a8"
             ],
             [
              0.3333333333333333,
              "#9c179e"
             ],
             [
              0.4444444444444444,
              "#bd3786"
             ],
             [
              0.5555555555555556,
              "#d8576b"
             ],
             [
              0.6666666666666666,
              "#ed7953"
             ],
             [
              0.7777777777777778,
              "#fb9f3a"
             ],
             [
              0.8888888888888888,
              "#fdca26"
             ],
             [
              1,
              "#f0f921"
             ]
            ],
            "type": "histogram2d"
           }
          ],
          "histogram2dcontour": [
           {
            "colorbar": {
             "outlinewidth": 0,
             "ticks": ""
            },
            "colorscale": [
             [
              0,
              "#0d0887"
             ],
             [
              0.1111111111111111,
              "#46039f"
             ],
             [
              0.2222222222222222,
              "#7201a8"
             ],
             [
              0.3333333333333333,
              "#9c179e"
             ],
             [
              0.4444444444444444,
              "#bd3786"
             ],
             [
              0.5555555555555556,
              "#d8576b"
             ],
             [
              0.6666666666666666,
              "#ed7953"
             ],
             [
              0.7777777777777778,
              "#fb9f3a"
             ],
             [
              0.8888888888888888,
              "#fdca26"
             ],
             [
              1,
              "#f0f921"
             ]
            ],
            "type": "histogram2dcontour"
           }
          ],
          "mesh3d": [
           {
            "colorbar": {
             "outlinewidth": 0,
             "ticks": ""
            },
            "type": "mesh3d"
           }
          ],
          "parcoords": [
           {
            "line": {
             "colorbar": {
              "outlinewidth": 0,
              "ticks": ""
             }
            },
            "type": "parcoords"
           }
          ],
          "pie": [
           {
            "automargin": true,
            "type": "pie"
           }
          ],
          "scatter": [
           {
            "fillpattern": {
             "fillmode": "overlay",
             "size": 10,
             "solidity": 0.2
            },
            "type": "scatter"
           }
          ],
          "scatter3d": [
           {
            "line": {
             "colorbar": {
              "outlinewidth": 0,
              "ticks": ""
             }
            },
            "marker": {
             "colorbar": {
              "outlinewidth": 0,
              "ticks": ""
             }
            },
            "type": "scatter3d"
           }
          ],
          "scattercarpet": [
           {
            "marker": {
             "colorbar": {
              "outlinewidth": 0,
              "ticks": ""
             }
            },
            "type": "scattercarpet"
           }
          ],
          "scattergeo": [
           {
            "marker": {
             "colorbar": {
              "outlinewidth": 0,
              "ticks": ""
             }
            },
            "type": "scattergeo"
           }
          ],
          "scattergl": [
           {
            "marker": {
             "colorbar": {
              "outlinewidth": 0,
              "ticks": ""
             }
            },
            "type": "scattergl"
           }
          ],
          "scattermapbox": [
           {
            "marker": {
             "colorbar": {
              "outlinewidth": 0,
              "ticks": ""
             }
            },
            "type": "scattermapbox"
           }
          ],
          "scatterpolar": [
           {
            "marker": {
             "colorbar": {
              "outlinewidth": 0,
              "ticks": ""
             }
            },
            "type": "scatterpolar"
           }
          ],
          "scatterpolargl": [
           {
            "marker": {
             "colorbar": {
              "outlinewidth": 0,
              "ticks": ""
             }
            },
            "type": "scatterpolargl"
           }
          ],
          "scatterternary": [
           {
            "marker": {
             "colorbar": {
              "outlinewidth": 0,
              "ticks": ""
             }
            },
            "type": "scatterternary"
           }
          ],
          "surface": [
           {
            "colorbar": {
             "outlinewidth": 0,
             "ticks": ""
            },
            "colorscale": [
             [
              0,
              "#0d0887"
             ],
             [
              0.1111111111111111,
              "#46039f"
             ],
             [
              0.2222222222222222,
              "#7201a8"
             ],
             [
              0.3333333333333333,
              "#9c179e"
             ],
             [
              0.4444444444444444,
              "#bd3786"
             ],
             [
              0.5555555555555556,
              "#d8576b"
             ],
             [
              0.6666666666666666,
              "#ed7953"
             ],
             [
              0.7777777777777778,
              "#fb9f3a"
             ],
             [
              0.8888888888888888,
              "#fdca26"
             ],
             [
              1,
              "#f0f921"
             ]
            ],
            "type": "surface"
           }
          ],
          "table": [
           {
            "cells": {
             "fill": {
              "color": "#EBF0F8"
             },
             "line": {
              "color": "white"
             }
            },
            "header": {
             "fill": {
              "color": "#C8D4E3"
             },
             "line": {
              "color": "white"
             }
            },
            "type": "table"
           }
          ]
         },
         "layout": {
          "annotationdefaults": {
           "arrowcolor": "#2a3f5f",
           "arrowhead": 0,
           "arrowwidth": 1
          },
          "autotypenumbers": "strict",
          "coloraxis": {
           "colorbar": {
            "outlinewidth": 0,
            "ticks": ""
           }
          },
          "colorscale": {
           "diverging": [
            [
             0,
             "#8e0152"
            ],
            [
             0.1,
             "#c51b7d"
            ],
            [
             0.2,
             "#de77ae"
            ],
            [
             0.3,
             "#f1b6da"
            ],
            [
             0.4,
             "#fde0ef"
            ],
            [
             0.5,
             "#f7f7f7"
            ],
            [
             0.6,
             "#e6f5d0"
            ],
            [
             0.7,
             "#b8e186"
            ],
            [
             0.8,
             "#7fbc41"
            ],
            [
             0.9,
             "#4d9221"
            ],
            [
             1,
             "#276419"
            ]
           ],
           "sequential": [
            [
             0,
             "#0d0887"
            ],
            [
             0.1111111111111111,
             "#46039f"
            ],
            [
             0.2222222222222222,
             "#7201a8"
            ],
            [
             0.3333333333333333,
             "#9c179e"
            ],
            [
             0.4444444444444444,
             "#bd3786"
            ],
            [
             0.5555555555555556,
             "#d8576b"
            ],
            [
             0.6666666666666666,
             "#ed7953"
            ],
            [
             0.7777777777777778,
             "#fb9f3a"
            ],
            [
             0.8888888888888888,
             "#fdca26"
            ],
            [
             1,
             "#f0f921"
            ]
           ],
           "sequentialminus": [
            [
             0,
             "#0d0887"
            ],
            [
             0.1111111111111111,
             "#46039f"
            ],
            [
             0.2222222222222222,
             "#7201a8"
            ],
            [
             0.3333333333333333,
             "#9c179e"
            ],
            [
             0.4444444444444444,
             "#bd3786"
            ],
            [
             0.5555555555555556,
             "#d8576b"
            ],
            [
             0.6666666666666666,
             "#ed7953"
            ],
            [
             0.7777777777777778,
             "#fb9f3a"
            ],
            [
             0.8888888888888888,
             "#fdca26"
            ],
            [
             1,
             "#f0f921"
            ]
           ]
          },
          "colorway": [
           "#636efa",
           "#EF553B",
           "#00cc96",
           "#ab63fa",
           "#FFA15A",
           "#19d3f3",
           "#FF6692",
           "#B6E880",
           "#FF97FF",
           "#FECB52"
          ],
          "font": {
           "color": "#2a3f5f"
          },
          "geo": {
           "bgcolor": "white",
           "lakecolor": "white",
           "landcolor": "#E5ECF6",
           "showlakes": true,
           "showland": true,
           "subunitcolor": "white"
          },
          "hoverlabel": {
           "align": "left"
          },
          "hovermode": "closest",
          "mapbox": {
           "style": "light"
          },
          "paper_bgcolor": "white",
          "plot_bgcolor": "#E5ECF6",
          "polar": {
           "angularaxis": {
            "gridcolor": "white",
            "linecolor": "white",
            "ticks": ""
           },
           "bgcolor": "#E5ECF6",
           "radialaxis": {
            "gridcolor": "white",
            "linecolor": "white",
            "ticks": ""
           }
          },
          "scene": {
           "xaxis": {
            "backgroundcolor": "#E5ECF6",
            "gridcolor": "white",
            "gridwidth": 2,
            "linecolor": "white",
            "showbackground": true,
            "ticks": "",
            "zerolinecolor": "white"
           },
           "yaxis": {
            "backgroundcolor": "#E5ECF6",
            "gridcolor": "white",
            "gridwidth": 2,
            "linecolor": "white",
            "showbackground": true,
            "ticks": "",
            "zerolinecolor": "white"
           },
           "zaxis": {
            "backgroundcolor": "#E5ECF6",
            "gridcolor": "white",
            "gridwidth": 2,
            "linecolor": "white",
            "showbackground": true,
            "ticks": "",
            "zerolinecolor": "white"
           }
          },
          "shapedefaults": {
           "line": {
            "color": "#2a3f5f"
           }
          },
          "ternary": {
           "aaxis": {
            "gridcolor": "white",
            "linecolor": "white",
            "ticks": ""
           },
           "baxis": {
            "gridcolor": "white",
            "linecolor": "white",
            "ticks": ""
           },
           "bgcolor": "#E5ECF6",
           "caxis": {
            "gridcolor": "white",
            "linecolor": "white",
            "ticks": ""
           }
          },
          "title": {
           "x": 0.05
          },
          "xaxis": {
           "automargin": true,
           "gridcolor": "white",
           "linecolor": "white",
           "ticks": "",
           "title": {
            "standoff": 15
           },
           "zerolinecolor": "white",
           "zerolinewidth": 2
          },
          "yaxis": {
           "automargin": true,
           "gridcolor": "white",
           "linecolor": "white",
           "ticks": "",
           "title": {
            "standoff": 15
           },
           "zerolinecolor": "white",
           "zerolinewidth": 2
          }
         }
        },
        "title": {
         "text": "Distribution of citric acid"
        },
        "xaxis": {
         "anchor": "y",
         "domain": [
          0,
          1
         ],
         "title": {
          "text": "citric acid"
         }
        },
        "yaxis": {
         "anchor": "x",
         "domain": [
          0,
          1
         ],
         "title": {
          "text": "count"
         }
        }
       }
      }
     },
     "metadata": {},
     "output_type": "display_data"
    },
    {
     "name": "stdout",
     "output_type": "stream",
     "text": [
      "Value counts for citric acid:\n",
      "citric acid\n",
      "0.00    99\n",
      "0.49    47\n",
      "0.24    42\n",
      "0.02    35\n",
      "0.01    26\n",
      "        ..\n",
      "0.61     1\n",
      "0.72     1\n",
      "1.00     1\n",
      "0.75     1\n",
      "0.62     1\n",
      "Name: count, Length: 77, dtype: int64\n",
      "\n"
     ]
    },
    {
     "data": {
      "application/vnd.plotly.v1+json": {
       "config": {
        "plotlyServerURL": "https://plot.ly"
       },
       "data": [
        {
         "alignmentgroup": "True",
         "bingroup": "x",
         "hovertemplate": "residual sugar=%{x}<br>count=%{y}<extra></extra>",
         "legendgroup": "",
         "marker": {
          "color": "#636efa",
          "pattern": {
           "shape": ""
          }
         },
         "name": "",
         "nbinsx": 30,
         "offsetgroup": "",
         "orientation": "v",
         "showlegend": false,
         "type": "histogram",
         "x": [
          1.9,
          2.6,
          2.3,
          1.9,
          1.9,
          1.8,
          1.6,
          1.2,
          2,
          1.8,
          1.6,
          1.6,
          1.8,
          1.8,
          2.3,
          1.6,
          2.3,
          2.4,
          1.4,
          1.8,
          1.9,
          2,
          2.4,
          2.3,
          1.8,
          5.5,
          2.4,
          2.1,
          5.9,
          2.8,
          2.6,
          2.2,
          2.1,
          2.2,
          1.7,
          2.2,
          2.1,
          3,
          2.8,
          3.4,
          2.3,
          2.4,
          2.2,
          1.8,
          2,
          4.65,
          4.65,
          1.6,
          1.9,
          1.9,
          2.1,
          2.2,
          2.4,
          2,
          1.5,
          1.6,
          2,
          1.8,
          2.2,
          1.9,
          1.9,
          2.1,
          1.8,
          1.9,
          1.9,
          1.9,
          1.4,
          3,
          2.5,
          1.9,
          2.1,
          1.9,
          2.1,
          2.2,
          2.1,
          1.7,
          1.7,
          1.8,
          2.2,
          2.3,
          1.8,
          2.2,
          1.9,
          1.7,
          2.2,
          2.5,
          1.6,
          1.7,
          1.8,
          1.8,
          2,
          2.3,
          2.2,
          1.9,
          2,
          1.9,
          1.8,
          1.7,
          1.8,
          1.8,
          1.8,
          2.3,
          2.1,
          3.4,
          1.8,
          1.8,
          5.5,
          5.5,
          5.5,
          2.2,
          1.9,
          2,
          1.3,
          1.7,
          7.3,
          7.2,
          1.7,
          2.1,
          1.6,
          2.1,
          1.8,
          2,
          1.9,
          1.5,
          2,
          2.3,
          2.5,
          2.4,
          2.4,
          2,
          2.5,
          1.8,
          1.9,
          2,
          2,
          2,
          2.9,
          1.9,
          2.2,
          2.2,
          2.4,
          2,
          2.1,
          1.4,
          1.6,
          2.6,
          2.6,
          2.7,
          2,
          2.8,
          2.2,
          2.4,
          5.6,
          2,
          2.2,
          1.9,
          2,
          2,
          1.5,
          2,
          2.6,
          2,
          1.6,
          1.8,
          2.8,
          2.3,
          1.9,
          1.7,
          2.1,
          1.8,
          2.2,
          2.2,
          2,
          1.9,
          2,
          1.6,
          1.8,
          3.1,
          1.9,
          3.2,
          2.2,
          2.1,
          1.8,
          2.6,
          1.7,
          2,
          1.7,
          1.8,
          2.4,
          3.3,
          3.6,
          3,
          4,
          4,
          4,
          3,
          4,
          6.4,
          5.6,
          3.6,
          3.5,
          5.6,
          3.4,
          3.4,
          2,
          3,
          2.5,
          3.3,
          2.5,
          2.7,
          2.4,
          3.2,
          2.5,
          2.6,
          2,
          2.3,
          2.6,
          1.5,
          2.6,
          2.1,
          2.2,
          2.4,
          2.4,
          2,
          2.8,
          3,
          2.6,
          3.2,
          2.9,
          3.4,
          11,
          11,
          3.65,
          4.5,
          2.6,
          2.1,
          2.5,
          3.4,
          1.9,
          2.8,
          2.3,
          1.8,
          1.8,
          2.6,
          3,
          2.8,
          2.6,
          2.4,
          4.8,
          1.4,
          2.4,
          3,
          2.95,
          3.1,
          2.6,
          2,
          2.6,
          2.5,
          2,
          5.8,
          5.8,
          2.6,
          2.4,
          1.6,
          1.8,
          3,
          2.4,
          6.2,
          2,
          2.1,
          1.9,
          1.4,
          2.9,
          2,
          4.2,
          7.9,
          2.6,
          2.3,
          7.9,
          2.6,
          2.7,
          2.7,
          2.5,
          3,
          4.5,
          2.5,
          1.9,
          6.7,
          2.7,
          6.6,
          2.2,
          1.9,
          2,
          1.8,
          2.3,
          2,
          2.1,
          2.3,
          2.1,
          1.9,
          1.3,
          2.4,
          2.1,
          2.2,
          2.3,
          3.2,
          2.3,
          2,
          3.2,
          1.5,
          2.2,
          3.7,
          1.7,
          2.6,
          2.1,
          2,
          2.8,
          2.8,
          1.7,
          2.8,
          1.6,
          5.2,
          2.3,
          2.7,
          2.2,
          2.3,
          2.6,
          2.1,
          2,
          2.6,
          2.1,
          1.2,
          2.6,
          2.4,
          2.6,
          2.2,
          2,
          1.8,
          2.7,
          15.5,
          2.8,
          2.2,
          1.9,
          1.8,
          2.6,
          2.5,
          2.6,
          3,
          8.3,
          2.6,
          1.9,
          2.5,
          2.6,
          3,
          1.9,
          6.55,
          6.55,
          1.8,
          2.9,
          1.8,
          2.3,
          2.8,
          2.2,
          2.1,
          2.4,
          2.4,
          6.1,
          4.3,
          2.1,
          2.7,
          2.5,
          2.4,
          2.5,
          2.4,
          2.1,
          2.7,
          2.7,
          2.1,
          2.7,
          2.1,
          2.4,
          2.1,
          5.8,
          5.15,
          3.3,
          6.3,
          2.1,
          2.5,
          1.8,
          2.6,
          2,
          2.5,
          2.6,
          2.1,
          2.8,
          2.7,
          1.6,
          4.2,
          4.6,
          4.2,
          4.3,
          2.8,
          2.9,
          2.7,
          4.3,
          2.8,
          2.5,
          2.6,
          2.2,
          3.3,
          2.4,
          2.3,
          2.8,
          2.9,
          2.2,
          2.2,
          2.2,
          1.9,
          1.9,
          2,
          2.6,
          1.7,
          2.6,
          3.5,
          7.9,
          2,
          2.1,
          2.6,
          2.9,
          3.3,
          5.1,
          3.2,
          2.5,
          2.7,
          2.4,
          2.3,
          2.2,
          2.3,
          3.4,
          3.4,
          1.9,
          5.6,
          2.2,
          2.2,
          2.5,
          2.3,
          2.5,
          2.7,
          3,
          3.4,
          1.9,
          1.4,
          2.4,
          2.3,
          1.9,
          2.3,
          2.3,
          2.3,
          2.2,
          2.8,
          8.6,
          2.2,
          7.5,
          2.8,
          2.4,
          2.9,
          2.2,
          1.4,
          1.4,
          1.4,
          1.6,
          1.6,
          2,
          1.8,
          2,
          2,
          1.7,
          1.7,
          2.2,
          2.3,
          2.6,
          3.3,
          2.2,
          2.25,
          2.6,
          2.3,
          2.6,
          1.6,
          1.8,
          2.6,
          2,
          2.8,
          2.7,
          1.3,
          2.1,
          3.2,
          2.1,
          2.9,
          2.1,
          2.1,
          2.6,
          1.6,
          6,
          2,
          3,
          2.5,
          2.8,
          3,
          2.6,
          2.6,
          2,
          3.9,
          2,
          2.85,
          2.2,
          3,
          2.8,
          1.8,
          1.8,
          3.2,
          2.3,
          3.45,
          2.1,
          2.7,
          2,
          2.1,
          2.5,
          2.4,
          4.2,
          2.6,
          2.7,
          2.1,
          2.5,
          2.1,
          2.1,
          2.9,
          2.5,
          2.9,
          1.7,
          1.9,
          2,
          2.2,
          2.2,
          2.5,
          2.8,
          2,
          1.7,
          2.8,
          3,
          2.9,
          2.3,
          1.9,
          2.3,
          2.4,
          2.3,
          1.8,
          3,
          2.4,
          3.4,
          2.6,
          2,
          2.4,
          2.5,
          2.3,
          2.2,
          2.2,
          2.9,
          2.6,
          2.9,
          2.5,
          2.6,
          2.3,
          2.6,
          2.5,
          1.6,
          3.6,
          3.3,
          1.7,
          2.5,
          2.7,
          2,
          1.9,
          2.8,
          2.6,
          2.8,
          2.1,
          2.8,
          3.2,
          1.9,
          2.1,
          2,
          2.8,
          2.3,
          2.8,
          2.5,
          2.1,
          1.6,
          2.4,
          2.4,
          1.6,
          3,
          2.6,
          2,
          1.8,
          1.8,
          1.8,
          1.9,
          1.9,
          1.5,
          1.5,
          1.5,
          2.5,
          1.7,
          2.7,
          2.7,
          2.5,
          2.6,
          1.5,
          2,
          2.8,
          2.1,
          2.1,
          3.1,
          4,
          2.5,
          2.4,
          2.5,
          6.6,
          2.3,
          1.9,
          2.3,
          2.2,
          2.3,
          2.4,
          2.3,
          2.4,
          2.6,
          2.4,
          2.4,
          6,
          2.6,
          2.2,
          2.4,
          3.8,
          9,
          2.9,
          2.2,
          1.5,
          8.8,
          2.2,
          1.8,
          2.3,
          1.8,
          2.3,
          1.9,
          2.3,
          2.2,
          2.3,
          3.3,
          2,
          1.9,
          1.9,
          2.3,
          1.6,
          5,
          2.6,
          3.8,
          4.1,
          2.1,
          1.8,
          1.8,
          2.1,
          2.2,
          2.1,
          1.9,
          2.1,
          2.3,
          1.9,
          1.6,
          2.1,
          1.9,
          2.1,
          2.4,
          1.9,
          5.9,
          2.1,
          2.6,
          3.6,
          1.9,
          1.9,
          2.1,
          1.9,
          2,
          1.6,
          1.7,
          1.5,
          1.7,
          2,
          2,
          2,
          1.4,
          1.65,
          2.2,
          1.6,
          1.8,
          2.05,
          2,
          3.6,
          1.7,
          2,
          2.1,
          1.6,
          2,
          2.2,
          0.9,
          1.8,
          2.4,
          2.4,
          2.1,
          2.3,
          1.8,
          2.8,
          1.9,
          2.2,
          1.8,
          4.1,
          2.5,
          2.4,
          2.5,
          6.2,
          2.2,
          1.7,
          3.3,
          1.4,
          1.7,
          1.8,
          1.7,
          1.8,
          1.4,
          2.4,
          2.3,
          2,
          4,
          3.9,
          2.4,
          4,
          1.8,
          1.8,
          1.9,
          2.4,
          2,
          2.4,
          2.4,
          2.2,
          2.8,
          1.5,
          8.1,
          2.7,
          2,
          6.4,
          8.3,
          8.3,
          1.8,
          2.4,
          1.8,
          4.7,
          1.6,
          1.5,
          1.5,
          1.9,
          2,
          2,
          2.2,
          5.5,
          5.5,
          1.5,
          2.1,
          2.1,
          2.1,
          2.2,
          2.1,
          2,
          3.3,
          2.1,
          1.4,
          2,
          1.5,
          4.3,
          2.5,
          2.5,
          2.5,
          2.1,
          2.5,
          2.5,
          1.4,
          1.7,
          2.9,
          2.7,
          1.9,
          1.8,
          5.5,
          1.7,
          1.7,
          2,
          3.7,
          2,
          1.7,
          2.5,
          2.4,
          1.8,
          2.3,
          2.5,
          1.8,
          6.2,
          2,
          2,
          2.5,
          2.2,
          2.1,
          2.2,
          1.75,
          2.1,
          2.3,
          1.7,
          2.5,
          2.8,
          2.3,
          1.6,
          2.1,
          1.7,
          1.7,
          2.2,
          5.6,
          2.1,
          2.4,
          1.65,
          1.6,
          2.1,
          2.1,
          1.8,
          4.6,
          2.3,
          2.5,
          1.8,
          1.8,
          1.5,
          2,
          2.3,
          1.5,
          1.9,
          1.8,
          5.8,
          2.1,
          2.1,
          1.7,
          2.1,
          2,
          2.1,
          2.1,
          1.9,
          2,
          1.3,
          1.8,
          1.8,
          2.5,
          2.6,
          4.1,
          2,
          1.8,
          2.1,
          2.7,
          2.6,
          2.1,
          2.2,
          1.7,
          2.2,
          2.5,
          4.3,
          1.7,
          2.4,
          1.8,
          1.7,
          2.3,
          2.2,
          1.8,
          1.4,
          1.9,
          1.8,
          4.8,
          2.7,
          1.8,
          2,
          2.5,
          1.8,
          2.3,
          2.3,
          2.3,
          2,
          1.6,
          1.6,
          1.9,
          2,
          2.1,
          2.3,
          6.3,
          1.9,
          2.3,
          1.7,
          1.9,
          1.9,
          2,
          2.7,
          2.3,
          1.8,
          4.5,
          4.5,
          1.9,
          2.1,
          2.4,
          4.3,
          2.1,
          1.4,
          2.1,
          2.15,
          2,
          2.1,
          2.3,
          1.9,
          2.5,
          1.4,
          3,
          1.9,
          2,
          1.2,
          1.7,
          1.2,
          1.8,
          1.7,
          1.7,
          1.7,
          1.7,
          1.8,
          2.1,
          2.1,
          3.8,
          1.7,
          2.2,
          2,
          2.4,
          1.4,
          1.4,
          1.4,
          1.7,
          1.7,
          1.7,
          1.7,
          2.6,
          2.3,
          2.1,
          1.8,
          2.3,
          1.9,
          1.8,
          1.8,
          2.5,
          5.4,
          1.4,
          2.5,
          1.4,
          1.9,
          1.7,
          2.2,
          2.1,
          1.7,
          3.1,
          1.7,
          1.4,
          2,
          2.6,
          2.6,
          2.1,
          2.1,
          1.8,
          3.4,
          1.8,
          6.1,
          2.3,
          2.4,
          1.3,
          2,
          1.6,
          1.6,
          2,
          2.2,
          2.1,
          2,
          1.7,
          2.6,
          5.1,
          2.1,
          2.2,
          2.1,
          1.8,
          2.4,
          5.1,
          2,
          2.2,
          1.6,
          2.2,
          2.5,
          1.6,
          2.2,
          1.6,
          1.6,
          2.1,
          3.9,
          2.5,
          1.9,
          2.2,
          1.8,
          2.1,
          1.8,
          15.4,
          1.6,
          4.8,
          1.7,
          2.2,
          1.75,
          5.2,
          1.9,
          2,
          2,
          2.7,
          2,
          2.2,
          1.6,
          1.9,
          1.7,
          1.7,
          2.3,
          2.1,
          2.4,
          1.7,
          2.1,
          2.3,
          2.1,
          2.1,
          1.4,
          3.75,
          2.6,
          1.8,
          13.8,
          2.2,
          13.8,
          2.2,
          5.7,
          3,
          1.5,
          3,
          1.5,
          2.1,
          2.1,
          1.9,
          1.7,
          1.8,
          1.6,
          1.9,
          1.4,
          1.9,
          2.3,
          2.3,
          4.3,
          2.5,
          2.3,
          1.8,
          2,
          2.3,
          2.1,
          1.8,
          2.2,
          2.1,
          4.1,
          4.1,
          2,
          2.2,
          2.6,
          2.3,
          2,
          2.1,
          2.2,
          2.2,
          2.1,
          2.2,
          2.8,
          2,
          1.9,
          2.4,
          2.2,
          2.5,
          4.4,
          2.3,
          1.8,
          2,
          2,
          1.8,
          2.3,
          3.7,
          2.2,
          1.7,
          2.2,
          2.4,
          6.7,
          2,
          2,
          2,
          2,
          2,
          1.9,
          2.1,
          2,
          1.6,
          1.9,
          2.2,
          2.2,
          2.2,
          2.4,
          2.2,
          1.6,
          5.1,
          1.8,
          2.4,
          2.6,
          2.1,
          2.4,
          2.4,
          1.8,
          1.8,
          1.7,
          2.3,
          1.9,
          2,
          2.2,
          2
         ],
         "xaxis": "x",
         "yaxis": "y"
        }
       ],
       "layout": {
        "barmode": "relative",
        "legend": {
         "tracegroupgap": 0
        },
        "template": {
         "data": {
          "bar": [
           {
            "error_x": {
             "color": "#2a3f5f"
            },
            "error_y": {
             "color": "#2a3f5f"
            },
            "marker": {
             "line": {
              "color": "#E5ECF6",
              "width": 0.5
             },
             "pattern": {
              "fillmode": "overlay",
              "size": 10,
              "solidity": 0.2
             }
            },
            "type": "bar"
           }
          ],
          "barpolar": [
           {
            "marker": {
             "line": {
              "color": "#E5ECF6",
              "width": 0.5
             },
             "pattern": {
              "fillmode": "overlay",
              "size": 10,
              "solidity": 0.2
             }
            },
            "type": "barpolar"
           }
          ],
          "carpet": [
           {
            "aaxis": {
             "endlinecolor": "#2a3f5f",
             "gridcolor": "white",
             "linecolor": "white",
             "minorgridcolor": "white",
             "startlinecolor": "#2a3f5f"
            },
            "baxis": {
             "endlinecolor": "#2a3f5f",
             "gridcolor": "white",
             "linecolor": "white",
             "minorgridcolor": "white",
             "startlinecolor": "#2a3f5f"
            },
            "type": "carpet"
           }
          ],
          "choropleth": [
           {
            "colorbar": {
             "outlinewidth": 0,
             "ticks": ""
            },
            "type": "choropleth"
           }
          ],
          "contour": [
           {
            "colorbar": {
             "outlinewidth": 0,
             "ticks": ""
            },
            "colorscale": [
             [
              0,
              "#0d0887"
             ],
             [
              0.1111111111111111,
              "#46039f"
             ],
             [
              0.2222222222222222,
              "#7201a8"
             ],
             [
              0.3333333333333333,
              "#9c179e"
             ],
             [
              0.4444444444444444,
              "#bd3786"
             ],
             [
              0.5555555555555556,
              "#d8576b"
             ],
             [
              0.6666666666666666,
              "#ed7953"
             ],
             [
              0.7777777777777778,
              "#fb9f3a"
             ],
             [
              0.8888888888888888,
              "#fdca26"
             ],
             [
              1,
              "#f0f921"
             ]
            ],
            "type": "contour"
           }
          ],
          "contourcarpet": [
           {
            "colorbar": {
             "outlinewidth": 0,
             "ticks": ""
            },
            "type": "contourcarpet"
           }
          ],
          "heatmap": [
           {
            "colorbar": {
             "outlinewidth": 0,
             "ticks": ""
            },
            "colorscale": [
             [
              0,
              "#0d0887"
             ],
             [
              0.1111111111111111,
              "#46039f"
             ],
             [
              0.2222222222222222,
              "#7201a8"
             ],
             [
              0.3333333333333333,
              "#9c179e"
             ],
             [
              0.4444444444444444,
              "#bd3786"
             ],
             [
              0.5555555555555556,
              "#d8576b"
             ],
             [
              0.6666666666666666,
              "#ed7953"
             ],
             [
              0.7777777777777778,
              "#fb9f3a"
             ],
             [
              0.8888888888888888,
              "#fdca26"
             ],
             [
              1,
              "#f0f921"
             ]
            ],
            "type": "heatmap"
           }
          ],
          "heatmapgl": [
           {
            "colorbar": {
             "outlinewidth": 0,
             "ticks": ""
            },
            "colorscale": [
             [
              0,
              "#0d0887"
             ],
             [
              0.1111111111111111,
              "#46039f"
             ],
             [
              0.2222222222222222,
              "#7201a8"
             ],
             [
              0.3333333333333333,
              "#9c179e"
             ],
             [
              0.4444444444444444,
              "#bd3786"
             ],
             [
              0.5555555555555556,
              "#d8576b"
             ],
             [
              0.6666666666666666,
              "#ed7953"
             ],
             [
              0.7777777777777778,
              "#fb9f3a"
             ],
             [
              0.8888888888888888,
              "#fdca26"
             ],
             [
              1,
              "#f0f921"
             ]
            ],
            "type": "heatmapgl"
           }
          ],
          "histogram": [
           {
            "marker": {
             "pattern": {
              "fillmode": "overlay",
              "size": 10,
              "solidity": 0.2
             }
            },
            "type": "histogram"
           }
          ],
          "histogram2d": [
           {
            "colorbar": {
             "outlinewidth": 0,
             "ticks": ""
            },
            "colorscale": [
             [
              0,
              "#0d0887"
             ],
             [
              0.1111111111111111,
              "#46039f"
             ],
             [
              0.2222222222222222,
              "#7201a8"
             ],
             [
              0.3333333333333333,
              "#9c179e"
             ],
             [
              0.4444444444444444,
              "#bd3786"
             ],
             [
              0.5555555555555556,
              "#d8576b"
             ],
             [
              0.6666666666666666,
              "#ed7953"
             ],
             [
              0.7777777777777778,
              "#fb9f3a"
             ],
             [
              0.8888888888888888,
              "#fdca26"
             ],
             [
              1,
              "#f0f921"
             ]
            ],
            "type": "histogram2d"
           }
          ],
          "histogram2dcontour": [
           {
            "colorbar": {
             "outlinewidth": 0,
             "ticks": ""
            },
            "colorscale": [
             [
              0,
              "#0d0887"
             ],
             [
              0.1111111111111111,
              "#46039f"
             ],
             [
              0.2222222222222222,
              "#7201a8"
             ],
             [
              0.3333333333333333,
              "#9c179e"
             ],
             [
              0.4444444444444444,
              "#bd3786"
             ],
             [
              0.5555555555555556,
              "#d8576b"
             ],
             [
              0.6666666666666666,
              "#ed7953"
             ],
             [
              0.7777777777777778,
              "#fb9f3a"
             ],
             [
              0.8888888888888888,
              "#fdca26"
             ],
             [
              1,
              "#f0f921"
             ]
            ],
            "type": "histogram2dcontour"
           }
          ],
          "mesh3d": [
           {
            "colorbar": {
             "outlinewidth": 0,
             "ticks": ""
            },
            "type": "mesh3d"
           }
          ],
          "parcoords": [
           {
            "line": {
             "colorbar": {
              "outlinewidth": 0,
              "ticks": ""
             }
            },
            "type": "parcoords"
           }
          ],
          "pie": [
           {
            "automargin": true,
            "type": "pie"
           }
          ],
          "scatter": [
           {
            "fillpattern": {
             "fillmode": "overlay",
             "size": 10,
             "solidity": 0.2
            },
            "type": "scatter"
           }
          ],
          "scatter3d": [
           {
            "line": {
             "colorbar": {
              "outlinewidth": 0,
              "ticks": ""
             }
            },
            "marker": {
             "colorbar": {
              "outlinewidth": 0,
              "ticks": ""
             }
            },
            "type": "scatter3d"
           }
          ],
          "scattercarpet": [
           {
            "marker": {
             "colorbar": {
              "outlinewidth": 0,
              "ticks": ""
             }
            },
            "type": "scattercarpet"
           }
          ],
          "scattergeo": [
           {
            "marker": {
             "colorbar": {
              "outlinewidth": 0,
              "ticks": ""
             }
            },
            "type": "scattergeo"
           }
          ],
          "scattergl": [
           {
            "marker": {
             "colorbar": {
              "outlinewidth": 0,
              "ticks": ""
             }
            },
            "type": "scattergl"
           }
          ],
          "scattermapbox": [
           {
            "marker": {
             "colorbar": {
              "outlinewidth": 0,
              "ticks": ""
             }
            },
            "type": "scattermapbox"
           }
          ],
          "scatterpolar": [
           {
            "marker": {
             "colorbar": {
              "outlinewidth": 0,
              "ticks": ""
             }
            },
            "type": "scatterpolar"
           }
          ],
          "scatterpolargl": [
           {
            "marker": {
             "colorbar": {
              "outlinewidth": 0,
              "ticks": ""
             }
            },
            "type": "scatterpolargl"
           }
          ],
          "scatterternary": [
           {
            "marker": {
             "colorbar": {
              "outlinewidth": 0,
              "ticks": ""
             }
            },
            "type": "scatterternary"
           }
          ],
          "surface": [
           {
            "colorbar": {
             "outlinewidth": 0,
             "ticks": ""
            },
            "colorscale": [
             [
              0,
              "#0d0887"
             ],
             [
              0.1111111111111111,
              "#46039f"
             ],
             [
              0.2222222222222222,
              "#7201a8"
             ],
             [
              0.3333333333333333,
              "#9c179e"
             ],
             [
              0.4444444444444444,
              "#bd3786"
             ],
             [
              0.5555555555555556,
              "#d8576b"
             ],
             [
              0.6666666666666666,
              "#ed7953"
             ],
             [
              0.7777777777777778,
              "#fb9f3a"
             ],
             [
              0.8888888888888888,
              "#fdca26"
             ],
             [
              1,
              "#f0f921"
             ]
            ],
            "type": "surface"
           }
          ],
          "table": [
           {
            "cells": {
             "fill": {
              "color": "#EBF0F8"
             },
             "line": {
              "color": "white"
             }
            },
            "header": {
             "fill": {
              "color": "#C8D4E3"
             },
             "line": {
              "color": "white"
             }
            },
            "type": "table"
           }
          ]
         },
         "layout": {
          "annotationdefaults": {
           "arrowcolor": "#2a3f5f",
           "arrowhead": 0,
           "arrowwidth": 1
          },
          "autotypenumbers": "strict",
          "coloraxis": {
           "colorbar": {
            "outlinewidth": 0,
            "ticks": ""
           }
          },
          "colorscale": {
           "diverging": [
            [
             0,
             "#8e0152"
            ],
            [
             0.1,
             "#c51b7d"
            ],
            [
             0.2,
             "#de77ae"
            ],
            [
             0.3,
             "#f1b6da"
            ],
            [
             0.4,
             "#fde0ef"
            ],
            [
             0.5,
             "#f7f7f7"
            ],
            [
             0.6,
             "#e6f5d0"
            ],
            [
             0.7,
             "#b8e186"
            ],
            [
             0.8,
             "#7fbc41"
            ],
            [
             0.9,
             "#4d9221"
            ],
            [
             1,
             "#276419"
            ]
           ],
           "sequential": [
            [
             0,
             "#0d0887"
            ],
            [
             0.1111111111111111,
             "#46039f"
            ],
            [
             0.2222222222222222,
             "#7201a8"
            ],
            [
             0.3333333333333333,
             "#9c179e"
            ],
            [
             0.4444444444444444,
             "#bd3786"
            ],
            [
             0.5555555555555556,
             "#d8576b"
            ],
            [
             0.6666666666666666,
             "#ed7953"
            ],
            [
             0.7777777777777778,
             "#fb9f3a"
            ],
            [
             0.8888888888888888,
             "#fdca26"
            ],
            [
             1,
             "#f0f921"
            ]
           ],
           "sequentialminus": [
            [
             0,
             "#0d0887"
            ],
            [
             0.1111111111111111,
             "#46039f"
            ],
            [
             0.2222222222222222,
             "#7201a8"
            ],
            [
             0.3333333333333333,
             "#9c179e"
            ],
            [
             0.4444444444444444,
             "#bd3786"
            ],
            [
             0.5555555555555556,
             "#d8576b"
            ],
            [
             0.6666666666666666,
             "#ed7953"
            ],
            [
             0.7777777777777778,
             "#fb9f3a"
            ],
            [
             0.8888888888888888,
             "#fdca26"
            ],
            [
             1,
             "#f0f921"
            ]
           ]
          },
          "colorway": [
           "#636efa",
           "#EF553B",
           "#00cc96",
           "#ab63fa",
           "#FFA15A",
           "#19d3f3",
           "#FF6692",
           "#B6E880",
           "#FF97FF",
           "#FECB52"
          ],
          "font": {
           "color": "#2a3f5f"
          },
          "geo": {
           "bgcolor": "white",
           "lakecolor": "white",
           "landcolor": "#E5ECF6",
           "showlakes": true,
           "showland": true,
           "subunitcolor": "white"
          },
          "hoverlabel": {
           "align": "left"
          },
          "hovermode": "closest",
          "mapbox": {
           "style": "light"
          },
          "paper_bgcolor": "white",
          "plot_bgcolor": "#E5ECF6",
          "polar": {
           "angularaxis": {
            "gridcolor": "white",
            "linecolor": "white",
            "ticks": ""
           },
           "bgcolor": "#E5ECF6",
           "radialaxis": {
            "gridcolor": "white",
            "linecolor": "white",
            "ticks": ""
           }
          },
          "scene": {
           "xaxis": {
            "backgroundcolor": "#E5ECF6",
            "gridcolor": "white",
            "gridwidth": 2,
            "linecolor": "white",
            "showbackground": true,
            "ticks": "",
            "zerolinecolor": "white"
           },
           "yaxis": {
            "backgroundcolor": "#E5ECF6",
            "gridcolor": "white",
            "gridwidth": 2,
            "linecolor": "white",
            "showbackground": true,
            "ticks": "",
            "zerolinecolor": "white"
           },
           "zaxis": {
            "backgroundcolor": "#E5ECF6",
            "gridcolor": "white",
            "gridwidth": 2,
            "linecolor": "white",
            "showbackground": true,
            "ticks": "",
            "zerolinecolor": "white"
           }
          },
          "shapedefaults": {
           "line": {
            "color": "#2a3f5f"
           }
          },
          "ternary": {
           "aaxis": {
            "gridcolor": "white",
            "linecolor": "white",
            "ticks": ""
           },
           "baxis": {
            "gridcolor": "white",
            "linecolor": "white",
            "ticks": ""
           },
           "bgcolor": "#E5ECF6",
           "caxis": {
            "gridcolor": "white",
            "linecolor": "white",
            "ticks": ""
           }
          },
          "title": {
           "x": 0.05
          },
          "xaxis": {
           "automargin": true,
           "gridcolor": "white",
           "linecolor": "white",
           "ticks": "",
           "title": {
            "standoff": 15
           },
           "zerolinecolor": "white",
           "zerolinewidth": 2
          },
          "yaxis": {
           "automargin": true,
           "gridcolor": "white",
           "linecolor": "white",
           "ticks": "",
           "title": {
            "standoff": 15
           },
           "zerolinecolor": "white",
           "zerolinewidth": 2
          }
         }
        },
        "title": {
         "text": "Distribution of residual sugar"
        },
        "xaxis": {
         "anchor": "y",
         "domain": [
          0,
          1
         ],
         "title": {
          "text": "residual sugar"
         }
        },
        "yaxis": {
         "anchor": "x",
         "domain": [
          0,
          1
         ],
         "title": {
          "text": "count"
         }
        }
       }
      }
     },
     "metadata": {},
     "output_type": "display_data"
    },
    {
     "name": "stdout",
     "output_type": "stream",
     "text": [
      "Value counts for residual sugar:\n",
      "residual sugar\n",
      "2.00    107\n",
      "2.10    103\n",
      "1.80     92\n",
      "2.20     88\n",
      "1.90     80\n",
      "       ... \n",
      "7.30      1\n",
      "7.20      1\n",
      "2.95      1\n",
      "3.65      1\n",
      "4.40      1\n",
      "Name: count, Length: 80, dtype: int64\n",
      "\n"
     ]
    },
    {
     "data": {
      "application/vnd.plotly.v1+json": {
       "config": {
        "plotlyServerURL": "https://plot.ly"
       },
       "data": [
        {
         "alignmentgroup": "True",
         "bingroup": "x",
         "hovertemplate": "chlorides=%{x}<br>count=%{y}<extra></extra>",
         "legendgroup": "",
         "marker": {
          "color": "#636efa",
          "pattern": {
           "shape": ""
          }
         },
         "name": "",
         "nbinsx": 30,
         "offsetgroup": "",
         "orientation": "v",
         "showlegend": false,
         "type": "histogram",
         "x": [
          0.076,
          0.098,
          0.092,
          0.075,
          0.076,
          0.075,
          0.069,
          0.065,
          0.073,
          0.0969999999999999,
          0.089,
          0.114,
          0.092,
          0.341,
          0.0819999999999999,
          0.106,
          0.084,
          0.085,
          0.08,
          0.08,
          0.08,
          0.0819999999999999,
          0.089,
          0.083,
          0.103,
          0.086,
          0.086,
          0.066,
          0.074,
          0.088,
          0.332,
          0.069,
          0.054,
          0.114,
          0.074,
          0.069,
          0.068,
          0.081,
          0.11,
          0.07,
          0.076,
          0.074,
          0.079,
          0.115,
          0.081,
          0.086,
          0.086,
          0.076,
          0.074,
          0.084,
          0.084,
          0.093,
          0.104,
          0.086,
          0.08,
          0.069,
          0.086,
          0.069,
          0.076,
          0.11,
          0.062,
          0.107,
          0.076,
          0.079,
          0.11,
          0.062,
          0.045,
          0.102,
          0.079,
          0.08,
          0.084,
          0.08,
          0.077,
          0.07,
          0.077,
          0.467,
          0.088,
          0.104,
          0.084,
          0.08,
          0.104,
          0.09,
          0.077,
          0.178,
          0.119,
          0.075,
          0.0819999999999999,
          0.081,
          0.0819999999999999,
          0.065,
          0.118,
          0.049,
          0.084,
          0.09,
          0.081,
          0.09,
          0.05,
          0.066,
          0.05,
          0.1169999999999999,
          0.087,
          0.074,
          0.077,
          0.61,
          0.095,
          0.095,
          0.071,
          0.07,
          0.071,
          0.073,
          0.079,
          0.09,
          0.072,
          0.076,
          0.07,
          0.07,
          0.1,
          0.085,
          0.072,
          0.089,
          0.0579999999999999,
          0.073,
          0.068,
          0.085,
          0.08,
          0.087,
          0.068,
          0.067,
          0.067,
          0.27,
          0.076,
          0.077,
          0.079,
          0.111,
          0.0819999999999999,
          0.084,
          0.077,
          0.074,
          0.071,
          0.071,
          0.074,
          0.067,
          0.061,
          0.0559999999999999,
          0.089,
          0.095,
          0.095,
          0.1,
          0.039,
          0.083,
          0.06,
          0.092,
          0.06,
          0.1009999999999999,
          0.072,
          0.076,
          0.0819999999999999,
          0.1009999999999999,
          0.057,
          0.083,
          0.073,
          0.337,
          0.054,
          0.078,
          0.09,
          0.065,
          0.0969999999999999,
          0.263,
          0.093,
          0.102,
          0.075,
          0.075,
          0.084,
          0.075,
          0.084,
          0.063,
          0.074,
          0.09,
          0.092,
          0.073,
          0.075,
          0.075,
          0.611,
          0.085,
          0.077,
          0.087,
          0.07,
          0.077,
          0.064,
          0.096,
          0.078,
          0.077,
          0.104,
          0.087,
          0.087,
          0.077,
          0.104,
          0.073,
          0.087,
          0.071,
          0.358,
          0.087,
          0.102,
          0.102,
          0.073,
          0.092,
          0.091,
          0.105,
          0.091,
          0.091,
          0.098,
          0.094,
          0.073,
          0.086,
          0.083,
          0.094,
          0.086,
          0.068,
          0.092,
          0.1119999999999999,
          0.0819999999999999,
          0.213,
          0.214,
          0.072,
          0.093,
          0.076,
          0.087,
          0.083,
          0.0819999999999999,
          0.09,
          0.071,
          0.071,
          0.121,
          0.107,
          0.0819999999999999,
          0.105,
          0.078,
          0.128,
          0.052,
          0.08,
          0.0819999999999999,
          0.118,
          0.118,
          0.0819999999999999,
          0.093,
          0.089,
          0.096,
          0.09,
          0.12,
          0.066,
          0.078,
          0.08,
          0.1159999999999999,
          0.109,
          0.088,
          0.099,
          0.086,
          0.072,
          0.071,
          0.083,
          0.083,
          0.076,
          0.074,
          0.0559999999999999,
          0.067,
          0.078,
          0.074,
          0.088,
          0.08,
          0.087,
          0.088,
          0.045,
          0.085,
          0.0819999999999999,
          0.066,
          0.122,
          0.087,
          0.064,
          0.122,
          0.085,
          0.085,
          0.075,
          0.063,
          0.093,
          0.07,
          0.08,
          0.1,
          0.0969999999999999,
          0.087,
          0.1169999999999999,
          0.111,
          0.091,
          0.121,
          0.066,
          0.059,
          0.047,
          0.066,
          0.059,
          0.045,
          0.077,
          0.07,
          0.088,
          0.066,
          0.074,
          0.091,
          0.076,
          0.091,
          0.06,
          0.066,
          0.062,
          0.072,
          0.1,
          0.054,
          0.081,
          0.127,
          0.1,
          0.095,
          0.095,
          0.084,
          0.084,
          0.063,
          0.086,
          0.095,
          0.0969999999999999,
          0.074,
          0.083,
          0.087,
          0.084,
          0.069,
          0.065,
          0.09,
          0.07,
          0.093,
          0.081,
          0.083,
          0.087,
          0.091,
          0.075,
          0.077,
          0.069,
          0.08,
          0.152,
          0.054,
          0.053,
          0.073,
          0.055,
          0.052,
          0.086,
          0.051,
          0.07,
          0.081,
          0.09,
          0.07,
          0.086,
          0.081,
          0.074,
          0.074,
          0.077,
          0.072,
          0.075,
          0.084,
          0.084,
          0.09,
          0.125,
          0.107,
          0.107,
          0.122,
          0.1,
          0.2,
          0.088,
          0.085,
          0.086,
          0.0969999999999999,
          0.077,
          0.078,
          0.098,
          0.098,
          0.072,
          0.102,
          0.078,
          0.077,
          0.084,
          0.066,
          0.1,
          0.1009999999999999,
          0.064,
          0.07,
          0.085,
          0.075,
          0.094,
          0.078,
          0.067,
          0.079,
          0.074,
          0.092,
          0.092,
          0.05,
          0.095,
          0.118,
          0.095,
          0.085,
          0.075,
          0.094,
          0.092,
          0.085,
          0.075,
          0.226,
          0.25,
          0.095,
          0.07,
          0.075,
          0.103,
          0.083,
          0.085,
          0.063,
          0.089,
          0.089,
          0.074,
          0.108,
          0.06,
          0.084,
          0.07,
          0.084,
          0.094,
          0.086,
          0.059,
          0.078,
          0.081,
          0.096,
          0.092,
          0.11,
          0.075,
          0.083,
          0.081,
          0.077,
          0.079,
          0.079,
          0.088,
          0.076,
          0.078,
          0.08,
          0.124,
          0.098,
          0.098,
          0.0969999999999999,
          0.111,
          0.0969999999999999,
          0.105,
          0.087,
          0.105,
          0.073,
          0.065,
          0.086,
          0.084,
          0.067,
          0.071,
          0.071,
          0.071,
          0.07,
          0.066,
          0.068,
          0.106,
          0.096,
          0.079,
          0.074,
          0.087,
          0.106,
          0.073,
          0.074,
          0.074,
          0.08,
          0.076,
          0.084,
          0.222,
          0.0819999999999999,
          0.0819999999999999,
          0.074,
          0.074,
          0.084,
          0.084,
          0.081,
          0.06,
          0.094,
          0.078,
          0.059,
          0.078,
          0.059,
          0.039,
          0.157,
          0.087,
          0.422,
          0.084,
          0.084,
          0.034,
          0.066,
          0.087,
          0.071,
          0.076,
          0.066,
          0.067,
          0.073,
          0.078,
          0.073,
          0.093,
          0.077,
          0.068,
          0.08,
          0.093,
          0.078,
          0.079,
          0.0819999999999999,
          0.086,
          0.0819999999999999,
          0.094,
          0.053,
          0.077,
          0.084,
          0.067,
          0.067,
          0.071,
          0.387,
          0.088,
          0.092,
          0.0819999999999999,
          0.075,
          0.1119999999999999,
          0.093,
          0.088,
          0.075,
          0.078,
          0.095,
          0.07,
          0.08,
          0.071,
          0.07,
          0.089,
          0.0969999999999999,
          0.089,
          0.415,
          0.0579999999999999,
          0.057,
          0.084,
          0.084,
          0.092,
          0.075,
          0.096,
          0.069,
          0.093,
          0.091,
          0.089,
          0.0819999999999999,
          0.076,
          0.0819999999999999,
          0.0819999999999999,
          0.0819999999999999,
          0.157,
          0.102,
          0.241,
          0.079,
          0.076,
          0.19,
          0.114,
          0.077,
          0.083,
          0.079,
          0.079,
          0.099,
          0.0819999999999999,
          0.084,
          0.081,
          0.055,
          0.065,
          0.132,
          0.126,
          0.038,
          0.0819999999999999,
          0.068,
          0.044,
          0.114,
          0.084,
          0.0409999999999999,
          0.165,
          0.07,
          0.068,
          0.072,
          0.102,
          0.103,
          0.0969999999999999,
          0.099,
          0.048,
          0.076,
          0.068,
          0.05,
          0.076,
          0.0579999999999999,
          0.071,
          0.147,
          0.012,
          0.012,
          0.075,
          0.115,
          0.119,
          0.088,
          0.081,
          0.078,
          0.081,
          0.085,
          0.085,
          0.08,
          0.08,
          0.08,
          0.073,
          0.054,
          0.077,
          0.067,
          0.078,
          0.077,
          0.086,
          0.067,
          0.109,
          0.064,
          0.068,
          0.1939999999999999,
          0.094,
          0.086,
          0.083,
          0.072,
          0.1119999999999999,
          0.078,
          0.0819999999999999,
          0.078,
          0.08,
          0.08,
          0.078,
          0.08,
          0.078,
          0.0559999999999999,
          0.08,
          0.08,
          0.06,
          0.084,
          0.079,
          0.078,
          0.132,
          0.114,
          0.065,
          0.079,
          0.161,
          0.084,
          0.081,
          0.072,
          0.091,
          0.072,
          0.055,
          0.064,
          0.061,
          0.093,
          0.055,
          0.063,
          0.074,
          0.078,
          0.08,
          0.06,
          0.073,
          0.0819999999999999,
          0.092,
          0.09,
          0.092,
          0.093,
          0.075,
          0.075,
          0.093,
          0.0579999999999999,
          0.052,
          0.09,
          0.111,
          0.12,
          0.0579999999999999,
          0.078,
          0.115,
          0.0579999999999999,
          0.0969999999999999,
          0.068,
          0.066,
          0.073,
          0.083,
          0.109,
          0.061,
          0.065,
          0.079,
          0.07,
          0.065,
          0.064,
          0.08,
          0.0969999999999999,
          0.073,
          0.0969999999999999,
          0.0819999999999999,
          0.0819999999999999,
          0.079,
          0.05,
          0.055,
          0.062,
          0.081,
          0.067,
          0.063,
          0.064,
          0.11,
          0.067,
          0.088,
          0.102,
          0.092,
          0.12,
          0.068,
          0.049,
          0.078,
          0.123,
          0.123,
          0.062,
          0.098,
          0.088,
          0.095,
          0.066,
          0.065,
          0.088,
          0.095,
          0.077,
          0.085,
          0.0819999999999999,
          0.078,
          0.088,
          0.079,
          0.046,
          0.07,
          0.076,
          0.0819999999999999,
          0.081,
          0.084,
          0.414,
          0.073,
          0.07,
          0.095,
          0.1009999999999999,
          0.104,
          0.093,
          0.1009999999999999,
          0.074,
          0.071,
          0.098,
          0.075,
          0.067,
          0.083,
          0.07,
          0.06,
          0.086,
          0.057,
          0.098,
          0.088,
          0.073,
          0.08,
          0.05,
          0.05,
          0.073,
          0.072,
          0.074,
          0.055,
          0.057,
          0.095,
          0.095,
          0.083,
          0.086,
          0.081,
          0.079,
          0.1169999999999999,
          0.1169999999999999,
          0.096,
          0.072,
          0.071,
          0.071,
          0.073,
          0.048,
          0.068,
          0.09,
          0.171,
          0.07,
          0.092,
          0.0559999999999999,
          0.046,
          0.091,
          0.091,
          0.091,
          0.065,
          0.066,
          0.076,
          0.055,
          0.055,
          0.072,
          0.095,
          0.0579999999999999,
          0.075,
          0.089,
          0.061,
          0.067,
          0.08,
          0.104,
          0.079,
          0.08,
          0.08,
          0.043,
          0.065,
          0.066,
          0.076,
          0.178,
          0.071,
          0.086,
          0.061,
          0.044,
          0.118,
          0.083,
          0.118,
          0.071,
          0.042,
          0.075,
          0.078,
          0.074,
          0.067,
          0.086,
          0.062,
          0.074,
          0.079,
          0.079,
          0.095,
          0.079,
          0.0409999999999999,
          0.076,
          0.068,
          0.07,
          0.08,
          0.08,
          0.075,
          0.08,
          0.166,
          0.063,
          0.114,
          0.078,
          0.069,
          0.052,
          0.076,
          0.069,
          0.065,
          0.068,
          0.111,
          0.074,
          0.074,
          0.136,
          0.074,
          0.071,
          0.078,
          0.078,
          0.081,
          0.079,
          0.044,
          0.132,
          0.132,
          0.08,
          0.091,
          0.08,
          0.104,
          0.044,
          0.075,
          0.066,
          0.074,
          0.075,
          0.059,
          0.07,
          0.059,
          0.081,
          0.057,
          0.076,
          0.0819999999999999,
          0.0819999999999999,
          0.086,
          0.079,
          0.077,
          0.123,
          0.096,
          0.079,
          0.0819999999999999,
          0.085,
          0.123,
          0.4029999999999999,
          0.083,
          0.081,
          0.066,
          0.081,
          0.081,
          0.068,
          0.079,
          0.048,
          0.049,
          0.077,
          0.073,
          0.102,
          0.075,
          0.05,
          0.114,
          0.075,
          0.062,
          0.077,
          0.077,
          0.084,
          0.096,
          0.071,
          0.09,
          0.068,
          0.068,
          0.1,
          0.073,
          0.0559999999999999,
          0.093,
          0.064,
          0.063,
          0.1369999999999999,
          0.08,
          0.1,
          0.064,
          0.087,
          0.073,
          0.088,
          0.071,
          0.064,
          0.083,
          0.083,
          0.0409999999999999,
          0.414,
          0.0409999999999999,
          0.0579999999999999,
          0.077,
          0.077,
          0.077,
          0.077,
          0.073,
          0.083,
          0.083,
          0.107,
          0.075,
          0.079,
          0.166,
          0.069,
          0.057,
          0.057,
          0.057,
          0.084,
          0.084,
          0.084,
          0.084,
          0.077,
          0.063,
          0.0559999999999999,
          0.078,
          0.065,
          0.086,
          0.086,
          0.084,
          0.078,
          0.168,
          0.091,
          0.093,
          0.091,
          0.096,
          0.094,
          0.088,
          0.079,
          0.415,
          0.153,
          0.415,
          0.086,
          0.078,
          0.077,
          0.077,
          0.08,
          0.08,
          0.107,
          0.076,
          0.1,
          0.083,
          0.068,
          0.094,
          0.07,
          0.078,
          0.092,
          0.09,
          0.08,
          0.068,
          0.08,
          0.052,
          0.061,
          0.0819999999999999,
          0.062,
          0.064,
          0.048,
          0.064,
          0.0819999999999999,
          0.071,
          0.062,
          0.104,
          0.077,
          0.065,
          0.077,
          0.064,
          0.077,
          0.077,
          0.077,
          0.079,
          0.079,
          0.123,
          0.078,
          0.072,
          0.049,
          0.066,
          0.069,
          0.069,
          0.214,
          0.1689999999999999,
          0.07,
          0.052,
          0.072,
          0.0579999999999999,
          0.094,
          0.08,
          0.0559999999999999,
          0.062,
          0.104,
          0.062,
          0.073,
          0.052,
          0.074,
          0.067,
          0.054,
          0.054,
          0.06,
          0.076,
          0.063,
          0.062,
          0.067,
          0.062,
          0.061,
          0.084,
          0.067,
          0.073,
          0.071,
          0.205,
          0.048,
          0.205,
          0.048,
          0.0819999999999999,
          0.104,
          0.08,
          0.104,
          0.042,
          0.074,
          0.07,
          0.066,
          0.049,
          0.039,
          0.05,
          0.089,
          0.066,
          0.08,
          0.054,
          0.054,
          0.083,
          0.077,
          0.106,
          0.078,
          0.07,
          0.106,
          0.074,
          0.062,
          0.047,
          0.068,
          0.074,
          0.074,
          0.063,
          0.114,
          0.106,
          0.071,
          0.076,
          0.064,
          0.064,
          0.096,
          0.063,
          0.063,
          0.081,
          0.0579999999999999,
          0.074,
          0.064,
          0.075,
          0.081,
          0.071,
          0.063,
          0.059,
          0.072,
          0.099,
          0.074,
          0.083,
          0.103,
          0.08,
          0.065,
          0.066,
          0.062,
          0.235,
          0.08,
          0.08,
          0.08,
          0.076,
          0.076,
          0.061,
          0.059,
          0.076,
          0.077,
          0.0559999999999999,
          0.23,
          0.038,
          0.069,
          0.075,
          0.06,
          0.081,
          0.076,
          0.118,
          0.068,
          0.053,
          0.074,
          0.061,
          0.065,
          0.066,
          0.077,
          0.089,
          0.076,
          0.068,
          0.09,
          0.062,
          0.075
         ],
         "xaxis": "x",
         "yaxis": "y"
        }
       ],
       "layout": {
        "barmode": "relative",
        "legend": {
         "tracegroupgap": 0
        },
        "template": {
         "data": {
          "bar": [
           {
            "error_x": {
             "color": "#2a3f5f"
            },
            "error_y": {
             "color": "#2a3f5f"
            },
            "marker": {
             "line": {
              "color": "#E5ECF6",
              "width": 0.5
             },
             "pattern": {
              "fillmode": "overlay",
              "size": 10,
              "solidity": 0.2
             }
            },
            "type": "bar"
           }
          ],
          "barpolar": [
           {
            "marker": {
             "line": {
              "color": "#E5ECF6",
              "width": 0.5
             },
             "pattern": {
              "fillmode": "overlay",
              "size": 10,
              "solidity": 0.2
             }
            },
            "type": "barpolar"
           }
          ],
          "carpet": [
           {
            "aaxis": {
             "endlinecolor": "#2a3f5f",
             "gridcolor": "white",
             "linecolor": "white",
             "minorgridcolor": "white",
             "startlinecolor": "#2a3f5f"
            },
            "baxis": {
             "endlinecolor": "#2a3f5f",
             "gridcolor": "white",
             "linecolor": "white",
             "minorgridcolor": "white",
             "startlinecolor": "#2a3f5f"
            },
            "type": "carpet"
           }
          ],
          "choropleth": [
           {
            "colorbar": {
             "outlinewidth": 0,
             "ticks": ""
            },
            "type": "choropleth"
           }
          ],
          "contour": [
           {
            "colorbar": {
             "outlinewidth": 0,
             "ticks": ""
            },
            "colorscale": [
             [
              0,
              "#0d0887"
             ],
             [
              0.1111111111111111,
              "#46039f"
             ],
             [
              0.2222222222222222,
              "#7201a8"
             ],
             [
              0.3333333333333333,
              "#9c179e"
             ],
             [
              0.4444444444444444,
              "#bd3786"
             ],
             [
              0.5555555555555556,
              "#d8576b"
             ],
             [
              0.6666666666666666,
              "#ed7953"
             ],
             [
              0.7777777777777778,
              "#fb9f3a"
             ],
             [
              0.8888888888888888,
              "#fdca26"
             ],
             [
              1,
              "#f0f921"
             ]
            ],
            "type": "contour"
           }
          ],
          "contourcarpet": [
           {
            "colorbar": {
             "outlinewidth": 0,
             "ticks": ""
            },
            "type": "contourcarpet"
           }
          ],
          "heatmap": [
           {
            "colorbar": {
             "outlinewidth": 0,
             "ticks": ""
            },
            "colorscale": [
             [
              0,
              "#0d0887"
             ],
             [
              0.1111111111111111,
              "#46039f"
             ],
             [
              0.2222222222222222,
              "#7201a8"
             ],
             [
              0.3333333333333333,
              "#9c179e"
             ],
             [
              0.4444444444444444,
              "#bd3786"
             ],
             [
              0.5555555555555556,
              "#d8576b"
             ],
             [
              0.6666666666666666,
              "#ed7953"
             ],
             [
              0.7777777777777778,
              "#fb9f3a"
             ],
             [
              0.8888888888888888,
              "#fdca26"
             ],
             [
              1,
              "#f0f921"
             ]
            ],
            "type": "heatmap"
           }
          ],
          "heatmapgl": [
           {
            "colorbar": {
             "outlinewidth": 0,
             "ticks": ""
            },
            "colorscale": [
             [
              0,
              "#0d0887"
             ],
             [
              0.1111111111111111,
              "#46039f"
             ],
             [
              0.2222222222222222,
              "#7201a8"
             ],
             [
              0.3333333333333333,
              "#9c179e"
             ],
             [
              0.4444444444444444,
              "#bd3786"
             ],
             [
              0.5555555555555556,
              "#d8576b"
             ],
             [
              0.6666666666666666,
              "#ed7953"
             ],
             [
              0.7777777777777778,
              "#fb9f3a"
             ],
             [
              0.8888888888888888,
              "#fdca26"
             ],
             [
              1,
              "#f0f921"
             ]
            ],
            "type": "heatmapgl"
           }
          ],
          "histogram": [
           {
            "marker": {
             "pattern": {
              "fillmode": "overlay",
              "size": 10,
              "solidity": 0.2
             }
            },
            "type": "histogram"
           }
          ],
          "histogram2d": [
           {
            "colorbar": {
             "outlinewidth": 0,
             "ticks": ""
            },
            "colorscale": [
             [
              0,
              "#0d0887"
             ],
             [
              0.1111111111111111,
              "#46039f"
             ],
             [
              0.2222222222222222,
              "#7201a8"
             ],
             [
              0.3333333333333333,
              "#9c179e"
             ],
             [
              0.4444444444444444,
              "#bd3786"
             ],
             [
              0.5555555555555556,
              "#d8576b"
             ],
             [
              0.6666666666666666,
              "#ed7953"
             ],
             [
              0.7777777777777778,
              "#fb9f3a"
             ],
             [
              0.8888888888888888,
              "#fdca26"
             ],
             [
              1,
              "#f0f921"
             ]
            ],
            "type": "histogram2d"
           }
          ],
          "histogram2dcontour": [
           {
            "colorbar": {
             "outlinewidth": 0,
             "ticks": ""
            },
            "colorscale": [
             [
              0,
              "#0d0887"
             ],
             [
              0.1111111111111111,
              "#46039f"
             ],
             [
              0.2222222222222222,
              "#7201a8"
             ],
             [
              0.3333333333333333,
              "#9c179e"
             ],
             [
              0.4444444444444444,
              "#bd3786"
             ],
             [
              0.5555555555555556,
              "#d8576b"
             ],
             [
              0.6666666666666666,
              "#ed7953"
             ],
             [
              0.7777777777777778,
              "#fb9f3a"
             ],
             [
              0.8888888888888888,
              "#fdca26"
             ],
             [
              1,
              "#f0f921"
             ]
            ],
            "type": "histogram2dcontour"
           }
          ],
          "mesh3d": [
           {
            "colorbar": {
             "outlinewidth": 0,
             "ticks": ""
            },
            "type": "mesh3d"
           }
          ],
          "parcoords": [
           {
            "line": {
             "colorbar": {
              "outlinewidth": 0,
              "ticks": ""
             }
            },
            "type": "parcoords"
           }
          ],
          "pie": [
           {
            "automargin": true,
            "type": "pie"
           }
          ],
          "scatter": [
           {
            "fillpattern": {
             "fillmode": "overlay",
             "size": 10,
             "solidity": 0.2
            },
            "type": "scatter"
           }
          ],
          "scatter3d": [
           {
            "line": {
             "colorbar": {
              "outlinewidth": 0,
              "ticks": ""
             }
            },
            "marker": {
             "colorbar": {
              "outlinewidth": 0,
              "ticks": ""
             }
            },
            "type": "scatter3d"
           }
          ],
          "scattercarpet": [
           {
            "marker": {
             "colorbar": {
              "outlinewidth": 0,
              "ticks": ""
             }
            },
            "type": "scattercarpet"
           }
          ],
          "scattergeo": [
           {
            "marker": {
             "colorbar": {
              "outlinewidth": 0,
              "ticks": ""
             }
            },
            "type": "scattergeo"
           }
          ],
          "scattergl": [
           {
            "marker": {
             "colorbar": {
              "outlinewidth": 0,
              "ticks": ""
             }
            },
            "type": "scattergl"
           }
          ],
          "scattermapbox": [
           {
            "marker": {
             "colorbar": {
              "outlinewidth": 0,
              "ticks": ""
             }
            },
            "type": "scattermapbox"
           }
          ],
          "scatterpolar": [
           {
            "marker": {
             "colorbar": {
              "outlinewidth": 0,
              "ticks": ""
             }
            },
            "type": "scatterpolar"
           }
          ],
          "scatterpolargl": [
           {
            "marker": {
             "colorbar": {
              "outlinewidth": 0,
              "ticks": ""
             }
            },
            "type": "scatterpolargl"
           }
          ],
          "scatterternary": [
           {
            "marker": {
             "colorbar": {
              "outlinewidth": 0,
              "ticks": ""
             }
            },
            "type": "scatterternary"
           }
          ],
          "surface": [
           {
            "colorbar": {
             "outlinewidth": 0,
             "ticks": ""
            },
            "colorscale": [
             [
              0,
              "#0d0887"
             ],
             [
              0.1111111111111111,
              "#46039f"
             ],
             [
              0.2222222222222222,
              "#7201a8"
             ],
             [
              0.3333333333333333,
              "#9c179e"
             ],
             [
              0.4444444444444444,
              "#bd3786"
             ],
             [
              0.5555555555555556,
              "#d8576b"
             ],
             [
              0.6666666666666666,
              "#ed7953"
             ],
             [
              0.7777777777777778,
              "#fb9f3a"
             ],
             [
              0.8888888888888888,
              "#fdca26"
             ],
             [
              1,
              "#f0f921"
             ]
            ],
            "type": "surface"
           }
          ],
          "table": [
           {
            "cells": {
             "fill": {
              "color": "#EBF0F8"
             },
             "line": {
              "color": "white"
             }
            },
            "header": {
             "fill": {
              "color": "#C8D4E3"
             },
             "line": {
              "color": "white"
             }
            },
            "type": "table"
           }
          ]
         },
         "layout": {
          "annotationdefaults": {
           "arrowcolor": "#2a3f5f",
           "arrowhead": 0,
           "arrowwidth": 1
          },
          "autotypenumbers": "strict",
          "coloraxis": {
           "colorbar": {
            "outlinewidth": 0,
            "ticks": ""
           }
          },
          "colorscale": {
           "diverging": [
            [
             0,
             "#8e0152"
            ],
            [
             0.1,
             "#c51b7d"
            ],
            [
             0.2,
             "#de77ae"
            ],
            [
             0.3,
             "#f1b6da"
            ],
            [
             0.4,
             "#fde0ef"
            ],
            [
             0.5,
             "#f7f7f7"
            ],
            [
             0.6,
             "#e6f5d0"
            ],
            [
             0.7,
             "#b8e186"
            ],
            [
             0.8,
             "#7fbc41"
            ],
            [
             0.9,
             "#4d9221"
            ],
            [
             1,
             "#276419"
            ]
           ],
           "sequential": [
            [
             0,
             "#0d0887"
            ],
            [
             0.1111111111111111,
             "#46039f"
            ],
            [
             0.2222222222222222,
             "#7201a8"
            ],
            [
             0.3333333333333333,
             "#9c179e"
            ],
            [
             0.4444444444444444,
             "#bd3786"
            ],
            [
             0.5555555555555556,
             "#d8576b"
            ],
            [
             0.6666666666666666,
             "#ed7953"
            ],
            [
             0.7777777777777778,
             "#fb9f3a"
            ],
            [
             0.8888888888888888,
             "#fdca26"
            ],
            [
             1,
             "#f0f921"
            ]
           ],
           "sequentialminus": [
            [
             0,
             "#0d0887"
            ],
            [
             0.1111111111111111,
             "#46039f"
            ],
            [
             0.2222222222222222,
             "#7201a8"
            ],
            [
             0.3333333333333333,
             "#9c179e"
            ],
            [
             0.4444444444444444,
             "#bd3786"
            ],
            [
             0.5555555555555556,
             "#d8576b"
            ],
            [
             0.6666666666666666,
             "#ed7953"
            ],
            [
             0.7777777777777778,
             "#fb9f3a"
            ],
            [
             0.8888888888888888,
             "#fdca26"
            ],
            [
             1,
             "#f0f921"
            ]
           ]
          },
          "colorway": [
           "#636efa",
           "#EF553B",
           "#00cc96",
           "#ab63fa",
           "#FFA15A",
           "#19d3f3",
           "#FF6692",
           "#B6E880",
           "#FF97FF",
           "#FECB52"
          ],
          "font": {
           "color": "#2a3f5f"
          },
          "geo": {
           "bgcolor": "white",
           "lakecolor": "white",
           "landcolor": "#E5ECF6",
           "showlakes": true,
           "showland": true,
           "subunitcolor": "white"
          },
          "hoverlabel": {
           "align": "left"
          },
          "hovermode": "closest",
          "mapbox": {
           "style": "light"
          },
          "paper_bgcolor": "white",
          "plot_bgcolor": "#E5ECF6",
          "polar": {
           "angularaxis": {
            "gridcolor": "white",
            "linecolor": "white",
            "ticks": ""
           },
           "bgcolor": "#E5ECF6",
           "radialaxis": {
            "gridcolor": "white",
            "linecolor": "white",
            "ticks": ""
           }
          },
          "scene": {
           "xaxis": {
            "backgroundcolor": "#E5ECF6",
            "gridcolor": "white",
            "gridwidth": 2,
            "linecolor": "white",
            "showbackground": true,
            "ticks": "",
            "zerolinecolor": "white"
           },
           "yaxis": {
            "backgroundcolor": "#E5ECF6",
            "gridcolor": "white",
            "gridwidth": 2,
            "linecolor": "white",
            "showbackground": true,
            "ticks": "",
            "zerolinecolor": "white"
           },
           "zaxis": {
            "backgroundcolor": "#E5ECF6",
            "gridcolor": "white",
            "gridwidth": 2,
            "linecolor": "white",
            "showbackground": true,
            "ticks": "",
            "zerolinecolor": "white"
           }
          },
          "shapedefaults": {
           "line": {
            "color": "#2a3f5f"
           }
          },
          "ternary": {
           "aaxis": {
            "gridcolor": "white",
            "linecolor": "white",
            "ticks": ""
           },
           "baxis": {
            "gridcolor": "white",
            "linecolor": "white",
            "ticks": ""
           },
           "bgcolor": "#E5ECF6",
           "caxis": {
            "gridcolor": "white",
            "linecolor": "white",
            "ticks": ""
           }
          },
          "title": {
           "x": 0.05
          },
          "xaxis": {
           "automargin": true,
           "gridcolor": "white",
           "linecolor": "white",
           "ticks": "",
           "title": {
            "standoff": 15
           },
           "zerolinecolor": "white",
           "zerolinewidth": 2
          },
          "yaxis": {
           "automargin": true,
           "gridcolor": "white",
           "linecolor": "white",
           "ticks": "",
           "title": {
            "standoff": 15
           },
           "zerolinecolor": "white",
           "zerolinewidth": 2
          }
         }
        },
        "title": {
         "text": "Distribution of chlorides"
        },
        "xaxis": {
         "anchor": "y",
         "domain": [
          0,
          1
         ],
         "title": {
          "text": "chlorides"
         }
        },
        "yaxis": {
         "anchor": "x",
         "domain": [
          0,
          1
         ],
         "title": {
          "text": "count"
         }
        }
       }
      }
     },
     "metadata": {},
     "output_type": "display_data"
    },
    {
     "name": "stdout",
     "output_type": "stream",
     "text": [
      "Value counts for chlorides:\n",
      "chlorides\n",
      "0.080    48\n",
      "0.077    41\n",
      "0.074    38\n",
      "0.084    38\n",
      "0.078    36\n",
      "         ..\n",
      "0.222     1\n",
      "0.422     1\n",
      "0.034     1\n",
      "0.387     1\n",
      "0.230     1\n",
      "Name: count, Length: 131, dtype: int64\n",
      "\n"
     ]
    },
    {
     "data": {
      "application/vnd.plotly.v1+json": {
       "config": {
        "plotlyServerURL": "https://plot.ly"
       },
       "data": [
        {
         "alignmentgroup": "True",
         "bingroup": "x",
         "hovertemplate": "free sulfur dioxide=%{x}<br>count=%{y}<extra></extra>",
         "legendgroup": "",
         "marker": {
          "color": "#636efa",
          "pattern": {
           "shape": ""
          }
         },
         "name": "",
         "nbinsx": 30,
         "offsetgroup": "",
         "orientation": "v",
         "showlegend": false,
         "type": "histogram",
         "x": [
          11,
          25,
          15,
          17,
          11,
          13,
          15,
          15,
          9,
          15,
          16,
          9,
          35,
          17,
          23,
          10,
          9,
          21,
          11,
          4,
          14,
          8,
          17,
          15,
          13,
          5,
          3,
          13,
          12,
          17,
          8,
          9,
          8,
          22,
          4,
          8,
          6,
          30,
          33,
          4,
          17,
          9,
          19,
          20,
          13,
          4,
          4,
          6,
          8,
          18,
          11,
          9,
          14,
          12,
          27,
          3,
          21,
          18,
          19,
          20,
          9,
          34,
          8,
          42,
          20,
          9,
          41,
          8,
          5,
          13,
          11,
          13,
          12,
          5,
          12,
          18,
          15,
          12,
          11,
          22,
          12,
          13,
          11,
          10,
          14,
          3,
          21,
          3,
          3,
          3,
          30,
          17,
          13,
          16,
          13,
          16,
          27,
          3,
          27,
          32,
          21,
          12,
          5,
          32,
          25,
          25,
          28,
          29,
          28,
          12,
          18,
          7,
          9,
          17,
          36,
          35,
          14,
          18,
          17,
          11,
          4,
          6,
          24,
          19,
          7,
          8,
          7,
          10,
          10,
          23,
          16,
          11,
          8,
          26,
          14,
          15,
          21,
          21,
          7,
          7,
          15,
          12,
          12,
          9,
          14,
          9,
          9,
          18,
          5,
          10,
          28,
          10,
          26,
          13,
          11,
          10,
          24,
          16,
          5,
          8,
          29,
          27,
          19,
          12,
          18,
          7,
          14,
          5,
          6,
          28,
          10,
          10,
          6,
          16,
          6,
          16,
          16,
          5,
          8,
          17,
          5,
          12,
          8,
          14,
          18,
          12,
          10,
          23,
          5,
          26,
          15,
          7,
          4,
          27,
          27,
          7,
          4,
          5,
          10,
          6,
          5,
          10,
          32,
          32,
          25,
          29,
          20,
          33,
          20,
          18,
          5,
          17,
          5,
          26,
          8,
          5,
          20,
          7,
          12,
          12,
          7,
          6,
          5,
          15,
          19,
          30,
          26,
          21,
          30,
          25,
          13,
          13,
          6,
          5,
          6,
          16,
          17,
          7,
          6,
          29,
          12,
          6,
          6,
          6,
          6,
          15,
          11,
          8,
          23,
          40.5,
          17,
          29,
          12,
          10,
          10,
          14,
          21,
          6,
          6,
          7,
          7,
          11,
          6,
          11,
          26,
          19,
          6,
          6,
          11,
          23,
          23,
          12,
          17,
          6,
          7,
          68,
          13,
          9,
          68,
          19,
          10,
          15,
          9,
          12,
          26,
          26,
          15,
          6,
          24,
          31,
          6,
          34,
          7,
          34,
          32,
          15,
          6,
          32,
          19,
          6,
          9,
          13,
          6,
          21,
          6,
          22,
          6,
          38,
          6,
          7,
          6,
          6,
          5,
          31,
          6,
          7,
          17,
          17,
          18,
          5,
          21,
          6,
          5,
          29,
          10,
          14,
          6,
          5,
          21,
          7,
          6,
          36,
          15,
          25,
          25,
          5,
          6,
          6,
          6,
          6,
          6,
          7,
          6,
          5,
          10,
          12,
          13,
          23,
          28,
          5,
          14,
          43,
          5,
          23,
          14,
          38,
          38,
          6,
          10,
          6,
          6,
          23,
          26,
          15,
          6,
          6,
          34,
          5,
          5,
          15,
          38,
          23,
          33,
          6,
          1,
          12,
          12,
          15,
          13,
          1,
          6,
          5,
          5,
          5,
          20,
          5,
          5,
          16,
          6,
          38,
          10,
          6,
          27,
          9,
          14,
          14,
          32,
          10,
          10,
          10,
          6,
          5,
          41,
          25,
          6,
          5,
          5,
          5,
          19,
          10,
          10,
          6,
          18,
          17,
          18,
          5,
          5,
          10,
          18,
          19,
          21,
          23,
          21,
          9,
          30,
          6,
          5,
          6,
          14,
          26,
          11,
          15,
          25,
          5,
          18,
          28,
          14,
          6,
          16,
          14,
          9,
          21,
          5,
          5,
          7,
          20,
          7,
          5,
          21,
          11,
          46,
          24,
          30,
          31,
          25,
          16,
          16,
          16,
          5,
          10,
          24,
          8,
          22,
          9,
          7,
          20,
          8,
          23,
          5,
          5,
          15,
          9,
          25,
          6,
          6,
          6,
          5,
          5,
          7,
          12,
          45,
          20,
          16,
          32,
          5,
          35,
          5,
          4,
          5,
          12,
          16,
          21,
          24,
          18,
          8,
          18,
          5,
          26,
          8,
          9,
          22,
          4,
          11,
          10,
          16,
          11,
          21,
          16,
          21,
          12,
          10,
          17,
          10,
          35,
          36,
          5,
          18,
          4,
          4,
          27,
          12,
          4,
          10,
          16,
          9,
          11,
          19,
          19,
          12,
          28,
          21,
          12,
          12,
          12,
          12,
          17,
          24,
          17,
          14,
          22,
          15,
          10,
          10,
          33,
          9,
          5,
          8,
          11,
          12,
          12,
          24,
          7,
          24,
          23,
          23,
          1,
          7,
          6,
          7,
          21,
          12,
          9,
          20,
          11,
          19,
          19,
          21,
          18,
          25,
          17,
          7,
          7,
          7,
          24,
          21,
          5,
          8,
          14,
          14,
          4,
          4,
          4,
          4,
          4,
          7,
          4,
          19,
          9,
          9,
          16,
          15,
          6,
          4,
          15,
          5,
          16,
          36,
          36,
          36,
          9,
          21,
          34,
          9,
          14,
          12,
          14,
          9,
          9,
          41,
          41,
          41,
          16,
          17,
          15,
          7,
          17,
          16,
          36,
          28,
          7,
          31,
          30,
          14,
          30,
          9,
          8,
          32,
          23,
          16,
          10,
          16,
          17,
          27,
          17,
          27,
          17,
          10,
          16,
          16,
          11,
          12,
          6,
          34,
          3,
          3,
          4,
          3,
          7,
          26,
          32,
          38,
          10,
          38,
          14,
          53,
          52,
          11,
          14,
          10,
          13,
          29,
          8,
          19,
          7,
          9,
          13,
          11,
          11,
          6,
          10,
          10,
          6,
          6,
          5,
          9,
          5,
          25,
          18,
          7,
          6,
          18,
          23,
          29,
          6,
          7,
          35,
          31,
          9,
          8,
          13,
          51,
          8,
          7,
          35,
          19,
          14,
          19,
          31,
          31,
          19,
          4,
          7,
          6,
          27,
          4,
          13,
          12,
          12,
          7,
          12,
          11,
          22,
          3,
          12,
          36,
          10,
          3,
          3,
          4,
          3,
          12,
          17,
          14,
          28,
          12,
          5,
          15,
          5,
          26,
          25,
          21,
          13,
          12,
          32,
          33,
          27,
          3,
          6,
          16,
          19,
          9,
          5,
          3,
          28,
          30,
          3,
          3,
          7,
          6,
          6,
          5,
          6,
          13,
          3,
          28,
          19,
          30,
          16,
          3,
          3,
          37.5,
          37.5,
          31,
          32,
          40,
          3,
          18,
          22,
          22,
          42,
          8,
          10,
          11,
          9,
          9,
          5,
          23,
          14,
          14,
          16,
          13,
          10,
          4,
          27,
          6,
          23,
          6,
          29,
          15,
          15,
          15,
          14,
          7,
          8,
          27,
          13,
          26,
          28,
          5,
          18,
          10,
          6,
          22,
          6,
          29,
          16,
          33,
          24,
          6,
          16,
          35,
          31,
          6,
          6,
          9,
          6,
          16,
          9,
          17,
          9,
          45,
          16,
          12,
          10,
          29,
          8,
          5,
          5,
          5,
          26,
          26,
          48,
          23,
          17,
          11,
          5,
          16,
          11,
          11,
          5,
          6,
          6,
          11,
          15,
          21,
          4,
          19,
          23,
          4,
          5,
          6,
          33,
          24,
          24,
          24,
          24,
          14,
          8,
          8,
          6,
          10,
          25,
          17,
          17,
          8,
          18,
          27,
          8,
          18,
          19,
          15,
          48,
          19,
          11,
          7,
          11,
          12,
          11,
          36,
          10,
          15,
          15,
          24,
          27,
          6,
          6,
          20,
          43,
          12,
          15,
          19,
          17,
          34,
          26,
          16,
          16,
          13,
          21,
          26,
          24,
          25,
          34,
          17,
          13,
          3,
          3,
          13,
          3,
          28,
          28,
          9,
          17,
          18,
          20,
          20,
          20,
          6,
          25,
          14,
          51,
          15,
          11,
          5,
          15,
          20,
          4,
          21,
          24,
          22,
          27,
          12,
          14,
          17,
          16,
          18,
          16,
          9,
          18,
          18,
          18,
          18,
          13,
          17,
          17,
          31,
          6,
          12,
          4,
          19,
          15,
          15,
          15,
          13,
          13,
          13,
          13,
          8,
          10,
          5,
          7,
          8,
          14,
          5,
          4,
          27,
          52,
          6,
          13,
          6,
          10,
          10,
          9,
          16,
          12,
          5,
          12,
          7,
          10,
          11,
          11,
          25,
          25,
          20,
          34,
          8,
          7,
          15,
          5,
          5,
          19,
          3,
          4,
          17,
          10,
          33,
          6,
          3,
          12,
          8,
          40,
          35,
          40,
          5,
          8,
          8,
          12,
          3,
          8,
          3,
          21,
          3,
          32,
          3,
          24,
          39,
          14,
          6,
          27,
          38,
          18,
          13,
          11,
          55,
          27,
          15,
          3,
          31,
          8,
          19,
          22,
          15,
          15,
          8,
          37,
          7,
          9,
          27,
          8,
          7,
          34,
          6,
          14,
          34,
          31,
          19,
          31,
          20,
          8,
          8,
          23,
          14,
          48,
          16,
          48,
          16,
          3,
          10,
          6,
          10,
          6,
          8,
          9,
          9,
          5,
          8,
          6,
          23,
          15,
          15,
          7,
          7,
          21,
          6,
          5,
          6,
          6,
          5,
          17,
          7,
          26,
          19,
          16,
          16,
          29,
          7,
          14,
          23,
          29,
          18,
          18,
          21,
          42,
          9,
          13,
          18,
          32,
          13,
          15,
          15,
          11,
          12,
          16,
          17,
          19,
          17,
          18,
          32,
          18,
          15,
          12,
          15,
          66,
          31,
          31,
          31,
          12,
          12,
          26,
          24,
          12,
          25,
          15,
          19,
          15,
          35,
          15,
          12,
          16,
          13,
          13,
          9,
          13,
          32,
          24,
          34,
          18,
          26,
          16,
          29,
          28,
          32,
          39,
          32
         ],
         "xaxis": "x",
         "yaxis": "y"
        }
       ],
       "layout": {
        "barmode": "relative",
        "legend": {
         "tracegroupgap": 0
        },
        "template": {
         "data": {
          "bar": [
           {
            "error_x": {
             "color": "#2a3f5f"
            },
            "error_y": {
             "color": "#2a3f5f"
            },
            "marker": {
             "line": {
              "color": "#E5ECF6",
              "width": 0.5
             },
             "pattern": {
              "fillmode": "overlay",
              "size": 10,
              "solidity": 0.2
             }
            },
            "type": "bar"
           }
          ],
          "barpolar": [
           {
            "marker": {
             "line": {
              "color": "#E5ECF6",
              "width": 0.5
             },
             "pattern": {
              "fillmode": "overlay",
              "size": 10,
              "solidity": 0.2
             }
            },
            "type": "barpolar"
           }
          ],
          "carpet": [
           {
            "aaxis": {
             "endlinecolor": "#2a3f5f",
             "gridcolor": "white",
             "linecolor": "white",
             "minorgridcolor": "white",
             "startlinecolor": "#2a3f5f"
            },
            "baxis": {
             "endlinecolor": "#2a3f5f",
             "gridcolor": "white",
             "linecolor": "white",
             "minorgridcolor": "white",
             "startlinecolor": "#2a3f5f"
            },
            "type": "carpet"
           }
          ],
          "choropleth": [
           {
            "colorbar": {
             "outlinewidth": 0,
             "ticks": ""
            },
            "type": "choropleth"
           }
          ],
          "contour": [
           {
            "colorbar": {
             "outlinewidth": 0,
             "ticks": ""
            },
            "colorscale": [
             [
              0,
              "#0d0887"
             ],
             [
              0.1111111111111111,
              "#46039f"
             ],
             [
              0.2222222222222222,
              "#7201a8"
             ],
             [
              0.3333333333333333,
              "#9c179e"
             ],
             [
              0.4444444444444444,
              "#bd3786"
             ],
             [
              0.5555555555555556,
              "#d8576b"
             ],
             [
              0.6666666666666666,
              "#ed7953"
             ],
             [
              0.7777777777777778,
              "#fb9f3a"
             ],
             [
              0.8888888888888888,
              "#fdca26"
             ],
             [
              1,
              "#f0f921"
             ]
            ],
            "type": "contour"
           }
          ],
          "contourcarpet": [
           {
            "colorbar": {
             "outlinewidth": 0,
             "ticks": ""
            },
            "type": "contourcarpet"
           }
          ],
          "heatmap": [
           {
            "colorbar": {
             "outlinewidth": 0,
             "ticks": ""
            },
            "colorscale": [
             [
              0,
              "#0d0887"
             ],
             [
              0.1111111111111111,
              "#46039f"
             ],
             [
              0.2222222222222222,
              "#7201a8"
             ],
             [
              0.3333333333333333,
              "#9c179e"
             ],
             [
              0.4444444444444444,
              "#bd3786"
             ],
             [
              0.5555555555555556,
              "#d8576b"
             ],
             [
              0.6666666666666666,
              "#ed7953"
             ],
             [
              0.7777777777777778,
              "#fb9f3a"
             ],
             [
              0.8888888888888888,
              "#fdca26"
             ],
             [
              1,
              "#f0f921"
             ]
            ],
            "type": "heatmap"
           }
          ],
          "heatmapgl": [
           {
            "colorbar": {
             "outlinewidth": 0,
             "ticks": ""
            },
            "colorscale": [
             [
              0,
              "#0d0887"
             ],
             [
              0.1111111111111111,
              "#46039f"
             ],
             [
              0.2222222222222222,
              "#7201a8"
             ],
             [
              0.3333333333333333,
              "#9c179e"
             ],
             [
              0.4444444444444444,
              "#bd3786"
             ],
             [
              0.5555555555555556,
              "#d8576b"
             ],
             [
              0.6666666666666666,
              "#ed7953"
             ],
             [
              0.7777777777777778,
              "#fb9f3a"
             ],
             [
              0.8888888888888888,
              "#fdca26"
             ],
             [
              1,
              "#f0f921"
             ]
            ],
            "type": "heatmapgl"
           }
          ],
          "histogram": [
           {
            "marker": {
             "pattern": {
              "fillmode": "overlay",
              "size": 10,
              "solidity": 0.2
             }
            },
            "type": "histogram"
           }
          ],
          "histogram2d": [
           {
            "colorbar": {
             "outlinewidth": 0,
             "ticks": ""
            },
            "colorscale": [
             [
              0,
              "#0d0887"
             ],
             [
              0.1111111111111111,
              "#46039f"
             ],
             [
              0.2222222222222222,
              "#7201a8"
             ],
             [
              0.3333333333333333,
              "#9c179e"
             ],
             [
              0.4444444444444444,
              "#bd3786"
             ],
             [
              0.5555555555555556,
              "#d8576b"
             ],
             [
              0.6666666666666666,
              "#ed7953"
             ],
             [
              0.7777777777777778,
              "#fb9f3a"
             ],
             [
              0.8888888888888888,
              "#fdca26"
             ],
             [
              1,
              "#f0f921"
             ]
            ],
            "type": "histogram2d"
           }
          ],
          "histogram2dcontour": [
           {
            "colorbar": {
             "outlinewidth": 0,
             "ticks": ""
            },
            "colorscale": [
             [
              0,
              "#0d0887"
             ],
             [
              0.1111111111111111,
              "#46039f"
             ],
             [
              0.2222222222222222,
              "#7201a8"
             ],
             [
              0.3333333333333333,
              "#9c179e"
             ],
             [
              0.4444444444444444,
              "#bd3786"
             ],
             [
              0.5555555555555556,
              "#d8576b"
             ],
             [
              0.6666666666666666,
              "#ed7953"
             ],
             [
              0.7777777777777778,
              "#fb9f3a"
             ],
             [
              0.8888888888888888,
              "#fdca26"
             ],
             [
              1,
              "#f0f921"
             ]
            ],
            "type": "histogram2dcontour"
           }
          ],
          "mesh3d": [
           {
            "colorbar": {
             "outlinewidth": 0,
             "ticks": ""
            },
            "type": "mesh3d"
           }
          ],
          "parcoords": [
           {
            "line": {
             "colorbar": {
              "outlinewidth": 0,
              "ticks": ""
             }
            },
            "type": "parcoords"
           }
          ],
          "pie": [
           {
            "automargin": true,
            "type": "pie"
           }
          ],
          "scatter": [
           {
            "fillpattern": {
             "fillmode": "overlay",
             "size": 10,
             "solidity": 0.2
            },
            "type": "scatter"
           }
          ],
          "scatter3d": [
           {
            "line": {
             "colorbar": {
              "outlinewidth": 0,
              "ticks": ""
             }
            },
            "marker": {
             "colorbar": {
              "outlinewidth": 0,
              "ticks": ""
             }
            },
            "type": "scatter3d"
           }
          ],
          "scattercarpet": [
           {
            "marker": {
             "colorbar": {
              "outlinewidth": 0,
              "ticks": ""
             }
            },
            "type": "scattercarpet"
           }
          ],
          "scattergeo": [
           {
            "marker": {
             "colorbar": {
              "outlinewidth": 0,
              "ticks": ""
             }
            },
            "type": "scattergeo"
           }
          ],
          "scattergl": [
           {
            "marker": {
             "colorbar": {
              "outlinewidth": 0,
              "ticks": ""
             }
            },
            "type": "scattergl"
           }
          ],
          "scattermapbox": [
           {
            "marker": {
             "colorbar": {
              "outlinewidth": 0,
              "ticks": ""
             }
            },
            "type": "scattermapbox"
           }
          ],
          "scatterpolar": [
           {
            "marker": {
             "colorbar": {
              "outlinewidth": 0,
              "ticks": ""
             }
            },
            "type": "scatterpolar"
           }
          ],
          "scatterpolargl": [
           {
            "marker": {
             "colorbar": {
              "outlinewidth": 0,
              "ticks": ""
             }
            },
            "type": "scatterpolargl"
           }
          ],
          "scatterternary": [
           {
            "marker": {
             "colorbar": {
              "outlinewidth": 0,
              "ticks": ""
             }
            },
            "type": "scatterternary"
           }
          ],
          "surface": [
           {
            "colorbar": {
             "outlinewidth": 0,
             "ticks": ""
            },
            "colorscale": [
             [
              0,
              "#0d0887"
             ],
             [
              0.1111111111111111,
              "#46039f"
             ],
             [
              0.2222222222222222,
              "#7201a8"
             ],
             [
              0.3333333333333333,
              "#9c179e"
             ],
             [
              0.4444444444444444,
              "#bd3786"
             ],
             [
              0.5555555555555556,
              "#d8576b"
             ],
             [
              0.6666666666666666,
              "#ed7953"
             ],
             [
              0.7777777777777778,
              "#fb9f3a"
             ],
             [
              0.8888888888888888,
              "#fdca26"
             ],
             [
              1,
              "#f0f921"
             ]
            ],
            "type": "surface"
           }
          ],
          "table": [
           {
            "cells": {
             "fill": {
              "color": "#EBF0F8"
             },
             "line": {
              "color": "white"
             }
            },
            "header": {
             "fill": {
              "color": "#C8D4E3"
             },
             "line": {
              "color": "white"
             }
            },
            "type": "table"
           }
          ]
         },
         "layout": {
          "annotationdefaults": {
           "arrowcolor": "#2a3f5f",
           "arrowhead": 0,
           "arrowwidth": 1
          },
          "autotypenumbers": "strict",
          "coloraxis": {
           "colorbar": {
            "outlinewidth": 0,
            "ticks": ""
           }
          },
          "colorscale": {
           "diverging": [
            [
             0,
             "#8e0152"
            ],
            [
             0.1,
             "#c51b7d"
            ],
            [
             0.2,
             "#de77ae"
            ],
            [
             0.3,
             "#f1b6da"
            ],
            [
             0.4,
             "#fde0ef"
            ],
            [
             0.5,
             "#f7f7f7"
            ],
            [
             0.6,
             "#e6f5d0"
            ],
            [
             0.7,
             "#b8e186"
            ],
            [
             0.8,
             "#7fbc41"
            ],
            [
             0.9,
             "#4d9221"
            ],
            [
             1,
             "#276419"
            ]
           ],
           "sequential": [
            [
             0,
             "#0d0887"
            ],
            [
             0.1111111111111111,
             "#46039f"
            ],
            [
             0.2222222222222222,
             "#7201a8"
            ],
            [
             0.3333333333333333,
             "#9c179e"
            ],
            [
             0.4444444444444444,
             "#bd3786"
            ],
            [
             0.5555555555555556,
             "#d8576b"
            ],
            [
             0.6666666666666666,
             "#ed7953"
            ],
            [
             0.7777777777777778,
             "#fb9f3a"
            ],
            [
             0.8888888888888888,
             "#fdca26"
            ],
            [
             1,
             "#f0f921"
            ]
           ],
           "sequentialminus": [
            [
             0,
             "#0d0887"
            ],
            [
             0.1111111111111111,
             "#46039f"
            ],
            [
             0.2222222222222222,
             "#7201a8"
            ],
            [
             0.3333333333333333,
             "#9c179e"
            ],
            [
             0.4444444444444444,
             "#bd3786"
            ],
            [
             0.5555555555555556,
             "#d8576b"
            ],
            [
             0.6666666666666666,
             "#ed7953"
            ],
            [
             0.7777777777777778,
             "#fb9f3a"
            ],
            [
             0.8888888888888888,
             "#fdca26"
            ],
            [
             1,
             "#f0f921"
            ]
           ]
          },
          "colorway": [
           "#636efa",
           "#EF553B",
           "#00cc96",
           "#ab63fa",
           "#FFA15A",
           "#19d3f3",
           "#FF6692",
           "#B6E880",
           "#FF97FF",
           "#FECB52"
          ],
          "font": {
           "color": "#2a3f5f"
          },
          "geo": {
           "bgcolor": "white",
           "lakecolor": "white",
           "landcolor": "#E5ECF6",
           "showlakes": true,
           "showland": true,
           "subunitcolor": "white"
          },
          "hoverlabel": {
           "align": "left"
          },
          "hovermode": "closest",
          "mapbox": {
           "style": "light"
          },
          "paper_bgcolor": "white",
          "plot_bgcolor": "#E5ECF6",
          "polar": {
           "angularaxis": {
            "gridcolor": "white",
            "linecolor": "white",
            "ticks": ""
           },
           "bgcolor": "#E5ECF6",
           "radialaxis": {
            "gridcolor": "white",
            "linecolor": "white",
            "ticks": ""
           }
          },
          "scene": {
           "xaxis": {
            "backgroundcolor": "#E5ECF6",
            "gridcolor": "white",
            "gridwidth": 2,
            "linecolor": "white",
            "showbackground": true,
            "ticks": "",
            "zerolinecolor": "white"
           },
           "yaxis": {
            "backgroundcolor": "#E5ECF6",
            "gridcolor": "white",
            "gridwidth": 2,
            "linecolor": "white",
            "showbackground": true,
            "ticks": "",
            "zerolinecolor": "white"
           },
           "zaxis": {
            "backgroundcolor": "#E5ECF6",
            "gridcolor": "white",
            "gridwidth": 2,
            "linecolor": "white",
            "showbackground": true,
            "ticks": "",
            "zerolinecolor": "white"
           }
          },
          "shapedefaults": {
           "line": {
            "color": "#2a3f5f"
           }
          },
          "ternary": {
           "aaxis": {
            "gridcolor": "white",
            "linecolor": "white",
            "ticks": ""
           },
           "baxis": {
            "gridcolor": "white",
            "linecolor": "white",
            "ticks": ""
           },
           "bgcolor": "#E5ECF6",
           "caxis": {
            "gridcolor": "white",
            "linecolor": "white",
            "ticks": ""
           }
          },
          "title": {
           "x": 0.05
          },
          "xaxis": {
           "automargin": true,
           "gridcolor": "white",
           "linecolor": "white",
           "ticks": "",
           "title": {
            "standoff": 15
           },
           "zerolinecolor": "white",
           "zerolinewidth": 2
          },
          "yaxis": {
           "automargin": true,
           "gridcolor": "white",
           "linecolor": "white",
           "ticks": "",
           "title": {
            "standoff": 15
           },
           "zerolinecolor": "white",
           "zerolinewidth": 2
          }
         }
        },
        "title": {
         "text": "Distribution of free sulfur dioxide"
        },
        "xaxis": {
         "anchor": "y",
         "domain": [
          0,
          1
         ],
         "title": {
          "text": "free sulfur dioxide"
         }
        },
        "yaxis": {
         "anchor": "x",
         "domain": [
          0,
          1
         ],
         "title": {
          "text": "count"
         }
        }
       }
      }
     },
     "metadata": {},
     "output_type": "display_data"
    },
    {
     "name": "stdout",
     "output_type": "stream",
     "text": [
      "Value counts for free sulfur dioxide:\n",
      "free sulfur dioxide\n",
      "6.0     99\n",
      "5.0     80\n",
      "12.0    58\n",
      "10.0    52\n",
      "15.0    51\n",
      "7.0     51\n",
      "9.0     48\n",
      "16.0    47\n",
      "8.0     45\n",
      "17.0    40\n",
      "11.0    39\n",
      "13.0    39\n",
      "14.0    38\n",
      "18.0    37\n",
      "3.0     33\n",
      "19.0    32\n",
      "4.0     31\n",
      "21.0    30\n",
      "23.0    23\n",
      "26.0    21\n",
      "24.0    21\n",
      "27.0    21\n",
      "25.0    20\n",
      "20.0    18\n",
      "32.0    18\n",
      "31.0    16\n",
      "28.0    15\n",
      "29.0    14\n",
      "22.0    12\n",
      "34.0    12\n",
      "30.0    10\n",
      "36.0     9\n",
      "35.0     9\n",
      "33.0     8\n",
      "38.0     8\n",
      "41.0     5\n",
      "48.0     4\n",
      "1.0      3\n",
      "40.0     3\n",
      "42.0     3\n",
      "43.0     2\n",
      "45.0     2\n",
      "52.0     2\n",
      "51.0     2\n",
      "37.5     2\n",
      "68.0     2\n",
      "39.0     2\n",
      "46.0     1\n",
      "53.0     1\n",
      "40.5     1\n",
      "55.0     1\n",
      "37.0     1\n",
      "66.0     1\n",
      "Name: count, dtype: int64\n",
      "\n"
     ]
    },
    {
     "data": {
      "application/vnd.plotly.v1+json": {
       "config": {
        "plotlyServerURL": "https://plot.ly"
       },
       "data": [
        {
         "alignmentgroup": "True",
         "bingroup": "x",
         "hovertemplate": "total sulfur dioxide=%{x}<br>count=%{y}<extra></extra>",
         "legendgroup": "",
         "marker": {
          "color": "#636efa",
          "pattern": {
           "shape": ""
          }
         },
         "name": "",
         "nbinsx": 30,
         "offsetgroup": "",
         "orientation": "v",
         "showlegend": false,
         "type": "histogram",
         "x": [
          34,
          67,
          54,
          60,
          34,
          40,
          59,
          21,
          18,
          65,
          59,
          29,
          103,
          56,
          71,
          37,
          67,
          40,
          23,
          11,
          35,
          16,
          82,
          113,
          50,
          18,
          15,
          30,
          87,
          46,
          14,
          23,
          65,
          114,
          23,
          15,
          14,
          119,
          73,
          10,
          54,
          46,
          52,
          112,
          54,
          11,
          11,
          15,
          19,
          94,
          43,
          42,
          30,
          80,
          119,
          15,
          73,
          61,
          40,
          136,
          31,
          125,
          24,
          140,
          136,
          31,
          85,
          23,
          10,
          35,
          50,
          35,
          65,
          36,
          65,
          69,
          64,
          47,
          108,
          46,
          47,
          62,
          40,
          89,
          56,
          13,
          102,
          12,
          12,
          16,
          134,
          99,
          29,
          63,
          45,
          63,
          63,
          20,
          63,
          141,
          94,
          30,
          11,
          69,
          99,
          99,
          128,
          129,
          128,
          22,
          86,
          20,
          20,
          31,
          121,
          121,
          96,
          101,
          42,
          44,
          8,
          18,
          42,
          49,
          35,
          38,
          20,
          42,
          42,
          110,
          42,
          65,
          62,
          85,
          67,
          143,
          127,
          49,
          28,
          28,
          55,
          27,
          31,
          24,
          37,
          28,
          28,
          95,
          19,
          62,
          65,
          41,
          121,
          49,
          41,
          44,
          58,
          72,
          10,
          28,
          63,
          81,
          106,
          49,
          58,
          37,
          38,
          62,
          24,
          109,
          24,
          24,
          23,
          51,
          23,
          37,
          34,
          21,
          86,
          119,
          13,
          56,
          45,
          33,
          45,
          67,
          35,
          49,
          27,
          61,
          37,
          27,
          23,
          61,
          61,
          27,
          23,
          13,
          47,
          19,
          10,
          47,
          71,
          71,
          49,
          53,
          49,
          98,
          49,
          48,
          16,
          53,
          27,
          70,
          29,
          31,
          44,
          15,
          28,
          90,
          54,
          14,
          12,
          105,
          98,
          135,
          72,
          59,
          74,
          87,
          50,
          50,
          14,
          13,
          21,
          44,
          38,
          21,
          16,
          58,
          29,
          14,
          14,
          32,
          15,
          46,
          26,
          19,
          77,
          165,
          32,
          55,
          29,
          23,
          41,
          81,
          50,
          37,
          15,
          42,
          42,
          24,
          18,
          25,
          46,
          47,
          18,
          24,
          27,
          54,
          53,
          88,
          43,
          26,
          38,
          124,
          49,
          42,
          124,
          64,
          41,
          27,
          28,
          30,
          49,
          86,
          77,
          19,
          122,
          134,
          20,
          124,
          20,
          52,
          48,
          60,
          24,
          48,
          48,
          32,
          30,
          35,
          24,
          66,
          18,
          54,
          18,
          62,
          22,
          50,
          29,
          43,
          27,
          72,
          16,
          27,
          35,
          35,
          35,
          22,
          67,
          19,
          22,
          65,
          47,
          23,
          19,
          15,
          51,
          18,
          21,
          48,
          47,
          52,
          68,
          28,
          16,
          20,
          31,
          23,
          17,
          18,
          17,
          14,
          26,
          25,
          27,
          81,
          91,
          16,
          38,
          113,
          16,
          81,
          38,
          76,
          76,
          22,
          26,
          21,
          13,
          43,
          62,
          49,
          15,
          15,
          151,
          14,
          16,
          33,
          142,
          116,
          85,
          33,
          28,
          42,
          42,
          33,
          32,
          28,
          33,
          13,
          35,
          17,
          47,
          17,
          20,
          53,
          15,
          106,
          28,
          21,
          69,
          25,
          45,
          44,
          96,
          23,
          17,
          23,
          47,
          19,
          110,
          60,
          47,
          19,
          15,
          20,
          42,
          37,
          28,
          14,
          111,
          110,
          40,
          14,
          14,
          21,
          102,
          50,
          75,
          149,
          75,
          43,
          109,
          24,
          30,
          14,
          63,
          52,
          65,
          39,
          57,
          16,
          29,
          71,
          28,
          16,
          112,
          104,
          32,
          58,
          15,
          15,
          31,
          84,
          31,
          19,
          43,
          86,
          102,
          33,
          147,
          145,
          57,
          40,
          40,
          40,
          14,
          28,
          148,
          32,
          71,
          30,
          29,
          53,
          32,
          42,
          20,
          20,
          42,
          27,
          48,
          16,
          15,
          15,
          13,
          13,
          17,
          31,
          87,
          49,
          29,
          58,
          15,
          152,
          15,
          9,
          17,
          93,
          62,
          122,
          125,
          44,
          25,
          72,
          19,
          88,
          25,
          23,
          84,
          14,
          54,
          19,
          37,
          35,
          84,
          112,
          77,
          49,
          22,
          45,
          22,
          106,
          127,
          13,
          49,
          11,
          11,
          58,
          37,
          14,
          19,
          72,
          39,
          22,
          58,
          38,
          16,
          139,
          101,
          28,
          57,
          31,
          28,
          40,
          66,
          40,
          32,
          47,
          33,
          31,
          31,
          88,
          104,
          35,
          19,
          44,
          48,
          74,
          94,
          32,
          94,
          143,
          144,
          44,
          16,
          18,
          34,
          92,
          45,
          37,
          85,
          61,
          58,
          58,
          119,
          82,
          130,
          87,
          13,
          26,
          60,
          64,
          42,
          14,
          17,
          86,
          46,
          18,
          10,
          12,
          15,
          14,
          24,
          7,
          41,
          59,
          22,
          42,
          36,
          16,
          8,
          37,
          9,
          24,
          51,
          100,
          100,
          28,
          31,
          68,
          92,
          31,
          39,
          31,
          22,
          22,
          55,
          55,
          55,
          47,
          32,
          85,
          25,
          84,
          86,
          46,
          48,
          16,
          43,
          35,
          26,
          69,
          30,
          28,
          64,
          99,
          86,
          18,
          86,
          88,
          43,
          43,
          43,
          43,
          39,
          33,
          33,
          18,
          78,
          9,
          61,
          11,
          9,
          8,
          6,
          62,
          45,
          79,
          46,
          23,
          46,
          28,
          77,
          73,
          75,
          28,
          19,
          38,
          66,
          25,
          72,
          11,
          17,
          52,
          24,
          24,
          12,
          21,
          21,
          12,
          10,
          9,
          23,
          10,
          36,
          38,
          18,
          16,
          38,
          113,
          46,
          10,
          13,
          72,
          119,
          29,
          17,
          28,
          70,
          17,
          11,
          70,
          27,
          21,
          27,
          68,
          68,
          41,
          10,
          12,
          12,
          45,
          8,
          27,
          25,
          24,
          12,
          19,
          32,
          31,
          7,
          28,
          109,
          23,
          8,
          8,
          9,
          9,
          18,
          43,
          36,
          52,
          18,
          14,
          48,
          17,
          35,
          42,
          39,
          26,
          53,
          38,
          45,
          51,
          14,
          17,
          45,
          25,
          20,
          77,
          10,
          90,
          52,
          10,
          8,
          16,
          15,
          17,
          10,
          20,
          26,
          10,
          52,
          37,
          92,
          37,
          8,
          8,
          278,
          289,
          70,
          59,
          64,
          9,
          30,
          41,
          41,
          74,
          19,
          16,
          31,
          17,
          17,
          18,
          36,
          25,
          25,
          25,
          49,
          24,
          13,
          66,
          14,
          55,
          35,
          80,
          21,
          21,
          21,
          24,
          15,
          17,
          33,
          27,
          52,
          89,
          10,
          38,
          18,
          15,
          50,
          13,
          94,
          86,
          79,
          71,
          12,
          20,
          70,
          51,
          21,
          14,
          21,
          11,
          70,
          38,
          38,
          38,
          88,
          101,
          19,
          21,
          48,
          44,
          14,
          12,
          16,
          65,
          65,
          59,
          47,
          78,
          47,
          11,
          61,
          119,
          119,
          19,
          20,
          12,
          41,
          64,
          56,
          9,
          77,
          94,
          9,
          10,
          12,
          76,
          44,
          44,
          52,
          44,
          24,
          15,
          15,
          9,
          79,
          50,
          44,
          44,
          20,
          77,
          46,
          21,
          88,
          66,
          58,
          90,
          66,
          18,
          17,
          18,
          24,
          20,
          60,
          86,
          34,
          48,
          37,
          60,
          14,
          13,
          35,
          60,
          69,
          33,
          56,
          24,
          66,
          51,
          36,
          36,
          19,
          51,
          60,
          64,
          44,
          44,
          36,
          81,
          10,
          10,
          81,
          9,
          54,
          54,
          22,
          69,
          36,
          47,
          110,
          110,
          12,
          60,
          28,
          77.5,
          29,
          18,
          9,
          28,
          57,
          15,
          68,
          88,
          91,
          63,
          27,
          41,
          91,
          46,
          64,
          46,
          18,
          34,
          34,
          34,
          34,
          38,
          91,
          91,
          67,
          25,
          48,
          11,
          40,
          26,
          26,
          26,
          31,
          31,
          31,
          31,
          20,
          28,
          13,
          12,
          46,
          57,
          32,
          28,
          67,
          98,
          28,
          54,
          28,
          31,
          45,
          105,
          74,
          66,
          14,
          66,
          31,
          28,
          35,
          35,
          105,
          105,
          84,
          85,
          23,
          49,
          33,
          33,
          12,
          59,
          12,
          11,
          104,
          24,
          141,
          24,
          13,
          46,
          22,
          54,
          53,
          54,
          16,
          19,
          22,
          89,
          15,
          18,
          15,
          37,
          19,
          133,
          19,
          58,
          55,
          31,
          23,
          55,
          67,
          47,
          74,
          25,
          95,
          90,
          39,
          8,
          92,
          22,
          98,
          39,
          29,
          28,
          17,
          53,
          23,
          17,
          85,
          20,
          15,
          64,
          13,
          39,
          53,
          54,
          32,
          54,
          49,
          24,
          16,
          44,
          45,
          82,
          89,
          82,
          89,
          14,
          22,
          13,
          22,
          12,
          25,
          23,
          17,
          13,
          18,
          18,
          147,
          28,
          28,
          16,
          16,
          64,
          14,
          12,
          12,
          14,
          12,
          25,
          20,
          48,
          27,
          65,
          65,
          44,
          20,
          27,
          58,
          61,
          34,
          38,
          59,
          52,
          18,
          28,
          22,
          84,
          29,
          35,
          26,
          32,
          19,
          28,
          26,
          50,
          24,
          27,
          54,
          28,
          24,
          20,
          23,
          115,
          131,
          131,
          131,
          20,
          20,
          42,
          52,
          20,
          42,
          34,
          35,
          25,
          104,
          50,
          20,
          29,
          27,
          20,
          26,
          27,
          98,
          34,
          60,
          28,
          35,
          26,
          40,
          38,
          44,
          51,
          44
         ],
         "xaxis": "x",
         "yaxis": "y"
        }
       ],
       "layout": {
        "barmode": "relative",
        "legend": {
         "tracegroupgap": 0
        },
        "template": {
         "data": {
          "bar": [
           {
            "error_x": {
             "color": "#2a3f5f"
            },
            "error_y": {
             "color": "#2a3f5f"
            },
            "marker": {
             "line": {
              "color": "#E5ECF6",
              "width": 0.5
             },
             "pattern": {
              "fillmode": "overlay",
              "size": 10,
              "solidity": 0.2
             }
            },
            "type": "bar"
           }
          ],
          "barpolar": [
           {
            "marker": {
             "line": {
              "color": "#E5ECF6",
              "width": 0.5
             },
             "pattern": {
              "fillmode": "overlay",
              "size": 10,
              "solidity": 0.2
             }
            },
            "type": "barpolar"
           }
          ],
          "carpet": [
           {
            "aaxis": {
             "endlinecolor": "#2a3f5f",
             "gridcolor": "white",
             "linecolor": "white",
             "minorgridcolor": "white",
             "startlinecolor": "#2a3f5f"
            },
            "baxis": {
             "endlinecolor": "#2a3f5f",
             "gridcolor": "white",
             "linecolor": "white",
             "minorgridcolor": "white",
             "startlinecolor": "#2a3f5f"
            },
            "type": "carpet"
           }
          ],
          "choropleth": [
           {
            "colorbar": {
             "outlinewidth": 0,
             "ticks": ""
            },
            "type": "choropleth"
           }
          ],
          "contour": [
           {
            "colorbar": {
             "outlinewidth": 0,
             "ticks": ""
            },
            "colorscale": [
             [
              0,
              "#0d0887"
             ],
             [
              0.1111111111111111,
              "#46039f"
             ],
             [
              0.2222222222222222,
              "#7201a8"
             ],
             [
              0.3333333333333333,
              "#9c179e"
             ],
             [
              0.4444444444444444,
              "#bd3786"
             ],
             [
              0.5555555555555556,
              "#d8576b"
             ],
             [
              0.6666666666666666,
              "#ed7953"
             ],
             [
              0.7777777777777778,
              "#fb9f3a"
             ],
             [
              0.8888888888888888,
              "#fdca26"
             ],
             [
              1,
              "#f0f921"
             ]
            ],
            "type": "contour"
           }
          ],
          "contourcarpet": [
           {
            "colorbar": {
             "outlinewidth": 0,
             "ticks": ""
            },
            "type": "contourcarpet"
           }
          ],
          "heatmap": [
           {
            "colorbar": {
             "outlinewidth": 0,
             "ticks": ""
            },
            "colorscale": [
             [
              0,
              "#0d0887"
             ],
             [
              0.1111111111111111,
              "#46039f"
             ],
             [
              0.2222222222222222,
              "#7201a8"
             ],
             [
              0.3333333333333333,
              "#9c179e"
             ],
             [
              0.4444444444444444,
              "#bd3786"
             ],
             [
              0.5555555555555556,
              "#d8576b"
             ],
             [
              0.6666666666666666,
              "#ed7953"
             ],
             [
              0.7777777777777778,
              "#fb9f3a"
             ],
             [
              0.8888888888888888,
              "#fdca26"
             ],
             [
              1,
              "#f0f921"
             ]
            ],
            "type": "heatmap"
           }
          ],
          "heatmapgl": [
           {
            "colorbar": {
             "outlinewidth": 0,
             "ticks": ""
            },
            "colorscale": [
             [
              0,
              "#0d0887"
             ],
             [
              0.1111111111111111,
              "#46039f"
             ],
             [
              0.2222222222222222,
              "#7201a8"
             ],
             [
              0.3333333333333333,
              "#9c179e"
             ],
             [
              0.4444444444444444,
              "#bd3786"
             ],
             [
              0.5555555555555556,
              "#d8576b"
             ],
             [
              0.6666666666666666,
              "#ed7953"
             ],
             [
              0.7777777777777778,
              "#fb9f3a"
             ],
             [
              0.8888888888888888,
              "#fdca26"
             ],
             [
              1,
              "#f0f921"
             ]
            ],
            "type": "heatmapgl"
           }
          ],
          "histogram": [
           {
            "marker": {
             "pattern": {
              "fillmode": "overlay",
              "size": 10,
              "solidity": 0.2
             }
            },
            "type": "histogram"
           }
          ],
          "histogram2d": [
           {
            "colorbar": {
             "outlinewidth": 0,
             "ticks": ""
            },
            "colorscale": [
             [
              0,
              "#0d0887"
             ],
             [
              0.1111111111111111,
              "#46039f"
             ],
             [
              0.2222222222222222,
              "#7201a8"
             ],
             [
              0.3333333333333333,
              "#9c179e"
             ],
             [
              0.4444444444444444,
              "#bd3786"
             ],
             [
              0.5555555555555556,
              "#d8576b"
             ],
             [
              0.6666666666666666,
              "#ed7953"
             ],
             [
              0.7777777777777778,
              "#fb9f3a"
             ],
             [
              0.8888888888888888,
              "#fdca26"
             ],
             [
              1,
              "#f0f921"
             ]
            ],
            "type": "histogram2d"
           }
          ],
          "histogram2dcontour": [
           {
            "colorbar": {
             "outlinewidth": 0,
             "ticks": ""
            },
            "colorscale": [
             [
              0,
              "#0d0887"
             ],
             [
              0.1111111111111111,
              "#46039f"
             ],
             [
              0.2222222222222222,
              "#7201a8"
             ],
             [
              0.3333333333333333,
              "#9c179e"
             ],
             [
              0.4444444444444444,
              "#bd3786"
             ],
             [
              0.5555555555555556,
              "#d8576b"
             ],
             [
              0.6666666666666666,
              "#ed7953"
             ],
             [
              0.7777777777777778,
              "#fb9f3a"
             ],
             [
              0.8888888888888888,
              "#fdca26"
             ],
             [
              1,
              "#f0f921"
             ]
            ],
            "type": "histogram2dcontour"
           }
          ],
          "mesh3d": [
           {
            "colorbar": {
             "outlinewidth": 0,
             "ticks": ""
            },
            "type": "mesh3d"
           }
          ],
          "parcoords": [
           {
            "line": {
             "colorbar": {
              "outlinewidth": 0,
              "ticks": ""
             }
            },
            "type": "parcoords"
           }
          ],
          "pie": [
           {
            "automargin": true,
            "type": "pie"
           }
          ],
          "scatter": [
           {
            "fillpattern": {
             "fillmode": "overlay",
             "size": 10,
             "solidity": 0.2
            },
            "type": "scatter"
           }
          ],
          "scatter3d": [
           {
            "line": {
             "colorbar": {
              "outlinewidth": 0,
              "ticks": ""
             }
            },
            "marker": {
             "colorbar": {
              "outlinewidth": 0,
              "ticks": ""
             }
            },
            "type": "scatter3d"
           }
          ],
          "scattercarpet": [
           {
            "marker": {
             "colorbar": {
              "outlinewidth": 0,
              "ticks": ""
             }
            },
            "type": "scattercarpet"
           }
          ],
          "scattergeo": [
           {
            "marker": {
             "colorbar": {
              "outlinewidth": 0,
              "ticks": ""
             }
            },
            "type": "scattergeo"
           }
          ],
          "scattergl": [
           {
            "marker": {
             "colorbar": {
              "outlinewidth": 0,
              "ticks": ""
             }
            },
            "type": "scattergl"
           }
          ],
          "scattermapbox": [
           {
            "marker": {
             "colorbar": {
              "outlinewidth": 0,
              "ticks": ""
             }
            },
            "type": "scattermapbox"
           }
          ],
          "scatterpolar": [
           {
            "marker": {
             "colorbar": {
              "outlinewidth": 0,
              "ticks": ""
             }
            },
            "type": "scatterpolar"
           }
          ],
          "scatterpolargl": [
           {
            "marker": {
             "colorbar": {
              "outlinewidth": 0,
              "ticks": ""
             }
            },
            "type": "scatterpolargl"
           }
          ],
          "scatterternary": [
           {
            "marker": {
             "colorbar": {
              "outlinewidth": 0,
              "ticks": ""
             }
            },
            "type": "scatterternary"
           }
          ],
          "surface": [
           {
            "colorbar": {
             "outlinewidth": 0,
             "ticks": ""
            },
            "colorscale": [
             [
              0,
              "#0d0887"
             ],
             [
              0.1111111111111111,
              "#46039f"
             ],
             [
              0.2222222222222222,
              "#7201a8"
             ],
             [
              0.3333333333333333,
              "#9c179e"
             ],
             [
              0.4444444444444444,
              "#bd3786"
             ],
             [
              0.5555555555555556,
              "#d8576b"
             ],
             [
              0.6666666666666666,
              "#ed7953"
             ],
             [
              0.7777777777777778,
              "#fb9f3a"
             ],
             [
              0.8888888888888888,
              "#fdca26"
             ],
             [
              1,
              "#f0f921"
             ]
            ],
            "type": "surface"
           }
          ],
          "table": [
           {
            "cells": {
             "fill": {
              "color": "#EBF0F8"
             },
             "line": {
              "color": "white"
             }
            },
            "header": {
             "fill": {
              "color": "#C8D4E3"
             },
             "line": {
              "color": "white"
             }
            },
            "type": "table"
           }
          ]
         },
         "layout": {
          "annotationdefaults": {
           "arrowcolor": "#2a3f5f",
           "arrowhead": 0,
           "arrowwidth": 1
          },
          "autotypenumbers": "strict",
          "coloraxis": {
           "colorbar": {
            "outlinewidth": 0,
            "ticks": ""
           }
          },
          "colorscale": {
           "diverging": [
            [
             0,
             "#8e0152"
            ],
            [
             0.1,
             "#c51b7d"
            ],
            [
             0.2,
             "#de77ae"
            ],
            [
             0.3,
             "#f1b6da"
            ],
            [
             0.4,
             "#fde0ef"
            ],
            [
             0.5,
             "#f7f7f7"
            ],
            [
             0.6,
             "#e6f5d0"
            ],
            [
             0.7,
             "#b8e186"
            ],
            [
             0.8,
             "#7fbc41"
            ],
            [
             0.9,
             "#4d9221"
            ],
            [
             1,
             "#276419"
            ]
           ],
           "sequential": [
            [
             0,
             "#0d0887"
            ],
            [
             0.1111111111111111,
             "#46039f"
            ],
            [
             0.2222222222222222,
             "#7201a8"
            ],
            [
             0.3333333333333333,
             "#9c179e"
            ],
            [
             0.4444444444444444,
             "#bd3786"
            ],
            [
             0.5555555555555556,
             "#d8576b"
            ],
            [
             0.6666666666666666,
             "#ed7953"
            ],
            [
             0.7777777777777778,
             "#fb9f3a"
            ],
            [
             0.8888888888888888,
             "#fdca26"
            ],
            [
             1,
             "#f0f921"
            ]
           ],
           "sequentialminus": [
            [
             0,
             "#0d0887"
            ],
            [
             0.1111111111111111,
             "#46039f"
            ],
            [
             0.2222222222222222,
             "#7201a8"
            ],
            [
             0.3333333333333333,
             "#9c179e"
            ],
            [
             0.4444444444444444,
             "#bd3786"
            ],
            [
             0.5555555555555556,
             "#d8576b"
            ],
            [
             0.6666666666666666,
             "#ed7953"
            ],
            [
             0.7777777777777778,
             "#fb9f3a"
            ],
            [
             0.8888888888888888,
             "#fdca26"
            ],
            [
             1,
             "#f0f921"
            ]
           ]
          },
          "colorway": [
           "#636efa",
           "#EF553B",
           "#00cc96",
           "#ab63fa",
           "#FFA15A",
           "#19d3f3",
           "#FF6692",
           "#B6E880",
           "#FF97FF",
           "#FECB52"
          ],
          "font": {
           "color": "#2a3f5f"
          },
          "geo": {
           "bgcolor": "white",
           "lakecolor": "white",
           "landcolor": "#E5ECF6",
           "showlakes": true,
           "showland": true,
           "subunitcolor": "white"
          },
          "hoverlabel": {
           "align": "left"
          },
          "hovermode": "closest",
          "mapbox": {
           "style": "light"
          },
          "paper_bgcolor": "white",
          "plot_bgcolor": "#E5ECF6",
          "polar": {
           "angularaxis": {
            "gridcolor": "white",
            "linecolor": "white",
            "ticks": ""
           },
           "bgcolor": "#E5ECF6",
           "radialaxis": {
            "gridcolor": "white",
            "linecolor": "white",
            "ticks": ""
           }
          },
          "scene": {
           "xaxis": {
            "backgroundcolor": "#E5ECF6",
            "gridcolor": "white",
            "gridwidth": 2,
            "linecolor": "white",
            "showbackground": true,
            "ticks": "",
            "zerolinecolor": "white"
           },
           "yaxis": {
            "backgroundcolor": "#E5ECF6",
            "gridcolor": "white",
            "gridwidth": 2,
            "linecolor": "white",
            "showbackground": true,
            "ticks": "",
            "zerolinecolor": "white"
           },
           "zaxis": {
            "backgroundcolor": "#E5ECF6",
            "gridcolor": "white",
            "gridwidth": 2,
            "linecolor": "white",
            "showbackground": true,
            "ticks": "",
            "zerolinecolor": "white"
           }
          },
          "shapedefaults": {
           "line": {
            "color": "#2a3f5f"
           }
          },
          "ternary": {
           "aaxis": {
            "gridcolor": "white",
            "linecolor": "white",
            "ticks": ""
           },
           "baxis": {
            "gridcolor": "white",
            "linecolor": "white",
            "ticks": ""
           },
           "bgcolor": "#E5ECF6",
           "caxis": {
            "gridcolor": "white",
            "linecolor": "white",
            "ticks": ""
           }
          },
          "title": {
           "x": 0.05
          },
          "xaxis": {
           "automargin": true,
           "gridcolor": "white",
           "linecolor": "white",
           "ticks": "",
           "title": {
            "standoff": 15
           },
           "zerolinecolor": "white",
           "zerolinewidth": 2
          },
          "yaxis": {
           "automargin": true,
           "gridcolor": "white",
           "linecolor": "white",
           "ticks": "",
           "title": {
            "standoff": 15
           },
           "zerolinecolor": "white",
           "zerolinewidth": 2
          }
         }
        },
        "title": {
         "text": "Distribution of total sulfur dioxide"
        },
        "xaxis": {
         "anchor": "y",
         "domain": [
          0,
          1
         ],
         "title": {
          "text": "total sulfur dioxide"
         }
        },
        "yaxis": {
         "anchor": "x",
         "domain": [
          0,
          1
         ],
         "title": {
          "text": "count"
         }
        }
       }
      }
     },
     "metadata": {},
     "output_type": "display_data"
    },
    {
     "name": "stdout",
     "output_type": "stream",
     "text": [
      "Value counts for total sulfur dioxide:\n",
      "total sulfur dioxide\n",
      "28.0     36\n",
      "15.0     28\n",
      "14.0     27\n",
      "20.0     27\n",
      "18.0     26\n",
      "         ..\n",
      "114.0     1\n",
      "135.0     1\n",
      "129.0     1\n",
      "165.0     1\n",
      "151.0     1\n",
      "Name: count, Length: 138, dtype: int64\n",
      "\n"
     ]
    },
    {
     "data": {
      "application/vnd.plotly.v1+json": {
       "config": {
        "plotlyServerURL": "https://plot.ly"
       },
       "data": [
        {
         "alignmentgroup": "True",
         "bingroup": "x",
         "hovertemplate": "density=%{x}<br>count=%{y}<extra></extra>",
         "legendgroup": "",
         "marker": {
          "color": "#636efa",
          "pattern": {
           "shape": ""
          }
         },
         "name": "",
         "nbinsx": 30,
         "offsetgroup": "",
         "orientation": "v",
         "showlegend": false,
         "type": "histogram",
         "x": [
          0.9978,
          0.9968,
          0.997,
          0.998,
          0.9978,
          0.9978,
          0.9964,
          0.9946,
          0.9968,
          0.9959,
          0.9943,
          0.9974,
          0.9969,
          0.9969,
          0.9982,
          0.9966,
          0.9968,
          0.9968,
          0.9955,
          0.9962,
          0.9972,
          0.9964,
          0.9958,
          0.9966,
          0.9957,
          0.9986,
          0.9975,
          0.9968,
          0.9978,
          0.9976,
          0.9968,
          0.9968,
          0.9934,
          0.997,
          0.9971,
          0.9956,
          0.9955,
          0.997,
          0.9955,
          0.9971,
          0.9975,
          0.9962,
          0.998,
          0.9968,
          0.9966,
          0.9962,
          0.9962,
          0.9962,
          0.9962,
          0.9961,
          0.9976,
          0.9986,
          0.9966,
          0.9958,
          0.9972,
          0.9958,
          0.997,
          0.9959,
          0.9961,
          0.9972,
          0.9966,
          0.9978,
          0.9978,
          0.9964,
          0.9972,
          0.9966,
          0.9938,
          0.9965,
          0.9967,
          0.9972,
          0.9972,
          0.9972,
          0.9967,
          0.996,
          0.9967,
          0.9973,
          0.9969,
          0.9964,
          0.9964,
          0.9988,
          0.9964,
          0.9966,
          0.9978,
          0.9962,
          0.9962,
          0.998,
          0.996,
          0.9964,
          0.9964,
          0.9962,
          0.9968,
          0.9937,
          0.9959,
          0.9965,
          0.9972,
          0.9965,
          0.9916,
          0.9954,
          0.9916,
          0.9968,
          0.9944,
          0.9959,
          0.9958,
          0.9996,
          0.995,
          0.995,
          0.9973,
          0.9973,
          0.9973,
          0.9969,
          0.9968,
          0.9959,
          0.9965,
          0.9964,
          0.9982,
          0.9981,
          0.9961,
          0.9956,
          0.9956,
          0.9953,
          0.9972,
          0.9972,
          0.9961,
          0.9958,
          0.9961,
          0.9972,
          0.9969,
          0.9969,
          0.9969,
          0.9972,
          0.9972,
          0.9971,
          0.997,
          0.9971,
          0.9972,
          0.9968,
          0.9976,
          0.9974,
          0.9964,
          0.9964,
          0.9968,
          0.9981,
          0.9948,
          0.99695,
          0.99615,
          0.9994,
          0.9994,
          0.9966,
          0.99585,
          0.99685,
          0.9959,
          0.9974,
          0.9974,
          0.9962,
          0.9967,
          0.9957,
          0.9964,
          0.9957,
          0.99525,
          0.99815,
          0.99615,
          0.9964,
          0.9927,
          0.99625,
          0.998,
          0.99685,
          0.99675,
          0.9971,
          0.99925,
          0.99565,
          1.00005,
          1.00005,
          0.9983,
          0.99685,
          0.9983,
          0.9985,
          0.9972,
          0.9986,
          0.9959,
          0.99675,
          0.998,
          0.9968,
          0.9968,
          0.99965,
          0.99625,
          0.99565,
          0.99575,
          0.9963,
          0.9999,
          1.00025,
          0.9973,
          0.9987,
          0.9996,
          0.9965,
          0.9965,
          0.9987,
          0.9996,
          0.9976,
          0.9991,
          0.9986,
          0.9972,
          0.9991,
          1.00015,
          1.00015,
          0.9997,
          0.9967,
          0.9976,
          1.001,
          0.9976,
          0.9994,
          0.9964,
          1.0014,
          1.0001,
          0.9981,
          0.99855,
          0.9993,
          0.9965,
          0.9973,
          0.9994,
          0.9973,
          0.9966,
          0.9994,
          0.9994,
          0.996,
          0.99815,
          0.9976,
          0.99645,
          0.9989,
          0.99865,
          0.99975,
          1.0015,
          1.0015,
          0.9978,
          0.998,
          1.0002,
          0.9958,
          0.9963,
          0.9992,
          0.9948,
          0.9974,
          0.9997,
          0.9982,
          0.9982,
          1.0006,
          0.9986,
          0.9979,
          0.9994,
          0.9974,
          1.0018,
          0.9912,
          0.9955,
          1.0001,
          0.997,
          1,
          1.001,
          0.9973,
          0.9982,
          0.9992,
          0.9988,
          1.0022,
          1.0022,
          1,
          0.9962,
          0.9967,
          0.9967,
          1.0003,
          0.9962,
          0.9988,
          0.9974,
          0.998,
          0.9981,
          0.9924,
          1.0014,
          0.998,
          1.0004,
          0.9994,
          0.9988,
          0.9963,
          0.9994,
          1,
          0.9994,
          0.9974,
          0.9981,
          0.9996,
          0.9981,
          0.9987,
          0.9966,
          0.9986,
          0.9982,
          1.0014,
          0.997,
          0.9956,
          0.9996,
          0.9976,
          0.9952,
          0.9955,
          0.9978,
          0.9952,
          0.9949,
          0.9988,
          0.9978,
          0.9997,
          0.9978,
          0.9974,
          1.0004,
          0.9996,
          1.0004,
          0.9958,
          0.9986,
          0.9951,
          0.9987,
          1.0032,
          0.9934,
          0.9996,
          0.9968,
          0.9967,
          0.9994,
          0.9994,
          0.9968,
          0.9998,
          0.9952,
          0.9988,
          0.9986,
          0.9988,
          1.0008,
          0.9976,
          0.9982,
          0.9987,
          0.9982,
          0.9947,
          1,
          0.9952,
          0.9996,
          0.997,
          0.9995,
          0.9988,
          0.998,
          0.9977,
          0.9984,
          1.0026,
          0.9964,
          0.9986,
          0.9976,
          0.9982,
          0.9984,
          0.9952,
          0.995,
          1.0002,
          0.9952,
          0.9972,
          0.9984,
          0.9966,
          0.9972,
          1.0002,
          0.9984,
          0.999,
          0.999,
          0.9976,
          0.9968,
          0.9976,
          1,
          0.9986,
          0.9994,
          0.998,
          0.9973,
          0.9973,
          1.001,
          1.001,
          0.9994,
          0.9982,
          0.9978,
          0.9976,
          0.9962,
          0.9974,
          0.999,
          1.0004,
          1.0004,
          0.9956,
          1,
          0.999,
          0.9974,
          0.9972,
          1.0014,
          0.9996,
          0.9988,
          0.9988,
          0.9966,
          0.9993,
          1.0008,
          0.9982,
          0.9983,
          0.9987,
          0.9994,
          0.9958,
          0.998,
          0.998,
          0.9934,
          1.00315,
          1.0002,
          1.00315,
          1.0021,
          0.9994,
          0.9982,
          0.9971,
          1.0021,
          0.9994,
          0.9991,
          0.999,
          0.9946,
          1.0003,
          0.9978,
          0.9978,
          0.9982,
          0.9982,
          0.9976,
          1.0002,
          1.0002,
          0.9976,
          0.9967,
          0.9917,
          0.9987,
          0.9922,
          0.9987,
          1.0004,
          0.9998,
          0.9994,
          0.9967,
          0.9975,
          0.9984,
          0.9982,
          1.0026,
          0.9956,
          0.9983,
          1.0006,
          0.9965,
          0.9997,
          0.9982,
          0.9988,
          0.9976,
          0.9976,
          0.9974,
          0.9997,
          0.9988,
          0.9988,
          0.9976,
          0.9964,
          0.9976,
          0.9988,
          0.9964,
          1.001,
          0.9964,
          0.9954,
          0.9979,
          0.9978,
          0.997,
          0.9991,
          0.9991,
          0.9991,
          0.9967,
          0.9964,
          0.9948,
          0.9986,
          0.9976,
          0.9976,
          0.9979,
          1.0004,
          0.9986,
          0.998,
          0.9973,
          0.9973,
          0.9978,
          0.9972,
          0.9981,
          0.998,
          0.9988,
          0.9988,
          0.9968,
          0.9968,
          0.9984,
          0.9979,
          0.9983,
          0.9972,
          0.9962,
          0.998,
          0.997,
          0.998,
          0.997,
          0.9962,
          0.9976,
          0.9998,
          0.9979,
          0.9984,
          0.9984,
          0.9921,
          0.9972,
          1.0001,
          0.9986,
          0.9984,
          0.9972,
          0.997,
          0.9972,
          0.998,
          0.999,
          0.9956,
          0.9966,
          0.996,
          0.9985,
          0.9998,
          0.998,
          0.9968,
          0.9976,
          0.9976,
          0.9976,
          0.9982,
          0.9965,
          0.9976,
          0.9994,
          0.997,
          0.997,
          0.995,
          0.9982,
          0.9994,
          0.9966,
          0.998,
          0.9987,
          0.9963,
          1.0002,
          0.999,
          0.9965,
          0.99788,
          1.0001,
          0.99768,
          0.9978,
          0.99761,
          0.99768,
          0.99803,
          0.99785,
          0.99803,
          0.99656,
          0.99525,
          0.99488,
          0.99656,
          0.99656,
          0.99823,
          0.99779,
          0.99738,
          0.99701,
          0.99888,
          0.99888,
          0.99738,
          0.99744,
          0.99668,
          0.99744,
          0.9978,
          0.99782,
          0.9973,
          0.99586,
          0.9961,
          0.99788,
          0.99745,
          0.99676,
          0.99732,
          0.99746,
          0.9982,
          0.9991,
          0.9991,
          0.998,
          0.99708,
          0.99818,
          0.99745,
          0.99639,
          0.99531,
          0.99786,
          0.99746,
          0.99526,
          0.9987,
          0.99735,
          0.99264,
          0.9971,
          0.99682,
          0.99386,
          0.99702,
          0.99693,
          0.99562,
          1.00012,
          0.99462,
          0.99939,
          0.99976,
          0.99606,
          0.99154,
          0.9973,
          0.99682,
          0.9951,
          0.99624,
          0.99632,
          0.99376,
          0.99836,
          0.99064,
          0.99064,
          0.99672,
          0.99629,
          0.99708,
          0.9963,
          0.99689,
          0.9977,
          0.99689,
          0.99708,
          0.99708,
          0.99652,
          0.99652,
          0.99652,
          0.99594,
          0.99686,
          0.99746,
          0.99628,
          0.99746,
          0.99748,
          0.99522,
          0.99576,
          0.99614,
          0.99371,
          0.99533,
          0.99536,
          0.99787,
          0.99824,
          0.99836,
          0.99491,
          1.00289,
          0.99743,
          0.99774,
          0.99743,
          0.99745,
          0.9955,
          0.99444,
          0.9955,
          0.99444,
          0.99562,
          0.99736,
          0.99736,
          0.9962,
          0.9964,
          0.9948,
          0.99528,
          0.99577,
          0.99901,
          0.99674,
          0.99512,
          0.99395,
          0.99824,
          0.9964,
          0.99504,
          0.99786,
          0.99504,
          0.99516,
          0.99604,
          0.99786,
          0.99736,
          0.99516,
          0.99468,
          0.99748,
          0.9971,
          0.99746,
          0.99543,
          0.99425,
          0.99484,
          0.99834,
          0.99498,
          0.99745,
          0.99408,
          0.99552,
          0.99552,
          0.99408,
          0.99536,
          0.99458,
          0.99648,
          0.99568,
          0.99519,
          0.99518,
          0.99592,
          0.99654,
          0.99518,
          0.99733,
          0.9943,
          0.99724,
          0.99658,
          0.997,
          0.99801,
          0.99416,
          0.99774,
          0.99712,
          0.99418,
          0.99774,
          0.99562,
          0.99693,
          0.99596,
          0.99556,
          0.99596,
          0.99694,
          0.99694,
          0.99697,
          0.99554,
          0.99162,
          0.99495,
          0.99603,
          0.9928,
          0.99516,
          0.99516,
          0.99549,
          0.99354,
          0.9957,
          0.99604,
          0.99635,
          0.99454,
          0.99486,
          0.99007,
          0.99636,
          0.99642,
          0.99642,
          0.99584,
          0.99506,
          0.99568,
          0.99822,
          0.99364,
          0.99378,
          0.99568,
          0.99854,
          0.99739,
          0.99683,
          0.99356,
          0.9953,
          0.99692,
          0.99547,
          0.99294,
          0.99438,
          0.99612,
          0.99634,
          0.99702,
          0.99704,
          0.99702,
          0.99258,
          0.99426,
          0.99747,
          0.99586,
          0.99784,
          0.9971,
          0.99586,
          0.9981,
          0.99462,
          0.9956,
          0.99565,
          0.99418,
          0.9963,
          0.99358,
          0.99572,
          0.997,
          0.99498,
          0.99892,
          0.9972,
          0.99534,
          0.99817,
          0.99316,
          0.99316,
          0.99685,
          0.99617,
          0.99529,
          0.99738,
          0.994,
          0.99735,
          0.99735,
          0.99451,
          0.99546,
          0.99479,
          0.99615,
          0.99655,
          0.99655,
          0.99666,
          0.99392,
          0.99388,
          0.99388,
          0.9936,
          0.99374,
          0.99523,
          0.99855,
          0.9982,
          0.99593,
          0.99471,
          0.99396,
          0.9902,
          0.99572,
          0.99572,
          0.99572,
          0.99252,
          0.99256,
          0.99235,
          0.9922,
          0.99394,
          0.99379,
          0.9984,
          0.9977,
          0.9933,
          0.99684,
          0.99524,
          0.9946,
          0.99774,
          0.99786,
          0.99764,
          0.9969,
          0.99624,
          0.99354,
          0.99672,
          0.99588,
          0.99672,
          0.996,
          0.99702,
          0.99526,
          0.99585,
          0.99352,
          0.99616,
          0.99622,
          0.99616,
          0.99524,
          0.9924,
          0.99434,
          0.99692,
          0.99528,
          0.99384,
          0.99502,
          0.99667,
          0.99649,
          0.99716,
          0.99716,
          0.99541,
          0.99572,
          0.99346,
          0.99599,
          0.99478,
          0.99572,
          0.99538,
          0.99538,
          0.99616,
          0.99652,
          0.99551,
          0.99439,
          0.99588,
          0.99633,
          0.99458,
          0.9951,
          0.99686,
          0.99458,
          0.99419,
          0.99516,
          0.99878,
          0.99534,
          0.99534,
          0.99752,
          0.99534,
          0.99428,
          0.99498,
          0.99498,
          0.99628,
          0.99677,
          0.99478,
          0.99734,
          0.99734,
          0.9992,
          0.99922,
          0.99592,
          0.99769,
          0.99157,
          0.99718,
          0.9947,
          0.99621,
          0.99718,
          0.99242,
          0.99659,
          0.99242,
          0.99798,
          0.99488,
          0.99494,
          0.9983,
          0.99655,
          0.99502,
          0.99514,
          0.9963,
          0.99627,
          0.99569,
          0.99628,
          0.99499,
          0.99633,
          0.99538,
          0.99632,
          0.99437,
          0.99726,
          0.99456,
          0.99564,
          0.99564,
          0.996,
          0.99668,
          0.99084,
          0.9935,
          0.99385,
          0.99494,
          0.9944,
          0.99688,
          0.99566,
          0.99636,
          0.99688,
          0.9948,
          0.9956,
          0.9956,
          0.99619,
          0.99734,
          0.99476,
          0.99734,
          0.99914,
          0.99914,
          0.99521,
          0.99638,
          0.99362,
          0.99558,
          0.99323,
          0.99191,
          0.99476,
          0.99444,
          0.99598,
          0.99576,
          0.9955,
          0.99612,
          0.9979,
          0.996,
          0.9929,
          0.99532,
          0.99616,
          0.99258,
          0.99652,
          0.99258,
          0.99392,
          0.9948,
          0.9948,
          0.9948,
          0.9948,
          0.9955,
          0.99616,
          0.99616,
          0.99668,
          0.99581,
          0.9976,
          0.99608,
          0.99387,
          0.99448,
          0.99448,
          0.99448,
          0.99538,
          0.99538,
          0.99538,
          0.99538,
          0.99852,
          0.99613,
          0.99472,
          0.99587,
          0.99332,
          0.9969,
          0.99464,
          0.99464,
          0.99648,
          0.99736,
          0.99704,
          0.99724,
          0.99704,
          0.995,
          0.99576,
          0.99725,
          0.99656,
          0.99623,
          0.99476,
          0.99623,
          0.9946,
          0.99609,
          0.99557,
          0.99557,
          0.99613,
          0.99613,
          0.99593,
          0.99668,
          0.9961,
          0.99718,
          0.99292,
          0.99612,
          0.9942,
          0.99612,
          0.99745,
          0.99745,
          0.99584,
          0.9956,
          0.9962,
          0.9963,
          0.996,
          0.9985,
          0.9974,
          0.995,
          0.995,
          0.995,
          0.9936,
          0.9963,
          0.9974,
          0.9963,
          0.9994,
          0.9966,
          0.9994,
          0.9952,
          0.995,
          0.9956,
          0.995,
          0.9965,
          0.9956,
          0.9968,
          0.9957,
          0.9962,
          0.996,
          0.9956,
          0.9958,
          0.9955,
          1.00369,
          0.99914,
          0.99577,
          0.996,
          0.99566,
          0.99322,
          0.99713,
          0.99701,
          0.99472,
          0.9947,
          0.99732,
          0.99374,
          0.99974,
          0.99467,
          0.99706,
          0.99603,
          0.99458,
          0.99724,
          0.99664,
          0.99522,
          0.9958,
          0.99728,
          0.99648,
          0.99728,
          0.99705,
          0.99578,
          0.99334,
          0.99656,
          0.99336,
          1.00242,
          0.99182,
          1.00242,
          0.99182,
          0.99808,
          0.99828,
          0.99498,
          0.99828,
          0.99542,
          0.99606,
          0.99546,
          0.99496,
          0.9942,
          0.99344,
          0.99348,
          0.99636,
          0.99459,
          0.99492,
          0.99508,
          0.99508,
          0.99642,
          0.99555,
          0.99605,
          0.996,
          0.99562,
          0.99605,
          0.99814,
          0.9941,
          0.99661,
          0.99712,
          0.99842,
          0.99842,
          0.99489,
          0.99647,
          0.99665,
          0.99633,
          0.9953,
          0.99552,
          0.99553,
          0.99714,
          0.99608,
          0.99444,
          0.99631,
          0.99573,
          0.99717,
          0.99397,
          0.9959,
          0.99538,
          0.99646,
          0.9955,
          0.99531,
          0.99575,
          0.99783,
          0.99419,
          0.99768,
          0.99586,
          0.99765,
          0.99514,
          0.99636,
          0.99627,
          0.99787,
          0.99622,
          0.99622,
          0.99622,
          0.99546,
          0.99546,
          0.99489,
          0.99494,
          0.99546,
          0.99629,
          0.99396,
          0.9934,
          0.99514,
          0.99632,
          0.99467,
          0.99474,
          0.99588,
          0.99622,
          0.9954,
          0.9947,
          0.99362,
          0.99578,
          0.99484,
          0.99492,
          0.99483,
          0.99314,
          0.99402,
          0.99574,
          0.99651,
          0.9949,
          0.99512,
          0.99547
         ],
         "xaxis": "x",
         "yaxis": "y"
        }
       ],
       "layout": {
        "barmode": "relative",
        "legend": {
         "tracegroupgap": 0
        },
        "template": {
         "data": {
          "bar": [
           {
            "error_x": {
             "color": "#2a3f5f"
            },
            "error_y": {
             "color": "#2a3f5f"
            },
            "marker": {
             "line": {
              "color": "#E5ECF6",
              "width": 0.5
             },
             "pattern": {
              "fillmode": "overlay",
              "size": 10,
              "solidity": 0.2
             }
            },
            "type": "bar"
           }
          ],
          "barpolar": [
           {
            "marker": {
             "line": {
              "color": "#E5ECF6",
              "width": 0.5
             },
             "pattern": {
              "fillmode": "overlay",
              "size": 10,
              "solidity": 0.2
             }
            },
            "type": "barpolar"
           }
          ],
          "carpet": [
           {
            "aaxis": {
             "endlinecolor": "#2a3f5f",
             "gridcolor": "white",
             "linecolor": "white",
             "minorgridcolor": "white",
             "startlinecolor": "#2a3f5f"
            },
            "baxis": {
             "endlinecolor": "#2a3f5f",
             "gridcolor": "white",
             "linecolor": "white",
             "minorgridcolor": "white",
             "startlinecolor": "#2a3f5f"
            },
            "type": "carpet"
           }
          ],
          "choropleth": [
           {
            "colorbar": {
             "outlinewidth": 0,
             "ticks": ""
            },
            "type": "choropleth"
           }
          ],
          "contour": [
           {
            "colorbar": {
             "outlinewidth": 0,
             "ticks": ""
            },
            "colorscale": [
             [
              0,
              "#0d0887"
             ],
             [
              0.1111111111111111,
              "#46039f"
             ],
             [
              0.2222222222222222,
              "#7201a8"
             ],
             [
              0.3333333333333333,
              "#9c179e"
             ],
             [
              0.4444444444444444,
              "#bd3786"
             ],
             [
              0.5555555555555556,
              "#d8576b"
             ],
             [
              0.6666666666666666,
              "#ed7953"
             ],
             [
              0.7777777777777778,
              "#fb9f3a"
             ],
             [
              0.8888888888888888,
              "#fdca26"
             ],
             [
              1,
              "#f0f921"
             ]
            ],
            "type": "contour"
           }
          ],
          "contourcarpet": [
           {
            "colorbar": {
             "outlinewidth": 0,
             "ticks": ""
            },
            "type": "contourcarpet"
           }
          ],
          "heatmap": [
           {
            "colorbar": {
             "outlinewidth": 0,
             "ticks": ""
            },
            "colorscale": [
             [
              0,
              "#0d0887"
             ],
             [
              0.1111111111111111,
              "#46039f"
             ],
             [
              0.2222222222222222,
              "#7201a8"
             ],
             [
              0.3333333333333333,
              "#9c179e"
             ],
             [
              0.4444444444444444,
              "#bd3786"
             ],
             [
              0.5555555555555556,
              "#d8576b"
             ],
             [
              0.6666666666666666,
              "#ed7953"
             ],
             [
              0.7777777777777778,
              "#fb9f3a"
             ],
             [
              0.8888888888888888,
              "#fdca26"
             ],
             [
              1,
              "#f0f921"
             ]
            ],
            "type": "heatmap"
           }
          ],
          "heatmapgl": [
           {
            "colorbar": {
             "outlinewidth": 0,
             "ticks": ""
            },
            "colorscale": [
             [
              0,
              "#0d0887"
             ],
             [
              0.1111111111111111,
              "#46039f"
             ],
             [
              0.2222222222222222,
              "#7201a8"
             ],
             [
              0.3333333333333333,
              "#9c179e"
             ],
             [
              0.4444444444444444,
              "#bd3786"
             ],
             [
              0.5555555555555556,
              "#d8576b"
             ],
             [
              0.6666666666666666,
              "#ed7953"
             ],
             [
              0.7777777777777778,
              "#fb9f3a"
             ],
             [
              0.8888888888888888,
              "#fdca26"
             ],
             [
              1,
              "#f0f921"
             ]
            ],
            "type": "heatmapgl"
           }
          ],
          "histogram": [
           {
            "marker": {
             "pattern": {
              "fillmode": "overlay",
              "size": 10,
              "solidity": 0.2
             }
            },
            "type": "histogram"
           }
          ],
          "histogram2d": [
           {
            "colorbar": {
             "outlinewidth": 0,
             "ticks": ""
            },
            "colorscale": [
             [
              0,
              "#0d0887"
             ],
             [
              0.1111111111111111,
              "#46039f"
             ],
             [
              0.2222222222222222,
              "#7201a8"
             ],
             [
              0.3333333333333333,
              "#9c179e"
             ],
             [
              0.4444444444444444,
              "#bd3786"
             ],
             [
              0.5555555555555556,
              "#d8576b"
             ],
             [
              0.6666666666666666,
              "#ed7953"
             ],
             [
              0.7777777777777778,
              "#fb9f3a"
             ],
             [
              0.8888888888888888,
              "#fdca26"
             ],
             [
              1,
              "#f0f921"
             ]
            ],
            "type": "histogram2d"
           }
          ],
          "histogram2dcontour": [
           {
            "colorbar": {
             "outlinewidth": 0,
             "ticks": ""
            },
            "colorscale": [
             [
              0,
              "#0d0887"
             ],
             [
              0.1111111111111111,
              "#46039f"
             ],
             [
              0.2222222222222222,
              "#7201a8"
             ],
             [
              0.3333333333333333,
              "#9c179e"
             ],
             [
              0.4444444444444444,
              "#bd3786"
             ],
             [
              0.5555555555555556,
              "#d8576b"
             ],
             [
              0.6666666666666666,
              "#ed7953"
             ],
             [
              0.7777777777777778,
              "#fb9f3a"
             ],
             [
              0.8888888888888888,
              "#fdca26"
             ],
             [
              1,
              "#f0f921"
             ]
            ],
            "type": "histogram2dcontour"
           }
          ],
          "mesh3d": [
           {
            "colorbar": {
             "outlinewidth": 0,
             "ticks": ""
            },
            "type": "mesh3d"
           }
          ],
          "parcoords": [
           {
            "line": {
             "colorbar": {
              "outlinewidth": 0,
              "ticks": ""
             }
            },
            "type": "parcoords"
           }
          ],
          "pie": [
           {
            "automargin": true,
            "type": "pie"
           }
          ],
          "scatter": [
           {
            "fillpattern": {
             "fillmode": "overlay",
             "size": 10,
             "solidity": 0.2
            },
            "type": "scatter"
           }
          ],
          "scatter3d": [
           {
            "line": {
             "colorbar": {
              "outlinewidth": 0,
              "ticks": ""
             }
            },
            "marker": {
             "colorbar": {
              "outlinewidth": 0,
              "ticks": ""
             }
            },
            "type": "scatter3d"
           }
          ],
          "scattercarpet": [
           {
            "marker": {
             "colorbar": {
              "outlinewidth": 0,
              "ticks": ""
             }
            },
            "type": "scattercarpet"
           }
          ],
          "scattergeo": [
           {
            "marker": {
             "colorbar": {
              "outlinewidth": 0,
              "ticks": ""
             }
            },
            "type": "scattergeo"
           }
          ],
          "scattergl": [
           {
            "marker": {
             "colorbar": {
              "outlinewidth": 0,
              "ticks": ""
             }
            },
            "type": "scattergl"
           }
          ],
          "scattermapbox": [
           {
            "marker": {
             "colorbar": {
              "outlinewidth": 0,
              "ticks": ""
             }
            },
            "type": "scattermapbox"
           }
          ],
          "scatterpolar": [
           {
            "marker": {
             "colorbar": {
              "outlinewidth": 0,
              "ticks": ""
             }
            },
            "type": "scatterpolar"
           }
          ],
          "scatterpolargl": [
           {
            "marker": {
             "colorbar": {
              "outlinewidth": 0,
              "ticks": ""
             }
            },
            "type": "scatterpolargl"
           }
          ],
          "scatterternary": [
           {
            "marker": {
             "colorbar": {
              "outlinewidth": 0,
              "ticks": ""
             }
            },
            "type": "scatterternary"
           }
          ],
          "surface": [
           {
            "colorbar": {
             "outlinewidth": 0,
             "ticks": ""
            },
            "colorscale": [
             [
              0,
              "#0d0887"
             ],
             [
              0.1111111111111111,
              "#46039f"
             ],
             [
              0.2222222222222222,
              "#7201a8"
             ],
             [
              0.3333333333333333,
              "#9c179e"
             ],
             [
              0.4444444444444444,
              "#bd3786"
             ],
             [
              0.5555555555555556,
              "#d8576b"
             ],
             [
              0.6666666666666666,
              "#ed7953"
             ],
             [
              0.7777777777777778,
              "#fb9f3a"
             ],
             [
              0.8888888888888888,
              "#fdca26"
             ],
             [
              1,
              "#f0f921"
             ]
            ],
            "type": "surface"
           }
          ],
          "table": [
           {
            "cells": {
             "fill": {
              "color": "#EBF0F8"
             },
             "line": {
              "color": "white"
             }
            },
            "header": {
             "fill": {
              "color": "#C8D4E3"
             },
             "line": {
              "color": "white"
             }
            },
            "type": "table"
           }
          ]
         },
         "layout": {
          "annotationdefaults": {
           "arrowcolor": "#2a3f5f",
           "arrowhead": 0,
           "arrowwidth": 1
          },
          "autotypenumbers": "strict",
          "coloraxis": {
           "colorbar": {
            "outlinewidth": 0,
            "ticks": ""
           }
          },
          "colorscale": {
           "diverging": [
            [
             0,
             "#8e0152"
            ],
            [
             0.1,
             "#c51b7d"
            ],
            [
             0.2,
             "#de77ae"
            ],
            [
             0.3,
             "#f1b6da"
            ],
            [
             0.4,
             "#fde0ef"
            ],
            [
             0.5,
             "#f7f7f7"
            ],
            [
             0.6,
             "#e6f5d0"
            ],
            [
             0.7,
             "#b8e186"
            ],
            [
             0.8,
             "#7fbc41"
            ],
            [
             0.9,
             "#4d9221"
            ],
            [
             1,
             "#276419"
            ]
           ],
           "sequential": [
            [
             0,
             "#0d0887"
            ],
            [
             0.1111111111111111,
             "#46039f"
            ],
            [
             0.2222222222222222,
             "#7201a8"
            ],
            [
             0.3333333333333333,
             "#9c179e"
            ],
            [
             0.4444444444444444,
             "#bd3786"
            ],
            [
             0.5555555555555556,
             "#d8576b"
            ],
            [
             0.6666666666666666,
             "#ed7953"
            ],
            [
             0.7777777777777778,
             "#fb9f3a"
            ],
            [
             0.8888888888888888,
             "#fdca26"
            ],
            [
             1,
             "#f0f921"
            ]
           ],
           "sequentialminus": [
            [
             0,
             "#0d0887"
            ],
            [
             0.1111111111111111,
             "#46039f"
            ],
            [
             0.2222222222222222,
             "#7201a8"
            ],
            [
             0.3333333333333333,
             "#9c179e"
            ],
            [
             0.4444444444444444,
             "#bd3786"
            ],
            [
             0.5555555555555556,
             "#d8576b"
            ],
            [
             0.6666666666666666,
             "#ed7953"
            ],
            [
             0.7777777777777778,
             "#fb9f3a"
            ],
            [
             0.8888888888888888,
             "#fdca26"
            ],
            [
             1,
             "#f0f921"
            ]
           ]
          },
          "colorway": [
           "#636efa",
           "#EF553B",
           "#00cc96",
           "#ab63fa",
           "#FFA15A",
           "#19d3f3",
           "#FF6692",
           "#B6E880",
           "#FF97FF",
           "#FECB52"
          ],
          "font": {
           "color": "#2a3f5f"
          },
          "geo": {
           "bgcolor": "white",
           "lakecolor": "white",
           "landcolor": "#E5ECF6",
           "showlakes": true,
           "showland": true,
           "subunitcolor": "white"
          },
          "hoverlabel": {
           "align": "left"
          },
          "hovermode": "closest",
          "mapbox": {
           "style": "light"
          },
          "paper_bgcolor": "white",
          "plot_bgcolor": "#E5ECF6",
          "polar": {
           "angularaxis": {
            "gridcolor": "white",
            "linecolor": "white",
            "ticks": ""
           },
           "bgcolor": "#E5ECF6",
           "radialaxis": {
            "gridcolor": "white",
            "linecolor": "white",
            "ticks": ""
           }
          },
          "scene": {
           "xaxis": {
            "backgroundcolor": "#E5ECF6",
            "gridcolor": "white",
            "gridwidth": 2,
            "linecolor": "white",
            "showbackground": true,
            "ticks": "",
            "zerolinecolor": "white"
           },
           "yaxis": {
            "backgroundcolor": "#E5ECF6",
            "gridcolor": "white",
            "gridwidth": 2,
            "linecolor": "white",
            "showbackground": true,
            "ticks": "",
            "zerolinecolor": "white"
           },
           "zaxis": {
            "backgroundcolor": "#E5ECF6",
            "gridcolor": "white",
            "gridwidth": 2,
            "linecolor": "white",
            "showbackground": true,
            "ticks": "",
            "zerolinecolor": "white"
           }
          },
          "shapedefaults": {
           "line": {
            "color": "#2a3f5f"
           }
          },
          "ternary": {
           "aaxis": {
            "gridcolor": "white",
            "linecolor": "white",
            "ticks": ""
           },
           "baxis": {
            "gridcolor": "white",
            "linecolor": "white",
            "ticks": ""
           },
           "bgcolor": "#E5ECF6",
           "caxis": {
            "gridcolor": "white",
            "linecolor": "white",
            "ticks": ""
           }
          },
          "title": {
           "x": 0.05
          },
          "xaxis": {
           "automargin": true,
           "gridcolor": "white",
           "linecolor": "white",
           "ticks": "",
           "title": {
            "standoff": 15
           },
           "zerolinecolor": "white",
           "zerolinewidth": 2
          },
          "yaxis": {
           "automargin": true,
           "gridcolor": "white",
           "linecolor": "white",
           "ticks": "",
           "title": {
            "standoff": 15
           },
           "zerolinecolor": "white",
           "zerolinewidth": 2
          }
         }
        },
        "title": {
         "text": "Distribution of density"
        },
        "xaxis": {
         "anchor": "y",
         "domain": [
          0,
          1
         ],
         "title": {
          "text": "density"
         }
        },
        "yaxis": {
         "anchor": "x",
         "domain": [
          0,
          1
         ],
         "title": {
          "text": "count"
         }
        }
       }
      }
     },
     "metadata": {},
     "output_type": "display_data"
    },
    {
     "name": "stdout",
     "output_type": "stream",
     "text": [
      "Value counts for density:\n",
      "density\n",
      "0.99760    27\n",
      "0.99720    25\n",
      "0.99680    22\n",
      "0.99940    22\n",
      "0.99640    21\n",
      "           ..\n",
      "0.99438     1\n",
      "0.99634     1\n",
      "0.99426     1\n",
      "0.99747     1\n",
      "0.99651     1\n",
      "Name: count, Length: 388, dtype: int64\n",
      "\n"
     ]
    },
    {
     "data": {
      "application/vnd.plotly.v1+json": {
       "config": {
        "plotlyServerURL": "https://plot.ly"
       },
       "data": [
        {
         "alignmentgroup": "True",
         "bingroup": "x",
         "hovertemplate": "pH=%{x}<br>count=%{y}<extra></extra>",
         "legendgroup": "",
         "marker": {
          "color": "#636efa",
          "pattern": {
           "shape": ""
          }
         },
         "name": "",
         "nbinsx": 30,
         "offsetgroup": "",
         "orientation": "v",
         "showlegend": false,
         "type": "histogram",
         "x": [
          3.51,
          3.2,
          3.26,
          3.16,
          3.51,
          3.51,
          3.3,
          3.39,
          3.36,
          3.28,
          3.58,
          3.26,
          3.3,
          3.04,
          3.52,
          3.17,
          3.17,
          3.43,
          3.34,
          3.28,
          3.47,
          3.38,
          3.35,
          3.17,
          3.38,
          3.4,
          3.42,
          3.23,
          3.33,
          3.26,
          3.21,
          3.3,
          3.9,
          3.25,
          3.15,
          3.4,
          3.39,
          3.2,
          3.17,
          3.04,
          3.43,
          3.41,
          3.44,
          3.21,
          3.39,
          3.41,
          3.41,
          3.44,
          3.34,
          3.31,
          3.31,
          3.54,
          3.52,
          3.38,
          3.16,
          3.41,
          3.36,
          3.44,
          3.41,
          2.93,
          3.39,
          3.14,
          3.48,
          3.23,
          2.93,
          3.39,
          3.75,
          3.45,
          3.39,
          3.3,
          3.4,
          3.3,
          3.29,
          3.33,
          3.29,
          3.08,
          3.46,
          3.19,
          3.15,
          3.32,
          3.19,
          3.07,
          3.39,
          3.3,
          3.21,
          3.49,
          3.39,
          3.53,
          3.54,
          3.42,
          3.24,
          3.63,
          3.22,
          3.19,
          3.48,
          3.19,
          3.68,
          3.34,
          3.68,
          3.17,
          3.54,
          3.42,
          3.33,
          2.74,
          3.35,
          3.35,
          3.42,
          3.42,
          3.42,
          3.48,
          3.59,
          3.2,
          3.17,
          3.33,
          3.37,
          3.37,
          3.19,
          3.34,
          3.37,
          3.47,
          3.36,
          3.29,
          3.42,
          3.35,
          3.33,
          3.58,
          3.48,
          3.19,
          3.19,
          3.12,
          3.44,
          3.54,
          3.52,
          3.26,
          3.34,
          3.2,
          3.23,
          3.57,
          3.28,
          3.28,
          3.46,
          3.11,
          3.51,
          3.22,
          3.34,
          3.2,
          3.2,
          3.22,
          3.3,
          3.35,
          3.3,
          3.24,
          3.34,
          3.14,
          3.36,
          3.39,
          3.34,
          3.15,
          3.42,
          3.28,
          3.37,
          3.04,
          3.54,
          3.37,
          3.34,
          3.32,
          3.37,
          3,
          3.14,
          3.08,
          3.07,
          3.07,
          3.61,
          3.38,
          3.61,
          3.22,
          3.47,
          3.17,
          3.23,
          3.26,
          3.22,
          3.49,
          3.06,
          3.36,
          3.29,
          3.35,
          3.34,
          3.28,
          3.08,
          3.6,
          3.35,
          3.69,
          3.28,
          3.36,
          3.36,
          3.69,
          3.28,
          3.23,
          3.38,
          3.12,
          3.25,
          3.38,
          3.31,
          3.31,
          3.1,
          3.37,
          3.34,
          3.2,
          3.34,
          3.22,
          3.41,
          3.05,
          3.05,
          3.16,
          3.67,
          3.67,
          3.38,
          3.22,
          3.51,
          3.2,
          3.36,
          3.19,
          3.19,
          3.27,
          3.32,
          3.3,
          3.39,
          3.37,
          3.3,
          3.24,
          3.16,
          3.16,
          3.05,
          3.28,
          3.16,
          3.13,
          3.34,
          3.17,
          3.35,
          3.31,
          3.11,
          3.3,
          3.3,
          3.12,
          3.02,
          3.11,
          3.35,
          3.27,
          3.18,
          3.25,
          3.55,
          3.26,
          3.24,
          3.15,
          3.17,
          3.19,
          3.37,
          3.05,
          2.99,
          3.07,
          3.07,
          3.16,
          3.2,
          3.32,
          3.32,
          3.26,
          3.2,
          3.11,
          3.21,
          3.42,
          3.43,
          3.56,
          3.06,
          3.18,
          3.22,
          3.47,
          3.18,
          3.1,
          3.47,
          3.1,
          3.15,
          3.26,
          3.24,
          3.18,
          3.05,
          3.38,
          3.27,
          3.27,
          3.26,
          3.32,
          3.26,
          3.44,
          3.24,
          3.62,
          3.52,
          3.36,
          3.15,
          3.52,
          3.49,
          3.26,
          3.24,
          3.1,
          3.15,
          3.25,
          3.16,
          3.15,
          3.16,
          3.26,
          3.17,
          3.08,
          2.88,
          2.95,
          3.57,
          3.1,
          3.22,
          3.2,
          3.1,
          3.1,
          3.44,
          3.26,
          3.5,
          3.22,
          3.37,
          3.28,
          3.25,
          3.35,
          3.26,
          2.98,
          3.16,
          3.32,
          3.17,
          3.2,
          3.05,
          3.2,
          3.15,
          3.14,
          3.28,
          3.18,
          3.19,
          3.12,
          3.15,
          3.04,
          3.17,
          3.17,
          3.34,
          3.34,
          3.32,
          3.48,
          3.44,
          3.15,
          3.43,
          3.32,
          3.15,
          3.48,
          3.43,
          3.17,
          3.17,
          3.21,
          3.16,
          3.25,
          3.17,
          3.04,
          3.18,
          3.03,
          3.09,
          3.09,
          3.31,
          3.25,
          3.16,
          3.42,
          3.22,
          3.23,
          3.39,
          3.09,
          3.41,
          3.16,
          3.16,
          3.22,
          3.28,
          3.41,
          3.09,
          3.37,
          3.2,
          3.22,
          3.26,
          3.21,
          3.12,
          3.06,
          2.86,
          3.08,
          3.45,
          3.26,
          3.12,
          3.33,
          3.19,
          3.12,
          3.74,
          2.92,
          3.07,
          2.92,
          3.3,
          3.14,
          3.08,
          3.31,
          3.3,
          3.14,
          3.32,
          3.31,
          3.57,
          3.32,
          3.14,
          3.34,
          3.3,
          3.29,
          3.14,
          3.19,
          3.19,
          2.98,
          3.26,
          3.72,
          3.35,
          3.12,
          3.35,
          3.29,
          3.27,
          3.04,
          3.2,
          3.3,
          3.17,
          3.31,
          3.32,
          3.56,
          3.39,
          2.98,
          3.32,
          3.5,
          3.03,
          3.09,
          3.27,
          3.28,
          3.13,
          3.46,
          3.36,
          3.36,
          3.27,
          3.21,
          3.27,
          3.25,
          3.32,
          3.43,
          3.27,
          3.27,
          3.24,
          3.24,
          3.18,
          3.39,
          3.39,
          3.39,
          3.32,
          3.33,
          3.16,
          2.89,
          2.98,
          3.12,
          3.08,
          3.14,
          2.89,
          2.92,
          3.32,
          3.32,
          3.31,
          3.36,
          3.14,
          3.18,
          2.94,
          2.94,
          3.2,
          3.2,
          3.08,
          3.4,
          3.48,
          3.13,
          3.21,
          3.33,
          3.37,
          3.25,
          3.37,
          3.4,
          3.3,
          3.48,
          3.03,
          3.32,
          3.31,
          3.9,
          3.47,
          3.31,
          3.11,
          3.08,
          3.47,
          3.47,
          3.32,
          3.29,
          3.37,
          3.4,
          3.37,
          3.34,
          3.06,
          3.38,
          3.28,
          3.21,
          3.22,
          3.46,
          3.22,
          3.1,
          2.94,
          3.29,
          3.43,
          3.46,
          3.46,
          3.61,
          3.17,
          3.44,
          3.39,
          3.55,
          3.48,
          3.26,
          3.5,
          3.35,
          3.45,
          3.21,
          3.13,
          3.52,
          3.3,
          3.52,
          3.52,
          3.29,
          3.39,
          3.29,
          3.09,
          3.51,
          3.6,
          3.25,
          3.25,
          3.19,
          3.23,
          3.25,
          3.31,
          3.31,
          3.31,
          3.14,
          3.55,
          3.39,
          3.55,
          3.28,
          3.27,
          3.3,
          3.43,
          3.4,
          3.36,
          3.5,
          3.31,
          3.66,
          3.55,
          3.21,
          3.18,
          3.18,
          3.09,
          3.33,
          3.23,
          3.48,
          3.38,
          3.17,
          2.99,
          3.1,
          3.24,
          3.29,
          3.23,
          3.56,
          3.24,
          3.26,
          3.27,
          3.26,
          3.22,
          3.3,
          3.09,
          3.44,
          3.21,
          3.28,
          3.34,
          3.71,
          3.61,
          3.24,
          3.4,
          3.36,
          3.38,
          3.56,
          3.38,
          3.26,
          3.26,
          3.24,
          3.45,
          3.23,
          3.28,
          3.59,
          3.5,
          3.59,
          3.28,
          3.28,
          3.47,
          3.47,
          3.47,
          3.4,
          3.15,
          3.51,
          3.24,
          3.51,
          3.51,
          3.53,
          3.43,
          3.31,
          3.41,
          3.48,
          3.22,
          3.22,
          3.34,
          3.33,
          3.43,
          3.22,
          3.53,
          3.22,
          3.53,
          3.53,
          3.42,
          3.31,
          3.42,
          3.31,
          3.4,
          3.58,
          3.58,
          3.41,
          3.39,
          3.59,
          3.43,
          3.23,
          3.18,
          3.33,
          3.27,
          3.62,
          3.38,
          3.3,
          3.38,
          3.24,
          3.38,
          3.18,
          3.47,
          3.47,
          3.2,
          3.18,
          3.3,
          3.48,
          3.45,
          3.69,
          3.39,
          3.61,
          3.19,
          3.22,
          3.27,
          3.29,
          3.26,
          3.41,
          3.41,
          3.26,
          3.31,
          3.2,
          3.36,
          3.31,
          3.47,
          3.16,
          3.27,
          3.38,
          3.16,
          3.13,
          3.2,
          3.33,
          3.3,
          3.44,
          3.15,
          3.28,
          3.32,
          3.25,
          3.34,
          3.32,
          3.45,
          3.44,
          3.16,
          3.14,
          3.16,
          3.45,
          3.45,
          3.39,
          3.12,
          3.47,
          3.44,
          3.25,
          3.36,
          3.26,
          3.26,
          3.23,
          3.25,
          3.17,
          3.23,
          3.38,
          3.22,
          3.27,
          2.89,
          3.53,
          3.2,
          3.2,
          3.35,
          3.27,
          3.32,
          3.33,
          3.41,
          3.49,
          3.32,
          3.36,
          3.2,
          3.17,
          3.22,
          3.24,
          3.33,
          3.38,
          3.36,
          3.32,
          3.31,
          3.49,
          3.27,
          3.27,
          3.03,
          3.56,
          3.38,
          3.13,
          3.21,
          3.15,
          3.19,
          3.21,
          3.14,
          3.21,
          3.3,
          3.22,
          3.28,
          3.29,
          3.4,
          3.02,
          3.31,
          3.18,
          3.2,
          3.31,
          3.15,
          3.27,
          3.01,
          3.01,
          3.42,
          3.33,
          3.12,
          3.38,
          3.29,
          3.02,
          3.02,
          2.98,
          3.35,
          3.43,
          3.33,
          3.35,
          3.35,
          3.2,
          3.11,
          3.35,
          3.35,
          3.28,
          3.41,
          3.27,
          3.36,
          3.17,
          3.25,
          3.78,
          3.29,
          3.49,
          3.38,
          3.38,
          3.38,
          3.3,
          3.52,
          3.2,
          3.45,
          3.14,
          3.51,
          3.22,
          3.18,
          3.38,
          3.37,
          3.3,
          3.38,
          3.22,
          3.14,
          3.34,
          3.41,
          3.27,
          3.3,
          3.61,
          3.43,
          3.53,
          3.28,
          3.21,
          3.39,
          3.23,
          3.46,
          3.15,
          3.23,
          3.15,
          3.33,
          3.46,
          3.14,
          3.29,
          3.32,
          3.21,
          3.32,
          3.2,
          3.27,
          3.46,
          3.46,
          3.61,
          3.58,
          3.68,
          3.27,
          3.19,
          3.29,
          3.36,
          3.36,
          3.3,
          3.28,
          3.56,
          3.52,
          3.22,
          3.52,
          3.16,
          3.15,
          3.21,
          3.16,
          3.27,
          3.35,
          3.14,
          3.4,
          3.4,
          3.35,
          3.4,
          3.45,
          3.35,
          3.35,
          3.1,
          3.29,
          3.2,
          3.28,
          3.28,
          3.07,
          3.15,
          3.02,
          3.27,
          3.68,
          3.4,
          3.37,
          3.38,
          3.4,
          3.39,
          3.26,
          3.39,
          3.38,
          3.45,
          3.1,
          3.37,
          3.49,
          3.12,
          3.4,
          3.28,
          3.45,
          3.43,
          3.4,
          3.1,
          3.32,
          3.44,
          3.02,
          3.59,
          3.15,
          3.38,
          3.38,
          3.38,
          3.1,
          3.47,
          3.7,
          3.38,
          3.5,
          3.1,
          3.24,
          3.24,
          3.28,
          3.35,
          3.24,
          3.14,
          3.37,
          3.37,
          3.33,
          3.26,
          3.39,
          3.15,
          3.3,
          3.3,
          3.36,
          3.29,
          3.62,
          3.2,
          3.35,
          3.45,
          3.5,
          3.78,
          3.6,
          3.3,
          3.12,
          3.3,
          3.29,
          3.28,
          3.33,
          3.34,
          3.26,
          4.01,
          2.9,
          4.01,
          3.18,
          3.39,
          3.39,
          3.39,
          3.39,
          3.34,
          3.29,
          3.29,
          3.26,
          3.09,
          3.18,
          3.39,
          3.38,
          3.36,
          3.36,
          3.36,
          3.36,
          3.36,
          3.36,
          3.36,
          3.09,
          3.25,
          3.52,
          3.34,
          3.32,
          3.37,
          3.36,
          3.36,
          3.6,
          3.28,
          3.07,
          3.36,
          3.07,
          3.46,
          3.24,
          3.25,
          3.27,
          3,
          3.21,
          3,
          3.11,
          3.29,
          3.36,
          3.36,
          3.3,
          3.3,
          3.19,
          3.19,
          3.3,
          3.35,
          3.58,
          3.37,
          3.17,
          3.3,
          3.31,
          3.31,
          3.28,
          3.42,
          3.25,
          3.44,
          3.23,
          3.43,
          3.22,
          3.54,
          3.27,
          3.54,
          3.5,
          3.56,
          3.22,
          3.04,
          3.2,
          3.56,
          3.2,
          3.35,
          3.16,
          3.27,
          3.16,
          3.34,
          3.39,
          3.5,
          3.3,
          3.31,
          3.33,
          3.37,
          3.26,
          3.42,
          3.18,
          3.15,
          3.53,
          3.41,
          3.32,
          3.38,
          3.16,
          3.4,
          3.23,
          3.23,
          3.33,
          3.35,
          3.21,
          3.5,
          3.41,
          3.39,
          3.32,
          3.41,
          3.59,
          3.34,
          3.41,
          3.3,
          3.52,
          3.3,
          3.31,
          2.88,
          3.43,
          3.38,
          3.38,
          3.16,
          3.54,
          3.16,
          3.54,
          3.4,
          3.39,
          3.66,
          3.39,
          3.35,
          3.37,
          3.38,
          3.52,
          3.72,
          3.39,
          3.57,
          3.26,
          3.42,
          3.35,
          3.45,
          3.45,
          3.16,
          3.51,
          3.36,
          3.55,
          3.51,
          3.36,
          3.38,
          3.28,
          3.47,
          3.44,
          3.53,
          3.53,
          3.38,
          3.32,
          3.44,
          3.42,
          3.34,
          3.33,
          3.3,
          3.31,
          3.42,
          3.42,
          3.6,
          3.21,
          3.39,
          3.42,
          3.36,
          3.57,
          3.56,
          3.17,
          3.36,
          3.36,
          3.1,
          3.24,
          3.44,
          3.51,
          3.41,
          3.44,
          3.53,
          3.54,
          3.22,
          3.21,
          3.21,
          3.21,
          3.29,
          3.29,
          3.39,
          3.34,
          3.29,
          3.34,
          3.48,
          3.37,
          3.44,
          3.33,
          3.58,
          3.26,
          3.3,
          3.54,
          3.42,
          3.36,
          3.57,
          3.33,
          3.29,
          3.34,
          3.55,
          3.32,
          3.67,
          3.42,
          3.42,
          3.45,
          3.52,
          3.57
         ],
         "xaxis": "x",
         "yaxis": "y"
        }
       ],
       "layout": {
        "barmode": "relative",
        "legend": {
         "tracegroupgap": 0
        },
        "template": {
         "data": {
          "bar": [
           {
            "error_x": {
             "color": "#2a3f5f"
            },
            "error_y": {
             "color": "#2a3f5f"
            },
            "marker": {
             "line": {
              "color": "#E5ECF6",
              "width": 0.5
             },
             "pattern": {
              "fillmode": "overlay",
              "size": 10,
              "solidity": 0.2
             }
            },
            "type": "bar"
           }
          ],
          "barpolar": [
           {
            "marker": {
             "line": {
              "color": "#E5ECF6",
              "width": 0.5
             },
             "pattern": {
              "fillmode": "overlay",
              "size": 10,
              "solidity": 0.2
             }
            },
            "type": "barpolar"
           }
          ],
          "carpet": [
           {
            "aaxis": {
             "endlinecolor": "#2a3f5f",
             "gridcolor": "white",
             "linecolor": "white",
             "minorgridcolor": "white",
             "startlinecolor": "#2a3f5f"
            },
            "baxis": {
             "endlinecolor": "#2a3f5f",
             "gridcolor": "white",
             "linecolor": "white",
             "minorgridcolor": "white",
             "startlinecolor": "#2a3f5f"
            },
            "type": "carpet"
           }
          ],
          "choropleth": [
           {
            "colorbar": {
             "outlinewidth": 0,
             "ticks": ""
            },
            "type": "choropleth"
           }
          ],
          "contour": [
           {
            "colorbar": {
             "outlinewidth": 0,
             "ticks": ""
            },
            "colorscale": [
             [
              0,
              "#0d0887"
             ],
             [
              0.1111111111111111,
              "#46039f"
             ],
             [
              0.2222222222222222,
              "#7201a8"
             ],
             [
              0.3333333333333333,
              "#9c179e"
             ],
             [
              0.4444444444444444,
              "#bd3786"
             ],
             [
              0.5555555555555556,
              "#d8576b"
             ],
             [
              0.6666666666666666,
              "#ed7953"
             ],
             [
              0.7777777777777778,
              "#fb9f3a"
             ],
             [
              0.8888888888888888,
              "#fdca26"
             ],
             [
              1,
              "#f0f921"
             ]
            ],
            "type": "contour"
           }
          ],
          "contourcarpet": [
           {
            "colorbar": {
             "outlinewidth": 0,
             "ticks": ""
            },
            "type": "contourcarpet"
           }
          ],
          "heatmap": [
           {
            "colorbar": {
             "outlinewidth": 0,
             "ticks": ""
            },
            "colorscale": [
             [
              0,
              "#0d0887"
             ],
             [
              0.1111111111111111,
              "#46039f"
             ],
             [
              0.2222222222222222,
              "#7201a8"
             ],
             [
              0.3333333333333333,
              "#9c179e"
             ],
             [
              0.4444444444444444,
              "#bd3786"
             ],
             [
              0.5555555555555556,
              "#d8576b"
             ],
             [
              0.6666666666666666,
              "#ed7953"
             ],
             [
              0.7777777777777778,
              "#fb9f3a"
             ],
             [
              0.8888888888888888,
              "#fdca26"
             ],
             [
              1,
              "#f0f921"
             ]
            ],
            "type": "heatmap"
           }
          ],
          "heatmapgl": [
           {
            "colorbar": {
             "outlinewidth": 0,
             "ticks": ""
            },
            "colorscale": [
             [
              0,
              "#0d0887"
             ],
             [
              0.1111111111111111,
              "#46039f"
             ],
             [
              0.2222222222222222,
              "#7201a8"
             ],
             [
              0.3333333333333333,
              "#9c179e"
             ],
             [
              0.4444444444444444,
              "#bd3786"
             ],
             [
              0.5555555555555556,
              "#d8576b"
             ],
             [
              0.6666666666666666,
              "#ed7953"
             ],
             [
              0.7777777777777778,
              "#fb9f3a"
             ],
             [
              0.8888888888888888,
              "#fdca26"
             ],
             [
              1,
              "#f0f921"
             ]
            ],
            "type": "heatmapgl"
           }
          ],
          "histogram": [
           {
            "marker": {
             "pattern": {
              "fillmode": "overlay",
              "size": 10,
              "solidity": 0.2
             }
            },
            "type": "histogram"
           }
          ],
          "histogram2d": [
           {
            "colorbar": {
             "outlinewidth": 0,
             "ticks": ""
            },
            "colorscale": [
             [
              0,
              "#0d0887"
             ],
             [
              0.1111111111111111,
              "#46039f"
             ],
             [
              0.2222222222222222,
              "#7201a8"
             ],
             [
              0.3333333333333333,
              "#9c179e"
             ],
             [
              0.4444444444444444,
              "#bd3786"
             ],
             [
              0.5555555555555556,
              "#d8576b"
             ],
             [
              0.6666666666666666,
              "#ed7953"
             ],
             [
              0.7777777777777778,
              "#fb9f3a"
             ],
             [
              0.8888888888888888,
              "#fdca26"
             ],
             [
              1,
              "#f0f921"
             ]
            ],
            "type": "histogram2d"
           }
          ],
          "histogram2dcontour": [
           {
            "colorbar": {
             "outlinewidth": 0,
             "ticks": ""
            },
            "colorscale": [
             [
              0,
              "#0d0887"
             ],
             [
              0.1111111111111111,
              "#46039f"
             ],
             [
              0.2222222222222222,
              "#7201a8"
             ],
             [
              0.3333333333333333,
              "#9c179e"
             ],
             [
              0.4444444444444444,
              "#bd3786"
             ],
             [
              0.5555555555555556,
              "#d8576b"
             ],
             [
              0.6666666666666666,
              "#ed7953"
             ],
             [
              0.7777777777777778,
              "#fb9f3a"
             ],
             [
              0.8888888888888888,
              "#fdca26"
             ],
             [
              1,
              "#f0f921"
             ]
            ],
            "type": "histogram2dcontour"
           }
          ],
          "mesh3d": [
           {
            "colorbar": {
             "outlinewidth": 0,
             "ticks": ""
            },
            "type": "mesh3d"
           }
          ],
          "parcoords": [
           {
            "line": {
             "colorbar": {
              "outlinewidth": 0,
              "ticks": ""
             }
            },
            "type": "parcoords"
           }
          ],
          "pie": [
           {
            "automargin": true,
            "type": "pie"
           }
          ],
          "scatter": [
           {
            "fillpattern": {
             "fillmode": "overlay",
             "size": 10,
             "solidity": 0.2
            },
            "type": "scatter"
           }
          ],
          "scatter3d": [
           {
            "line": {
             "colorbar": {
              "outlinewidth": 0,
              "ticks": ""
             }
            },
            "marker": {
             "colorbar": {
              "outlinewidth": 0,
              "ticks": ""
             }
            },
            "type": "scatter3d"
           }
          ],
          "scattercarpet": [
           {
            "marker": {
             "colorbar": {
              "outlinewidth": 0,
              "ticks": ""
             }
            },
            "type": "scattercarpet"
           }
          ],
          "scattergeo": [
           {
            "marker": {
             "colorbar": {
              "outlinewidth": 0,
              "ticks": ""
             }
            },
            "type": "scattergeo"
           }
          ],
          "scattergl": [
           {
            "marker": {
             "colorbar": {
              "outlinewidth": 0,
              "ticks": ""
             }
            },
            "type": "scattergl"
           }
          ],
          "scattermapbox": [
           {
            "marker": {
             "colorbar": {
              "outlinewidth": 0,
              "ticks": ""
             }
            },
            "type": "scattermapbox"
           }
          ],
          "scatterpolar": [
           {
            "marker": {
             "colorbar": {
              "outlinewidth": 0,
              "ticks": ""
             }
            },
            "type": "scatterpolar"
           }
          ],
          "scatterpolargl": [
           {
            "marker": {
             "colorbar": {
              "outlinewidth": 0,
              "ticks": ""
             }
            },
            "type": "scatterpolargl"
           }
          ],
          "scatterternary": [
           {
            "marker": {
             "colorbar": {
              "outlinewidth": 0,
              "ticks": ""
             }
            },
            "type": "scatterternary"
           }
          ],
          "surface": [
           {
            "colorbar": {
             "outlinewidth": 0,
             "ticks": ""
            },
            "colorscale": [
             [
              0,
              "#0d0887"
             ],
             [
              0.1111111111111111,
              "#46039f"
             ],
             [
              0.2222222222222222,
              "#7201a8"
             ],
             [
              0.3333333333333333,
              "#9c179e"
             ],
             [
              0.4444444444444444,
              "#bd3786"
             ],
             [
              0.5555555555555556,
              "#d8576b"
             ],
             [
              0.6666666666666666,
              "#ed7953"
             ],
             [
              0.7777777777777778,
              "#fb9f3a"
             ],
             [
              0.8888888888888888,
              "#fdca26"
             ],
             [
              1,
              "#f0f921"
             ]
            ],
            "type": "surface"
           }
          ],
          "table": [
           {
            "cells": {
             "fill": {
              "color": "#EBF0F8"
             },
             "line": {
              "color": "white"
             }
            },
            "header": {
             "fill": {
              "color": "#C8D4E3"
             },
             "line": {
              "color": "white"
             }
            },
            "type": "table"
           }
          ]
         },
         "layout": {
          "annotationdefaults": {
           "arrowcolor": "#2a3f5f",
           "arrowhead": 0,
           "arrowwidth": 1
          },
          "autotypenumbers": "strict",
          "coloraxis": {
           "colorbar": {
            "outlinewidth": 0,
            "ticks": ""
           }
          },
          "colorscale": {
           "diverging": [
            [
             0,
             "#8e0152"
            ],
            [
             0.1,
             "#c51b7d"
            ],
            [
             0.2,
             "#de77ae"
            ],
            [
             0.3,
             "#f1b6da"
            ],
            [
             0.4,
             "#fde0ef"
            ],
            [
             0.5,
             "#f7f7f7"
            ],
            [
             0.6,
             "#e6f5d0"
            ],
            [
             0.7,
             "#b8e186"
            ],
            [
             0.8,
             "#7fbc41"
            ],
            [
             0.9,
             "#4d9221"
            ],
            [
             1,
             "#276419"
            ]
           ],
           "sequential": [
            [
             0,
             "#0d0887"
            ],
            [
             0.1111111111111111,
             "#46039f"
            ],
            [
             0.2222222222222222,
             "#7201a8"
            ],
            [
             0.3333333333333333,
             "#9c179e"
            ],
            [
             0.4444444444444444,
             "#bd3786"
            ],
            [
             0.5555555555555556,
             "#d8576b"
            ],
            [
             0.6666666666666666,
             "#ed7953"
            ],
            [
             0.7777777777777778,
             "#fb9f3a"
            ],
            [
             0.8888888888888888,
             "#fdca26"
            ],
            [
             1,
             "#f0f921"
            ]
           ],
           "sequentialminus": [
            [
             0,
             "#0d0887"
            ],
            [
             0.1111111111111111,
             "#46039f"
            ],
            [
             0.2222222222222222,
             "#7201a8"
            ],
            [
             0.3333333333333333,
             "#9c179e"
            ],
            [
             0.4444444444444444,
             "#bd3786"
            ],
            [
             0.5555555555555556,
             "#d8576b"
            ],
            [
             0.6666666666666666,
             "#ed7953"
            ],
            [
             0.7777777777777778,
             "#fb9f3a"
            ],
            [
             0.8888888888888888,
             "#fdca26"
            ],
            [
             1,
             "#f0f921"
            ]
           ]
          },
          "colorway": [
           "#636efa",
           "#EF553B",
           "#00cc96",
           "#ab63fa",
           "#FFA15A",
           "#19d3f3",
           "#FF6692",
           "#B6E880",
           "#FF97FF",
           "#FECB52"
          ],
          "font": {
           "color": "#2a3f5f"
          },
          "geo": {
           "bgcolor": "white",
           "lakecolor": "white",
           "landcolor": "#E5ECF6",
           "showlakes": true,
           "showland": true,
           "subunitcolor": "white"
          },
          "hoverlabel": {
           "align": "left"
          },
          "hovermode": "closest",
          "mapbox": {
           "style": "light"
          },
          "paper_bgcolor": "white",
          "plot_bgcolor": "#E5ECF6",
          "polar": {
           "angularaxis": {
            "gridcolor": "white",
            "linecolor": "white",
            "ticks": ""
           },
           "bgcolor": "#E5ECF6",
           "radialaxis": {
            "gridcolor": "white",
            "linecolor": "white",
            "ticks": ""
           }
          },
          "scene": {
           "xaxis": {
            "backgroundcolor": "#E5ECF6",
            "gridcolor": "white",
            "gridwidth": 2,
            "linecolor": "white",
            "showbackground": true,
            "ticks": "",
            "zerolinecolor": "white"
           },
           "yaxis": {
            "backgroundcolor": "#E5ECF6",
            "gridcolor": "white",
            "gridwidth": 2,
            "linecolor": "white",
            "showbackground": true,
            "ticks": "",
            "zerolinecolor": "white"
           },
           "zaxis": {
            "backgroundcolor": "#E5ECF6",
            "gridcolor": "white",
            "gridwidth": 2,
            "linecolor": "white",
            "showbackground": true,
            "ticks": "",
            "zerolinecolor": "white"
           }
          },
          "shapedefaults": {
           "line": {
            "color": "#2a3f5f"
           }
          },
          "ternary": {
           "aaxis": {
            "gridcolor": "white",
            "linecolor": "white",
            "ticks": ""
           },
           "baxis": {
            "gridcolor": "white",
            "linecolor": "white",
            "ticks": ""
           },
           "bgcolor": "#E5ECF6",
           "caxis": {
            "gridcolor": "white",
            "linecolor": "white",
            "ticks": ""
           }
          },
          "title": {
           "x": 0.05
          },
          "xaxis": {
           "automargin": true,
           "gridcolor": "white",
           "linecolor": "white",
           "ticks": "",
           "title": {
            "standoff": 15
           },
           "zerolinecolor": "white",
           "zerolinewidth": 2
          },
          "yaxis": {
           "automargin": true,
           "gridcolor": "white",
           "linecolor": "white",
           "ticks": "",
           "title": {
            "standoff": 15
           },
           "zerolinecolor": "white",
           "zerolinewidth": 2
          }
         }
        },
        "title": {
         "text": "Distribution of pH"
        },
        "xaxis": {
         "anchor": "y",
         "domain": [
          0,
          1
         ],
         "title": {
          "text": "pH"
         }
        },
        "yaxis": {
         "anchor": "x",
         "domain": [
          0,
          1
         ],
         "title": {
          "text": "count"
         }
        }
       }
      }
     },
     "metadata": {},
     "output_type": "display_data"
    },
    {
     "name": "stdout",
     "output_type": "stream",
     "text": [
      "Value counts for pH:\n",
      "pH\n",
      "3.30    41\n",
      "3.36    40\n",
      "3.38    38\n",
      "3.39    37\n",
      "3.26    33\n",
      "        ..\n",
      "2.86     1\n",
      "2.95     1\n",
      "2.74     1\n",
      "3.75     1\n",
      "2.90     1\n",
      "Name: count, Length: 87, dtype: int64\n",
      "\n"
     ]
    },
    {
     "data": {
      "application/vnd.plotly.v1+json": {
       "config": {
        "plotlyServerURL": "https://plot.ly"
       },
       "data": [
        {
         "alignmentgroup": "True",
         "bingroup": "x",
         "hovertemplate": "sulphates=%{x}<br>count=%{y}<extra></extra>",
         "legendgroup": "",
         "marker": {
          "color": "#636efa",
          "pattern": {
           "shape": ""
          }
         },
         "name": "",
         "nbinsx": 30,
         "offsetgroup": "",
         "orientation": "v",
         "showlegend": false,
         "type": "histogram",
         "x": [
          0.56,
          0.68,
          0.65,
          0.58,
          0.56,
          0.56,
          0.46,
          0.47,
          0.57,
          0.54,
          0.52,
          1.56,
          0.75,
          1.08,
          0.65,
          0.91,
          0.53,
          0.63,
          0.56,
          0.59,
          0.55,
          0.59,
          0.54,
          0.66,
          0.55,
          0.55,
          0.6,
          0.73,
          0.83,
          0.51,
          0.9,
          1.2,
          0.56,
          0.73,
          0.74,
          0.63,
          0.64,
          0.56,
          0.63,
          0.63,
          0.59,
          0.54,
          0.64,
          0.71,
          0.57,
          0.39,
          0.39,
          0.58,
          0.95,
          0.48,
          0.53,
          0.66,
          0.55,
          0.52,
          1.12,
          0.56,
          0.57,
          0.78,
          0.59,
          1.95,
          0.64,
          1.22,
          0.53,
          0.54,
          1.95,
          0.64,
          0.48,
          0.56,
          0.56,
          0.59,
          0.61,
          0.59,
          0.51,
          0.48,
          0.51,
          1.31,
          0.79,
          0.93,
          0.66,
          0.67,
          0.93,
          0.63,
          0.61,
          0.57,
          0.6,
          0.52,
          0.48,
          0.49,
          0.48,
          0.92,
          0.66,
          0.63,
          0.55,
          0.82,
          0.64,
          0.82,
          0.79,
          0.58,
          0.79,
          0.62,
          0.52,
          0.58,
          0.53,
          2,
          0.54,
          0.54,
          0.71,
          0.72,
          0.71,
          0.5,
          0.57,
          0.56,
          1.08,
          0.56,
          0.49,
          0.49,
          0.62,
          0.52,
          0.48,
          0.55,
          0.33,
          0.61,
          0.57,
          0.78,
          0.47,
          0.61,
          0.56,
          0.59,
          0.59,
          1.02,
          0.52,
          0.58,
          0.58,
          0.53,
          0.55,
          0.55,
          0.62,
          0.62,
          0.55,
          0.55,
          0.59,
          0.97,
          0.43,
          0.82,
          0.56,
          0.77,
          0.77,
          0.67,
          0.86,
          0.56,
          0.43,
          0.71,
          0.76,
          0.57,
          0.55,
          0.54,
          0.59,
          0.57,
          0.6,
          0.6,
          0.58,
          1.61,
          0.62,
          0.52,
          0.7,
          0.55,
          0.58,
          1.09,
          0.71,
          0.49,
          0.84,
          0.84,
          0.96,
          0.52,
          0.96,
          0.78,
          0.7,
          0.53,
          0.59,
          0.57,
          0.62,
          0.67,
          1.26,
          0.8,
          0.65,
          0.6,
          0.57,
          0.67,
          0.87,
          0.72,
          0.86,
          0.91,
          0.97,
          0.67,
          0.67,
          0.91,
          0.97,
          0.82,
          0.77,
          0.82,
          1.08,
          0.77,
          0.71,
          0.71,
          0.76,
          0.7,
          0.86,
          0.95,
          0.86,
          0.64,
          0.6,
          0.81,
          0.64,
          0.52,
          0.73,
          0.8,
          0.59,
          0.64,
          0.72,
          0.52,
          0.52,
          0.62,
          0.63,
          0.54,
          0.63,
          0.53,
          0.68,
          0.71,
          0.64,
          0.62,
          0.69,
          0.69,
          0.74,
          0.83,
          0.67,
          0.52,
          0.74,
          0.84,
          0.7,
          0.64,
          1.36,
          0.75,
          0.75,
          0.78,
          0.93,
          0.92,
          0.83,
          0.73,
          0.77,
          0.59,
          0.61,
          0.88,
          0.75,
          0.85,
          0.68,
          0.7,
          0.91,
          0.56,
          0.87,
          0.73,
          0.73,
          0.69,
          1.13,
          0.87,
          1.04,
          1.11,
          1.13,
          0.99,
          0.8,
          0.74,
          0.74,
          0.82,
          0.8,
          0.51,
          0.6,
          0.53,
          0.65,
          0.55,
          0.53,
          0.61,
          0.63,
          0.61,
          0.65,
          0.63,
          0.57,
          0.62,
          0.64,
          0.82,
          0.61,
          1.07,
          0.66,
          0.48,
          0.76,
          0.68,
          0.56,
          0.44,
          0.9,
          0.56,
          0.49,
          0.56,
          0.6,
          0.6,
          0.9,
          0.56,
          0.49,
          0.89,
          0.49,
          0.56,
          0.66,
          0.6,
          0.82,
          0.68,
          0.84,
          0.73,
          0.72,
          0.56,
          0.61,
          0.61,
          0.63,
          0.74,
          0.63,
          0.69,
          0.58,
          0.58,
          0.57,
          0.61,
          0.61,
          0.7,
          0.72,
          0.79,
          0.62,
          0.58,
          0.61,
          0.71,
          0.82,
          0.6,
          0.7,
          1.06,
          0.7,
          0.66,
          0.92,
          1.06,
          0.47,
          0.42,
          0.75,
          0.79,
          0.9,
          0.74,
          0.55,
          0.65,
          0.65,
          0.79,
          0.65,
          0.74,
          0.65,
          0.85,
          0.85,
          1.05,
          0.78,
          1.02,
          0.71,
          0.68,
          0.63,
          0.81,
          0.66,
          0.66,
          1.14,
          0.74,
          0.63,
          0.9,
          0.55,
          0.64,
          0.77,
          0.57,
          0.87,
          0.61,
          0.61,
          0.66,
          0.56,
          0.87,
          0.57,
          0.77,
          0.66,
          0.62,
          0.67,
          0.73,
          0.59,
          0.72,
          0.79,
          0.59,
          0.78,
          0.86,
          0.75,
          0.56,
          0.73,
          0.74,
          0.62,
          0.74,
          0.56,
          0.74,
          0.68,
          0.57,
          0.61,
          0.61,
          0.68,
          0.57,
          0.6,
          0.79,
          0.57,
          0.91,
          0.61,
          0.52,
          0.6,
          0.6,
          0.51,
          0.44,
          0.44,
          0.66,
          0.59,
          0.74,
          0.57,
          0.5,
          0.57,
          0.58,
          0.57,
          0.6,
          0.48,
          0.52,
          0.62,
          0.53,
          0.64,
          0.52,
          0.54,
          0.54,
          0.6,
          0.57,
          0.93,
          0.8,
          0.61,
          0.62,
          0.55,
          0.72,
          0.49,
          0.49,
          0.6,
          0.61,
          0.6,
          0.63,
          0.57,
          0.64,
          0.58,
          0.55,
          0.53,
          0.53,
          1.36,
          0.62,
          0.62,
          0.62,
          0.58,
          0.67,
          0.57,
          0.5,
          0.84,
          0.54,
          0.46,
          0.61,
          0.5,
          0.68,
          0.81,
          0.81,
          0.64,
          0.7,
          0.56,
          0.6,
          0.66,
          0.66,
          0.52,
          0.52,
          0.67,
          0.48,
          0.53,
          0.54,
          0.49,
          0.54,
          0.56,
          0.48,
          0.56,
          0.47,
          1.05,
          0.54,
          1.17,
          0.62,
          0.61,
          0.62,
          0.67,
          0.53,
          0.62,
          0.57,
          0.67,
          0.67,
          0.7,
          0.54,
          0.49,
          0.47,
          0.51,
          0.61,
          0.57,
          0.61,
          0.51,
          0.57,
          0.44,
          0.54,
          0.44,
          0.53,
          1.62,
          0.55,
          0.72,
          0.68,
          0.68,
          0.49,
          0.67,
          0.52,
          0.47,
          0.6,
          0.62,
          0.5,
          0.65,
          0.6,
          0.68,
          0.57,
          0.51,
          0.73,
          0.47,
          0.72,
          0.73,
          0.55,
          0.61,
          0.55,
          1.06,
          0.43,
          0.46,
          0.5,
          0.5,
          0.52,
          0.57,
          0.42,
          0.53,
          0.55,
          0.54,
          0.54,
          0.53,
          0.54,
          0.53,
          0.55,
          0.55,
          0.92,
          0.46,
          0.59,
          0.61,
          0.6,
          0.6,
          0.65,
          0.59,
          0.5,
          0.56,
          0.56,
          0.52,
          0.68,
          0.54,
          0.6,
          0.56,
          0.53,
          1.18,
          0.74,
          0.81,
          0.52,
          0.44,
          0.94,
          0.66,
          0.57,
          0.71,
          0.86,
          0.55,
          0.47,
          0.68,
          0.58,
          0.76,
          0.54,
          0.6,
          0.74,
          0.64,
          0.53,
          0.64,
          0.49,
          0.55,
          0.77,
          0.86,
          0.39,
          0.39,
          0.83,
          0.63,
          0.72,
          0.62,
          0.66,
          0.7,
          0.66,
          0.55,
          0.55,
          0.73,
          0.73,
          0.73,
          0.78,
          0.67,
          0.54,
          0.44,
          0.53,
          0.54,
          0.57,
          0.54,
          0.79,
          0.57,
          0.65,
          0.78,
          0.5,
          0.64,
          0.65,
          0.56,
          0.68,
          0.57,
          0.65,
          0.57,
          0.58,
          0.58,
          0.77,
          0.58,
          0.77,
          0.69,
          0.69,
          0.69,
          0.59,
          0.71,
          0.54,
          0.59,
          0.57,
          0.6,
          0.62,
          0.67,
          0.61,
          0.64,
          0.72,
          0.89,
          0.56,
          0.89,
          0.8,
          0.87,
          0.9,
          0.59,
          0.8,
          0.73,
          0.65,
          0.59,
          0.73,
          0.72,
          0.54,
          0.52,
          0.64,
          0.64,
          0.99,
          0.62,
          0.76,
          0.76,
          0.62,
          0.68,
          0.69,
          0.67,
          0.62,
          0.71,
          0.85,
          0.62,
          0.69,
          0.85,
          0.48,
          0.6,
          0.87,
          0.62,
          0.52,
          0.5,
          0.49,
          0.71,
          0.62,
          0.82,
          0.71,
          0.58,
          0.5,
          0.49,
          0.51,
          0.49,
          0.48,
          0.48,
          0.62,
          0.48,
          0.53,
          0.72,
          0.54,
          0.55,
          0.84,
          0.84,
          0.7,
          0.55,
          0.55,
          0.48,
          0.58,
          0.58,
          0.75,
          0.44,
          0.61,
          0.53,
          0.53,
          0.54,
          0.55,
          0.56,
          0.6,
          0.56,
          0.52,
          0.56,
          0.53,
          0.47,
          0.65,
          0.59,
          0.77,
          0.83,
          0.64,
          0.62,
          0.58,
          0.62,
          0.64,
          0.78,
          0.77,
          1.34,
          0.55,
          0.77,
          0.62,
          0.59,
          0.57,
          0.76,
          0.59,
          0.7,
          0.69,
          0.64,
          0.63,
          0.57,
          0.6,
          0.72,
          0.83,
          0.62,
          0.89,
          0.58,
          0.58,
          0.73,
          0.58,
          0.51,
          0.51,
          0.59,
          0.77,
          0.49,
          0.66,
          0.69,
          0.76,
          0.76,
          0.63,
          0.6,
          0.59,
          0.86,
          0.49,
          0.49,
          0.52,
          0.78,
          0.63,
          0.63,
          0.66,
          0.6,
          0.85,
          0.49,
          0.76,
          0.64,
          0.64,
          0.71,
          0.66,
          0.6,
          0.6,
          0.6,
          0.53,
          0.58,
          0.72,
          0.48,
          0.59,
          0.6,
          0.68,
          0.63,
          0.88,
          0.68,
          0.74,
          0.6,
          0.76,
          0.58,
          0.64,
          0.65,
          0.85,
          0.65,
          0.82,
          0.62,
          0.81,
          0.87,
          0.49,
          0.66,
          0.52,
          0.65,
          0.53,
          0.66,
          0.53,
          0.76,
          0.87,
          0.71,
          0.67,
          0.88,
          0.56,
          0.62,
          0.67,
          0.74,
          0.62,
          0.62,
          0.7,
          0.5,
          0.73,
          0.81,
          0.46,
          0.6,
          0.7,
          0.7,
          0.44,
          0.57,
          0.51,
          0.8,
          0.59,
          0.6,
          0.54,
          0.79,
          0.58,
          0.54,
          0.54,
          0.69,
          0.55,
          0.85,
          0.85,
          0.94,
          0.85,
          0.87,
          0.62,
          0.62,
          0.48,
          0.69,
          0.83,
          0.77,
          0.77,
          0.82,
          0.51,
          0.47,
          0.72,
          0.73,
          0.64,
          0.78,
          0.62,
          0.64,
          0.4,
          0.64,
          0.4,
          0.46,
          0.56,
          0.4,
          0.62,
          0.68,
          0.48,
          0.61,
          0.59,
          0.58,
          0.58,
          0.69,
          0.42,
          0.7,
          0.63,
          1.15,
          0.55,
          0.58,
          0.72,
          0.6,
          0.6,
          0.87,
          0.55,
          0.75,
          0.57,
          0.53,
          0.43,
          0.53,
          0.54,
          0.56,
          0.6,
          0.54,
          0.57,
          0.64,
          0.64,
          0.68,
          0.63,
          0.56,
          0.57,
          1.17,
          1.17,
          0.59,
          0.75,
          0.67,
          0.45,
          0.61,
          0.56,
          0.4,
          0.61,
          0.74,
          0.8,
          0.44,
          0.53,
          0.62,
          0.61,
          0.59,
          0.47,
          0.58,
          0.59,
          1.33,
          0.59,
          0.55,
          0.6,
          0.6,
          0.6,
          0.6,
          0.52,
          0.56,
          0.56,
          0.46,
          0.43,
          0.51,
          0.52,
          0.66,
          0.45,
          0.45,
          0.45,
          0.54,
          0.54,
          0.54,
          0.54,
          0.53,
          0.53,
          0.56,
          0.39,
          0.51,
          0.46,
          0.44,
          0.44,
          0.59,
          0.5,
          0.65,
          0.54,
          0.65,
          0.53,
          0.5,
          1.18,
          0.5,
          1.17,
          1.03,
          1.17,
          0.46,
          0.51,
          0.62,
          0.62,
          0.49,
          0.49,
          0.5,
          0.42,
          0.58,
          0.68,
          0.59,
          0.58,
          0.48,
          0.48,
          0.65,
          0.65,
          0.52,
          0.72,
          0.51,
          0.82,
          1.1,
          0.62,
          0.94,
          0.93,
          1.01,
          0.93,
          0.44,
          0.73,
          0.94,
          0.9,
          0.78,
          0.84,
          0.78,
          0.77,
          0.46,
          0.45,
          0.46,
          0.58,
          0.84,
          0.67,
          0.58,
          0.63,
          0.93,
          0.62,
          0.54,
          0.74,
          0.77,
          0.65,
          0.54,
          0.47,
          0.68,
          0.49,
          0.52,
          0.74,
          0.76,
          0.73,
          0.78,
          0.76,
          0.69,
          0.63,
          0.58,
          0.6,
          0.8,
          0.68,
          0.61,
          0.53,
          0.67,
          0.65,
          0.57,
          0.65,
          0.55,
          0.47,
          0.52,
          0.79,
          0.54,
          0.75,
          0.88,
          0.75,
          0.88,
          0.52,
          0.68,
          0.62,
          0.68,
          0.61,
          0.55,
          0.6,
          0.78,
          0.58,
          0.56,
          0.54,
          0.59,
          0.7,
          0.81,
          0.63,
          0.63,
          0.53,
          0.69,
          0.55,
          0.63,
          0.66,
          0.55,
          0.72,
          0.7,
          0.77,
          0.67,
          0.72,
          0.72,
          0.83,
          0.63,
          0.58,
          0.97,
          0.6,
          0.64,
          0.65,
          0.67,
          0.6,
          0.69,
          0.66,
          0.68,
          0.61,
          0.62,
          0.59,
          0.63,
          0.63,
          0.81,
          0.64,
          0.61,
          0.58,
          0.7,
          0.54,
          0.66,
          0.6,
          0.68,
          0.56,
          0.6,
          0.56,
          0.52,
          0.52,
          0.52,
          0.54,
          0.54,
          0.82,
          0.71,
          0.54,
          0.59,
          0.57,
          0.93,
          0.65,
          0.51,
          0.67,
          0.64,
          0.78,
          0.6,
          0.67,
          0.6,
          0.5,
          0.62,
          0.8,
          0.85,
          0.66,
          0.82,
          0.56,
          0.75,
          0.82,
          0.58,
          0.76,
          0.71
         ],
         "xaxis": "x",
         "yaxis": "y"
        }
       ],
       "layout": {
        "barmode": "relative",
        "legend": {
         "tracegroupgap": 0
        },
        "template": {
         "data": {
          "bar": [
           {
            "error_x": {
             "color": "#2a3f5f"
            },
            "error_y": {
             "color": "#2a3f5f"
            },
            "marker": {
             "line": {
              "color": "#E5ECF6",
              "width": 0.5
             },
             "pattern": {
              "fillmode": "overlay",
              "size": 10,
              "solidity": 0.2
             }
            },
            "type": "bar"
           }
          ],
          "barpolar": [
           {
            "marker": {
             "line": {
              "color": "#E5ECF6",
              "width": 0.5
             },
             "pattern": {
              "fillmode": "overlay",
              "size": 10,
              "solidity": 0.2
             }
            },
            "type": "barpolar"
           }
          ],
          "carpet": [
           {
            "aaxis": {
             "endlinecolor": "#2a3f5f",
             "gridcolor": "white",
             "linecolor": "white",
             "minorgridcolor": "white",
             "startlinecolor": "#2a3f5f"
            },
            "baxis": {
             "endlinecolor": "#2a3f5f",
             "gridcolor": "white",
             "linecolor": "white",
             "minorgridcolor": "white",
             "startlinecolor": "#2a3f5f"
            },
            "type": "carpet"
           }
          ],
          "choropleth": [
           {
            "colorbar": {
             "outlinewidth": 0,
             "ticks": ""
            },
            "type": "choropleth"
           }
          ],
          "contour": [
           {
            "colorbar": {
             "outlinewidth": 0,
             "ticks": ""
            },
            "colorscale": [
             [
              0,
              "#0d0887"
             ],
             [
              0.1111111111111111,
              "#46039f"
             ],
             [
              0.2222222222222222,
              "#7201a8"
             ],
             [
              0.3333333333333333,
              "#9c179e"
             ],
             [
              0.4444444444444444,
              "#bd3786"
             ],
             [
              0.5555555555555556,
              "#d8576b"
             ],
             [
              0.6666666666666666,
              "#ed7953"
             ],
             [
              0.7777777777777778,
              "#fb9f3a"
             ],
             [
              0.8888888888888888,
              "#fdca26"
             ],
             [
              1,
              "#f0f921"
             ]
            ],
            "type": "contour"
           }
          ],
          "contourcarpet": [
           {
            "colorbar": {
             "outlinewidth": 0,
             "ticks": ""
            },
            "type": "contourcarpet"
           }
          ],
          "heatmap": [
           {
            "colorbar": {
             "outlinewidth": 0,
             "ticks": ""
            },
            "colorscale": [
             [
              0,
              "#0d0887"
             ],
             [
              0.1111111111111111,
              "#46039f"
             ],
             [
              0.2222222222222222,
              "#7201a8"
             ],
             [
              0.3333333333333333,
              "#9c179e"
             ],
             [
              0.4444444444444444,
              "#bd3786"
             ],
             [
              0.5555555555555556,
              "#d8576b"
             ],
             [
              0.6666666666666666,
              "#ed7953"
             ],
             [
              0.7777777777777778,
              "#fb9f3a"
             ],
             [
              0.8888888888888888,
              "#fdca26"
             ],
             [
              1,
              "#f0f921"
             ]
            ],
            "type": "heatmap"
           }
          ],
          "heatmapgl": [
           {
            "colorbar": {
             "outlinewidth": 0,
             "ticks": ""
            },
            "colorscale": [
             [
              0,
              "#0d0887"
             ],
             [
              0.1111111111111111,
              "#46039f"
             ],
             [
              0.2222222222222222,
              "#7201a8"
             ],
             [
              0.3333333333333333,
              "#9c179e"
             ],
             [
              0.4444444444444444,
              "#bd3786"
             ],
             [
              0.5555555555555556,
              "#d8576b"
             ],
             [
              0.6666666666666666,
              "#ed7953"
             ],
             [
              0.7777777777777778,
              "#fb9f3a"
             ],
             [
              0.8888888888888888,
              "#fdca26"
             ],
             [
              1,
              "#f0f921"
             ]
            ],
            "type": "heatmapgl"
           }
          ],
          "histogram": [
           {
            "marker": {
             "pattern": {
              "fillmode": "overlay",
              "size": 10,
              "solidity": 0.2
             }
            },
            "type": "histogram"
           }
          ],
          "histogram2d": [
           {
            "colorbar": {
             "outlinewidth": 0,
             "ticks": ""
            },
            "colorscale": [
             [
              0,
              "#0d0887"
             ],
             [
              0.1111111111111111,
              "#46039f"
             ],
             [
              0.2222222222222222,
              "#7201a8"
             ],
             [
              0.3333333333333333,
              "#9c179e"
             ],
             [
              0.4444444444444444,
              "#bd3786"
             ],
             [
              0.5555555555555556,
              "#d8576b"
             ],
             [
              0.6666666666666666,
              "#ed7953"
             ],
             [
              0.7777777777777778,
              "#fb9f3a"
             ],
             [
              0.8888888888888888,
              "#fdca26"
             ],
             [
              1,
              "#f0f921"
             ]
            ],
            "type": "histogram2d"
           }
          ],
          "histogram2dcontour": [
           {
            "colorbar": {
             "outlinewidth": 0,
             "ticks": ""
            },
            "colorscale": [
             [
              0,
              "#0d0887"
             ],
             [
              0.1111111111111111,
              "#46039f"
             ],
             [
              0.2222222222222222,
              "#7201a8"
             ],
             [
              0.3333333333333333,
              "#9c179e"
             ],
             [
              0.4444444444444444,
              "#bd3786"
             ],
             [
              0.5555555555555556,
              "#d8576b"
             ],
             [
              0.6666666666666666,
              "#ed7953"
             ],
             [
              0.7777777777777778,
              "#fb9f3a"
             ],
             [
              0.8888888888888888,
              "#fdca26"
             ],
             [
              1,
              "#f0f921"
             ]
            ],
            "type": "histogram2dcontour"
           }
          ],
          "mesh3d": [
           {
            "colorbar": {
             "outlinewidth": 0,
             "ticks": ""
            },
            "type": "mesh3d"
           }
          ],
          "parcoords": [
           {
            "line": {
             "colorbar": {
              "outlinewidth": 0,
              "ticks": ""
             }
            },
            "type": "parcoords"
           }
          ],
          "pie": [
           {
            "automargin": true,
            "type": "pie"
           }
          ],
          "scatter": [
           {
            "fillpattern": {
             "fillmode": "overlay",
             "size": 10,
             "solidity": 0.2
            },
            "type": "scatter"
           }
          ],
          "scatter3d": [
           {
            "line": {
             "colorbar": {
              "outlinewidth": 0,
              "ticks": ""
             }
            },
            "marker": {
             "colorbar": {
              "outlinewidth": 0,
              "ticks": ""
             }
            },
            "type": "scatter3d"
           }
          ],
          "scattercarpet": [
           {
            "marker": {
             "colorbar": {
              "outlinewidth": 0,
              "ticks": ""
             }
            },
            "type": "scattercarpet"
           }
          ],
          "scattergeo": [
           {
            "marker": {
             "colorbar": {
              "outlinewidth": 0,
              "ticks": ""
             }
            },
            "type": "scattergeo"
           }
          ],
          "scattergl": [
           {
            "marker": {
             "colorbar": {
              "outlinewidth": 0,
              "ticks": ""
             }
            },
            "type": "scattergl"
           }
          ],
          "scattermapbox": [
           {
            "marker": {
             "colorbar": {
              "outlinewidth": 0,
              "ticks": ""
             }
            },
            "type": "scattermapbox"
           }
          ],
          "scatterpolar": [
           {
            "marker": {
             "colorbar": {
              "outlinewidth": 0,
              "ticks": ""
             }
            },
            "type": "scatterpolar"
           }
          ],
          "scatterpolargl": [
           {
            "marker": {
             "colorbar": {
              "outlinewidth": 0,
              "ticks": ""
             }
            },
            "type": "scatterpolargl"
           }
          ],
          "scatterternary": [
           {
            "marker": {
             "colorbar": {
              "outlinewidth": 0,
              "ticks": ""
             }
            },
            "type": "scatterternary"
           }
          ],
          "surface": [
           {
            "colorbar": {
             "outlinewidth": 0,
             "ticks": ""
            },
            "colorscale": [
             [
              0,
              "#0d0887"
             ],
             [
              0.1111111111111111,
              "#46039f"
             ],
             [
              0.2222222222222222,
              "#7201a8"
             ],
             [
              0.3333333333333333,
              "#9c179e"
             ],
             [
              0.4444444444444444,
              "#bd3786"
             ],
             [
              0.5555555555555556,
              "#d8576b"
             ],
             [
              0.6666666666666666,
              "#ed7953"
             ],
             [
              0.7777777777777778,
              "#fb9f3a"
             ],
             [
              0.8888888888888888,
              "#fdca26"
             ],
             [
              1,
              "#f0f921"
             ]
            ],
            "type": "surface"
           }
          ],
          "table": [
           {
            "cells": {
             "fill": {
              "color": "#EBF0F8"
             },
             "line": {
              "color": "white"
             }
            },
            "header": {
             "fill": {
              "color": "#C8D4E3"
             },
             "line": {
              "color": "white"
             }
            },
            "type": "table"
           }
          ]
         },
         "layout": {
          "annotationdefaults": {
           "arrowcolor": "#2a3f5f",
           "arrowhead": 0,
           "arrowwidth": 1
          },
          "autotypenumbers": "strict",
          "coloraxis": {
           "colorbar": {
            "outlinewidth": 0,
            "ticks": ""
           }
          },
          "colorscale": {
           "diverging": [
            [
             0,
             "#8e0152"
            ],
            [
             0.1,
             "#c51b7d"
            ],
            [
             0.2,
             "#de77ae"
            ],
            [
             0.3,
             "#f1b6da"
            ],
            [
             0.4,
             "#fde0ef"
            ],
            [
             0.5,
             "#f7f7f7"
            ],
            [
             0.6,
             "#e6f5d0"
            ],
            [
             0.7,
             "#b8e186"
            ],
            [
             0.8,
             "#7fbc41"
            ],
            [
             0.9,
             "#4d9221"
            ],
            [
             1,
             "#276419"
            ]
           ],
           "sequential": [
            [
             0,
             "#0d0887"
            ],
            [
             0.1111111111111111,
             "#46039f"
            ],
            [
             0.2222222222222222,
             "#7201a8"
            ],
            [
             0.3333333333333333,
             "#9c179e"
            ],
            [
             0.4444444444444444,
             "#bd3786"
            ],
            [
             0.5555555555555556,
             "#d8576b"
            ],
            [
             0.6666666666666666,
             "#ed7953"
            ],
            [
             0.7777777777777778,
             "#fb9f3a"
            ],
            [
             0.8888888888888888,
             "#fdca26"
            ],
            [
             1,
             "#f0f921"
            ]
           ],
           "sequentialminus": [
            [
             0,
             "#0d0887"
            ],
            [
             0.1111111111111111,
             "#46039f"
            ],
            [
             0.2222222222222222,
             "#7201a8"
            ],
            [
             0.3333333333333333,
             "#9c179e"
            ],
            [
             0.4444444444444444,
             "#bd3786"
            ],
            [
             0.5555555555555556,
             "#d8576b"
            ],
            [
             0.6666666666666666,
             "#ed7953"
            ],
            [
             0.7777777777777778,
             "#fb9f3a"
            ],
            [
             0.8888888888888888,
             "#fdca26"
            ],
            [
             1,
             "#f0f921"
            ]
           ]
          },
          "colorway": [
           "#636efa",
           "#EF553B",
           "#00cc96",
           "#ab63fa",
           "#FFA15A",
           "#19d3f3",
           "#FF6692",
           "#B6E880",
           "#FF97FF",
           "#FECB52"
          ],
          "font": {
           "color": "#2a3f5f"
          },
          "geo": {
           "bgcolor": "white",
           "lakecolor": "white",
           "landcolor": "#E5ECF6",
           "showlakes": true,
           "showland": true,
           "subunitcolor": "white"
          },
          "hoverlabel": {
           "align": "left"
          },
          "hovermode": "closest",
          "mapbox": {
           "style": "light"
          },
          "paper_bgcolor": "white",
          "plot_bgcolor": "#E5ECF6",
          "polar": {
           "angularaxis": {
            "gridcolor": "white",
            "linecolor": "white",
            "ticks": ""
           },
           "bgcolor": "#E5ECF6",
           "radialaxis": {
            "gridcolor": "white",
            "linecolor": "white",
            "ticks": ""
           }
          },
          "scene": {
           "xaxis": {
            "backgroundcolor": "#E5ECF6",
            "gridcolor": "white",
            "gridwidth": 2,
            "linecolor": "white",
            "showbackground": true,
            "ticks": "",
            "zerolinecolor": "white"
           },
           "yaxis": {
            "backgroundcolor": "#E5ECF6",
            "gridcolor": "white",
            "gridwidth": 2,
            "linecolor": "white",
            "showbackground": true,
            "ticks": "",
            "zerolinecolor": "white"
           },
           "zaxis": {
            "backgroundcolor": "#E5ECF6",
            "gridcolor": "white",
            "gridwidth": 2,
            "linecolor": "white",
            "showbackground": true,
            "ticks": "",
            "zerolinecolor": "white"
           }
          },
          "shapedefaults": {
           "line": {
            "color": "#2a3f5f"
           }
          },
          "ternary": {
           "aaxis": {
            "gridcolor": "white",
            "linecolor": "white",
            "ticks": ""
           },
           "baxis": {
            "gridcolor": "white",
            "linecolor": "white",
            "ticks": ""
           },
           "bgcolor": "#E5ECF6",
           "caxis": {
            "gridcolor": "white",
            "linecolor": "white",
            "ticks": ""
           }
          },
          "title": {
           "x": 0.05
          },
          "xaxis": {
           "automargin": true,
           "gridcolor": "white",
           "linecolor": "white",
           "ticks": "",
           "title": {
            "standoff": 15
           },
           "zerolinecolor": "white",
           "zerolinewidth": 2
          },
          "yaxis": {
           "automargin": true,
           "gridcolor": "white",
           "linecolor": "white",
           "ticks": "",
           "title": {
            "standoff": 15
           },
           "zerolinecolor": "white",
           "zerolinewidth": 2
          }
         }
        },
        "title": {
         "text": "Distribution of sulphates"
        },
        "xaxis": {
         "anchor": "y",
         "domain": [
          0,
          1
         ],
         "title": {
          "text": "sulphates"
         }
        },
        "yaxis": {
         "anchor": "x",
         "domain": [
          0,
          1
         ],
         "title": {
          "text": "count"
         }
        }
       }
      }
     },
     "metadata": {},
     "output_type": "display_data"
    },
    {
     "name": "stdout",
     "output_type": "stream",
     "text": [
      "Value counts for sulphates:\n",
      "sulphates\n",
      "0.60    53\n",
      "0.62    50\n",
      "0.56    47\n",
      "0.54    46\n",
      "0.57    42\n",
      "        ..\n",
      "1.61     1\n",
      "1.31     1\n",
      "0.33     1\n",
      "1.56     1\n",
      "1.01     1\n",
      "Name: count, Length: 89, dtype: int64\n",
      "\n"
     ]
    },
    {
     "data": {
      "application/vnd.plotly.v1+json": {
       "config": {
        "plotlyServerURL": "https://plot.ly"
       },
       "data": [
        {
         "alignmentgroup": "True",
         "bingroup": "x",
         "hovertemplate": "alcohol=%{x}<br>count=%{y}<extra></extra>",
         "legendgroup": "",
         "marker": {
          "color": "#636efa",
          "pattern": {
           "shape": ""
          }
         },
         "name": "",
         "nbinsx": 30,
         "offsetgroup": "",
         "orientation": "v",
         "showlegend": false,
         "type": "histogram",
         "x": [
          9.4,
          9.8,
          9.8,
          9.8,
          9.4,
          9.4,
          9.4,
          10,
          9.5,
          9.2,
          9.9,
          9.1,
          10.5,
          9.2,
          9.7,
          9.5,
          9.4,
          9.7,
          9.3,
          9.5,
          9.4,
          9.8,
          10.1,
          9.8,
          9.2,
          9.6,
          10.8,
          9.7,
          10.5,
          9.3,
          10.5,
          10.3,
          13.1,
          9.2,
          9.2,
          9.4,
          9.4,
          9.4,
          10.2,
          9.6,
          10,
          9.4,
          9.2,
          9.3,
          9.8,
          10.9,
          10.9,
          10.7,
          10.5,
          9.5,
          9.2,
          10.5,
          10.7,
          10.1,
          9.1,
          9.2,
          9.1,
          10.3,
          10.1,
          9.9,
          9.6,
          9.5,
          9,
          9.5,
          9.9,
          9.6,
          10.5,
          10.7,
          9.8,
          9,
          10.2,
          9,
          9.2,
          9.4,
          9.2,
          9.3,
          9.3,
          9.5,
          9.8,
          9.7,
          9.5,
          10.5,
          10,
          9,
          10.9,
          9.2,
          9.5,
          10.9,
          10.9,
          10.5,
          9.4,
          13,
          9.9,
          9.6,
          9.2,
          9.6,
          14,
          9.4,
          14,
          9.4,
          10,
          10.2,
          10.3,
          9.4,
          10.1,
          10.1,
          10.5,
          10.5,
          10.5,
          9.3,
          9.3,
          9.6,
          9.2,
          10,
          9.4,
          9.4,
          9.5,
          10.2,
          9,
          10.4,
          9.1,
          9.2,
          11.5,
          9.5,
          9.5,
          10.5,
          9.6,
          9.5,
          9.5,
          9.3,
          9.3,
          9.3,
          9.3,
          9.7,
          9.2,
          9.5,
          9.4,
          9.8,
          9.7,
          9.7,
          10.2,
          10.1,
          11.4,
          10.3,
          9.2,
          10.8,
          10.8,
          9.4,
          12.4,
          10,
          10.1,
          9.8,
          10.5,
          11,
          9.1,
          9.7,
          9.4,
          9.4,
          9.5,
          10,
          10.5,
          9.5,
          12.2,
          9.9,
          9.6,
          9,
          9,
          9.3,
          10.9,
          9.8,
          9.2,
          9.2,
          9.9,
          9.5,
          9.9,
          10,
          9.9,
          10.5,
          9.5,
          9.3,
          9.2,
          9.2,
          9.4,
          10.5,
          9.3,
          9.4,
          10,
          9.3,
          10.9,
          9.8,
          12.8,
          9.4,
          10.1,
          10.7,
          10.7,
          9.4,
          10.1,
          12.6,
          10.5,
          9.3,
          9.9,
          10.5,
          9.8,
          9.8,
          10.3,
          10.3,
          10.6,
          9.2,
          10.6,
          10.3,
          10.1,
          9.5,
          9.5,
          9.9,
          9.6,
          9.7,
          10.7,
          10.1,
          10,
          9.2,
          9.4,
          9.5,
          9.5,
          9.4,
          9.5,
          9.4,
          11,
          11.5,
          10.4,
          9.7,
          9.2,
          9.2,
          11.5,
          11.5,
          9.7,
          11,
          11.7,
          12.2,
          12.5,
          10.3,
          9.8,
          9.8,
          9.8,
          10.7,
          12,
          10,
          9.4,
          9.3,
          13,
          11.9,
          12.8,
          11,
          11.7,
          10.4,
          9.8,
          9.4,
          9.9,
          10,
          10.2,
          10,
          10,
          9,
          12,
          8.7,
          10.6,
          11,
          12,
          13.3,
          9.4,
          9.2,
          9.2,
          12.9,
          10,
          9.5,
          13,
          9.9,
          11,
          9.4,
          9.9,
          10.5,
          10.5,
          9.1,
          10.8,
          10.8,
          9.6,
          9.5,
          9.3,
          11.7,
          9.5,
          9.3,
          11.7,
          10.5,
          10.4,
          9.9,
          12.3,
          10.9,
          11,
          12.3,
          11.4,
          10.6,
          9.3,
          10.4,
          11,
          9.2,
          9.5,
          9.9,
          9.5,
          10.2,
          11.2,
          9.3,
          9.8,
          11.2,
          12.5,
          10.5,
          11.2,
          10.2,
          10.8,
          10.8,
          10,
          11.2,
          11.1,
          13.4,
          10.3,
          9.6,
          9,
          11.3,
          9.3,
          9.2,
          11.5,
          14,
          9.2,
          9.8,
          10.6,
          11.4,
          10.4,
          10.2,
          9.7,
          11,
          10.1,
          9.2,
          11.7,
          9.4,
          10,
          10,
          10.2,
          13.3,
          13.4,
          11.6,
          12.1,
          11,
          9,
          11.1,
          11,
          11.6,
          9,
          12,
          12,
          10.8,
          12.5,
          10.8,
          9.5,
          11.4,
          10.2,
          9.7,
          11.8,
          11.8,
          9.3,
          11.9,
          8.4,
          10,
          9.4,
          9.5,
          11.4,
          9.4,
          10.3,
          10.3,
          10.3,
          12.8,
          10,
          10.3,
          9.4,
          10.7,
          12,
          11.2,
          9.6,
          11,
          9.9,
          11,
          8.4,
          9.1,
          9.5,
          10.7,
          10.4,
          9.5,
          10,
          10,
          11.5,
          11.1,
          11.7,
          11.1,
          12.7,
          11.4,
          9.2,
          10.1,
          12.7,
          11.4,
          9,
          10.7,
          11.7,
          11,
          10.4,
          10,
          9.5,
          9.8,
          9.8,
          9.6,
          9.6,
          9.9,
          9.3,
          14,
          9.7,
          11.5,
          9.7,
          9,
          9.3,
          9.3,
          9.8,
          9.3,
          9.1,
          10.5,
          10.4,
          12.7,
          9.2,
          9.4,
          10,
          9.7,
          9.8,
          9.3,
          9.4,
          9.4,
          9.5,
          10.2,
          9.1,
          9.1,
          9.3,
          9.3,
          9.3,
          9.5,
          10.5,
          11.3,
          9.5,
          9.7,
          9.4,
          9.4,
          10.3,
          9.4,
          9.4,
          9.4,
          11,
          11.2,
          11.3,
          9.6,
          14.9,
          12,
          9.5,
          9.4,
          9.6,
          10.5,
          9.6,
          9.6,
          9,
          9.6,
          9.7,
          9.5,
          9.2,
          9.2,
          9.5,
          9.5,
          9.3,
          9.9,
          10,
          9.6,
          10.2,
          9.8,
          11.3,
          9.4,
          11.3,
          9.4,
          9.4,
          9.8,
          9,
          9.4,
          9.4,
          12.8,
          9.5,
          9.7,
          10.8,
          10.1,
          9.5,
          9.4,
          9.6,
          9.7,
          9.9,
          10,
          10.5,
          11.6,
          10.1,
          9.5,
          9.8,
          10,
          9.6,
          9.5,
          9.6,
          9.2,
          9.5,
          10.4,
          11.1,
          9.5,
          9.5,
          12.7,
          9.6,
          11.5,
          9.6,
          9.5,
          9.3,
          9.5,
          9.3,
          9.3,
          11.5,
          9.5,
          9.5,
          9.5,
          9,
          9.6,
          9.5,
          9.5,
          9.4,
          9.5,
          9.1,
          10.7,
          11.2,
          9.8,
          9.8,
          9.2,
          9.7,
          9.6,
          10,
          9.5,
          9.5,
          9.4,
          9.7,
          9.6,
          9.7,
          9.4,
          9.4,
          9.5,
          10,
          10.3,
          10.5,
          9.8,
          9.4,
          9.8,
          9.8,
          9.5,
          10.1,
          10.1,
          9.3,
          9.7,
          9.6,
          9.7,
          10.8,
          12.5,
          10.2,
          9.6,
          10.8,
          10.7,
          10,
          12.9,
          9.6,
          9.9,
          12.5,
          9.2,
          10.3,
          10.5,
          10.9,
          11.4,
          11.3,
          9.6,
          9.7,
          14,
          9.8,
          10.3,
          11,
          10.7,
          10.9,
          11.1,
          9.9,
          11.7,
          11.7,
          11.2,
          10.3,
          10.9,
          9.4,
          9.8,
          9.9,
          9.8,
          9.5,
          9.5,
          10.9,
          10.9,
          10.9,
          11.3,
          10.6,
          9.5,
          10.4,
          9.7,
          9.7,
          10.6,
          10,
          11.8,
          11.8,
          11.4,
          12,
          10,
          10.5,
          10.4,
          11.2,
          9.3,
          9.7,
          9.3,
          9.7,
          9.8,
          10.7,
          12.5,
          10.7,
          12.5,
          11.8,
          10.8,
          10.8,
          10.8,
          11,
          11.5,
          10.8,
          13.2,
          10.9,
          12.2,
          11.9,
          11,
          10.1,
          11,
          11.8,
          10.5,
          11.8,
          11.2,
          11,
          10.2,
          9.2,
          11.2,
          12,
          9.8,
          9.5,
          10.5,
          11.8,
          11.4,
          12.5,
          10,
          12.1,
          12,
          12.4,
          11.9,
          11.9,
          12.4,
          11.2,
          12.1,
          10.4,
          11.3,
          11.3,
          11.1,
          9.3,
          9.5,
          11.1,
          9.2,
          12.2,
          10.9,
          12.1,
          9.4,
          9.1,
          11.3,
          10.5,
          10,
          12.9,
          10.5,
          11.3,
          9.4,
          9.4,
          10.9,
          9.4,
          9.4,
          9.4,
          10.1,
          9.1,
          12.9,
          11.5,
          10.3,
          12.8,
          11.7,
          11.7,
          12,
          12.3,
          10.4,
          10,
          10,
          11.2,
          12.6,
          12.7,
          10.4,
          11.9,
          11.9,
          10.5,
          12.3,
          10.5,
          10.4,
          12.6,
          11.6,
          10.5,
          9.6,
          9.7,
          10.6,
          12.5,
          12.6,
          11.1,
          9.8,
          12.2,
          11.4,
          10.7,
          10.4,
          10.9,
          10.8,
          9.2,
          12.9,
          12.7,
          9.1,
          12.1,
          9.1,
          11.6,
          12.1,
          9.9,
          12.5,
          11.4,
          11.8,
          11.8,
          10.2,
          12.5,
          10.9,
          10.8,
          11.1,
          9.2,
          10.7,
          11.4,
          11,
          12.3,
          12.3,
          9.5,
          12,
          9.6,
          11.6,
          11.2,
          9.9,
          9.9,
          11.8,
          11.4,
          11.5,
          12,
          10.8,
          10.8,
          9.4,
          12.4,
          12,
          12,
          12.4,
          12.8,
          11.7,
          9.5,
          10.8,
          10,
          12.3,
          11,
          13.6,
          11.3,
          11.3,
          11.3,
          13.3,
          12.9,
          13.1,
          12.3,
          11.3,
          11.5,
          10,
          10.4,
          13.6,
          11.2,
          11.8,
          11.9,
          11.4,
          9.1,
          9.5,
          9.5,
          11,
          11.4,
          10,
          10.1,
          10.4,
          9.8,
          11.8,
          11.6,
          12,
          12.5,
          9.8,
          11.1,
          9.8,
          11.8,
          12.9,
          11.8,
          10,
          12.4,
          12,
          11.5,
          10.5,
          12.3,
          9.5,
          9.5,
          11.5,
          11.2,
          11.4,
          11,
          11.4,
          9.3,
          10.9,
          10.9,
          9.6,
          12.5,
          10.8,
          12.4,
          9.5,
          9.5,
          9.8,
          10.9,
          9.5,
          9.8,
          11.2,
          11.7,
          9.4,
          11,
          11,
          10,
          11,
          11.2,
          10.4,
          10.4,
          10.4,
          9.5,
          10.9,
          11.5,
          11.5,
          10.3,
          9.4,
          9.2,
          9.6,
          13.6,
          9.5,
          11.8,
          10.8,
          9.5,
          12.8,
          9.4,
          12.8,
          9.6,
          11.8,
          9.3,
          9.5,
          10.5,
          10,
          10.9,
          9.8,
          9.8,
          9.5,
          10.9,
          9.2,
          11,
          11.3,
          9.3,
          11.2,
          9.8,
          11.8,
          10.3,
          10.3,
          11.4,
          9.5,
          14,
          11.7,
          11.2,
          9.3,
          11.2,
          9.5,
          12,
          9.7,
          9.5,
          11.5,
          10.4,
          10.4,
          10.9,
          10.2,
          10.9,
          10.5,
          10.2,
          10.2,
          11,
          10.9,
          12.4,
          9.5,
          12.1,
          12.2,
          10.9,
          12.5,
          11.7,
          11.2,
          9.2,
          9.8,
          10.1,
          9.2,
          12.8,
          10.5,
          9.8,
          12.5,
          9.1,
          12.5,
          11.4,
          10.6,
          10.6,
          10.6,
          10.6,
          9.3,
          9.8,
          9.8,
          9.2,
          9.7,
          9.6,
          10,
          12.6,
          9.5,
          9.5,
          9.5,
          10.5,
          10.5,
          10.5,
          10.5,
          11,
          10.2,
          11.4,
          9.5,
          11.8,
          10.3,
          10.1,
          10.1,
          11.1,
          9.5,
          10.0333333333333,
          10.1,
          10.0333333333333,
          11.8,
          9.8,
          10.5,
          9.8,
          9.2,
          11.6,
          9.2,
          10,
          9.9,
          10.8,
          10.8,
          9.9,
          9.9,
          9.5,
          9.2,
          9.6,
          10.3,
          12.5,
          11,
          9.8,
          10.2,
          9.55,
          9.55,
          9.9,
          11.1,
          9.9,
          11.9,
          10,
          10.7,
          10.9,
          10.7,
          12.4,
          10.7,
          11.9,
          10.6,
          10.9,
          10.1,
          9.6,
          9.4,
          9.6,
          12.1,
          9.8,
          9.9,
          9.8,
          9.4,
          11.4,
          11,
          11.2,
          11,
          11.3,
          10.4,
          9.9,
          10.1,
          9,
          8.5,
          11.1,
          10.3,
          11.066666666666698,
          11.7,
          9.6,
          9.7,
          11.3,
          11.3,
          11,
          11.6,
          10.9,
          10.9,
          9,
          10.5,
          11.9,
          10.4,
          10,
          10.8,
          9.7,
          10,
          11,
          10,
          9.7,
          9.7,
          12.6,
          11.1,
          11,
          8.8,
          13.566666666666698,
          8.8,
          13.6,
          10.2,
          10.6,
          10.1,
          10.6,
          10.7,
          9.7,
          10.3,
          10.6,
          11.4,
          12.4,
          11.95,
          9.7,
          10,
          10.6,
          11.5,
          11.5,
          9.4,
          11,
          11.4,
          9.95,
          10.8,
          11.4,
          10.6,
          11.1,
          9.7,
          9.8,
          9.23333333333333,
          9.25,
          10.3,
          10.5,
          10.2,
          10.6,
          10.4,
          9.7,
          9.6,
          10.1,
          10.2,
          11.3,
          10.2,
          9.9,
          9,
          11.7,
          9.7,
          12,
          11.6,
          11.2,
          10.1,
          10.2,
          10.4,
          11.4,
          9.4,
          11.3,
          9.4,
          10.55,
          9.9,
          11,
          9.5,
          9.9,
          9.9,
          9.9,
          10.1,
          10.1,
          10.9,
          11.2,
          10.1,
          9.2,
          11.5,
          12.4,
          11.1,
          9.5,
          12.5,
          11.8,
          10.8,
          11.9,
          11.3,
          11.9,
          11.9,
          9.8,
          11.6,
          11.4,
          10.9,
          11.6,
          11.6,
          11,
          9.5,
          10.5,
          11.2,
          10.2
         ],
         "xaxis": "x",
         "yaxis": "y"
        }
       ],
       "layout": {
        "barmode": "relative",
        "legend": {
         "tracegroupgap": 0
        },
        "template": {
         "data": {
          "bar": [
           {
            "error_x": {
             "color": "#2a3f5f"
            },
            "error_y": {
             "color": "#2a3f5f"
            },
            "marker": {
             "line": {
              "color": "#E5ECF6",
              "width": 0.5
             },
             "pattern": {
              "fillmode": "overlay",
              "size": 10,
              "solidity": 0.2
             }
            },
            "type": "bar"
           }
          ],
          "barpolar": [
           {
            "marker": {
             "line": {
              "color": "#E5ECF6",
              "width": 0.5
             },
             "pattern": {
              "fillmode": "overlay",
              "size": 10,
              "solidity": 0.2
             }
            },
            "type": "barpolar"
           }
          ],
          "carpet": [
           {
            "aaxis": {
             "endlinecolor": "#2a3f5f",
             "gridcolor": "white",
             "linecolor": "white",
             "minorgridcolor": "white",
             "startlinecolor": "#2a3f5f"
            },
            "baxis": {
             "endlinecolor": "#2a3f5f",
             "gridcolor": "white",
             "linecolor": "white",
             "minorgridcolor": "white",
             "startlinecolor": "#2a3f5f"
            },
            "type": "carpet"
           }
          ],
          "choropleth": [
           {
            "colorbar": {
             "outlinewidth": 0,
             "ticks": ""
            },
            "type": "choropleth"
           }
          ],
          "contour": [
           {
            "colorbar": {
             "outlinewidth": 0,
             "ticks": ""
            },
            "colorscale": [
             [
              0,
              "#0d0887"
             ],
             [
              0.1111111111111111,
              "#46039f"
             ],
             [
              0.2222222222222222,
              "#7201a8"
             ],
             [
              0.3333333333333333,
              "#9c179e"
             ],
             [
              0.4444444444444444,
              "#bd3786"
             ],
             [
              0.5555555555555556,
              "#d8576b"
             ],
             [
              0.6666666666666666,
              "#ed7953"
             ],
             [
              0.7777777777777778,
              "#fb9f3a"
             ],
             [
              0.8888888888888888,
              "#fdca26"
             ],
             [
              1,
              "#f0f921"
             ]
            ],
            "type": "contour"
           }
          ],
          "contourcarpet": [
           {
            "colorbar": {
             "outlinewidth": 0,
             "ticks": ""
            },
            "type": "contourcarpet"
           }
          ],
          "heatmap": [
           {
            "colorbar": {
             "outlinewidth": 0,
             "ticks": ""
            },
            "colorscale": [
             [
              0,
              "#0d0887"
             ],
             [
              0.1111111111111111,
              "#46039f"
             ],
             [
              0.2222222222222222,
              "#7201a8"
             ],
             [
              0.3333333333333333,
              "#9c179e"
             ],
             [
              0.4444444444444444,
              "#bd3786"
             ],
             [
              0.5555555555555556,
              "#d8576b"
             ],
             [
              0.6666666666666666,
              "#ed7953"
             ],
             [
              0.7777777777777778,
              "#fb9f3a"
             ],
             [
              0.8888888888888888,
              "#fdca26"
             ],
             [
              1,
              "#f0f921"
             ]
            ],
            "type": "heatmap"
           }
          ],
          "heatmapgl": [
           {
            "colorbar": {
             "outlinewidth": 0,
             "ticks": ""
            },
            "colorscale": [
             [
              0,
              "#0d0887"
             ],
             [
              0.1111111111111111,
              "#46039f"
             ],
             [
              0.2222222222222222,
              "#7201a8"
             ],
             [
              0.3333333333333333,
              "#9c179e"
             ],
             [
              0.4444444444444444,
              "#bd3786"
             ],
             [
              0.5555555555555556,
              "#d8576b"
             ],
             [
              0.6666666666666666,
              "#ed7953"
             ],
             [
              0.7777777777777778,
              "#fb9f3a"
             ],
             [
              0.8888888888888888,
              "#fdca26"
             ],
             [
              1,
              "#f0f921"
             ]
            ],
            "type": "heatmapgl"
           }
          ],
          "histogram": [
           {
            "marker": {
             "pattern": {
              "fillmode": "overlay",
              "size": 10,
              "solidity": 0.2
             }
            },
            "type": "histogram"
           }
          ],
          "histogram2d": [
           {
            "colorbar": {
             "outlinewidth": 0,
             "ticks": ""
            },
            "colorscale": [
             [
              0,
              "#0d0887"
             ],
             [
              0.1111111111111111,
              "#46039f"
             ],
             [
              0.2222222222222222,
              "#7201a8"
             ],
             [
              0.3333333333333333,
              "#9c179e"
             ],
             [
              0.4444444444444444,
              "#bd3786"
             ],
             [
              0.5555555555555556,
              "#d8576b"
             ],
             [
              0.6666666666666666,
              "#ed7953"
             ],
             [
              0.7777777777777778,
              "#fb9f3a"
             ],
             [
              0.8888888888888888,
              "#fdca26"
             ],
             [
              1,
              "#f0f921"
             ]
            ],
            "type": "histogram2d"
           }
          ],
          "histogram2dcontour": [
           {
            "colorbar": {
             "outlinewidth": 0,
             "ticks": ""
            },
            "colorscale": [
             [
              0,
              "#0d0887"
             ],
             [
              0.1111111111111111,
              "#46039f"
             ],
             [
              0.2222222222222222,
              "#7201a8"
             ],
             [
              0.3333333333333333,
              "#9c179e"
             ],
             [
              0.4444444444444444,
              "#bd3786"
             ],
             [
              0.5555555555555556,
              "#d8576b"
             ],
             [
              0.6666666666666666,
              "#ed7953"
             ],
             [
              0.7777777777777778,
              "#fb9f3a"
             ],
             [
              0.8888888888888888,
              "#fdca26"
             ],
             [
              1,
              "#f0f921"
             ]
            ],
            "type": "histogram2dcontour"
           }
          ],
          "mesh3d": [
           {
            "colorbar": {
             "outlinewidth": 0,
             "ticks": ""
            },
            "type": "mesh3d"
           }
          ],
          "parcoords": [
           {
            "line": {
             "colorbar": {
              "outlinewidth": 0,
              "ticks": ""
             }
            },
            "type": "parcoords"
           }
          ],
          "pie": [
           {
            "automargin": true,
            "type": "pie"
           }
          ],
          "scatter": [
           {
            "fillpattern": {
             "fillmode": "overlay",
             "size": 10,
             "solidity": 0.2
            },
            "type": "scatter"
           }
          ],
          "scatter3d": [
           {
            "line": {
             "colorbar": {
              "outlinewidth": 0,
              "ticks": ""
             }
            },
            "marker": {
             "colorbar": {
              "outlinewidth": 0,
              "ticks": ""
             }
            },
            "type": "scatter3d"
           }
          ],
          "scattercarpet": [
           {
            "marker": {
             "colorbar": {
              "outlinewidth": 0,
              "ticks": ""
             }
            },
            "type": "scattercarpet"
           }
          ],
          "scattergeo": [
           {
            "marker": {
             "colorbar": {
              "outlinewidth": 0,
              "ticks": ""
             }
            },
            "type": "scattergeo"
           }
          ],
          "scattergl": [
           {
            "marker": {
             "colorbar": {
              "outlinewidth": 0,
              "ticks": ""
             }
            },
            "type": "scattergl"
           }
          ],
          "scattermapbox": [
           {
            "marker": {
             "colorbar": {
              "outlinewidth": 0,
              "ticks": ""
             }
            },
            "type": "scattermapbox"
           }
          ],
          "scatterpolar": [
           {
            "marker": {
             "colorbar": {
              "outlinewidth": 0,
              "ticks": ""
             }
            },
            "type": "scatterpolar"
           }
          ],
          "scatterpolargl": [
           {
            "marker": {
             "colorbar": {
              "outlinewidth": 0,
              "ticks": ""
             }
            },
            "type": "scatterpolargl"
           }
          ],
          "scatterternary": [
           {
            "marker": {
             "colorbar": {
              "outlinewidth": 0,
              "ticks": ""
             }
            },
            "type": "scatterternary"
           }
          ],
          "surface": [
           {
            "colorbar": {
             "outlinewidth": 0,
             "ticks": ""
            },
            "colorscale": [
             [
              0,
              "#0d0887"
             ],
             [
              0.1111111111111111,
              "#46039f"
             ],
             [
              0.2222222222222222,
              "#7201a8"
             ],
             [
              0.3333333333333333,
              "#9c179e"
             ],
             [
              0.4444444444444444,
              "#bd3786"
             ],
             [
              0.5555555555555556,
              "#d8576b"
             ],
             [
              0.6666666666666666,
              "#ed7953"
             ],
             [
              0.7777777777777778,
              "#fb9f3a"
             ],
             [
              0.8888888888888888,
              "#fdca26"
             ],
             [
              1,
              "#f0f921"
             ]
            ],
            "type": "surface"
           }
          ],
          "table": [
           {
            "cells": {
             "fill": {
              "color": "#EBF0F8"
             },
             "line": {
              "color": "white"
             }
            },
            "header": {
             "fill": {
              "color": "#C8D4E3"
             },
             "line": {
              "color": "white"
             }
            },
            "type": "table"
           }
          ]
         },
         "layout": {
          "annotationdefaults": {
           "arrowcolor": "#2a3f5f",
           "arrowhead": 0,
           "arrowwidth": 1
          },
          "autotypenumbers": "strict",
          "coloraxis": {
           "colorbar": {
            "outlinewidth": 0,
            "ticks": ""
           }
          },
          "colorscale": {
           "diverging": [
            [
             0,
             "#8e0152"
            ],
            [
             0.1,
             "#c51b7d"
            ],
            [
             0.2,
             "#de77ae"
            ],
            [
             0.3,
             "#f1b6da"
            ],
            [
             0.4,
             "#fde0ef"
            ],
            [
             0.5,
             "#f7f7f7"
            ],
            [
             0.6,
             "#e6f5d0"
            ],
            [
             0.7,
             "#b8e186"
            ],
            [
             0.8,
             "#7fbc41"
            ],
            [
             0.9,
             "#4d9221"
            ],
            [
             1,
             "#276419"
            ]
           ],
           "sequential": [
            [
             0,
             "#0d0887"
            ],
            [
             0.1111111111111111,
             "#46039f"
            ],
            [
             0.2222222222222222,
             "#7201a8"
            ],
            [
             0.3333333333333333,
             "#9c179e"
            ],
            [
             0.4444444444444444,
             "#bd3786"
            ],
            [
             0.5555555555555556,
             "#d8576b"
            ],
            [
             0.6666666666666666,
             "#ed7953"
            ],
            [
             0.7777777777777778,
             "#fb9f3a"
            ],
            [
             0.8888888888888888,
             "#fdca26"
            ],
            [
             1,
             "#f0f921"
            ]
           ],
           "sequentialminus": [
            [
             0,
             "#0d0887"
            ],
            [
             0.1111111111111111,
             "#46039f"
            ],
            [
             0.2222222222222222,
             "#7201a8"
            ],
            [
             0.3333333333333333,
             "#9c179e"
            ],
            [
             0.4444444444444444,
             "#bd3786"
            ],
            [
             0.5555555555555556,
             "#d8576b"
            ],
            [
             0.6666666666666666,
             "#ed7953"
            ],
            [
             0.7777777777777778,
             "#fb9f3a"
            ],
            [
             0.8888888888888888,
             "#fdca26"
            ],
            [
             1,
             "#f0f921"
            ]
           ]
          },
          "colorway": [
           "#636efa",
           "#EF553B",
           "#00cc96",
           "#ab63fa",
           "#FFA15A",
           "#19d3f3",
           "#FF6692",
           "#B6E880",
           "#FF97FF",
           "#FECB52"
          ],
          "font": {
           "color": "#2a3f5f"
          },
          "geo": {
           "bgcolor": "white",
           "lakecolor": "white",
           "landcolor": "#E5ECF6",
           "showlakes": true,
           "showland": true,
           "subunitcolor": "white"
          },
          "hoverlabel": {
           "align": "left"
          },
          "hovermode": "closest",
          "mapbox": {
           "style": "light"
          },
          "paper_bgcolor": "white",
          "plot_bgcolor": "#E5ECF6",
          "polar": {
           "angularaxis": {
            "gridcolor": "white",
            "linecolor": "white",
            "ticks": ""
           },
           "bgcolor": "#E5ECF6",
           "radialaxis": {
            "gridcolor": "white",
            "linecolor": "white",
            "ticks": ""
           }
          },
          "scene": {
           "xaxis": {
            "backgroundcolor": "#E5ECF6",
            "gridcolor": "white",
            "gridwidth": 2,
            "linecolor": "white",
            "showbackground": true,
            "ticks": "",
            "zerolinecolor": "white"
           },
           "yaxis": {
            "backgroundcolor": "#E5ECF6",
            "gridcolor": "white",
            "gridwidth": 2,
            "linecolor": "white",
            "showbackground": true,
            "ticks": "",
            "zerolinecolor": "white"
           },
           "zaxis": {
            "backgroundcolor": "#E5ECF6",
            "gridcolor": "white",
            "gridwidth": 2,
            "linecolor": "white",
            "showbackground": true,
            "ticks": "",
            "zerolinecolor": "white"
           }
          },
          "shapedefaults": {
           "line": {
            "color": "#2a3f5f"
           }
          },
          "ternary": {
           "aaxis": {
            "gridcolor": "white",
            "linecolor": "white",
            "ticks": ""
           },
           "baxis": {
            "gridcolor": "white",
            "linecolor": "white",
            "ticks": ""
           },
           "bgcolor": "#E5ECF6",
           "caxis": {
            "gridcolor": "white",
            "linecolor": "white",
            "ticks": ""
           }
          },
          "title": {
           "x": 0.05
          },
          "xaxis": {
           "automargin": true,
           "gridcolor": "white",
           "linecolor": "white",
           "ticks": "",
           "title": {
            "standoff": 15
           },
           "zerolinecolor": "white",
           "zerolinewidth": 2
          },
          "yaxis": {
           "automargin": true,
           "gridcolor": "white",
           "linecolor": "white",
           "ticks": "",
           "title": {
            "standoff": 15
           },
           "zerolinecolor": "white",
           "zerolinewidth": 2
          }
         }
        },
        "title": {
         "text": "Distribution of alcohol"
        },
        "xaxis": {
         "anchor": "y",
         "domain": [
          0,
          1
         ],
         "title": {
          "text": "alcohol"
         }
        },
        "yaxis": {
         "anchor": "x",
         "domain": [
          0,
          1
         ],
         "title": {
          "text": "count"
         }
        }
       }
      }
     },
     "metadata": {},
     "output_type": "display_data"
    },
    {
     "name": "stdout",
     "output_type": "stream",
     "text": [
      "Value counts for alcohol:\n",
      "alcohol\n",
      "9.500000     92\n",
      "9.400000     72\n",
      "9.800000     57\n",
      "9.200000     50\n",
      "10.000000    49\n",
      "             ..\n",
      "11.950000     1\n",
      "9.950000      1\n",
      "9.233333      1\n",
      "9.250000      1\n",
      "10.550000     1\n",
      "Name: count, Length: 61, dtype: int64\n",
      "\n"
     ]
    }
   ],
   "source": [
    "import plotly.express as px\n",
    "# Assuming your dataframe is called 'data'\n",
    "columns = [col for col in data.columns if col != 'quality']  # Exclude the 'quality' column\n",
    "\n",
    "# Loop through each column except 'quality'\n",
    "for col in columns:\n",
    "    # Plot distribution for each column\n",
    "    fig = px.histogram(data, x=col, nbins=30, title=f\"Distribution of {col}\")\n",
    "    fig.show()\n",
    "    \n",
    "    # Print value counts for each column\n",
    "    print(f\"Value counts for {col}:\\n{data[col].value_counts()}\\n\")"
   ]
  },
  {
   "cell_type": "markdown",
   "id": "650a4505",
   "metadata": {},
   "source": [
    "#### Report:\n",
    "- in the above I ploted a histogram we can clearly understand the distribution of the numerical column with this histogram and we can understand how many level of chemicals and the times the chemicals are repeating"
   ]
  },
  {
   "cell_type": "markdown",
   "id": "46970a2f",
   "metadata": {},
   "source": [
    "### Bivariate Analysis"
   ]
  },
  {
   "cell_type": "markdown",
   "id": "13a51310",
   "metadata": {},
   "source": [
    "### Pieplot"
   ]
  },
  {
   "cell_type": "code",
   "execution_count": 15,
   "id": "7c69d814",
   "metadata": {
    "scrolled": true
   },
   "outputs": [
    {
     "data": {
      "application/vnd.plotly.v1+json": {
       "config": {
        "plotlyServerURL": "https://plot.ly"
       },
       "data": [
        {
         "domain": {
          "x": [
           0,
           1
          ],
          "y": [
           0,
           1
          ]
         },
         "hovertemplate": "Chemicals=%{label}<br>Percentage=%{value}<extra></extra>",
         "labels": [
          "fixed acidity",
          "volatile acidity",
          "citric acid",
          "residual sugar",
          "chlorides",
          "free sulfur dioxide",
          "total sulfur dioxide",
          "density",
          "pH",
          "sulphates",
          "alcohol"
         ],
         "legendgroup": "",
         "name": "",
         "showlegend": true,
         "type": "pie",
         "values": [
          8.450000000000001,
          0.8975,
          0.21166666666666667,
          2.6666666666666665,
          0.10533333333333329,
          8.166666666666666,
          24.5,
          0.9976816666666667,
          3.361666666666667,
          0.5499999999999999,
          9.691666666666666
         ]
        }
       ],
       "layout": {
        "legend": {
         "tracegroupgap": 0
        },
        "template": {
         "data": {
          "bar": [
           {
            "error_x": {
             "color": "#2a3f5f"
            },
            "error_y": {
             "color": "#2a3f5f"
            },
            "marker": {
             "line": {
              "color": "#E5ECF6",
              "width": 0.5
             },
             "pattern": {
              "fillmode": "overlay",
              "size": 10,
              "solidity": 0.2
             }
            },
            "type": "bar"
           }
          ],
          "barpolar": [
           {
            "marker": {
             "line": {
              "color": "#E5ECF6",
              "width": 0.5
             },
             "pattern": {
              "fillmode": "overlay",
              "size": 10,
              "solidity": 0.2
             }
            },
            "type": "barpolar"
           }
          ],
          "carpet": [
           {
            "aaxis": {
             "endlinecolor": "#2a3f5f",
             "gridcolor": "white",
             "linecolor": "white",
             "minorgridcolor": "white",
             "startlinecolor": "#2a3f5f"
            },
            "baxis": {
             "endlinecolor": "#2a3f5f",
             "gridcolor": "white",
             "linecolor": "white",
             "minorgridcolor": "white",
             "startlinecolor": "#2a3f5f"
            },
            "type": "carpet"
           }
          ],
          "choropleth": [
           {
            "colorbar": {
             "outlinewidth": 0,
             "ticks": ""
            },
            "type": "choropleth"
           }
          ],
          "contour": [
           {
            "colorbar": {
             "outlinewidth": 0,
             "ticks": ""
            },
            "colorscale": [
             [
              0,
              "#0d0887"
             ],
             [
              0.1111111111111111,
              "#46039f"
             ],
             [
              0.2222222222222222,
              "#7201a8"
             ],
             [
              0.3333333333333333,
              "#9c179e"
             ],
             [
              0.4444444444444444,
              "#bd3786"
             ],
             [
              0.5555555555555556,
              "#d8576b"
             ],
             [
              0.6666666666666666,
              "#ed7953"
             ],
             [
              0.7777777777777778,
              "#fb9f3a"
             ],
             [
              0.8888888888888888,
              "#fdca26"
             ],
             [
              1,
              "#f0f921"
             ]
            ],
            "type": "contour"
           }
          ],
          "contourcarpet": [
           {
            "colorbar": {
             "outlinewidth": 0,
             "ticks": ""
            },
            "type": "contourcarpet"
           }
          ],
          "heatmap": [
           {
            "colorbar": {
             "outlinewidth": 0,
             "ticks": ""
            },
            "colorscale": [
             [
              0,
              "#0d0887"
             ],
             [
              0.1111111111111111,
              "#46039f"
             ],
             [
              0.2222222222222222,
              "#7201a8"
             ],
             [
              0.3333333333333333,
              "#9c179e"
             ],
             [
              0.4444444444444444,
              "#bd3786"
             ],
             [
              0.5555555555555556,
              "#d8576b"
             ],
             [
              0.6666666666666666,
              "#ed7953"
             ],
             [
              0.7777777777777778,
              "#fb9f3a"
             ],
             [
              0.8888888888888888,
              "#fdca26"
             ],
             [
              1,
              "#f0f921"
             ]
            ],
            "type": "heatmap"
           }
          ],
          "heatmapgl": [
           {
            "colorbar": {
             "outlinewidth": 0,
             "ticks": ""
            },
            "colorscale": [
             [
              0,
              "#0d0887"
             ],
             [
              0.1111111111111111,
              "#46039f"
             ],
             [
              0.2222222222222222,
              "#7201a8"
             ],
             [
              0.3333333333333333,
              "#9c179e"
             ],
             [
              0.4444444444444444,
              "#bd3786"
             ],
             [
              0.5555555555555556,
              "#d8576b"
             ],
             [
              0.6666666666666666,
              "#ed7953"
             ],
             [
              0.7777777777777778,
              "#fb9f3a"
             ],
             [
              0.8888888888888888,
              "#fdca26"
             ],
             [
              1,
              "#f0f921"
             ]
            ],
            "type": "heatmapgl"
           }
          ],
          "histogram": [
           {
            "marker": {
             "pattern": {
              "fillmode": "overlay",
              "size": 10,
              "solidity": 0.2
             }
            },
            "type": "histogram"
           }
          ],
          "histogram2d": [
           {
            "colorbar": {
             "outlinewidth": 0,
             "ticks": ""
            },
            "colorscale": [
             [
              0,
              "#0d0887"
             ],
             [
              0.1111111111111111,
              "#46039f"
             ],
             [
              0.2222222222222222,
              "#7201a8"
             ],
             [
              0.3333333333333333,
              "#9c179e"
             ],
             [
              0.4444444444444444,
              "#bd3786"
             ],
             [
              0.5555555555555556,
              "#d8576b"
             ],
             [
              0.6666666666666666,
              "#ed7953"
             ],
             [
              0.7777777777777778,
              "#fb9f3a"
             ],
             [
              0.8888888888888888,
              "#fdca26"
             ],
             [
              1,
              "#f0f921"
             ]
            ],
            "type": "histogram2d"
           }
          ],
          "histogram2dcontour": [
           {
            "colorbar": {
             "outlinewidth": 0,
             "ticks": ""
            },
            "colorscale": [
             [
              0,
              "#0d0887"
             ],
             [
              0.1111111111111111,
              "#46039f"
             ],
             [
              0.2222222222222222,
              "#7201a8"
             ],
             [
              0.3333333333333333,
              "#9c179e"
             ],
             [
              0.4444444444444444,
              "#bd3786"
             ],
             [
              0.5555555555555556,
              "#d8576b"
             ],
             [
              0.6666666666666666,
              "#ed7953"
             ],
             [
              0.7777777777777778,
              "#fb9f3a"
             ],
             [
              0.8888888888888888,
              "#fdca26"
             ],
             [
              1,
              "#f0f921"
             ]
            ],
            "type": "histogram2dcontour"
           }
          ],
          "mesh3d": [
           {
            "colorbar": {
             "outlinewidth": 0,
             "ticks": ""
            },
            "type": "mesh3d"
           }
          ],
          "parcoords": [
           {
            "line": {
             "colorbar": {
              "outlinewidth": 0,
              "ticks": ""
             }
            },
            "type": "parcoords"
           }
          ],
          "pie": [
           {
            "automargin": true,
            "type": "pie"
           }
          ],
          "scatter": [
           {
            "fillpattern": {
             "fillmode": "overlay",
             "size": 10,
             "solidity": 0.2
            },
            "type": "scatter"
           }
          ],
          "scatter3d": [
           {
            "line": {
             "colorbar": {
              "outlinewidth": 0,
              "ticks": ""
             }
            },
            "marker": {
             "colorbar": {
              "outlinewidth": 0,
              "ticks": ""
             }
            },
            "type": "scatter3d"
           }
          ],
          "scattercarpet": [
           {
            "marker": {
             "colorbar": {
              "outlinewidth": 0,
              "ticks": ""
             }
            },
            "type": "scattercarpet"
           }
          ],
          "scattergeo": [
           {
            "marker": {
             "colorbar": {
              "outlinewidth": 0,
              "ticks": ""
             }
            },
            "type": "scattergeo"
           }
          ],
          "scattergl": [
           {
            "marker": {
             "colorbar": {
              "outlinewidth": 0,
              "ticks": ""
             }
            },
            "type": "scattergl"
           }
          ],
          "scattermapbox": [
           {
            "marker": {
             "colorbar": {
              "outlinewidth": 0,
              "ticks": ""
             }
            },
            "type": "scattermapbox"
           }
          ],
          "scatterpolar": [
           {
            "marker": {
             "colorbar": {
              "outlinewidth": 0,
              "ticks": ""
             }
            },
            "type": "scatterpolar"
           }
          ],
          "scatterpolargl": [
           {
            "marker": {
             "colorbar": {
              "outlinewidth": 0,
              "ticks": ""
             }
            },
            "type": "scatterpolargl"
           }
          ],
          "scatterternary": [
           {
            "marker": {
             "colorbar": {
              "outlinewidth": 0,
              "ticks": ""
             }
            },
            "type": "scatterternary"
           }
          ],
          "surface": [
           {
            "colorbar": {
             "outlinewidth": 0,
             "ticks": ""
            },
            "colorscale": [
             [
              0,
              "#0d0887"
             ],
             [
              0.1111111111111111,
              "#46039f"
             ],
             [
              0.2222222222222222,
              "#7201a8"
             ],
             [
              0.3333333333333333,
              "#9c179e"
             ],
             [
              0.4444444444444444,
              "#bd3786"
             ],
             [
              0.5555555555555556,
              "#d8576b"
             ],
             [
              0.6666666666666666,
              "#ed7953"
             ],
             [
              0.7777777777777778,
              "#fb9f3a"
             ],
             [
              0.8888888888888888,
              "#fdca26"
             ],
             [
              1,
              "#f0f921"
             ]
            ],
            "type": "surface"
           }
          ],
          "table": [
           {
            "cells": {
             "fill": {
              "color": "#EBF0F8"
             },
             "line": {
              "color": "white"
             }
            },
            "header": {
             "fill": {
              "color": "#C8D4E3"
             },
             "line": {
              "color": "white"
             }
            },
            "type": "table"
           }
          ]
         },
         "layout": {
          "annotationdefaults": {
           "arrowcolor": "#2a3f5f",
           "arrowhead": 0,
           "arrowwidth": 1
          },
          "autotypenumbers": "strict",
          "coloraxis": {
           "colorbar": {
            "outlinewidth": 0,
            "ticks": ""
           }
          },
          "colorscale": {
           "diverging": [
            [
             0,
             "#8e0152"
            ],
            [
             0.1,
             "#c51b7d"
            ],
            [
             0.2,
             "#de77ae"
            ],
            [
             0.3,
             "#f1b6da"
            ],
            [
             0.4,
             "#fde0ef"
            ],
            [
             0.5,
             "#f7f7f7"
            ],
            [
             0.6,
             "#e6f5d0"
            ],
            [
             0.7,
             "#b8e186"
            ],
            [
             0.8,
             "#7fbc41"
            ],
            [
             0.9,
             "#4d9221"
            ],
            [
             1,
             "#276419"
            ]
           ],
           "sequential": [
            [
             0,
             "#0d0887"
            ],
            [
             0.1111111111111111,
             "#46039f"
            ],
            [
             0.2222222222222222,
             "#7201a8"
            ],
            [
             0.3333333333333333,
             "#9c179e"
            ],
            [
             0.4444444444444444,
             "#bd3786"
            ],
            [
             0.5555555555555556,
             "#d8576b"
            ],
            [
             0.6666666666666666,
             "#ed7953"
            ],
            [
             0.7777777777777778,
             "#fb9f3a"
            ],
            [
             0.8888888888888888,
             "#fdca26"
            ],
            [
             1,
             "#f0f921"
            ]
           ],
           "sequentialminus": [
            [
             0,
             "#0d0887"
            ],
            [
             0.1111111111111111,
             "#46039f"
            ],
            [
             0.2222222222222222,
             "#7201a8"
            ],
            [
             0.3333333333333333,
             "#9c179e"
            ],
            [
             0.4444444444444444,
             "#bd3786"
            ],
            [
             0.5555555555555556,
             "#d8576b"
            ],
            [
             0.6666666666666666,
             "#ed7953"
            ],
            [
             0.7777777777777778,
             "#fb9f3a"
            ],
            [
             0.8888888888888888,
             "#fdca26"
            ],
            [
             1,
             "#f0f921"
            ]
           ]
          },
          "colorway": [
           "#636efa",
           "#EF553B",
           "#00cc96",
           "#ab63fa",
           "#FFA15A",
           "#19d3f3",
           "#FF6692",
           "#B6E880",
           "#FF97FF",
           "#FECB52"
          ],
          "font": {
           "color": "#2a3f5f"
          },
          "geo": {
           "bgcolor": "white",
           "lakecolor": "white",
           "landcolor": "#E5ECF6",
           "showlakes": true,
           "showland": true,
           "subunitcolor": "white"
          },
          "hoverlabel": {
           "align": "left"
          },
          "hovermode": "closest",
          "mapbox": {
           "style": "light"
          },
          "paper_bgcolor": "white",
          "plot_bgcolor": "#E5ECF6",
          "polar": {
           "angularaxis": {
            "gridcolor": "white",
            "linecolor": "white",
            "ticks": ""
           },
           "bgcolor": "#E5ECF6",
           "radialaxis": {
            "gridcolor": "white",
            "linecolor": "white",
            "ticks": ""
           }
          },
          "scene": {
           "xaxis": {
            "backgroundcolor": "#E5ECF6",
            "gridcolor": "white",
            "gridwidth": 2,
            "linecolor": "white",
            "showbackground": true,
            "ticks": "",
            "zerolinecolor": "white"
           },
           "yaxis": {
            "backgroundcolor": "#E5ECF6",
            "gridcolor": "white",
            "gridwidth": 2,
            "linecolor": "white",
            "showbackground": true,
            "ticks": "",
            "zerolinecolor": "white"
           },
           "zaxis": {
            "backgroundcolor": "#E5ECF6",
            "gridcolor": "white",
            "gridwidth": 2,
            "linecolor": "white",
            "showbackground": true,
            "ticks": "",
            "zerolinecolor": "white"
           }
          },
          "shapedefaults": {
           "line": {
            "color": "#2a3f5f"
           }
          },
          "ternary": {
           "aaxis": {
            "gridcolor": "white",
            "linecolor": "white",
            "ticks": ""
           },
           "baxis": {
            "gridcolor": "white",
            "linecolor": "white",
            "ticks": ""
           },
           "bgcolor": "#E5ECF6",
           "caxis": {
            "gridcolor": "white",
            "linecolor": "white",
            "ticks": ""
           }
          },
          "title": {
           "x": 0.05
          },
          "xaxis": {
           "automargin": true,
           "gridcolor": "white",
           "linecolor": "white",
           "ticks": "",
           "title": {
            "standoff": 15
           },
           "zerolinecolor": "white",
           "zerolinewidth": 2
          },
          "yaxis": {
           "automargin": true,
           "gridcolor": "white",
           "linecolor": "white",
           "ticks": "",
           "title": {
            "standoff": 15
           },
           "zerolinecolor": "white",
           "zerolinewidth": 2
          }
         }
        },
        "title": {
         "text": "Chemical Distribution for Quality 3"
        }
       }
      }
     },
     "metadata": {},
     "output_type": "display_data"
    },
    {
     "data": {
      "application/vnd.plotly.v1+json": {
       "config": {
        "plotlyServerURL": "https://plot.ly"
       },
       "data": [
        {
         "domain": {
          "x": [
           0,
           1
          ],
          "y": [
           0,
           1
          ]
         },
         "hovertemplate": "Chemicals=%{label}<br>Percentage=%{value}<extra></extra>",
         "labels": [
          "fixed acidity",
          "volatile acidity",
          "citric acid",
          "residual sugar",
          "chlorides",
          "free sulfur dioxide",
          "total sulfur dioxide",
          "density",
          "pH",
          "sulphates",
          "alcohol"
         ],
         "legendgroup": "",
         "name": "",
         "showlegend": true,
         "type": "pie",
         "values": [
          7.809090909090909,
          0.7000000000000001,
          0.16575757575757574,
          2.566666666666667,
          0.09478787878787878,
          14.848484848484848,
          40.60606060606061,
          0.9966693939393939,
          3.391212121212121,
          0.6378787878787879,
          10.260606060606062
         ]
        }
       ],
       "layout": {
        "legend": {
         "tracegroupgap": 0
        },
        "template": {
         "data": {
          "bar": [
           {
            "error_x": {
             "color": "#2a3f5f"
            },
            "error_y": {
             "color": "#2a3f5f"
            },
            "marker": {
             "line": {
              "color": "#E5ECF6",
              "width": 0.5
             },
             "pattern": {
              "fillmode": "overlay",
              "size": 10,
              "solidity": 0.2
             }
            },
            "type": "bar"
           }
          ],
          "barpolar": [
           {
            "marker": {
             "line": {
              "color": "#E5ECF6",
              "width": 0.5
             },
             "pattern": {
              "fillmode": "overlay",
              "size": 10,
              "solidity": 0.2
             }
            },
            "type": "barpolar"
           }
          ],
          "carpet": [
           {
            "aaxis": {
             "endlinecolor": "#2a3f5f",
             "gridcolor": "white",
             "linecolor": "white",
             "minorgridcolor": "white",
             "startlinecolor": "#2a3f5f"
            },
            "baxis": {
             "endlinecolor": "#2a3f5f",
             "gridcolor": "white",
             "linecolor": "white",
             "minorgridcolor": "white",
             "startlinecolor": "#2a3f5f"
            },
            "type": "carpet"
           }
          ],
          "choropleth": [
           {
            "colorbar": {
             "outlinewidth": 0,
             "ticks": ""
            },
            "type": "choropleth"
           }
          ],
          "contour": [
           {
            "colorbar": {
             "outlinewidth": 0,
             "ticks": ""
            },
            "colorscale": [
             [
              0,
              "#0d0887"
             ],
             [
              0.1111111111111111,
              "#46039f"
             ],
             [
              0.2222222222222222,
              "#7201a8"
             ],
             [
              0.3333333333333333,
              "#9c179e"
             ],
             [
              0.4444444444444444,
              "#bd3786"
             ],
             [
              0.5555555555555556,
              "#d8576b"
             ],
             [
              0.6666666666666666,
              "#ed7953"
             ],
             [
              0.7777777777777778,
              "#fb9f3a"
             ],
             [
              0.8888888888888888,
              "#fdca26"
             ],
             [
              1,
              "#f0f921"
             ]
            ],
            "type": "contour"
           }
          ],
          "contourcarpet": [
           {
            "colorbar": {
             "outlinewidth": 0,
             "ticks": ""
            },
            "type": "contourcarpet"
           }
          ],
          "heatmap": [
           {
            "colorbar": {
             "outlinewidth": 0,
             "ticks": ""
            },
            "colorscale": [
             [
              0,
              "#0d0887"
             ],
             [
              0.1111111111111111,
              "#46039f"
             ],
             [
              0.2222222222222222,
              "#7201a8"
             ],
             [
              0.3333333333333333,
              "#9c179e"
             ],
             [
              0.4444444444444444,
              "#bd3786"
             ],
             [
              0.5555555555555556,
              "#d8576b"
             ],
             [
              0.6666666666666666,
              "#ed7953"
             ],
             [
              0.7777777777777778,
              "#fb9f3a"
             ],
             [
              0.8888888888888888,
              "#fdca26"
             ],
             [
              1,
              "#f0f921"
             ]
            ],
            "type": "heatmap"
           }
          ],
          "heatmapgl": [
           {
            "colorbar": {
             "outlinewidth": 0,
             "ticks": ""
            },
            "colorscale": [
             [
              0,
              "#0d0887"
             ],
             [
              0.1111111111111111,
              "#46039f"
             ],
             [
              0.2222222222222222,
              "#7201a8"
             ],
             [
              0.3333333333333333,
              "#9c179e"
             ],
             [
              0.4444444444444444,
              "#bd3786"
             ],
             [
              0.5555555555555556,
              "#d8576b"
             ],
             [
              0.6666666666666666,
              "#ed7953"
             ],
             [
              0.7777777777777778,
              "#fb9f3a"
             ],
             [
              0.8888888888888888,
              "#fdca26"
             ],
             [
              1,
              "#f0f921"
             ]
            ],
            "type": "heatmapgl"
           }
          ],
          "histogram": [
           {
            "marker": {
             "pattern": {
              "fillmode": "overlay",
              "size": 10,
              "solidity": 0.2
             }
            },
            "type": "histogram"
           }
          ],
          "histogram2d": [
           {
            "colorbar": {
             "outlinewidth": 0,
             "ticks": ""
            },
            "colorscale": [
             [
              0,
              "#0d0887"
             ],
             [
              0.1111111111111111,
              "#46039f"
             ],
             [
              0.2222222222222222,
              "#7201a8"
             ],
             [
              0.3333333333333333,
              "#9c179e"
             ],
             [
              0.4444444444444444,
              "#bd3786"
             ],
             [
              0.5555555555555556,
              "#d8576b"
             ],
             [
              0.6666666666666666,
              "#ed7953"
             ],
             [
              0.7777777777777778,
              "#fb9f3a"
             ],
             [
              0.8888888888888888,
              "#fdca26"
             ],
             [
              1,
              "#f0f921"
             ]
            ],
            "type": "histogram2d"
           }
          ],
          "histogram2dcontour": [
           {
            "colorbar": {
             "outlinewidth": 0,
             "ticks": ""
            },
            "colorscale": [
             [
              0,
              "#0d0887"
             ],
             [
              0.1111111111111111,
              "#46039f"
             ],
             [
              0.2222222222222222,
              "#7201a8"
             ],
             [
              0.3333333333333333,
              "#9c179e"
             ],
             [
              0.4444444444444444,
              "#bd3786"
             ],
             [
              0.5555555555555556,
              "#d8576b"
             ],
             [
              0.6666666666666666,
              "#ed7953"
             ],
             [
              0.7777777777777778,
              "#fb9f3a"
             ],
             [
              0.8888888888888888,
              "#fdca26"
             ],
             [
              1,
              "#f0f921"
             ]
            ],
            "type": "histogram2dcontour"
           }
          ],
          "mesh3d": [
           {
            "colorbar": {
             "outlinewidth": 0,
             "ticks": ""
            },
            "type": "mesh3d"
           }
          ],
          "parcoords": [
           {
            "line": {
             "colorbar": {
              "outlinewidth": 0,
              "ticks": ""
             }
            },
            "type": "parcoords"
           }
          ],
          "pie": [
           {
            "automargin": true,
            "type": "pie"
           }
          ],
          "scatter": [
           {
            "fillpattern": {
             "fillmode": "overlay",
             "size": 10,
             "solidity": 0.2
            },
            "type": "scatter"
           }
          ],
          "scatter3d": [
           {
            "line": {
             "colorbar": {
              "outlinewidth": 0,
              "ticks": ""
             }
            },
            "marker": {
             "colorbar": {
              "outlinewidth": 0,
              "ticks": ""
             }
            },
            "type": "scatter3d"
           }
          ],
          "scattercarpet": [
           {
            "marker": {
             "colorbar": {
              "outlinewidth": 0,
              "ticks": ""
             }
            },
            "type": "scattercarpet"
           }
          ],
          "scattergeo": [
           {
            "marker": {
             "colorbar": {
              "outlinewidth": 0,
              "ticks": ""
             }
            },
            "type": "scattergeo"
           }
          ],
          "scattergl": [
           {
            "marker": {
             "colorbar": {
              "outlinewidth": 0,
              "ticks": ""
             }
            },
            "type": "scattergl"
           }
          ],
          "scattermapbox": [
           {
            "marker": {
             "colorbar": {
              "outlinewidth": 0,
              "ticks": ""
             }
            },
            "type": "scattermapbox"
           }
          ],
          "scatterpolar": [
           {
            "marker": {
             "colorbar": {
              "outlinewidth": 0,
              "ticks": ""
             }
            },
            "type": "scatterpolar"
           }
          ],
          "scatterpolargl": [
           {
            "marker": {
             "colorbar": {
              "outlinewidth": 0,
              "ticks": ""
             }
            },
            "type": "scatterpolargl"
           }
          ],
          "scatterternary": [
           {
            "marker": {
             "colorbar": {
              "outlinewidth": 0,
              "ticks": ""
             }
            },
            "type": "scatterternary"
           }
          ],
          "surface": [
           {
            "colorbar": {
             "outlinewidth": 0,
             "ticks": ""
            },
            "colorscale": [
             [
              0,
              "#0d0887"
             ],
             [
              0.1111111111111111,
              "#46039f"
             ],
             [
              0.2222222222222222,
              "#7201a8"
             ],
             [
              0.3333333333333333,
              "#9c179e"
             ],
             [
              0.4444444444444444,
              "#bd3786"
             ],
             [
              0.5555555555555556,
              "#d8576b"
             ],
             [
              0.6666666666666666,
              "#ed7953"
             ],
             [
              0.7777777777777778,
              "#fb9f3a"
             ],
             [
              0.8888888888888888,
              "#fdca26"
             ],
             [
              1,
              "#f0f921"
             ]
            ],
            "type": "surface"
           }
          ],
          "table": [
           {
            "cells": {
             "fill": {
              "color": "#EBF0F8"
             },
             "line": {
              "color": "white"
             }
            },
            "header": {
             "fill": {
              "color": "#C8D4E3"
             },
             "line": {
              "color": "white"
             }
            },
            "type": "table"
           }
          ]
         },
         "layout": {
          "annotationdefaults": {
           "arrowcolor": "#2a3f5f",
           "arrowhead": 0,
           "arrowwidth": 1
          },
          "autotypenumbers": "strict",
          "coloraxis": {
           "colorbar": {
            "outlinewidth": 0,
            "ticks": ""
           }
          },
          "colorscale": {
           "diverging": [
            [
             0,
             "#8e0152"
            ],
            [
             0.1,
             "#c51b7d"
            ],
            [
             0.2,
             "#de77ae"
            ],
            [
             0.3,
             "#f1b6da"
            ],
            [
             0.4,
             "#fde0ef"
            ],
            [
             0.5,
             "#f7f7f7"
            ],
            [
             0.6,
             "#e6f5d0"
            ],
            [
             0.7,
             "#b8e186"
            ],
            [
             0.8,
             "#7fbc41"
            ],
            [
             0.9,
             "#4d9221"
            ],
            [
             1,
             "#276419"
            ]
           ],
           "sequential": [
            [
             0,
             "#0d0887"
            ],
            [
             0.1111111111111111,
             "#46039f"
            ],
            [
             0.2222222222222222,
             "#7201a8"
            ],
            [
             0.3333333333333333,
             "#9c179e"
            ],
            [
             0.4444444444444444,
             "#bd3786"
            ],
            [
             0.5555555555555556,
             "#d8576b"
            ],
            [
             0.6666666666666666,
             "#ed7953"
            ],
            [
             0.7777777777777778,
             "#fb9f3a"
            ],
            [
             0.8888888888888888,
             "#fdca26"
            ],
            [
             1,
             "#f0f921"
            ]
           ],
           "sequentialminus": [
            [
             0,
             "#0d0887"
            ],
            [
             0.1111111111111111,
             "#46039f"
            ],
            [
             0.2222222222222222,
             "#7201a8"
            ],
            [
             0.3333333333333333,
             "#9c179e"
            ],
            [
             0.4444444444444444,
             "#bd3786"
            ],
            [
             0.5555555555555556,
             "#d8576b"
            ],
            [
             0.6666666666666666,
             "#ed7953"
            ],
            [
             0.7777777777777778,
             "#fb9f3a"
            ],
            [
             0.8888888888888888,
             "#fdca26"
            ],
            [
             1,
             "#f0f921"
            ]
           ]
          },
          "colorway": [
           "#636efa",
           "#EF553B",
           "#00cc96",
           "#ab63fa",
           "#FFA15A",
           "#19d3f3",
           "#FF6692",
           "#B6E880",
           "#FF97FF",
           "#FECB52"
          ],
          "font": {
           "color": "#2a3f5f"
          },
          "geo": {
           "bgcolor": "white",
           "lakecolor": "white",
           "landcolor": "#E5ECF6",
           "showlakes": true,
           "showland": true,
           "subunitcolor": "white"
          },
          "hoverlabel": {
           "align": "left"
          },
          "hovermode": "closest",
          "mapbox": {
           "style": "light"
          },
          "paper_bgcolor": "white",
          "plot_bgcolor": "#E5ECF6",
          "polar": {
           "angularaxis": {
            "gridcolor": "white",
            "linecolor": "white",
            "ticks": ""
           },
           "bgcolor": "#E5ECF6",
           "radialaxis": {
            "gridcolor": "white",
            "linecolor": "white",
            "ticks": ""
           }
          },
          "scene": {
           "xaxis": {
            "backgroundcolor": "#E5ECF6",
            "gridcolor": "white",
            "gridwidth": 2,
            "linecolor": "white",
            "showbackground": true,
            "ticks": "",
            "zerolinecolor": "white"
           },
           "yaxis": {
            "backgroundcolor": "#E5ECF6",
            "gridcolor": "white",
            "gridwidth": 2,
            "linecolor": "white",
            "showbackground": true,
            "ticks": "",
            "zerolinecolor": "white"
           },
           "zaxis": {
            "backgroundcolor": "#E5ECF6",
            "gridcolor": "white",
            "gridwidth": 2,
            "linecolor": "white",
            "showbackground": true,
            "ticks": "",
            "zerolinecolor": "white"
           }
          },
          "shapedefaults": {
           "line": {
            "color": "#2a3f5f"
           }
          },
          "ternary": {
           "aaxis": {
            "gridcolor": "white",
            "linecolor": "white",
            "ticks": ""
           },
           "baxis": {
            "gridcolor": "white",
            "linecolor": "white",
            "ticks": ""
           },
           "bgcolor": "#E5ECF6",
           "caxis": {
            "gridcolor": "white",
            "linecolor": "white",
            "ticks": ""
           }
          },
          "title": {
           "x": 0.05
          },
          "xaxis": {
           "automargin": true,
           "gridcolor": "white",
           "linecolor": "white",
           "ticks": "",
           "title": {
            "standoff": 15
           },
           "zerolinecolor": "white",
           "zerolinewidth": 2
          },
          "yaxis": {
           "automargin": true,
           "gridcolor": "white",
           "linecolor": "white",
           "ticks": "",
           "title": {
            "standoff": 15
           },
           "zerolinecolor": "white",
           "zerolinewidth": 2
          }
         }
        },
        "title": {
         "text": "Chemical Distribution for Quality 4"
        }
       }
      }
     },
     "metadata": {},
     "output_type": "display_data"
    },
    {
     "data": {
      "application/vnd.plotly.v1+json": {
       "config": {
        "plotlyServerURL": "https://plot.ly"
       },
       "data": [
        {
         "domain": {
          "x": [
           0,
           1
          ],
          "y": [
           0,
           1
          ]
         },
         "hovertemplate": "Chemicals=%{label}<br>Percentage=%{value}<extra></extra>",
         "labels": [
          "fixed acidity",
          "volatile acidity",
          "citric acid",
          "residual sugar",
          "chlorides",
          "free sulfur dioxide",
          "total sulfur dioxide",
          "density",
          "pH",
          "sulphates",
          "alcohol"
         ],
         "legendgroup": "",
         "name": "",
         "showlegend": true,
         "type": "pie",
         "values": [
          8.161076604554866,
          0.5852795031055901,
          0.24012422360248448,
          2.5404761904761903,
          0.09177018633540372,
          16.612836438923395,
          55.299171842650104,
          0.9970726501035196,
          3.3020910973084887,
          0.6133747412008281,
          9.902277432712216
         ]
        }
       ],
       "layout": {
        "legend": {
         "tracegroupgap": 0
        },
        "template": {
         "data": {
          "bar": [
           {
            "error_x": {
             "color": "#2a3f5f"
            },
            "error_y": {
             "color": "#2a3f5f"
            },
            "marker": {
             "line": {
              "color": "#E5ECF6",
              "width": 0.5
             },
             "pattern": {
              "fillmode": "overlay",
              "size": 10,
              "solidity": 0.2
             }
            },
            "type": "bar"
           }
          ],
          "barpolar": [
           {
            "marker": {
             "line": {
              "color": "#E5ECF6",
              "width": 0.5
             },
             "pattern": {
              "fillmode": "overlay",
              "size": 10,
              "solidity": 0.2
             }
            },
            "type": "barpolar"
           }
          ],
          "carpet": [
           {
            "aaxis": {
             "endlinecolor": "#2a3f5f",
             "gridcolor": "white",
             "linecolor": "white",
             "minorgridcolor": "white",
             "startlinecolor": "#2a3f5f"
            },
            "baxis": {
             "endlinecolor": "#2a3f5f",
             "gridcolor": "white",
             "linecolor": "white",
             "minorgridcolor": "white",
             "startlinecolor": "#2a3f5f"
            },
            "type": "carpet"
           }
          ],
          "choropleth": [
           {
            "colorbar": {
             "outlinewidth": 0,
             "ticks": ""
            },
            "type": "choropleth"
           }
          ],
          "contour": [
           {
            "colorbar": {
             "outlinewidth": 0,
             "ticks": ""
            },
            "colorscale": [
             [
              0,
              "#0d0887"
             ],
             [
              0.1111111111111111,
              "#46039f"
             ],
             [
              0.2222222222222222,
              "#7201a8"
             ],
             [
              0.3333333333333333,
              "#9c179e"
             ],
             [
              0.4444444444444444,
              "#bd3786"
             ],
             [
              0.5555555555555556,
              "#d8576b"
             ],
             [
              0.6666666666666666,
              "#ed7953"
             ],
             [
              0.7777777777777778,
              "#fb9f3a"
             ],
             [
              0.8888888888888888,
              "#fdca26"
             ],
             [
              1,
              "#f0f921"
             ]
            ],
            "type": "contour"
           }
          ],
          "contourcarpet": [
           {
            "colorbar": {
             "outlinewidth": 0,
             "ticks": ""
            },
            "type": "contourcarpet"
           }
          ],
          "heatmap": [
           {
            "colorbar": {
             "outlinewidth": 0,
             "ticks": ""
            },
            "colorscale": [
             [
              0,
              "#0d0887"
             ],
             [
              0.1111111111111111,
              "#46039f"
             ],
             [
              0.2222222222222222,
              "#7201a8"
             ],
             [
              0.3333333333333333,
              "#9c179e"
             ],
             [
              0.4444444444444444,
              "#bd3786"
             ],
             [
              0.5555555555555556,
              "#d8576b"
             ],
             [
              0.6666666666666666,
              "#ed7953"
             ],
             [
              0.7777777777777778,
              "#fb9f3a"
             ],
             [
              0.8888888888888888,
              "#fdca26"
             ],
             [
              1,
              "#f0f921"
             ]
            ],
            "type": "heatmap"
           }
          ],
          "heatmapgl": [
           {
            "colorbar": {
             "outlinewidth": 0,
             "ticks": ""
            },
            "colorscale": [
             [
              0,
              "#0d0887"
             ],
             [
              0.1111111111111111,
              "#46039f"
             ],
             [
              0.2222222222222222,
              "#7201a8"
             ],
             [
              0.3333333333333333,
              "#9c179e"
             ],
             [
              0.4444444444444444,
              "#bd3786"
             ],
             [
              0.5555555555555556,
              "#d8576b"
             ],
             [
              0.6666666666666666,
              "#ed7953"
             ],
             [
              0.7777777777777778,
              "#fb9f3a"
             ],
             [
              0.8888888888888888,
              "#fdca26"
             ],
             [
              1,
              "#f0f921"
             ]
            ],
            "type": "heatmapgl"
           }
          ],
          "histogram": [
           {
            "marker": {
             "pattern": {
              "fillmode": "overlay",
              "size": 10,
              "solidity": 0.2
             }
            },
            "type": "histogram"
           }
          ],
          "histogram2d": [
           {
            "colorbar": {
             "outlinewidth": 0,
             "ticks": ""
            },
            "colorscale": [
             [
              0,
              "#0d0887"
             ],
             [
              0.1111111111111111,
              "#46039f"
             ],
             [
              0.2222222222222222,
              "#7201a8"
             ],
             [
              0.3333333333333333,
              "#9c179e"
             ],
             [
              0.4444444444444444,
              "#bd3786"
             ],
             [
              0.5555555555555556,
              "#d8576b"
             ],
             [
              0.6666666666666666,
              "#ed7953"
             ],
             [
              0.7777777777777778,
              "#fb9f3a"
             ],
             [
              0.8888888888888888,
              "#fdca26"
             ],
             [
              1,
              "#f0f921"
             ]
            ],
            "type": "histogram2d"
           }
          ],
          "histogram2dcontour": [
           {
            "colorbar": {
             "outlinewidth": 0,
             "ticks": ""
            },
            "colorscale": [
             [
              0,
              "#0d0887"
             ],
             [
              0.1111111111111111,
              "#46039f"
             ],
             [
              0.2222222222222222,
              "#7201a8"
             ],
             [
              0.3333333333333333,
              "#9c179e"
             ],
             [
              0.4444444444444444,
              "#bd3786"
             ],
             [
              0.5555555555555556,
              "#d8576b"
             ],
             [
              0.6666666666666666,
              "#ed7953"
             ],
             [
              0.7777777777777778,
              "#fb9f3a"
             ],
             [
              0.8888888888888888,
              "#fdca26"
             ],
             [
              1,
              "#f0f921"
             ]
            ],
            "type": "histogram2dcontour"
           }
          ],
          "mesh3d": [
           {
            "colorbar": {
             "outlinewidth": 0,
             "ticks": ""
            },
            "type": "mesh3d"
           }
          ],
          "parcoords": [
           {
            "line": {
             "colorbar": {
              "outlinewidth": 0,
              "ticks": ""
             }
            },
            "type": "parcoords"
           }
          ],
          "pie": [
           {
            "automargin": true,
            "type": "pie"
           }
          ],
          "scatter": [
           {
            "fillpattern": {
             "fillmode": "overlay",
             "size": 10,
             "solidity": 0.2
            },
            "type": "scatter"
           }
          ],
          "scatter3d": [
           {
            "line": {
             "colorbar": {
              "outlinewidth": 0,
              "ticks": ""
             }
            },
            "marker": {
             "colorbar": {
              "outlinewidth": 0,
              "ticks": ""
             }
            },
            "type": "scatter3d"
           }
          ],
          "scattercarpet": [
           {
            "marker": {
             "colorbar": {
              "outlinewidth": 0,
              "ticks": ""
             }
            },
            "type": "scattercarpet"
           }
          ],
          "scattergeo": [
           {
            "marker": {
             "colorbar": {
              "outlinewidth": 0,
              "ticks": ""
             }
            },
            "type": "scattergeo"
           }
          ],
          "scattergl": [
           {
            "marker": {
             "colorbar": {
              "outlinewidth": 0,
              "ticks": ""
             }
            },
            "type": "scattergl"
           }
          ],
          "scattermapbox": [
           {
            "marker": {
             "colorbar": {
              "outlinewidth": 0,
              "ticks": ""
             }
            },
            "type": "scattermapbox"
           }
          ],
          "scatterpolar": [
           {
            "marker": {
             "colorbar": {
              "outlinewidth": 0,
              "ticks": ""
             }
            },
            "type": "scatterpolar"
           }
          ],
          "scatterpolargl": [
           {
            "marker": {
             "colorbar": {
              "outlinewidth": 0,
              "ticks": ""
             }
            },
            "type": "scatterpolargl"
           }
          ],
          "scatterternary": [
           {
            "marker": {
             "colorbar": {
              "outlinewidth": 0,
              "ticks": ""
             }
            },
            "type": "scatterternary"
           }
          ],
          "surface": [
           {
            "colorbar": {
             "outlinewidth": 0,
             "ticks": ""
            },
            "colorscale": [
             [
              0,
              "#0d0887"
             ],
             [
              0.1111111111111111,
              "#46039f"
             ],
             [
              0.2222222222222222,
              "#7201a8"
             ],
             [
              0.3333333333333333,
              "#9c179e"
             ],
             [
              0.4444444444444444,
              "#bd3786"
             ],
             [
              0.5555555555555556,
              "#d8576b"
             ],
             [
              0.6666666666666666,
              "#ed7953"
             ],
             [
              0.7777777777777778,
              "#fb9f3a"
             ],
             [
              0.8888888888888888,
              "#fdca26"
             ],
             [
              1,
              "#f0f921"
             ]
            ],
            "type": "surface"
           }
          ],
          "table": [
           {
            "cells": {
             "fill": {
              "color": "#EBF0F8"
             },
             "line": {
              "color": "white"
             }
            },
            "header": {
             "fill": {
              "color": "#C8D4E3"
             },
             "line": {
              "color": "white"
             }
            },
            "type": "table"
           }
          ]
         },
         "layout": {
          "annotationdefaults": {
           "arrowcolor": "#2a3f5f",
           "arrowhead": 0,
           "arrowwidth": 1
          },
          "autotypenumbers": "strict",
          "coloraxis": {
           "colorbar": {
            "outlinewidth": 0,
            "ticks": ""
           }
          },
          "colorscale": {
           "diverging": [
            [
             0,
             "#8e0152"
            ],
            [
             0.1,
             "#c51b7d"
            ],
            [
             0.2,
             "#de77ae"
            ],
            [
             0.3,
             "#f1b6da"
            ],
            [
             0.4,
             "#fde0ef"
            ],
            [
             0.5,
             "#f7f7f7"
            ],
            [
             0.6,
             "#e6f5d0"
            ],
            [
             0.7,
             "#b8e186"
            ],
            [
             0.8,
             "#7fbc41"
            ],
            [
             0.9,
             "#4d9221"
            ],
            [
             1,
             "#276419"
            ]
           ],
           "sequential": [
            [
             0,
             "#0d0887"
            ],
            [
             0.1111111111111111,
             "#46039f"
            ],
            [
             0.2222222222222222,
             "#7201a8"
            ],
            [
             0.3333333333333333,
             "#9c179e"
            ],
            [
             0.4444444444444444,
             "#bd3786"
            ],
            [
             0.5555555555555556,
             "#d8576b"
            ],
            [
             0.6666666666666666,
             "#ed7953"
            ],
            [
             0.7777777777777778,
             "#fb9f3a"
            ],
            [
             0.8888888888888888,
             "#fdca26"
            ],
            [
             1,
             "#f0f921"
            ]
           ],
           "sequentialminus": [
            [
             0,
             "#0d0887"
            ],
            [
             0.1111111111111111,
             "#46039f"
            ],
            [
             0.2222222222222222,
             "#7201a8"
            ],
            [
             0.3333333333333333,
             "#9c179e"
            ],
            [
             0.4444444444444444,
             "#bd3786"
            ],
            [
             0.5555555555555556,
             "#d8576b"
            ],
            [
             0.6666666666666666,
             "#ed7953"
            ],
            [
             0.7777777777777778,
             "#fb9f3a"
            ],
            [
             0.8888888888888888,
             "#fdca26"
            ],
            [
             1,
             "#f0f921"
            ]
           ]
          },
          "colorway": [
           "#636efa",
           "#EF553B",
           "#00cc96",
           "#ab63fa",
           "#FFA15A",
           "#19d3f3",
           "#FF6692",
           "#B6E880",
           "#FF97FF",
           "#FECB52"
          ],
          "font": {
           "color": "#2a3f5f"
          },
          "geo": {
           "bgcolor": "white",
           "lakecolor": "white",
           "landcolor": "#E5ECF6",
           "showlakes": true,
           "showland": true,
           "subunitcolor": "white"
          },
          "hoverlabel": {
           "align": "left"
          },
          "hovermode": "closest",
          "mapbox": {
           "style": "light"
          },
          "paper_bgcolor": "white",
          "plot_bgcolor": "#E5ECF6",
          "polar": {
           "angularaxis": {
            "gridcolor": "white",
            "linecolor": "white",
            "ticks": ""
           },
           "bgcolor": "#E5ECF6",
           "radialaxis": {
            "gridcolor": "white",
            "linecolor": "white",
            "ticks": ""
           }
          },
          "scene": {
           "xaxis": {
            "backgroundcolor": "#E5ECF6",
            "gridcolor": "white",
            "gridwidth": 2,
            "linecolor": "white",
            "showbackground": true,
            "ticks": "",
            "zerolinecolor": "white"
           },
           "yaxis": {
            "backgroundcolor": "#E5ECF6",
            "gridcolor": "white",
            "gridwidth": 2,
            "linecolor": "white",
            "showbackground": true,
            "ticks": "",
            "zerolinecolor": "white"
           },
           "zaxis": {
            "backgroundcolor": "#E5ECF6",
            "gridcolor": "white",
            "gridwidth": 2,
            "linecolor": "white",
            "showbackground": true,
            "ticks": "",
            "zerolinecolor": "white"
           }
          },
          "shapedefaults": {
           "line": {
            "color": "#2a3f5f"
           }
          },
          "ternary": {
           "aaxis": {
            "gridcolor": "white",
            "linecolor": "white",
            "ticks": ""
           },
           "baxis": {
            "gridcolor": "white",
            "linecolor": "white",
            "ticks": ""
           },
           "bgcolor": "#E5ECF6",
           "caxis": {
            "gridcolor": "white",
            "linecolor": "white",
            "ticks": ""
           }
          },
          "title": {
           "x": 0.05
          },
          "xaxis": {
           "automargin": true,
           "gridcolor": "white",
           "linecolor": "white",
           "ticks": "",
           "title": {
            "standoff": 15
           },
           "zerolinecolor": "white",
           "zerolinewidth": 2
          },
          "yaxis": {
           "automargin": true,
           "gridcolor": "white",
           "linecolor": "white",
           "ticks": "",
           "title": {
            "standoff": 15
           },
           "zerolinecolor": "white",
           "zerolinewidth": 2
          }
         }
        },
        "title": {
         "text": "Chemical Distribution for Quality 5"
        }
       }
      }
     },
     "metadata": {},
     "output_type": "display_data"
    },
    {
     "data": {
      "application/vnd.plotly.v1+json": {
       "config": {
        "plotlyServerURL": "https://plot.ly"
       },
       "data": [
        {
         "domain": {
          "x": [
           0,
           1
          ],
          "y": [
           0,
           1
          ]
         },
         "hovertemplate": "Chemicals=%{label}<br>Percentage=%{value}<extra></extra>",
         "labels": [
          "fixed acidity",
          "volatile acidity",
          "citric acid",
          "residual sugar",
          "chlorides",
          "free sulfur dioxide",
          "total sulfur dioxide",
          "density",
          "pH",
          "sulphates",
          "alcohol"
         ],
         "legendgroup": "",
         "name": "",
         "showlegend": true,
         "type": "pie",
         "values": [
          8.317748917748919,
          0.5049567099567099,
          0.2636796536796537,
          2.4448051948051948,
          0.08528138528138528,
          15.215367965367966,
          39.94155844155844,
          0.9966095454545454,
          3.3237878787878787,
          0.6765367965367965,
          10.655339105339104
         ]
        }
       ],
       "layout": {
        "legend": {
         "tracegroupgap": 0
        },
        "template": {
         "data": {
          "bar": [
           {
            "error_x": {
             "color": "#2a3f5f"
            },
            "error_y": {
             "color": "#2a3f5f"
            },
            "marker": {
             "line": {
              "color": "#E5ECF6",
              "width": 0.5
             },
             "pattern": {
              "fillmode": "overlay",
              "size": 10,
              "solidity": 0.2
             }
            },
            "type": "bar"
           }
          ],
          "barpolar": [
           {
            "marker": {
             "line": {
              "color": "#E5ECF6",
              "width": 0.5
             },
             "pattern": {
              "fillmode": "overlay",
              "size": 10,
              "solidity": 0.2
             }
            },
            "type": "barpolar"
           }
          ],
          "carpet": [
           {
            "aaxis": {
             "endlinecolor": "#2a3f5f",
             "gridcolor": "white",
             "linecolor": "white",
             "minorgridcolor": "white",
             "startlinecolor": "#2a3f5f"
            },
            "baxis": {
             "endlinecolor": "#2a3f5f",
             "gridcolor": "white",
             "linecolor": "white",
             "minorgridcolor": "white",
             "startlinecolor": "#2a3f5f"
            },
            "type": "carpet"
           }
          ],
          "choropleth": [
           {
            "colorbar": {
             "outlinewidth": 0,
             "ticks": ""
            },
            "type": "choropleth"
           }
          ],
          "contour": [
           {
            "colorbar": {
             "outlinewidth": 0,
             "ticks": ""
            },
            "colorscale": [
             [
              0,
              "#0d0887"
             ],
             [
              0.1111111111111111,
              "#46039f"
             ],
             [
              0.2222222222222222,
              "#7201a8"
             ],
             [
              0.3333333333333333,
              "#9c179e"
             ],
             [
              0.4444444444444444,
              "#bd3786"
             ],
             [
              0.5555555555555556,
              "#d8576b"
             ],
             [
              0.6666666666666666,
              "#ed7953"
             ],
             [
              0.7777777777777778,
              "#fb9f3a"
             ],
             [
              0.8888888888888888,
              "#fdca26"
             ],
             [
              1,
              "#f0f921"
             ]
            ],
            "type": "contour"
           }
          ],
          "contourcarpet": [
           {
            "colorbar": {
             "outlinewidth": 0,
             "ticks": ""
            },
            "type": "contourcarpet"
           }
          ],
          "heatmap": [
           {
            "colorbar": {
             "outlinewidth": 0,
             "ticks": ""
            },
            "colorscale": [
             [
              0,
              "#0d0887"
             ],
             [
              0.1111111111111111,
              "#46039f"
             ],
             [
              0.2222222222222222,
              "#7201a8"
             ],
             [
              0.3333333333333333,
              "#9c179e"
             ],
             [
              0.4444444444444444,
              "#bd3786"
             ],
             [
              0.5555555555555556,
              "#d8576b"
             ],
             [
              0.6666666666666666,
              "#ed7953"
             ],
             [
              0.7777777777777778,
              "#fb9f3a"
             ],
             [
              0.8888888888888888,
              "#fdca26"
             ],
             [
              1,
              "#f0f921"
             ]
            ],
            "type": "heatmap"
           }
          ],
          "heatmapgl": [
           {
            "colorbar": {
             "outlinewidth": 0,
             "ticks": ""
            },
            "colorscale": [
             [
              0,
              "#0d0887"
             ],
             [
              0.1111111111111111,
              "#46039f"
             ],
             [
              0.2222222222222222,
              "#7201a8"
             ],
             [
              0.3333333333333333,
              "#9c179e"
             ],
             [
              0.4444444444444444,
              "#bd3786"
             ],
             [
              0.5555555555555556,
              "#d8576b"
             ],
             [
              0.6666666666666666,
              "#ed7953"
             ],
             [
              0.7777777777777778,
              "#fb9f3a"
             ],
             [
              0.8888888888888888,
              "#fdca26"
             ],
             [
              1,
              "#f0f921"
             ]
            ],
            "type": "heatmapgl"
           }
          ],
          "histogram": [
           {
            "marker": {
             "pattern": {
              "fillmode": "overlay",
              "size": 10,
              "solidity": 0.2
             }
            },
            "type": "histogram"
           }
          ],
          "histogram2d": [
           {
            "colorbar": {
             "outlinewidth": 0,
             "ticks": ""
            },
            "colorscale": [
             [
              0,
              "#0d0887"
             ],
             [
              0.1111111111111111,
              "#46039f"
             ],
             [
              0.2222222222222222,
              "#7201a8"
             ],
             [
              0.3333333333333333,
              "#9c179e"
             ],
             [
              0.4444444444444444,
              "#bd3786"
             ],
             [
              0.5555555555555556,
              "#d8576b"
             ],
             [
              0.6666666666666666,
              "#ed7953"
             ],
             [
              0.7777777777777778,
              "#fb9f3a"
             ],
             [
              0.8888888888888888,
              "#fdca26"
             ],
             [
              1,
              "#f0f921"
             ]
            ],
            "type": "histogram2d"
           }
          ],
          "histogram2dcontour": [
           {
            "colorbar": {
             "outlinewidth": 0,
             "ticks": ""
            },
            "colorscale": [
             [
              0,
              "#0d0887"
             ],
             [
              0.1111111111111111,
              "#46039f"
             ],
             [
              0.2222222222222222,
              "#7201a8"
             ],
             [
              0.3333333333333333,
              "#9c179e"
             ],
             [
              0.4444444444444444,
              "#bd3786"
             ],
             [
              0.5555555555555556,
              "#d8576b"
             ],
             [
              0.6666666666666666,
              "#ed7953"
             ],
             [
              0.7777777777777778,
              "#fb9f3a"
             ],
             [
              0.8888888888888888,
              "#fdca26"
             ],
             [
              1,
              "#f0f921"
             ]
            ],
            "type": "histogram2dcontour"
           }
          ],
          "mesh3d": [
           {
            "colorbar": {
             "outlinewidth": 0,
             "ticks": ""
            },
            "type": "mesh3d"
           }
          ],
          "parcoords": [
           {
            "line": {
             "colorbar": {
              "outlinewidth": 0,
              "ticks": ""
             }
            },
            "type": "parcoords"
           }
          ],
          "pie": [
           {
            "automargin": true,
            "type": "pie"
           }
          ],
          "scatter": [
           {
            "fillpattern": {
             "fillmode": "overlay",
             "size": 10,
             "solidity": 0.2
            },
            "type": "scatter"
           }
          ],
          "scatter3d": [
           {
            "line": {
             "colorbar": {
              "outlinewidth": 0,
              "ticks": ""
             }
            },
            "marker": {
             "colorbar": {
              "outlinewidth": 0,
              "ticks": ""
             }
            },
            "type": "scatter3d"
           }
          ],
          "scattercarpet": [
           {
            "marker": {
             "colorbar": {
              "outlinewidth": 0,
              "ticks": ""
             }
            },
            "type": "scattercarpet"
           }
          ],
          "scattergeo": [
           {
            "marker": {
             "colorbar": {
              "outlinewidth": 0,
              "ticks": ""
             }
            },
            "type": "scattergeo"
           }
          ],
          "scattergl": [
           {
            "marker": {
             "colorbar": {
              "outlinewidth": 0,
              "ticks": ""
             }
            },
            "type": "scattergl"
           }
          ],
          "scattermapbox": [
           {
            "marker": {
             "colorbar": {
              "outlinewidth": 0,
              "ticks": ""
             }
            },
            "type": "scattermapbox"
           }
          ],
          "scatterpolar": [
           {
            "marker": {
             "colorbar": {
              "outlinewidth": 0,
              "ticks": ""
             }
            },
            "type": "scatterpolar"
           }
          ],
          "scatterpolargl": [
           {
            "marker": {
             "colorbar": {
              "outlinewidth": 0,
              "ticks": ""
             }
            },
            "type": "scatterpolargl"
           }
          ],
          "scatterternary": [
           {
            "marker": {
             "colorbar": {
              "outlinewidth": 0,
              "ticks": ""
             }
            },
            "type": "scatterternary"
           }
          ],
          "surface": [
           {
            "colorbar": {
             "outlinewidth": 0,
             "ticks": ""
            },
            "colorscale": [
             [
              0,
              "#0d0887"
             ],
             [
              0.1111111111111111,
              "#46039f"
             ],
             [
              0.2222222222222222,
              "#7201a8"
             ],
             [
              0.3333333333333333,
              "#9c179e"
             ],
             [
              0.4444444444444444,
              "#bd3786"
             ],
             [
              0.5555555555555556,
              "#d8576b"
             ],
             [
              0.6666666666666666,
              "#ed7953"
             ],
             [
              0.7777777777777778,
              "#fb9f3a"
             ],
             [
              0.8888888888888888,
              "#fdca26"
             ],
             [
              1,
              "#f0f921"
             ]
            ],
            "type": "surface"
           }
          ],
          "table": [
           {
            "cells": {
             "fill": {
              "color": "#EBF0F8"
             },
             "line": {
              "color": "white"
             }
            },
            "header": {
             "fill": {
              "color": "#C8D4E3"
             },
             "line": {
              "color": "white"
             }
            },
            "type": "table"
           }
          ]
         },
         "layout": {
          "annotationdefaults": {
           "arrowcolor": "#2a3f5f",
           "arrowhead": 0,
           "arrowwidth": 1
          },
          "autotypenumbers": "strict",
          "coloraxis": {
           "colorbar": {
            "outlinewidth": 0,
            "ticks": ""
           }
          },
          "colorscale": {
           "diverging": [
            [
             0,
             "#8e0152"
            ],
            [
             0.1,
             "#c51b7d"
            ],
            [
             0.2,
             "#de77ae"
            ],
            [
             0.3,
             "#f1b6da"
            ],
            [
             0.4,
             "#fde0ef"
            ],
            [
             0.5,
             "#f7f7f7"
            ],
            [
             0.6,
             "#e6f5d0"
            ],
            [
             0.7,
             "#b8e186"
            ],
            [
             0.8,
             "#7fbc41"
            ],
            [
             0.9,
             "#4d9221"
            ],
            [
             1,
             "#276419"
            ]
           ],
           "sequential": [
            [
             0,
             "#0d0887"
            ],
            [
             0.1111111111111111,
             "#46039f"
            ],
            [
             0.2222222222222222,
             "#7201a8"
            ],
            [
             0.3333333333333333,
             "#9c179e"
            ],
            [
             0.4444444444444444,
             "#bd3786"
            ],
            [
             0.5555555555555556,
             "#d8576b"
            ],
            [
             0.6666666666666666,
             "#ed7953"
            ],
            [
             0.7777777777777778,
             "#fb9f3a"
            ],
            [
             0.8888888888888888,
             "#fdca26"
            ],
            [
             1,
             "#f0f921"
            ]
           ],
           "sequentialminus": [
            [
             0,
             "#0d0887"
            ],
            [
             0.1111111111111111,
             "#46039f"
            ],
            [
             0.2222222222222222,
             "#7201a8"
            ],
            [
             0.3333333333333333,
             "#9c179e"
            ],
            [
             0.4444444444444444,
             "#bd3786"
            ],
            [
             0.5555555555555556,
             "#d8576b"
            ],
            [
             0.6666666666666666,
             "#ed7953"
            ],
            [
             0.7777777777777778,
             "#fb9f3a"
            ],
            [
             0.8888888888888888,
             "#fdca26"
            ],
            [
             1,
             "#f0f921"
            ]
           ]
          },
          "colorway": [
           "#636efa",
           "#EF553B",
           "#00cc96",
           "#ab63fa",
           "#FFA15A",
           "#19d3f3",
           "#FF6692",
           "#B6E880",
           "#FF97FF",
           "#FECB52"
          ],
          "font": {
           "color": "#2a3f5f"
          },
          "geo": {
           "bgcolor": "white",
           "lakecolor": "white",
           "landcolor": "#E5ECF6",
           "showlakes": true,
           "showland": true,
           "subunitcolor": "white"
          },
          "hoverlabel": {
           "align": "left"
          },
          "hovermode": "closest",
          "mapbox": {
           "style": "light"
          },
          "paper_bgcolor": "white",
          "plot_bgcolor": "#E5ECF6",
          "polar": {
           "angularaxis": {
            "gridcolor": "white",
            "linecolor": "white",
            "ticks": ""
           },
           "bgcolor": "#E5ECF6",
           "radialaxis": {
            "gridcolor": "white",
            "linecolor": "white",
            "ticks": ""
           }
          },
          "scene": {
           "xaxis": {
            "backgroundcolor": "#E5ECF6",
            "gridcolor": "white",
            "gridwidth": 2,
            "linecolor": "white",
            "showbackground": true,
            "ticks": "",
            "zerolinecolor": "white"
           },
           "yaxis": {
            "backgroundcolor": "#E5ECF6",
            "gridcolor": "white",
            "gridwidth": 2,
            "linecolor": "white",
            "showbackground": true,
            "ticks": "",
            "zerolinecolor": "white"
           },
           "zaxis": {
            "backgroundcolor": "#E5ECF6",
            "gridcolor": "white",
            "gridwidth": 2,
            "linecolor": "white",
            "showbackground": true,
            "ticks": "",
            "zerolinecolor": "white"
           }
          },
          "shapedefaults": {
           "line": {
            "color": "#2a3f5f"
           }
          },
          "ternary": {
           "aaxis": {
            "gridcolor": "white",
            "linecolor": "white",
            "ticks": ""
           },
           "baxis": {
            "gridcolor": "white",
            "linecolor": "white",
            "ticks": ""
           },
           "bgcolor": "#E5ECF6",
           "caxis": {
            "gridcolor": "white",
            "linecolor": "white",
            "ticks": ""
           }
          },
          "title": {
           "x": 0.05
          },
          "xaxis": {
           "automargin": true,
           "gridcolor": "white",
           "linecolor": "white",
           "ticks": "",
           "title": {
            "standoff": 15
           },
           "zerolinecolor": "white",
           "zerolinewidth": 2
          },
          "yaxis": {
           "automargin": true,
           "gridcolor": "white",
           "linecolor": "white",
           "ticks": "",
           "title": {
            "standoff": 15
           },
           "zerolinecolor": "white",
           "zerolinewidth": 2
          }
         }
        },
        "title": {
         "text": "Chemical Distribution for Quality 6"
        }
       }
      }
     },
     "metadata": {},
     "output_type": "display_data"
    },
    {
     "data": {
      "application/vnd.plotly.v1+json": {
       "config": {
        "plotlyServerURL": "https://plot.ly"
       },
       "data": [
        {
         "domain": {
          "x": [
           0,
           1
          ],
          "y": [
           0,
           1
          ]
         },
         "hovertemplate": "Chemicals=%{label}<br>Percentage=%{value}<extra></extra>",
         "labels": [
          "fixed acidity",
          "volatile acidity",
          "citric acid",
          "residual sugar",
          "chlorides",
          "free sulfur dioxide",
          "total sulfur dioxide",
          "density",
          "pH",
          "sulphates",
          "alcohol"
         ],
         "legendgroup": "",
         "name": "",
         "showlegend": true,
         "type": "pie",
         "values": [
          8.851048951048952,
          0.3936713286713287,
          0.3865734265734266,
          2.76013986013986,
          0.07521678321678321,
          14.538461538461538,
          37.48951048951049,
          0.9960708391608392,
          3.287132867132867,
          0.7435664335664336,
          11.482634032634033
         ]
        }
       ],
       "layout": {
        "legend": {
         "tracegroupgap": 0
        },
        "template": {
         "data": {
          "bar": [
           {
            "error_x": {
             "color": "#2a3f5f"
            },
            "error_y": {
             "color": "#2a3f5f"
            },
            "marker": {
             "line": {
              "color": "#E5ECF6",
              "width": 0.5
             },
             "pattern": {
              "fillmode": "overlay",
              "size": 10,
              "solidity": 0.2
             }
            },
            "type": "bar"
           }
          ],
          "barpolar": [
           {
            "marker": {
             "line": {
              "color": "#E5ECF6",
              "width": 0.5
             },
             "pattern": {
              "fillmode": "overlay",
              "size": 10,
              "solidity": 0.2
             }
            },
            "type": "barpolar"
           }
          ],
          "carpet": [
           {
            "aaxis": {
             "endlinecolor": "#2a3f5f",
             "gridcolor": "white",
             "linecolor": "white",
             "minorgridcolor": "white",
             "startlinecolor": "#2a3f5f"
            },
            "baxis": {
             "endlinecolor": "#2a3f5f",
             "gridcolor": "white",
             "linecolor": "white",
             "minorgridcolor": "white",
             "startlinecolor": "#2a3f5f"
            },
            "type": "carpet"
           }
          ],
          "choropleth": [
           {
            "colorbar": {
             "outlinewidth": 0,
             "ticks": ""
            },
            "type": "choropleth"
           }
          ],
          "contour": [
           {
            "colorbar": {
             "outlinewidth": 0,
             "ticks": ""
            },
            "colorscale": [
             [
              0,
              "#0d0887"
             ],
             [
              0.1111111111111111,
              "#46039f"
             ],
             [
              0.2222222222222222,
              "#7201a8"
             ],
             [
              0.3333333333333333,
              "#9c179e"
             ],
             [
              0.4444444444444444,
              "#bd3786"
             ],
             [
              0.5555555555555556,
              "#d8576b"
             ],
             [
              0.6666666666666666,
              "#ed7953"
             ],
             [
              0.7777777777777778,
              "#fb9f3a"
             ],
             [
              0.8888888888888888,
              "#fdca26"
             ],
             [
              1,
              "#f0f921"
             ]
            ],
            "type": "contour"
           }
          ],
          "contourcarpet": [
           {
            "colorbar": {
             "outlinewidth": 0,
             "ticks": ""
            },
            "type": "contourcarpet"
           }
          ],
          "heatmap": [
           {
            "colorbar": {
             "outlinewidth": 0,
             "ticks": ""
            },
            "colorscale": [
             [
              0,
              "#0d0887"
             ],
             [
              0.1111111111111111,
              "#46039f"
             ],
             [
              0.2222222222222222,
              "#7201a8"
             ],
             [
              0.3333333333333333,
              "#9c179e"
             ],
             [
              0.4444444444444444,
              "#bd3786"
             ],
             [
              0.5555555555555556,
              "#d8576b"
             ],
             [
              0.6666666666666666,
              "#ed7953"
             ],
             [
              0.7777777777777778,
              "#fb9f3a"
             ],
             [
              0.8888888888888888,
              "#fdca26"
             ],
             [
              1,
              "#f0f921"
             ]
            ],
            "type": "heatmap"
           }
          ],
          "heatmapgl": [
           {
            "colorbar": {
             "outlinewidth": 0,
             "ticks": ""
            },
            "colorscale": [
             [
              0,
              "#0d0887"
             ],
             [
              0.1111111111111111,
              "#46039f"
             ],
             [
              0.2222222222222222,
              "#7201a8"
             ],
             [
              0.3333333333333333,
              "#9c179e"
             ],
             [
              0.4444444444444444,
              "#bd3786"
             ],
             [
              0.5555555555555556,
              "#d8576b"
             ],
             [
              0.6666666666666666,
              "#ed7953"
             ],
             [
              0.7777777777777778,
              "#fb9f3a"
             ],
             [
              0.8888888888888888,
              "#fdca26"
             ],
             [
              1,
              "#f0f921"
             ]
            ],
            "type": "heatmapgl"
           }
          ],
          "histogram": [
           {
            "marker": {
             "pattern": {
              "fillmode": "overlay",
              "size": 10,
              "solidity": 0.2
             }
            },
            "type": "histogram"
           }
          ],
          "histogram2d": [
           {
            "colorbar": {
             "outlinewidth": 0,
             "ticks": ""
            },
            "colorscale": [
             [
              0,
              "#0d0887"
             ],
             [
              0.1111111111111111,
              "#46039f"
             ],
             [
              0.2222222222222222,
              "#7201a8"
             ],
             [
              0.3333333333333333,
              "#9c179e"
             ],
             [
              0.4444444444444444,
              "#bd3786"
             ],
             [
              0.5555555555555556,
              "#d8576b"
             ],
             [
              0.6666666666666666,
              "#ed7953"
             ],
             [
              0.7777777777777778,
              "#fb9f3a"
             ],
             [
              0.8888888888888888,
              "#fdca26"
             ],
             [
              1,
              "#f0f921"
             ]
            ],
            "type": "histogram2d"
           }
          ],
          "histogram2dcontour": [
           {
            "colorbar": {
             "outlinewidth": 0,
             "ticks": ""
            },
            "colorscale": [
             [
              0,
              "#0d0887"
             ],
             [
              0.1111111111111111,
              "#46039f"
             ],
             [
              0.2222222222222222,
              "#7201a8"
             ],
             [
              0.3333333333333333,
              "#9c179e"
             ],
             [
              0.4444444444444444,
              "#bd3786"
             ],
             [
              0.5555555555555556,
              "#d8576b"
             ],
             [
              0.6666666666666666,
              "#ed7953"
             ],
             [
              0.7777777777777778,
              "#fb9f3a"
             ],
             [
              0.8888888888888888,
              "#fdca26"
             ],
             [
              1,
              "#f0f921"
             ]
            ],
            "type": "histogram2dcontour"
           }
          ],
          "mesh3d": [
           {
            "colorbar": {
             "outlinewidth": 0,
             "ticks": ""
            },
            "type": "mesh3d"
           }
          ],
          "parcoords": [
           {
            "line": {
             "colorbar": {
              "outlinewidth": 0,
              "ticks": ""
             }
            },
            "type": "parcoords"
           }
          ],
          "pie": [
           {
            "automargin": true,
            "type": "pie"
           }
          ],
          "scatter": [
           {
            "fillpattern": {
             "fillmode": "overlay",
             "size": 10,
             "solidity": 0.2
            },
            "type": "scatter"
           }
          ],
          "scatter3d": [
           {
            "line": {
             "colorbar": {
              "outlinewidth": 0,
              "ticks": ""
             }
            },
            "marker": {
             "colorbar": {
              "outlinewidth": 0,
              "ticks": ""
             }
            },
            "type": "scatter3d"
           }
          ],
          "scattercarpet": [
           {
            "marker": {
             "colorbar": {
              "outlinewidth": 0,
              "ticks": ""
             }
            },
            "type": "scattercarpet"
           }
          ],
          "scattergeo": [
           {
            "marker": {
             "colorbar": {
              "outlinewidth": 0,
              "ticks": ""
             }
            },
            "type": "scattergeo"
           }
          ],
          "scattergl": [
           {
            "marker": {
             "colorbar": {
              "outlinewidth": 0,
              "ticks": ""
             }
            },
            "type": "scattergl"
           }
          ],
          "scattermapbox": [
           {
            "marker": {
             "colorbar": {
              "outlinewidth": 0,
              "ticks": ""
             }
            },
            "type": "scattermapbox"
           }
          ],
          "scatterpolar": [
           {
            "marker": {
             "colorbar": {
              "outlinewidth": 0,
              "ticks": ""
             }
            },
            "type": "scatterpolar"
           }
          ],
          "scatterpolargl": [
           {
            "marker": {
             "colorbar": {
              "outlinewidth": 0,
              "ticks": ""
             }
            },
            "type": "scatterpolargl"
           }
          ],
          "scatterternary": [
           {
            "marker": {
             "colorbar": {
              "outlinewidth": 0,
              "ticks": ""
             }
            },
            "type": "scatterternary"
           }
          ],
          "surface": [
           {
            "colorbar": {
             "outlinewidth": 0,
             "ticks": ""
            },
            "colorscale": [
             [
              0,
              "#0d0887"
             ],
             [
              0.1111111111111111,
              "#46039f"
             ],
             [
              0.2222222222222222,
              "#7201a8"
             ],
             [
              0.3333333333333333,
              "#9c179e"
             ],
             [
              0.4444444444444444,
              "#bd3786"
             ],
             [
              0.5555555555555556,
              "#d8576b"
             ],
             [
              0.6666666666666666,
              "#ed7953"
             ],
             [
              0.7777777777777778,
              "#fb9f3a"
             ],
             [
              0.8888888888888888,
              "#fdca26"
             ],
             [
              1,
              "#f0f921"
             ]
            ],
            "type": "surface"
           }
          ],
          "table": [
           {
            "cells": {
             "fill": {
              "color": "#EBF0F8"
             },
             "line": {
              "color": "white"
             }
            },
            "header": {
             "fill": {
              "color": "#C8D4E3"
             },
             "line": {
              "color": "white"
             }
            },
            "type": "table"
           }
          ]
         },
         "layout": {
          "annotationdefaults": {
           "arrowcolor": "#2a3f5f",
           "arrowhead": 0,
           "arrowwidth": 1
          },
          "autotypenumbers": "strict",
          "coloraxis": {
           "colorbar": {
            "outlinewidth": 0,
            "ticks": ""
           }
          },
          "colorscale": {
           "diverging": [
            [
             0,
             "#8e0152"
            ],
            [
             0.1,
             "#c51b7d"
            ],
            [
             0.2,
             "#de77ae"
            ],
            [
             0.3,
             "#f1b6da"
            ],
            [
             0.4,
             "#fde0ef"
            ],
            [
             0.5,
             "#f7f7f7"
            ],
            [
             0.6,
             "#e6f5d0"
            ],
            [
             0.7,
             "#b8e186"
            ],
            [
             0.8,
             "#7fbc41"
            ],
            [
             0.9,
             "#4d9221"
            ],
            [
             1,
             "#276419"
            ]
           ],
           "sequential": [
            [
             0,
             "#0d0887"
            ],
            [
             0.1111111111111111,
             "#46039f"
            ],
            [
             0.2222222222222222,
             "#7201a8"
            ],
            [
             0.3333333333333333,
             "#9c179e"
            ],
            [
             0.4444444444444444,
             "#bd3786"
            ],
            [
             0.5555555555555556,
             "#d8576b"
            ],
            [
             0.6666666666666666,
             "#ed7953"
            ],
            [
             0.7777777777777778,
             "#fb9f3a"
            ],
            [
             0.8888888888888888,
             "#fdca26"
            ],
            [
             1,
             "#f0f921"
            ]
           ],
           "sequentialminus": [
            [
             0,
             "#0d0887"
            ],
            [
             0.1111111111111111,
             "#46039f"
            ],
            [
             0.2222222222222222,
             "#7201a8"
            ],
            [
             0.3333333333333333,
             "#9c179e"
            ],
            [
             0.4444444444444444,
             "#bd3786"
            ],
            [
             0.5555555555555556,
             "#d8576b"
            ],
            [
             0.6666666666666666,
             "#ed7953"
            ],
            [
             0.7777777777777778,
             "#fb9f3a"
            ],
            [
             0.8888888888888888,
             "#fdca26"
            ],
            [
             1,
             "#f0f921"
            ]
           ]
          },
          "colorway": [
           "#636efa",
           "#EF553B",
           "#00cc96",
           "#ab63fa",
           "#FFA15A",
           "#19d3f3",
           "#FF6692",
           "#B6E880",
           "#FF97FF",
           "#FECB52"
          ],
          "font": {
           "color": "#2a3f5f"
          },
          "geo": {
           "bgcolor": "white",
           "lakecolor": "white",
           "landcolor": "#E5ECF6",
           "showlakes": true,
           "showland": true,
           "subunitcolor": "white"
          },
          "hoverlabel": {
           "align": "left"
          },
          "hovermode": "closest",
          "mapbox": {
           "style": "light"
          },
          "paper_bgcolor": "white",
          "plot_bgcolor": "#E5ECF6",
          "polar": {
           "angularaxis": {
            "gridcolor": "white",
            "linecolor": "white",
            "ticks": ""
           },
           "bgcolor": "#E5ECF6",
           "radialaxis": {
            "gridcolor": "white",
            "linecolor": "white",
            "ticks": ""
           }
          },
          "scene": {
           "xaxis": {
            "backgroundcolor": "#E5ECF6",
            "gridcolor": "white",
            "gridwidth": 2,
            "linecolor": "white",
            "showbackground": true,
            "ticks": "",
            "zerolinecolor": "white"
           },
           "yaxis": {
            "backgroundcolor": "#E5ECF6",
            "gridcolor": "white",
            "gridwidth": 2,
            "linecolor": "white",
            "showbackground": true,
            "ticks": "",
            "zerolinecolor": "white"
           },
           "zaxis": {
            "backgroundcolor": "#E5ECF6",
            "gridcolor": "white",
            "gridwidth": 2,
            "linecolor": "white",
            "showbackground": true,
            "ticks": "",
            "zerolinecolor": "white"
           }
          },
          "shapedefaults": {
           "line": {
            "color": "#2a3f5f"
           }
          },
          "ternary": {
           "aaxis": {
            "gridcolor": "white",
            "linecolor": "white",
            "ticks": ""
           },
           "baxis": {
            "gridcolor": "white",
            "linecolor": "white",
            "ticks": ""
           },
           "bgcolor": "#E5ECF6",
           "caxis": {
            "gridcolor": "white",
            "linecolor": "white",
            "ticks": ""
           }
          },
          "title": {
           "x": 0.05
          },
          "xaxis": {
           "automargin": true,
           "gridcolor": "white",
           "linecolor": "white",
           "ticks": "",
           "title": {
            "standoff": 15
           },
           "zerolinecolor": "white",
           "zerolinewidth": 2
          },
          "yaxis": {
           "automargin": true,
           "gridcolor": "white",
           "linecolor": "white",
           "ticks": "",
           "title": {
            "standoff": 15
           },
           "zerolinecolor": "white",
           "zerolinewidth": 2
          }
         }
        },
        "title": {
         "text": "Chemical Distribution for Quality 7"
        }
       }
      }
     },
     "metadata": {},
     "output_type": "display_data"
    },
    {
     "data": {
      "application/vnd.plotly.v1+json": {
       "config": {
        "plotlyServerURL": "https://plot.ly"
       },
       "data": [
        {
         "domain": {
          "x": [
           0,
           1
          ],
          "y": [
           0,
           1
          ]
         },
         "hovertemplate": "Chemicals=%{label}<br>Percentage=%{value}<extra></extra>",
         "labels": [
          "fixed acidity",
          "volatile acidity",
          "citric acid",
          "residual sugar",
          "chlorides",
          "free sulfur dioxide",
          "total sulfur dioxide",
          "density",
          "pH",
          "sulphates",
          "alcohol"
         ],
         "legendgroup": "",
         "name": "",
         "showlegend": true,
         "type": "pie",
         "values": [
          8.80625,
          0.41,
          0.4325,
          2.6437500000000003,
          0.07018749999999999,
          11.0625,
          29.375,
          0.995553125,
          3.240625,
          0.76625,
          11.9375
         ]
        }
       ],
       "layout": {
        "legend": {
         "tracegroupgap": 0
        },
        "template": {
         "data": {
          "bar": [
           {
            "error_x": {
             "color": "#2a3f5f"
            },
            "error_y": {
             "color": "#2a3f5f"
            },
            "marker": {
             "line": {
              "color": "#E5ECF6",
              "width": 0.5
             },
             "pattern": {
              "fillmode": "overlay",
              "size": 10,
              "solidity": 0.2
             }
            },
            "type": "bar"
           }
          ],
          "barpolar": [
           {
            "marker": {
             "line": {
              "color": "#E5ECF6",
              "width": 0.5
             },
             "pattern": {
              "fillmode": "overlay",
              "size": 10,
              "solidity": 0.2
             }
            },
            "type": "barpolar"
           }
          ],
          "carpet": [
           {
            "aaxis": {
             "endlinecolor": "#2a3f5f",
             "gridcolor": "white",
             "linecolor": "white",
             "minorgridcolor": "white",
             "startlinecolor": "#2a3f5f"
            },
            "baxis": {
             "endlinecolor": "#2a3f5f",
             "gridcolor": "white",
             "linecolor": "white",
             "minorgridcolor": "white",
             "startlinecolor": "#2a3f5f"
            },
            "type": "carpet"
           }
          ],
          "choropleth": [
           {
            "colorbar": {
             "outlinewidth": 0,
             "ticks": ""
            },
            "type": "choropleth"
           }
          ],
          "contour": [
           {
            "colorbar": {
             "outlinewidth": 0,
             "ticks": ""
            },
            "colorscale": [
             [
              0,
              "#0d0887"
             ],
             [
              0.1111111111111111,
              "#46039f"
             ],
             [
              0.2222222222222222,
              "#7201a8"
             ],
             [
              0.3333333333333333,
              "#9c179e"
             ],
             [
              0.4444444444444444,
              "#bd3786"
             ],
             [
              0.5555555555555556,
              "#d8576b"
             ],
             [
              0.6666666666666666,
              "#ed7953"
             ],
             [
              0.7777777777777778,
              "#fb9f3a"
             ],
             [
              0.8888888888888888,
              "#fdca26"
             ],
             [
              1,
              "#f0f921"
             ]
            ],
            "type": "contour"
           }
          ],
          "contourcarpet": [
           {
            "colorbar": {
             "outlinewidth": 0,
             "ticks": ""
            },
            "type": "contourcarpet"
           }
          ],
          "heatmap": [
           {
            "colorbar": {
             "outlinewidth": 0,
             "ticks": ""
            },
            "colorscale": [
             [
              0,
              "#0d0887"
             ],
             [
              0.1111111111111111,
              "#46039f"
             ],
             [
              0.2222222222222222,
              "#7201a8"
             ],
             [
              0.3333333333333333,
              "#9c179e"
             ],
             [
              0.4444444444444444,
              "#bd3786"
             ],
             [
              0.5555555555555556,
              "#d8576b"
             ],
             [
              0.6666666666666666,
              "#ed7953"
             ],
             [
              0.7777777777777778,
              "#fb9f3a"
             ],
             [
              0.8888888888888888,
              "#fdca26"
             ],
             [
              1,
              "#f0f921"
             ]
            ],
            "type": "heatmap"
           }
          ],
          "heatmapgl": [
           {
            "colorbar": {
             "outlinewidth": 0,
             "ticks": ""
            },
            "colorscale": [
             [
              0,
              "#0d0887"
             ],
             [
              0.1111111111111111,
              "#46039f"
             ],
             [
              0.2222222222222222,
              "#7201a8"
             ],
             [
              0.3333333333333333,
              "#9c179e"
             ],
             [
              0.4444444444444444,
              "#bd3786"
             ],
             [
              0.5555555555555556,
              "#d8576b"
             ],
             [
              0.6666666666666666,
              "#ed7953"
             ],
             [
              0.7777777777777778,
              "#fb9f3a"
             ],
             [
              0.8888888888888888,
              "#fdca26"
             ],
             [
              1,
              "#f0f921"
             ]
            ],
            "type": "heatmapgl"
           }
          ],
          "histogram": [
           {
            "marker": {
             "pattern": {
              "fillmode": "overlay",
              "size": 10,
              "solidity": 0.2
             }
            },
            "type": "histogram"
           }
          ],
          "histogram2d": [
           {
            "colorbar": {
             "outlinewidth": 0,
             "ticks": ""
            },
            "colorscale": [
             [
              0,
              "#0d0887"
             ],
             [
              0.1111111111111111,
              "#46039f"
             ],
             [
              0.2222222222222222,
              "#7201a8"
             ],
             [
              0.3333333333333333,
              "#9c179e"
             ],
             [
              0.4444444444444444,
              "#bd3786"
             ],
             [
              0.5555555555555556,
              "#d8576b"
             ],
             [
              0.6666666666666666,
              "#ed7953"
             ],
             [
              0.7777777777777778,
              "#fb9f3a"
             ],
             [
              0.8888888888888888,
              "#fdca26"
             ],
             [
              1,
              "#f0f921"
             ]
            ],
            "type": "histogram2d"
           }
          ],
          "histogram2dcontour": [
           {
            "colorbar": {
             "outlinewidth": 0,
             "ticks": ""
            },
            "colorscale": [
             [
              0,
              "#0d0887"
             ],
             [
              0.1111111111111111,
              "#46039f"
             ],
             [
              0.2222222222222222,
              "#7201a8"
             ],
             [
              0.3333333333333333,
              "#9c179e"
             ],
             [
              0.4444444444444444,
              "#bd3786"
             ],
             [
              0.5555555555555556,
              "#d8576b"
             ],
             [
              0.6666666666666666,
              "#ed7953"
             ],
             [
              0.7777777777777778,
              "#fb9f3a"
             ],
             [
              0.8888888888888888,
              "#fdca26"
             ],
             [
              1,
              "#f0f921"
             ]
            ],
            "type": "histogram2dcontour"
           }
          ],
          "mesh3d": [
           {
            "colorbar": {
             "outlinewidth": 0,
             "ticks": ""
            },
            "type": "mesh3d"
           }
          ],
          "parcoords": [
           {
            "line": {
             "colorbar": {
              "outlinewidth": 0,
              "ticks": ""
             }
            },
            "type": "parcoords"
           }
          ],
          "pie": [
           {
            "automargin": true,
            "type": "pie"
           }
          ],
          "scatter": [
           {
            "fillpattern": {
             "fillmode": "overlay",
             "size": 10,
             "solidity": 0.2
            },
            "type": "scatter"
           }
          ],
          "scatter3d": [
           {
            "line": {
             "colorbar": {
              "outlinewidth": 0,
              "ticks": ""
             }
            },
            "marker": {
             "colorbar": {
              "outlinewidth": 0,
              "ticks": ""
             }
            },
            "type": "scatter3d"
           }
          ],
          "scattercarpet": [
           {
            "marker": {
             "colorbar": {
              "outlinewidth": 0,
              "ticks": ""
             }
            },
            "type": "scattercarpet"
           }
          ],
          "scattergeo": [
           {
            "marker": {
             "colorbar": {
              "outlinewidth": 0,
              "ticks": ""
             }
            },
            "type": "scattergeo"
           }
          ],
          "scattergl": [
           {
            "marker": {
             "colorbar": {
              "outlinewidth": 0,
              "ticks": ""
             }
            },
            "type": "scattergl"
           }
          ],
          "scattermapbox": [
           {
            "marker": {
             "colorbar": {
              "outlinewidth": 0,
              "ticks": ""
             }
            },
            "type": "scattermapbox"
           }
          ],
          "scatterpolar": [
           {
            "marker": {
             "colorbar": {
              "outlinewidth": 0,
              "ticks": ""
             }
            },
            "type": "scatterpolar"
           }
          ],
          "scatterpolargl": [
           {
            "marker": {
             "colorbar": {
              "outlinewidth": 0,
              "ticks": ""
             }
            },
            "type": "scatterpolargl"
           }
          ],
          "scatterternary": [
           {
            "marker": {
             "colorbar": {
              "outlinewidth": 0,
              "ticks": ""
             }
            },
            "type": "scatterternary"
           }
          ],
          "surface": [
           {
            "colorbar": {
             "outlinewidth": 0,
             "ticks": ""
            },
            "colorscale": [
             [
              0,
              "#0d0887"
             ],
             [
              0.1111111111111111,
              "#46039f"
             ],
             [
              0.2222222222222222,
              "#7201a8"
             ],
             [
              0.3333333333333333,
              "#9c179e"
             ],
             [
              0.4444444444444444,
              "#bd3786"
             ],
             [
              0.5555555555555556,
              "#d8576b"
             ],
             [
              0.6666666666666666,
              "#ed7953"
             ],
             [
              0.7777777777777778,
              "#fb9f3a"
             ],
             [
              0.8888888888888888,
              "#fdca26"
             ],
             [
              1,
              "#f0f921"
             ]
            ],
            "type": "surface"
           }
          ],
          "table": [
           {
            "cells": {
             "fill": {
              "color": "#EBF0F8"
             },
             "line": {
              "color": "white"
             }
            },
            "header": {
             "fill": {
              "color": "#C8D4E3"
             },
             "line": {
              "color": "white"
             }
            },
            "type": "table"
           }
          ]
         },
         "layout": {
          "annotationdefaults": {
           "arrowcolor": "#2a3f5f",
           "arrowhead": 0,
           "arrowwidth": 1
          },
          "autotypenumbers": "strict",
          "coloraxis": {
           "colorbar": {
            "outlinewidth": 0,
            "ticks": ""
           }
          },
          "colorscale": {
           "diverging": [
            [
             0,
             "#8e0152"
            ],
            [
             0.1,
             "#c51b7d"
            ],
            [
             0.2,
             "#de77ae"
            ],
            [
             0.3,
             "#f1b6da"
            ],
            [
             0.4,
             "#fde0ef"
            ],
            [
             0.5,
             "#f7f7f7"
            ],
            [
             0.6,
             "#e6f5d0"
            ],
            [
             0.7,
             "#b8e186"
            ],
            [
             0.8,
             "#7fbc41"
            ],
            [
             0.9,
             "#4d9221"
            ],
            [
             1,
             "#276419"
            ]
           ],
           "sequential": [
            [
             0,
             "#0d0887"
            ],
            [
             0.1111111111111111,
             "#46039f"
            ],
            [
             0.2222222222222222,
             "#7201a8"
            ],
            [
             0.3333333333333333,
             "#9c179e"
            ],
            [
             0.4444444444444444,
             "#bd3786"
            ],
            [
             0.5555555555555556,
             "#d8576b"
            ],
            [
             0.6666666666666666,
             "#ed7953"
            ],
            [
             0.7777777777777778,
             "#fb9f3a"
            ],
            [
             0.8888888888888888,
             "#fdca26"
            ],
            [
             1,
             "#f0f921"
            ]
           ],
           "sequentialminus": [
            [
             0,
             "#0d0887"
            ],
            [
             0.1111111111111111,
             "#46039f"
            ],
            [
             0.2222222222222222,
             "#7201a8"
            ],
            [
             0.3333333333333333,
             "#9c179e"
            ],
            [
             0.4444444444444444,
             "#bd3786"
            ],
            [
             0.5555555555555556,
             "#d8576b"
            ],
            [
             0.6666666666666666,
             "#ed7953"
            ],
            [
             0.7777777777777778,
             "#fb9f3a"
            ],
            [
             0.8888888888888888,
             "#fdca26"
            ],
            [
             1,
             "#f0f921"
            ]
           ]
          },
          "colorway": [
           "#636efa",
           "#EF553B",
           "#00cc96",
           "#ab63fa",
           "#FFA15A",
           "#19d3f3",
           "#FF6692",
           "#B6E880",
           "#FF97FF",
           "#FECB52"
          ],
          "font": {
           "color": "#2a3f5f"
          },
          "geo": {
           "bgcolor": "white",
           "lakecolor": "white",
           "landcolor": "#E5ECF6",
           "showlakes": true,
           "showland": true,
           "subunitcolor": "white"
          },
          "hoverlabel": {
           "align": "left"
          },
          "hovermode": "closest",
          "mapbox": {
           "style": "light"
          },
          "paper_bgcolor": "white",
          "plot_bgcolor": "#E5ECF6",
          "polar": {
           "angularaxis": {
            "gridcolor": "white",
            "linecolor": "white",
            "ticks": ""
           },
           "bgcolor": "#E5ECF6",
           "radialaxis": {
            "gridcolor": "white",
            "linecolor": "white",
            "ticks": ""
           }
          },
          "scene": {
           "xaxis": {
            "backgroundcolor": "#E5ECF6",
            "gridcolor": "white",
            "gridwidth": 2,
            "linecolor": "white",
            "showbackground": true,
            "ticks": "",
            "zerolinecolor": "white"
           },
           "yaxis": {
            "backgroundcolor": "#E5ECF6",
            "gridcolor": "white",
            "gridwidth": 2,
            "linecolor": "white",
            "showbackground": true,
            "ticks": "",
            "zerolinecolor": "white"
           },
           "zaxis": {
            "backgroundcolor": "#E5ECF6",
            "gridcolor": "white",
            "gridwidth": 2,
            "linecolor": "white",
            "showbackground": true,
            "ticks": "",
            "zerolinecolor": "white"
           }
          },
          "shapedefaults": {
           "line": {
            "color": "#2a3f5f"
           }
          },
          "ternary": {
           "aaxis": {
            "gridcolor": "white",
            "linecolor": "white",
            "ticks": ""
           },
           "baxis": {
            "gridcolor": "white",
            "linecolor": "white",
            "ticks": ""
           },
           "bgcolor": "#E5ECF6",
           "caxis": {
            "gridcolor": "white",
            "linecolor": "white",
            "ticks": ""
           }
          },
          "title": {
           "x": 0.05
          },
          "xaxis": {
           "automargin": true,
           "gridcolor": "white",
           "linecolor": "white",
           "ticks": "",
           "title": {
            "standoff": 15
           },
           "zerolinecolor": "white",
           "zerolinewidth": 2
          },
          "yaxis": {
           "automargin": true,
           "gridcolor": "white",
           "linecolor": "white",
           "ticks": "",
           "title": {
            "standoff": 15
           },
           "zerolinecolor": "white",
           "zerolinewidth": 2
          }
         }
        },
        "title": {
         "text": "Chemical Distribution for Quality 8"
        }
       }
      }
     },
     "metadata": {},
     "output_type": "display_data"
    }
   ],
   "source": [
    "import plotly.express as px\n",
    "# Assuming 'data' is your DataFrame and 'quality' is the column for which you want to calculate chemical percentages\n",
    "# List of chemical columns (excluding the 'quality' column)\n",
    "chemical_columns = [col for col in data.columns if col != 'quality']\n",
    "\n",
    "# Group data by 'quality' and calculate the mean of chemical percentages\n",
    "grouped_data = data.groupby('quality')[chemical_columns].mean()\n",
    "\n",
    "# Iterate over each quality category and create a pie chart\n",
    "for quality in grouped_data.index:\n",
    "    # Extract the mean chemical percentages for the current quality\n",
    "    quality_data = grouped_data.loc[quality]\n",
    "    \n",
    "    # Create a pie chart\n",
    "    fig = px.pie(\n",
    "        names=quality_data.index,\n",
    "        values=quality_data.values,\n",
    "        title=f'Chemical Distribution for Quality {quality}',\n",
    "        labels={'names': 'Chemicals', 'values': 'Percentage'}\n",
    "    )\n",
    "    \n",
    "    # Show the pie chart\n",
    "    fig.show()"
   ]
  },
  {
   "cell_type": "markdown",
   "id": "b7da5c3e",
   "metadata": {},
   "source": [
    "#### Report:\n",
    "The following pie chart clearly shows the distribution of each chemical in the wine quality categories.\n",
    "\n",
    "<br><br> <b>Chemical Distribution for Quality 3 </b>\n",
    "\n",
    "- Total sulfur dioxide makes up 41.1%.\n",
    "- Alcohol accounts for 16.3%.\n",
    "- Fixed acidity is 14.2%.\n",
    "- Free sulfur dioxide makes up 13.7%.\n",
    "- pH is 5.64%.\n",
    "- Residual sugar accounts for 4.47%.\n",
    "- Density is 1.67%.\n",
    "- Volatile acidity is 1.51%.\n",
    "- Sulphates account for 0.55%.\n",
    "- Citric acid is 0.355%.\n",
    "- Chlorides make up 0.177%.\n",
    "<br><br> <b>Chemical Distribution for Quality 4 </b>\n",
    "\n",
    "- Total sulfur dioxide makes up 49.5%.\n",
    "- Alcohol accounts for 12.5%.\n",
    "- Fixed acidity is 9.51%.\n",
    "- Free sulfur dioxide makes up 18.1%.\n",
    "- pH is 4.13%.\n",
    "- Residual sugar accounts for 3.13%.\n",
    "- Density is 1.21%.\n",
    "- Volatile acidity is 0.853%.\n",
    "- Sulphates account for 0.777%.\n",
    "- Citric acid is 0.202%.\n",
    "- Chlorides make up 0.115%.\n",
    "<br><br> <b>Chemical Distribution for Quality 5 </b>\n",
    "\n",
    "- Total sulfur dioxide makes up 56.2%.\n",
    "- Alcohol accounts for 10.1%.\n",
    "- Fixed acidity is 8.3%.\n",
    "- Free sulfur dioxide makes up 16.9%.\n",
    "- pH is 3.36%.\n",
    "- Residual sugar accounts for 2.58%.\n",
    "- Density is 1.01%.\n",
    "- Volatile acidity is 0.595%.\n",
    "- Sulphates account for 0.624%.\n",
    "- Citric acid is 0.244%.\n",
    "- Chlorides make up 0.0933%.\n",
    "<br><br> <b>Chemical Distribution for Quality 6 </b>\n",
    "\n",
    "- Total sulfur dioxide makes up 48.9%.\n",
    "- Alcohol accounts for 12.9%.\n",
    "- Fixed acidity is 10.1%.\n",
    "- Free sulfur dioxide makes up 18.5%.\n",
    "- pH is 4.03%.\n",
    "- Residual sugar accounts for 2.97%.\n",
    "- Density is 1.21%.\n",
    "- Volatile acidity is 0.613%.\n",
    "- Sulphates account for 0.821%.\n",
    "- Citric acid is 0.32%.\n",
    "- Chlorides make up 0.103%.\n",
    "<br><br> <b>Chemical Distribution for Quality 7 </b>\n",
    "\n",
    "- Total sulfur dioxide makes up 46.3%.\n",
    "- Alcohol accounts for 14.2%.\n",
    "- Fixed acidity is 10.9%.\n",
    "- Free sulfur dioxide makes up 17.9%.\n",
    "- pH is 4.06%.\n",
    "- Residual sugar accounts for 3.41%.\n",
    "- Density is 1.24%.\n",
    "- Volatile acidity is 0.486%.\n",
    "- Sulphates account for 0.918%.\n",
    "- Citric acid is 0.477%.\n",
    "- Chlorides make up 0.0929%.\n",
    "<br><br> <b>Chemical Distribution for Quality 8 </b>\n",
    "\n",
    "- Total sulfur dioxide makes up 42.1%.\n",
    "- Alcohol accounts for 17.1%.\n",
    "- Fixed acidity is 12.6%.\n",
    "- Free sulfur dioxide makes up 15.9%.\n",
    "- pH is 4.65%.\n",
    "- Residual sugar accounts for 3.79%.\n",
    "- Density is 1.43%.\n",
    "- Volatile acidity is 0.588%.\n",
    "- Sulphates account for 1.1%.\n",
    "- Citric acid is 0.62%.\n",
    "- Chlorides make up 0.101%."
   ]
  },
  {
   "cell_type": "code",
   "execution_count": 16,
   "id": "ecbcfbf5",
   "metadata": {},
   "outputs": [
    {
     "data": {
      "text/plain": [
       "Index(['fixed acidity', 'volatile acidity', 'citric acid', 'residual sugar',\n",
       "       'chlorides', 'free sulfur dioxide', 'total sulfur dioxide', 'density',\n",
       "       'pH', 'sulphates', 'alcohol', 'quality'],\n",
       "      dtype='object')"
      ]
     },
     "execution_count": 16,
     "metadata": {},
     "output_type": "execute_result"
    }
   ],
   "source": [
    "data.columns"
   ]
  },
  {
   "cell_type": "markdown",
   "id": "7150fae3",
   "metadata": {},
   "source": [
    "### Barplot"
   ]
  },
  {
   "cell_type": "code",
   "execution_count": 17,
   "id": "cea2dd63",
   "metadata": {},
   "outputs": [
    {
     "data": {
      "application/vnd.plotly.v1+json": {
       "config": {
        "plotlyServerURL": "https://plot.ly"
       },
       "data": [
        {
         "alignmentgroup": "True",
         "hovertemplate": "Chemicals=%{x}<br>Percentage (%)=%{text}<extra></extra>",
         "legendgroup": "",
         "marker": {
          "color": "#636efa",
          "pattern": {
           "shape": ""
          }
         },
         "name": "",
         "offsetgroup": "",
         "orientation": "v",
         "showlegend": false,
         "text": [
          9.373329979064259,
          0.5992474170370652,
          0.30266276872480635,
          2.855779221431084,
          0.09804323971953986,
          17.61125522457034,
          51.78292180368456,
          1.1241196176336357,
          3.734186025987294,
          0.741767500216993,
          11.776687201930427
         ],
         "textposition": "outside",
         "texttemplate": "%{text:.2f}%",
         "type": "bar",
         "x": [
          "fixed acidity",
          "volatile acidity",
          "citric acid",
          "residual sugar",
          "chlorides",
          "free sulfur dioxide",
          "total sulfur dioxide",
          "density",
          "pH",
          "sulphates",
          "alcohol"
         ],
         "xaxis": "x",
         "y": [
          9.373329979064259,
          0.5992474170370652,
          0.30266276872480635,
          2.855779221431084,
          0.09804323971953986,
          17.61125522457034,
          51.78292180368456,
          1.1241196176336357,
          3.734186025987294,
          0.741767500216993,
          11.776687201930427
         ],
         "yaxis": "y"
        }
       ],
       "layout": {
        "barmode": "relative",
        "legend": {
         "tracegroupgap": 0
        },
        "template": {
         "data": {
          "bar": [
           {
            "error_x": {
             "color": "#2a3f5f"
            },
            "error_y": {
             "color": "#2a3f5f"
            },
            "marker": {
             "line": {
              "color": "#E5ECF6",
              "width": 0.5
             },
             "pattern": {
              "fillmode": "overlay",
              "size": 10,
              "solidity": 0.2
             }
            },
            "type": "bar"
           }
          ],
          "barpolar": [
           {
            "marker": {
             "line": {
              "color": "#E5ECF6",
              "width": 0.5
             },
             "pattern": {
              "fillmode": "overlay",
              "size": 10,
              "solidity": 0.2
             }
            },
            "type": "barpolar"
           }
          ],
          "carpet": [
           {
            "aaxis": {
             "endlinecolor": "#2a3f5f",
             "gridcolor": "white",
             "linecolor": "white",
             "minorgridcolor": "white",
             "startlinecolor": "#2a3f5f"
            },
            "baxis": {
             "endlinecolor": "#2a3f5f",
             "gridcolor": "white",
             "linecolor": "white",
             "minorgridcolor": "white",
             "startlinecolor": "#2a3f5f"
            },
            "type": "carpet"
           }
          ],
          "choropleth": [
           {
            "colorbar": {
             "outlinewidth": 0,
             "ticks": ""
            },
            "type": "choropleth"
           }
          ],
          "contour": [
           {
            "colorbar": {
             "outlinewidth": 0,
             "ticks": ""
            },
            "colorscale": [
             [
              0,
              "#0d0887"
             ],
             [
              0.1111111111111111,
              "#46039f"
             ],
             [
              0.2222222222222222,
              "#7201a8"
             ],
             [
              0.3333333333333333,
              "#9c179e"
             ],
             [
              0.4444444444444444,
              "#bd3786"
             ],
             [
              0.5555555555555556,
              "#d8576b"
             ],
             [
              0.6666666666666666,
              "#ed7953"
             ],
             [
              0.7777777777777778,
              "#fb9f3a"
             ],
             [
              0.8888888888888888,
              "#fdca26"
             ],
             [
              1,
              "#f0f921"
             ]
            ],
            "type": "contour"
           }
          ],
          "contourcarpet": [
           {
            "colorbar": {
             "outlinewidth": 0,
             "ticks": ""
            },
            "type": "contourcarpet"
           }
          ],
          "heatmap": [
           {
            "colorbar": {
             "outlinewidth": 0,
             "ticks": ""
            },
            "colorscale": [
             [
              0,
              "#0d0887"
             ],
             [
              0.1111111111111111,
              "#46039f"
             ],
             [
              0.2222222222222222,
              "#7201a8"
             ],
             [
              0.3333333333333333,
              "#9c179e"
             ],
             [
              0.4444444444444444,
              "#bd3786"
             ],
             [
              0.5555555555555556,
              "#d8576b"
             ],
             [
              0.6666666666666666,
              "#ed7953"
             ],
             [
              0.7777777777777778,
              "#fb9f3a"
             ],
             [
              0.8888888888888888,
              "#fdca26"
             ],
             [
              1,
              "#f0f921"
             ]
            ],
            "type": "heatmap"
           }
          ],
          "heatmapgl": [
           {
            "colorbar": {
             "outlinewidth": 0,
             "ticks": ""
            },
            "colorscale": [
             [
              0,
              "#0d0887"
             ],
             [
              0.1111111111111111,
              "#46039f"
             ],
             [
              0.2222222222222222,
              "#7201a8"
             ],
             [
              0.3333333333333333,
              "#9c179e"
             ],
             [
              0.4444444444444444,
              "#bd3786"
             ],
             [
              0.5555555555555556,
              "#d8576b"
             ],
             [
              0.6666666666666666,
              "#ed7953"
             ],
             [
              0.7777777777777778,
              "#fb9f3a"
             ],
             [
              0.8888888888888888,
              "#fdca26"
             ],
             [
              1,
              "#f0f921"
             ]
            ],
            "type": "heatmapgl"
           }
          ],
          "histogram": [
           {
            "marker": {
             "pattern": {
              "fillmode": "overlay",
              "size": 10,
              "solidity": 0.2
             }
            },
            "type": "histogram"
           }
          ],
          "histogram2d": [
           {
            "colorbar": {
             "outlinewidth": 0,
             "ticks": ""
            },
            "colorscale": [
             [
              0,
              "#0d0887"
             ],
             [
              0.1111111111111111,
              "#46039f"
             ],
             [
              0.2222222222222222,
              "#7201a8"
             ],
             [
              0.3333333333333333,
              "#9c179e"
             ],
             [
              0.4444444444444444,
              "#bd3786"
             ],
             [
              0.5555555555555556,
              "#d8576b"
             ],
             [
              0.6666666666666666,
              "#ed7953"
             ],
             [
              0.7777777777777778,
              "#fb9f3a"
             ],
             [
              0.8888888888888888,
              "#fdca26"
             ],
             [
              1,
              "#f0f921"
             ]
            ],
            "type": "histogram2d"
           }
          ],
          "histogram2dcontour": [
           {
            "colorbar": {
             "outlinewidth": 0,
             "ticks": ""
            },
            "colorscale": [
             [
              0,
              "#0d0887"
             ],
             [
              0.1111111111111111,
              "#46039f"
             ],
             [
              0.2222222222222222,
              "#7201a8"
             ],
             [
              0.3333333333333333,
              "#9c179e"
             ],
             [
              0.4444444444444444,
              "#bd3786"
             ],
             [
              0.5555555555555556,
              "#d8576b"
             ],
             [
              0.6666666666666666,
              "#ed7953"
             ],
             [
              0.7777777777777778,
              "#fb9f3a"
             ],
             [
              0.8888888888888888,
              "#fdca26"
             ],
             [
              1,
              "#f0f921"
             ]
            ],
            "type": "histogram2dcontour"
           }
          ],
          "mesh3d": [
           {
            "colorbar": {
             "outlinewidth": 0,
             "ticks": ""
            },
            "type": "mesh3d"
           }
          ],
          "parcoords": [
           {
            "line": {
             "colorbar": {
              "outlinewidth": 0,
              "ticks": ""
             }
            },
            "type": "parcoords"
           }
          ],
          "pie": [
           {
            "automargin": true,
            "type": "pie"
           }
          ],
          "scatter": [
           {
            "fillpattern": {
             "fillmode": "overlay",
             "size": 10,
             "solidity": 0.2
            },
            "type": "scatter"
           }
          ],
          "scatter3d": [
           {
            "line": {
             "colorbar": {
              "outlinewidth": 0,
              "ticks": ""
             }
            },
            "marker": {
             "colorbar": {
              "outlinewidth": 0,
              "ticks": ""
             }
            },
            "type": "scatter3d"
           }
          ],
          "scattercarpet": [
           {
            "marker": {
             "colorbar": {
              "outlinewidth": 0,
              "ticks": ""
             }
            },
            "type": "scattercarpet"
           }
          ],
          "scattergeo": [
           {
            "marker": {
             "colorbar": {
              "outlinewidth": 0,
              "ticks": ""
             }
            },
            "type": "scattergeo"
           }
          ],
          "scattergl": [
           {
            "marker": {
             "colorbar": {
              "outlinewidth": 0,
              "ticks": ""
             }
            },
            "type": "scattergl"
           }
          ],
          "scattermapbox": [
           {
            "marker": {
             "colorbar": {
              "outlinewidth": 0,
              "ticks": ""
             }
            },
            "type": "scattermapbox"
           }
          ],
          "scatterpolar": [
           {
            "marker": {
             "colorbar": {
              "outlinewidth": 0,
              "ticks": ""
             }
            },
            "type": "scatterpolar"
           }
          ],
          "scatterpolargl": [
           {
            "marker": {
             "colorbar": {
              "outlinewidth": 0,
              "ticks": ""
             }
            },
            "type": "scatterpolargl"
           }
          ],
          "scatterternary": [
           {
            "marker": {
             "colorbar": {
              "outlinewidth": 0,
              "ticks": ""
             }
            },
            "type": "scatterternary"
           }
          ],
          "surface": [
           {
            "colorbar": {
             "outlinewidth": 0,
             "ticks": ""
            },
            "colorscale": [
             [
              0,
              "#0d0887"
             ],
             [
              0.1111111111111111,
              "#46039f"
             ],
             [
              0.2222222222222222,
              "#7201a8"
             ],
             [
              0.3333333333333333,
              "#9c179e"
             ],
             [
              0.4444444444444444,
              "#bd3786"
             ],
             [
              0.5555555555555556,
              "#d8576b"
             ],
             [
              0.6666666666666666,
              "#ed7953"
             ],
             [
              0.7777777777777778,
              "#fb9f3a"
             ],
             [
              0.8888888888888888,
              "#fdca26"
             ],
             [
              1,
              "#f0f921"
             ]
            ],
            "type": "surface"
           }
          ],
          "table": [
           {
            "cells": {
             "fill": {
              "color": "#EBF0F8"
             },
             "line": {
              "color": "white"
             }
            },
            "header": {
             "fill": {
              "color": "#C8D4E3"
             },
             "line": {
              "color": "white"
             }
            },
            "type": "table"
           }
          ]
         },
         "layout": {
          "annotationdefaults": {
           "arrowcolor": "#2a3f5f",
           "arrowhead": 0,
           "arrowwidth": 1
          },
          "autotypenumbers": "strict",
          "coloraxis": {
           "colorbar": {
            "outlinewidth": 0,
            "ticks": ""
           }
          },
          "colorscale": {
           "diverging": [
            [
             0,
             "#8e0152"
            ],
            [
             0.1,
             "#c51b7d"
            ],
            [
             0.2,
             "#de77ae"
            ],
            [
             0.3,
             "#f1b6da"
            ],
            [
             0.4,
             "#fde0ef"
            ],
            [
             0.5,
             "#f7f7f7"
            ],
            [
             0.6,
             "#e6f5d0"
            ],
            [
             0.7,
             "#b8e186"
            ],
            [
             0.8,
             "#7fbc41"
            ],
            [
             0.9,
             "#4d9221"
            ],
            [
             1,
             "#276419"
            ]
           ],
           "sequential": [
            [
             0,
             "#0d0887"
            ],
            [
             0.1111111111111111,
             "#46039f"
            ],
            [
             0.2222222222222222,
             "#7201a8"
            ],
            [
             0.3333333333333333,
             "#9c179e"
            ],
            [
             0.4444444444444444,
             "#bd3786"
            ],
            [
             0.5555555555555556,
             "#d8576b"
            ],
            [
             0.6666666666666666,
             "#ed7953"
            ],
            [
             0.7777777777777778,
             "#fb9f3a"
            ],
            [
             0.8888888888888888,
             "#fdca26"
            ],
            [
             1,
             "#f0f921"
            ]
           ],
           "sequentialminus": [
            [
             0,
             "#0d0887"
            ],
            [
             0.1111111111111111,
             "#46039f"
            ],
            [
             0.2222222222222222,
             "#7201a8"
            ],
            [
             0.3333333333333333,
             "#9c179e"
            ],
            [
             0.4444444444444444,
             "#bd3786"
            ],
            [
             0.5555555555555556,
             "#d8576b"
            ],
            [
             0.6666666666666666,
             "#ed7953"
            ],
            [
             0.7777777777777778,
             "#fb9f3a"
            ],
            [
             0.8888888888888888,
             "#fdca26"
            ],
            [
             1,
             "#f0f921"
            ]
           ]
          },
          "colorway": [
           "#636efa",
           "#EF553B",
           "#00cc96",
           "#ab63fa",
           "#FFA15A",
           "#19d3f3",
           "#FF6692",
           "#B6E880",
           "#FF97FF",
           "#FECB52"
          ],
          "font": {
           "color": "#2a3f5f"
          },
          "geo": {
           "bgcolor": "white",
           "lakecolor": "white",
           "landcolor": "#E5ECF6",
           "showlakes": true,
           "showland": true,
           "subunitcolor": "white"
          },
          "hoverlabel": {
           "align": "left"
          },
          "hovermode": "closest",
          "mapbox": {
           "style": "light"
          },
          "paper_bgcolor": "white",
          "plot_bgcolor": "#E5ECF6",
          "polar": {
           "angularaxis": {
            "gridcolor": "white",
            "linecolor": "white",
            "ticks": ""
           },
           "bgcolor": "#E5ECF6",
           "radialaxis": {
            "gridcolor": "white",
            "linecolor": "white",
            "ticks": ""
           }
          },
          "scene": {
           "xaxis": {
            "backgroundcolor": "#E5ECF6",
            "gridcolor": "white",
            "gridwidth": 2,
            "linecolor": "white",
            "showbackground": true,
            "ticks": "",
            "zerolinecolor": "white"
           },
           "yaxis": {
            "backgroundcolor": "#E5ECF6",
            "gridcolor": "white",
            "gridwidth": 2,
            "linecolor": "white",
            "showbackground": true,
            "ticks": "",
            "zerolinecolor": "white"
           },
           "zaxis": {
            "backgroundcolor": "#E5ECF6",
            "gridcolor": "white",
            "gridwidth": 2,
            "linecolor": "white",
            "showbackground": true,
            "ticks": "",
            "zerolinecolor": "white"
           }
          },
          "shapedefaults": {
           "line": {
            "color": "#2a3f5f"
           }
          },
          "ternary": {
           "aaxis": {
            "gridcolor": "white",
            "linecolor": "white",
            "ticks": ""
           },
           "baxis": {
            "gridcolor": "white",
            "linecolor": "white",
            "ticks": ""
           },
           "bgcolor": "#E5ECF6",
           "caxis": {
            "gridcolor": "white",
            "linecolor": "white",
            "ticks": ""
           }
          },
          "title": {
           "x": 0.05
          },
          "xaxis": {
           "automargin": true,
           "gridcolor": "white",
           "linecolor": "white",
           "ticks": "",
           "title": {
            "standoff": 15
           },
           "zerolinecolor": "white",
           "zerolinewidth": 2
          },
          "yaxis": {
           "automargin": true,
           "gridcolor": "white",
           "linecolor": "white",
           "ticks": "",
           "title": {
            "standoff": 15
           },
           "zerolinecolor": "white",
           "zerolinewidth": 2
          }
         }
        },
        "title": {
         "text": "Percentage of Various Chemicals in Wine Quality"
        },
        "uniformtext": {
         "minsize": 8,
         "mode": "hide"
        },
        "xaxis": {
         "anchor": "y",
         "domain": [
          0,
          1
         ],
         "title": {
          "text": "Chemicals"
         }
        },
        "yaxis": {
         "anchor": "x",
         "domain": [
          0,
          1
         ],
         "title": {
          "text": "Percentage (%)"
         }
        }
       }
      }
     },
     "metadata": {},
     "output_type": "display_data"
    }
   ],
   "source": [
    "# Calculate the sum of each chemical\n",
    "chemical_sums = data[chemical_columns].sum()\n",
    "\n",
    "# Calculate the percentage of each chemical\n",
    "chemical_percentage = (chemical_sums / chemical_sums.sum()) * 100\n",
    "\n",
    "# Create a DataFrame to store the chemical names and their percentages\n",
    "chemical_df = pd.DataFrame({\n",
    "    'Chemical': chemical_sums.index,\n",
    "    'Percentage': chemical_percentage.values\n",
    "})\n",
    "\n",
    "# Create a bar chart using Plotly Express\n",
    "fig = px.bar(chemical_df, x='Chemical', y='Percentage', \n",
    "             title='Percentage of Various Chemicals in Wine Quality',\n",
    "             labels={'Percentage': 'Percentage (%)', 'Chemical': 'Chemicals'},\n",
    "             text='Percentage')\n",
    "\n",
    "# Update the layout for better appearance\n",
    "fig.update_traces(texttemplate='%{text:.2f}%', textposition='outside')\n",
    "fig.update_layout(uniformtext_minsize=8, uniformtext_mode='hide')\n",
    "\n",
    "# Show the bar chart\n",
    "fig.show()"
   ]
  },
  {
   "cell_type": "markdown",
   "id": "d60c99da",
   "metadata": {},
   "source": [
    "#### Report:\n",
    "The following bar chart clearly shows the distribution percentage of various chemicals in Wine Quality\n",
    "- Total sulfur dioxide makes up 51.78%.\n",
    "- Alcohol accounts for 11.78%.\n",
    "- Fixed acidity is 9.37%.\n",
    "- Free sulfur dioxide makes up 17.61%.\n",
    "- pH is 3.73%.\n",
    "- Residual sugar accounts for 2.86%.\n",
    "- Density is 1.12%.\n",
    "- Volatile acidity is 0.60%.\n",
    "- Sulphates for 0.74%.\n",
    "- Citric acid is 0.30%.\n",
    "- Chlorides make up 0.10%."
   ]
  },
  {
   "cell_type": "markdown",
   "id": "94ce59f2",
   "metadata": {},
   "source": [
    "### Multivariate Analysis"
   ]
  },
  {
   "cell_type": "code",
   "execution_count": 18,
   "id": "2a184eae",
   "metadata": {},
   "outputs": [
    {
     "data": {
      "image/png": "[encoded data removed]",
      "text/plain": [
       "<Figure size 1200x800 with 2 Axes>"
      ]
     },
     "metadata": {},
     "output_type": "display_data"
    }
   ],
   "source": [
    "plt.figure(figsize = (12,8))\n",
    "sns.heatmap(data.corr().round(2),annot=True,vmin=-1,vmax=+1,cmap='Pastel1')\n",
    "plt.show()"
   ]
  },
  {
   "cell_type": "markdown",
   "id": "d44e42f9",
   "metadata": {},
   "source": [
    "### clustermap"
   ]
  },
  {
   "cell_type": "code",
   "execution_count": 19,
   "id": "0ccf2839",
   "metadata": {},
   "outputs": [
    {
     "data": {
      "text/plain": [
       "<seaborn.matrix.ClusterGrid at 0x29e32866d90>"
      ]
     },
     "execution_count": 19,
     "metadata": {},
     "output_type": "execute_result"
    },
    {
     "data": {
      "image/png": "[encoded data removed]",
      "text/plain": [
       "<Figure size 1000x1000 with 4 Axes>"
      ]
     },
     "metadata": {},
     "output_type": "display_data"
    }
   ],
   "source": [
    "sns.clustermap(pd.crosstab(data['fixed acidity'],data['quality']))"
   ]
  }
 ],
 "metadata": {
  "kernelspec": {
   "display_name": "Python 3 (ipykernel)",
   "language": "python",
   "name": "python3"
  },
  "language_info": {
   "codemirror_mode": {
    "name": "ipython",
    "version": 3
   },
   "file_extension": ".py",
   "mimetype": "text/x-python",
   "name": "python",
   "nbconvert_exporter": "python",
   "pygments_lexer": "ipython3",
   "version": "3.9.1"
  }
 },
 "nbformat": 4,
 "nbformat_minor": 5
}
